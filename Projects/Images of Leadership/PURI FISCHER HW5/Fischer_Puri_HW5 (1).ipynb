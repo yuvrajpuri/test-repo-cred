{
  "nbformat": 4,
  "nbformat_minor": 0,
  "metadata": {
    "colab": {
      "provenance": [],
      "gpuType": "T4"
    },
    "kernelspec": {
      "name": "python3",
      "display_name": "Python 3"
    },
    "language_info": {
      "name": "python"
    },
    "accelerator": "GPU",
    "widgets": {
      "application/vnd.jupyter.widget-state+json": {
        "53369cc615e248ebbba004af1869c562": {
          "model_module": "@jupyter-widgets/controls",
          "model_name": "HBoxModel",
          "model_module_version": "1.5.0",
          "state": {
            "_dom_classes": [],
            "_model_module": "@jupyter-widgets/controls",
            "_model_module_version": "1.5.0",
            "_model_name": "HBoxModel",
            "_view_count": null,
            "_view_module": "@jupyter-widgets/controls",
            "_view_module_version": "1.5.0",
            "_view_name": "HBoxView",
            "box_style": "",
            "children": [
              "IPY_MODEL_e9c43b93908a4393baef346312191f33",
              "IPY_MODEL_9b59f02250e341d09d923c4d25f62e8d",
              "IPY_MODEL_e86360d688ad46b89db6411985d3e85c"
            ],
            "layout": "IPY_MODEL_c7e5e4162fb74fb69e58c8600d92000a"
          }
        },
        "e9c43b93908a4393baef346312191f33": {
          "model_module": "@jupyter-widgets/controls",
          "model_name": "HTMLModel",
          "model_module_version": "1.5.0",
          "state": {
            "_dom_classes": [],
            "_model_module": "@jupyter-widgets/controls",
            "_model_module_version": "1.5.0",
            "_model_name": "HTMLModel",
            "_view_count": null,
            "_view_module": "@jupyter-widgets/controls",
            "_view_module_version": "1.5.0",
            "_view_name": "HTMLView",
            "description": "",
            "description_tooltip": null,
            "layout": "IPY_MODEL_9ba4f57de4bf446bb5c6faa5a35b4e95",
            "placeholder": "​",
            "style": "IPY_MODEL_4f8be3c4cd5d40cca914f30df3c58064",
            "value": "modules.json: 100%"
          }
        },
        "9b59f02250e341d09d923c4d25f62e8d": {
          "model_module": "@jupyter-widgets/controls",
          "model_name": "FloatProgressModel",
          "model_module_version": "1.5.0",
          "state": {
            "_dom_classes": [],
            "_model_module": "@jupyter-widgets/controls",
            "_model_module_version": "1.5.0",
            "_model_name": "FloatProgressModel",
            "_view_count": null,
            "_view_module": "@jupyter-widgets/controls",
            "_view_module_version": "1.5.0",
            "_view_name": "ProgressView",
            "bar_style": "success",
            "description": "",
            "description_tooltip": null,
            "layout": "IPY_MODEL_bceea062b62a46869885ca8ea947b9c5",
            "max": 349,
            "min": 0,
            "orientation": "horizontal",
            "style": "IPY_MODEL_c821f60dfbbd4bba936c027d250b8a07",
            "value": 349
          }
        },
        "e86360d688ad46b89db6411985d3e85c": {
          "model_module": "@jupyter-widgets/controls",
          "model_name": "HTMLModel",
          "model_module_version": "1.5.0",
          "state": {
            "_dom_classes": [],
            "_model_module": "@jupyter-widgets/controls",
            "_model_module_version": "1.5.0",
            "_model_name": "HTMLModel",
            "_view_count": null,
            "_view_module": "@jupyter-widgets/controls",
            "_view_module_version": "1.5.0",
            "_view_name": "HTMLView",
            "description": "",
            "description_tooltip": null,
            "layout": "IPY_MODEL_3d4072361e40408b868d7b442e2ff93e",
            "placeholder": "​",
            "style": "IPY_MODEL_b49b265729b34703ae4e04cf769add87",
            "value": " 349/349 [00:00&lt;00:00, 21.2kB/s]"
          }
        },
        "c7e5e4162fb74fb69e58c8600d92000a": {
          "model_module": "@jupyter-widgets/base",
          "model_name": "LayoutModel",
          "model_module_version": "1.2.0",
          "state": {
            "_model_module": "@jupyter-widgets/base",
            "_model_module_version": "1.2.0",
            "_model_name": "LayoutModel",
            "_view_count": null,
            "_view_module": "@jupyter-widgets/base",
            "_view_module_version": "1.2.0",
            "_view_name": "LayoutView",
            "align_content": null,
            "align_items": null,
            "align_self": null,
            "border": null,
            "bottom": null,
            "display": null,
            "flex": null,
            "flex_flow": null,
            "grid_area": null,
            "grid_auto_columns": null,
            "grid_auto_flow": null,
            "grid_auto_rows": null,
            "grid_column": null,
            "grid_gap": null,
            "grid_row": null,
            "grid_template_areas": null,
            "grid_template_columns": null,
            "grid_template_rows": null,
            "height": null,
            "justify_content": null,
            "justify_items": null,
            "left": null,
            "margin": null,
            "max_height": null,
            "max_width": null,
            "min_height": null,
            "min_width": null,
            "object_fit": null,
            "object_position": null,
            "order": null,
            "overflow": null,
            "overflow_x": null,
            "overflow_y": null,
            "padding": null,
            "right": null,
            "top": null,
            "visibility": null,
            "width": null
          }
        },
        "9ba4f57de4bf446bb5c6faa5a35b4e95": {
          "model_module": "@jupyter-widgets/base",
          "model_name": "LayoutModel",
          "model_module_version": "1.2.0",
          "state": {
            "_model_module": "@jupyter-widgets/base",
            "_model_module_version": "1.2.0",
            "_model_name": "LayoutModel",
            "_view_count": null,
            "_view_module": "@jupyter-widgets/base",
            "_view_module_version": "1.2.0",
            "_view_name": "LayoutView",
            "align_content": null,
            "align_items": null,
            "align_self": null,
            "border": null,
            "bottom": null,
            "display": null,
            "flex": null,
            "flex_flow": null,
            "grid_area": null,
            "grid_auto_columns": null,
            "grid_auto_flow": null,
            "grid_auto_rows": null,
            "grid_column": null,
            "grid_gap": null,
            "grid_row": null,
            "grid_template_areas": null,
            "grid_template_columns": null,
            "grid_template_rows": null,
            "height": null,
            "justify_content": null,
            "justify_items": null,
            "left": null,
            "margin": null,
            "max_height": null,
            "max_width": null,
            "min_height": null,
            "min_width": null,
            "object_fit": null,
            "object_position": null,
            "order": null,
            "overflow": null,
            "overflow_x": null,
            "overflow_y": null,
            "padding": null,
            "right": null,
            "top": null,
            "visibility": null,
            "width": null
          }
        },
        "4f8be3c4cd5d40cca914f30df3c58064": {
          "model_module": "@jupyter-widgets/controls",
          "model_name": "DescriptionStyleModel",
          "model_module_version": "1.5.0",
          "state": {
            "_model_module": "@jupyter-widgets/controls",
            "_model_module_version": "1.5.0",
            "_model_name": "DescriptionStyleModel",
            "_view_count": null,
            "_view_module": "@jupyter-widgets/base",
            "_view_module_version": "1.2.0",
            "_view_name": "StyleView",
            "description_width": ""
          }
        },
        "bceea062b62a46869885ca8ea947b9c5": {
          "model_module": "@jupyter-widgets/base",
          "model_name": "LayoutModel",
          "model_module_version": "1.2.0",
          "state": {
            "_model_module": "@jupyter-widgets/base",
            "_model_module_version": "1.2.0",
            "_model_name": "LayoutModel",
            "_view_count": null,
            "_view_module": "@jupyter-widgets/base",
            "_view_module_version": "1.2.0",
            "_view_name": "LayoutView",
            "align_content": null,
            "align_items": null,
            "align_self": null,
            "border": null,
            "bottom": null,
            "display": null,
            "flex": null,
            "flex_flow": null,
            "grid_area": null,
            "grid_auto_columns": null,
            "grid_auto_flow": null,
            "grid_auto_rows": null,
            "grid_column": null,
            "grid_gap": null,
            "grid_row": null,
            "grid_template_areas": null,
            "grid_template_columns": null,
            "grid_template_rows": null,
            "height": null,
            "justify_content": null,
            "justify_items": null,
            "left": null,
            "margin": null,
            "max_height": null,
            "max_width": null,
            "min_height": null,
            "min_width": null,
            "object_fit": null,
            "object_position": null,
            "order": null,
            "overflow": null,
            "overflow_x": null,
            "overflow_y": null,
            "padding": null,
            "right": null,
            "top": null,
            "visibility": null,
            "width": null
          }
        },
        "c821f60dfbbd4bba936c027d250b8a07": {
          "model_module": "@jupyter-widgets/controls",
          "model_name": "ProgressStyleModel",
          "model_module_version": "1.5.0",
          "state": {
            "_model_module": "@jupyter-widgets/controls",
            "_model_module_version": "1.5.0",
            "_model_name": "ProgressStyleModel",
            "_view_count": null,
            "_view_module": "@jupyter-widgets/base",
            "_view_module_version": "1.2.0",
            "_view_name": "StyleView",
            "bar_color": null,
            "description_width": ""
          }
        },
        "3d4072361e40408b868d7b442e2ff93e": {
          "model_module": "@jupyter-widgets/base",
          "model_name": "LayoutModel",
          "model_module_version": "1.2.0",
          "state": {
            "_model_module": "@jupyter-widgets/base",
            "_model_module_version": "1.2.0",
            "_model_name": "LayoutModel",
            "_view_count": null,
            "_view_module": "@jupyter-widgets/base",
            "_view_module_version": "1.2.0",
            "_view_name": "LayoutView",
            "align_content": null,
            "align_items": null,
            "align_self": null,
            "border": null,
            "bottom": null,
            "display": null,
            "flex": null,
            "flex_flow": null,
            "grid_area": null,
            "grid_auto_columns": null,
            "grid_auto_flow": null,
            "grid_auto_rows": null,
            "grid_column": null,
            "grid_gap": null,
            "grid_row": null,
            "grid_template_areas": null,
            "grid_template_columns": null,
            "grid_template_rows": null,
            "height": null,
            "justify_content": null,
            "justify_items": null,
            "left": null,
            "margin": null,
            "max_height": null,
            "max_width": null,
            "min_height": null,
            "min_width": null,
            "object_fit": null,
            "object_position": null,
            "order": null,
            "overflow": null,
            "overflow_x": null,
            "overflow_y": null,
            "padding": null,
            "right": null,
            "top": null,
            "visibility": null,
            "width": null
          }
        },
        "b49b265729b34703ae4e04cf769add87": {
          "model_module": "@jupyter-widgets/controls",
          "model_name": "DescriptionStyleModel",
          "model_module_version": "1.5.0",
          "state": {
            "_model_module": "@jupyter-widgets/controls",
            "_model_module_version": "1.5.0",
            "_model_name": "DescriptionStyleModel",
            "_view_count": null,
            "_view_module": "@jupyter-widgets/base",
            "_view_module_version": "1.2.0",
            "_view_name": "StyleView",
            "description_width": ""
          }
        },
        "b9948273832f47fe9d66318b8e38f3a7": {
          "model_module": "@jupyter-widgets/controls",
          "model_name": "HBoxModel",
          "model_module_version": "1.5.0",
          "state": {
            "_dom_classes": [],
            "_model_module": "@jupyter-widgets/controls",
            "_model_module_version": "1.5.0",
            "_model_name": "HBoxModel",
            "_view_count": null,
            "_view_module": "@jupyter-widgets/controls",
            "_view_module_version": "1.5.0",
            "_view_name": "HBoxView",
            "box_style": "",
            "children": [
              "IPY_MODEL_84bbd4264a124a5090f0ceacc11650d5",
              "IPY_MODEL_772006e53e364b90b532d439646f484f",
              "IPY_MODEL_7ed5b1d777f046ffaee41722cee16af5"
            ],
            "layout": "IPY_MODEL_b94c348e7abc435dbc2f3556f252d4c8"
          }
        },
        "84bbd4264a124a5090f0ceacc11650d5": {
          "model_module": "@jupyter-widgets/controls",
          "model_name": "HTMLModel",
          "model_module_version": "1.5.0",
          "state": {
            "_dom_classes": [],
            "_model_module": "@jupyter-widgets/controls",
            "_model_module_version": "1.5.0",
            "_model_name": "HTMLModel",
            "_view_count": null,
            "_view_module": "@jupyter-widgets/controls",
            "_view_module_version": "1.5.0",
            "_view_name": "HTMLView",
            "description": "",
            "description_tooltip": null,
            "layout": "IPY_MODEL_2621c4ab7fc74402bf9fe0f174101a18",
            "placeholder": "​",
            "style": "IPY_MODEL_1f32eaa34c0841c9bb928b2481111e8a",
            "value": "config_sentence_transformers.json: 100%"
          }
        },
        "772006e53e364b90b532d439646f484f": {
          "model_module": "@jupyter-widgets/controls",
          "model_name": "FloatProgressModel",
          "model_module_version": "1.5.0",
          "state": {
            "_dom_classes": [],
            "_model_module": "@jupyter-widgets/controls",
            "_model_module_version": "1.5.0",
            "_model_name": "FloatProgressModel",
            "_view_count": null,
            "_view_module": "@jupyter-widgets/controls",
            "_view_module_version": "1.5.0",
            "_view_name": "ProgressView",
            "bar_style": "success",
            "description": "",
            "description_tooltip": null,
            "layout": "IPY_MODEL_1630ba415b2644d98db258ad67e9154d",
            "max": 116,
            "min": 0,
            "orientation": "horizontal",
            "style": "IPY_MODEL_e8decef6d7034f1cb175f882b478263f",
            "value": 116
          }
        },
        "7ed5b1d777f046ffaee41722cee16af5": {
          "model_module": "@jupyter-widgets/controls",
          "model_name": "HTMLModel",
          "model_module_version": "1.5.0",
          "state": {
            "_dom_classes": [],
            "_model_module": "@jupyter-widgets/controls",
            "_model_module_version": "1.5.0",
            "_model_name": "HTMLModel",
            "_view_count": null,
            "_view_module": "@jupyter-widgets/controls",
            "_view_module_version": "1.5.0",
            "_view_name": "HTMLView",
            "description": "",
            "description_tooltip": null,
            "layout": "IPY_MODEL_836513c31f9f42e185679403884afb8b",
            "placeholder": "​",
            "style": "IPY_MODEL_48d6b796353b4282bce5a128cf6f2698",
            "value": " 116/116 [00:00&lt;00:00, 7.11kB/s]"
          }
        },
        "b94c348e7abc435dbc2f3556f252d4c8": {
          "model_module": "@jupyter-widgets/base",
          "model_name": "LayoutModel",
          "model_module_version": "1.2.0",
          "state": {
            "_model_module": "@jupyter-widgets/base",
            "_model_module_version": "1.2.0",
            "_model_name": "LayoutModel",
            "_view_count": null,
            "_view_module": "@jupyter-widgets/base",
            "_view_module_version": "1.2.0",
            "_view_name": "LayoutView",
            "align_content": null,
            "align_items": null,
            "align_self": null,
            "border": null,
            "bottom": null,
            "display": null,
            "flex": null,
            "flex_flow": null,
            "grid_area": null,
            "grid_auto_columns": null,
            "grid_auto_flow": null,
            "grid_auto_rows": null,
            "grid_column": null,
            "grid_gap": null,
            "grid_row": null,
            "grid_template_areas": null,
            "grid_template_columns": null,
            "grid_template_rows": null,
            "height": null,
            "justify_content": null,
            "justify_items": null,
            "left": null,
            "margin": null,
            "max_height": null,
            "max_width": null,
            "min_height": null,
            "min_width": null,
            "object_fit": null,
            "object_position": null,
            "order": null,
            "overflow": null,
            "overflow_x": null,
            "overflow_y": null,
            "padding": null,
            "right": null,
            "top": null,
            "visibility": null,
            "width": null
          }
        },
        "2621c4ab7fc74402bf9fe0f174101a18": {
          "model_module": "@jupyter-widgets/base",
          "model_name": "LayoutModel",
          "model_module_version": "1.2.0",
          "state": {
            "_model_module": "@jupyter-widgets/base",
            "_model_module_version": "1.2.0",
            "_model_name": "LayoutModel",
            "_view_count": null,
            "_view_module": "@jupyter-widgets/base",
            "_view_module_version": "1.2.0",
            "_view_name": "LayoutView",
            "align_content": null,
            "align_items": null,
            "align_self": null,
            "border": null,
            "bottom": null,
            "display": null,
            "flex": null,
            "flex_flow": null,
            "grid_area": null,
            "grid_auto_columns": null,
            "grid_auto_flow": null,
            "grid_auto_rows": null,
            "grid_column": null,
            "grid_gap": null,
            "grid_row": null,
            "grid_template_areas": null,
            "grid_template_columns": null,
            "grid_template_rows": null,
            "height": null,
            "justify_content": null,
            "justify_items": null,
            "left": null,
            "margin": null,
            "max_height": null,
            "max_width": null,
            "min_height": null,
            "min_width": null,
            "object_fit": null,
            "object_position": null,
            "order": null,
            "overflow": null,
            "overflow_x": null,
            "overflow_y": null,
            "padding": null,
            "right": null,
            "top": null,
            "visibility": null,
            "width": null
          }
        },
        "1f32eaa34c0841c9bb928b2481111e8a": {
          "model_module": "@jupyter-widgets/controls",
          "model_name": "DescriptionStyleModel",
          "model_module_version": "1.5.0",
          "state": {
            "_model_module": "@jupyter-widgets/controls",
            "_model_module_version": "1.5.0",
            "_model_name": "DescriptionStyleModel",
            "_view_count": null,
            "_view_module": "@jupyter-widgets/base",
            "_view_module_version": "1.2.0",
            "_view_name": "StyleView",
            "description_width": ""
          }
        },
        "1630ba415b2644d98db258ad67e9154d": {
          "model_module": "@jupyter-widgets/base",
          "model_name": "LayoutModel",
          "model_module_version": "1.2.0",
          "state": {
            "_model_module": "@jupyter-widgets/base",
            "_model_module_version": "1.2.0",
            "_model_name": "LayoutModel",
            "_view_count": null,
            "_view_module": "@jupyter-widgets/base",
            "_view_module_version": "1.2.0",
            "_view_name": "LayoutView",
            "align_content": null,
            "align_items": null,
            "align_self": null,
            "border": null,
            "bottom": null,
            "display": null,
            "flex": null,
            "flex_flow": null,
            "grid_area": null,
            "grid_auto_columns": null,
            "grid_auto_flow": null,
            "grid_auto_rows": null,
            "grid_column": null,
            "grid_gap": null,
            "grid_row": null,
            "grid_template_areas": null,
            "grid_template_columns": null,
            "grid_template_rows": null,
            "height": null,
            "justify_content": null,
            "justify_items": null,
            "left": null,
            "margin": null,
            "max_height": null,
            "max_width": null,
            "min_height": null,
            "min_width": null,
            "object_fit": null,
            "object_position": null,
            "order": null,
            "overflow": null,
            "overflow_x": null,
            "overflow_y": null,
            "padding": null,
            "right": null,
            "top": null,
            "visibility": null,
            "width": null
          }
        },
        "e8decef6d7034f1cb175f882b478263f": {
          "model_module": "@jupyter-widgets/controls",
          "model_name": "ProgressStyleModel",
          "model_module_version": "1.5.0",
          "state": {
            "_model_module": "@jupyter-widgets/controls",
            "_model_module_version": "1.5.0",
            "_model_name": "ProgressStyleModel",
            "_view_count": null,
            "_view_module": "@jupyter-widgets/base",
            "_view_module_version": "1.2.0",
            "_view_name": "StyleView",
            "bar_color": null,
            "description_width": ""
          }
        },
        "836513c31f9f42e185679403884afb8b": {
          "model_module": "@jupyter-widgets/base",
          "model_name": "LayoutModel",
          "model_module_version": "1.2.0",
          "state": {
            "_model_module": "@jupyter-widgets/base",
            "_model_module_version": "1.2.0",
            "_model_name": "LayoutModel",
            "_view_count": null,
            "_view_module": "@jupyter-widgets/base",
            "_view_module_version": "1.2.0",
            "_view_name": "LayoutView",
            "align_content": null,
            "align_items": null,
            "align_self": null,
            "border": null,
            "bottom": null,
            "display": null,
            "flex": null,
            "flex_flow": null,
            "grid_area": null,
            "grid_auto_columns": null,
            "grid_auto_flow": null,
            "grid_auto_rows": null,
            "grid_column": null,
            "grid_gap": null,
            "grid_row": null,
            "grid_template_areas": null,
            "grid_template_columns": null,
            "grid_template_rows": null,
            "height": null,
            "justify_content": null,
            "justify_items": null,
            "left": null,
            "margin": null,
            "max_height": null,
            "max_width": null,
            "min_height": null,
            "min_width": null,
            "object_fit": null,
            "object_position": null,
            "order": null,
            "overflow": null,
            "overflow_x": null,
            "overflow_y": null,
            "padding": null,
            "right": null,
            "top": null,
            "visibility": null,
            "width": null
          }
        },
        "48d6b796353b4282bce5a128cf6f2698": {
          "model_module": "@jupyter-widgets/controls",
          "model_name": "DescriptionStyleModel",
          "model_module_version": "1.5.0",
          "state": {
            "_model_module": "@jupyter-widgets/controls",
            "_model_module_version": "1.5.0",
            "_model_name": "DescriptionStyleModel",
            "_view_count": null,
            "_view_module": "@jupyter-widgets/base",
            "_view_module_version": "1.2.0",
            "_view_name": "StyleView",
            "description_width": ""
          }
        },
        "21f02864d7dd4c88a29e2f243f682816": {
          "model_module": "@jupyter-widgets/controls",
          "model_name": "HBoxModel",
          "model_module_version": "1.5.0",
          "state": {
            "_dom_classes": [],
            "_model_module": "@jupyter-widgets/controls",
            "_model_module_version": "1.5.0",
            "_model_name": "HBoxModel",
            "_view_count": null,
            "_view_module": "@jupyter-widgets/controls",
            "_view_module_version": "1.5.0",
            "_view_name": "HBoxView",
            "box_style": "",
            "children": [
              "IPY_MODEL_43843e2dd52f42268157c8819121b7c6",
              "IPY_MODEL_fdea2f54a7c244d49c3b1a6a06b1aa69",
              "IPY_MODEL_55d67eb984b54b52beaa130a31476430"
            ],
            "layout": "IPY_MODEL_4292641d5e4c44ce8ad20401171e8f23"
          }
        },
        "43843e2dd52f42268157c8819121b7c6": {
          "model_module": "@jupyter-widgets/controls",
          "model_name": "HTMLModel",
          "model_module_version": "1.5.0",
          "state": {
            "_dom_classes": [],
            "_model_module": "@jupyter-widgets/controls",
            "_model_module_version": "1.5.0",
            "_model_name": "HTMLModel",
            "_view_count": null,
            "_view_module": "@jupyter-widgets/controls",
            "_view_module_version": "1.5.0",
            "_view_name": "HTMLView",
            "description": "",
            "description_tooltip": null,
            "layout": "IPY_MODEL_a47dd2cc4e6641caa2da9f4a418891c1",
            "placeholder": "​",
            "style": "IPY_MODEL_0bb2ac46346541fabea310db9874d510",
            "value": "README.md: 100%"
          }
        },
        "fdea2f54a7c244d49c3b1a6a06b1aa69": {
          "model_module": "@jupyter-widgets/controls",
          "model_name": "FloatProgressModel",
          "model_module_version": "1.5.0",
          "state": {
            "_dom_classes": [],
            "_model_module": "@jupyter-widgets/controls",
            "_model_module_version": "1.5.0",
            "_model_name": "FloatProgressModel",
            "_view_count": null,
            "_view_module": "@jupyter-widgets/controls",
            "_view_module_version": "1.5.0",
            "_view_name": "ProgressView",
            "bar_style": "success",
            "description": "",
            "description_tooltip": null,
            "layout": "IPY_MODEL_9415b25becb34bf1903385161e9e2b6b",
            "max": 10659,
            "min": 0,
            "orientation": "horizontal",
            "style": "IPY_MODEL_fb7c970171b24247a3cd81fb89e0b45f",
            "value": 10659
          }
        },
        "55d67eb984b54b52beaa130a31476430": {
          "model_module": "@jupyter-widgets/controls",
          "model_name": "HTMLModel",
          "model_module_version": "1.5.0",
          "state": {
            "_dom_classes": [],
            "_model_module": "@jupyter-widgets/controls",
            "_model_module_version": "1.5.0",
            "_model_name": "HTMLModel",
            "_view_count": null,
            "_view_module": "@jupyter-widgets/controls",
            "_view_module_version": "1.5.0",
            "_view_name": "HTMLView",
            "description": "",
            "description_tooltip": null,
            "layout": "IPY_MODEL_8b0539c5c6dc4c01885de7e6cd78d4a9",
            "placeholder": "​",
            "style": "IPY_MODEL_30f8b5a3999940ccbca6119448f3612f",
            "value": " 10.7k/10.7k [00:00&lt;00:00, 603kB/s]"
          }
        },
        "4292641d5e4c44ce8ad20401171e8f23": {
          "model_module": "@jupyter-widgets/base",
          "model_name": "LayoutModel",
          "model_module_version": "1.2.0",
          "state": {
            "_model_module": "@jupyter-widgets/base",
            "_model_module_version": "1.2.0",
            "_model_name": "LayoutModel",
            "_view_count": null,
            "_view_module": "@jupyter-widgets/base",
            "_view_module_version": "1.2.0",
            "_view_name": "LayoutView",
            "align_content": null,
            "align_items": null,
            "align_self": null,
            "border": null,
            "bottom": null,
            "display": null,
            "flex": null,
            "flex_flow": null,
            "grid_area": null,
            "grid_auto_columns": null,
            "grid_auto_flow": null,
            "grid_auto_rows": null,
            "grid_column": null,
            "grid_gap": null,
            "grid_row": null,
            "grid_template_areas": null,
            "grid_template_columns": null,
            "grid_template_rows": null,
            "height": null,
            "justify_content": null,
            "justify_items": null,
            "left": null,
            "margin": null,
            "max_height": null,
            "max_width": null,
            "min_height": null,
            "min_width": null,
            "object_fit": null,
            "object_position": null,
            "order": null,
            "overflow": null,
            "overflow_x": null,
            "overflow_y": null,
            "padding": null,
            "right": null,
            "top": null,
            "visibility": null,
            "width": null
          }
        },
        "a47dd2cc4e6641caa2da9f4a418891c1": {
          "model_module": "@jupyter-widgets/base",
          "model_name": "LayoutModel",
          "model_module_version": "1.2.0",
          "state": {
            "_model_module": "@jupyter-widgets/base",
            "_model_module_version": "1.2.0",
            "_model_name": "LayoutModel",
            "_view_count": null,
            "_view_module": "@jupyter-widgets/base",
            "_view_module_version": "1.2.0",
            "_view_name": "LayoutView",
            "align_content": null,
            "align_items": null,
            "align_self": null,
            "border": null,
            "bottom": null,
            "display": null,
            "flex": null,
            "flex_flow": null,
            "grid_area": null,
            "grid_auto_columns": null,
            "grid_auto_flow": null,
            "grid_auto_rows": null,
            "grid_column": null,
            "grid_gap": null,
            "grid_row": null,
            "grid_template_areas": null,
            "grid_template_columns": null,
            "grid_template_rows": null,
            "height": null,
            "justify_content": null,
            "justify_items": null,
            "left": null,
            "margin": null,
            "max_height": null,
            "max_width": null,
            "min_height": null,
            "min_width": null,
            "object_fit": null,
            "object_position": null,
            "order": null,
            "overflow": null,
            "overflow_x": null,
            "overflow_y": null,
            "padding": null,
            "right": null,
            "top": null,
            "visibility": null,
            "width": null
          }
        },
        "0bb2ac46346541fabea310db9874d510": {
          "model_module": "@jupyter-widgets/controls",
          "model_name": "DescriptionStyleModel",
          "model_module_version": "1.5.0",
          "state": {
            "_model_module": "@jupyter-widgets/controls",
            "_model_module_version": "1.5.0",
            "_model_name": "DescriptionStyleModel",
            "_view_count": null,
            "_view_module": "@jupyter-widgets/base",
            "_view_module_version": "1.2.0",
            "_view_name": "StyleView",
            "description_width": ""
          }
        },
        "9415b25becb34bf1903385161e9e2b6b": {
          "model_module": "@jupyter-widgets/base",
          "model_name": "LayoutModel",
          "model_module_version": "1.2.0",
          "state": {
            "_model_module": "@jupyter-widgets/base",
            "_model_module_version": "1.2.0",
            "_model_name": "LayoutModel",
            "_view_count": null,
            "_view_module": "@jupyter-widgets/base",
            "_view_module_version": "1.2.0",
            "_view_name": "LayoutView",
            "align_content": null,
            "align_items": null,
            "align_self": null,
            "border": null,
            "bottom": null,
            "display": null,
            "flex": null,
            "flex_flow": null,
            "grid_area": null,
            "grid_auto_columns": null,
            "grid_auto_flow": null,
            "grid_auto_rows": null,
            "grid_column": null,
            "grid_gap": null,
            "grid_row": null,
            "grid_template_areas": null,
            "grid_template_columns": null,
            "grid_template_rows": null,
            "height": null,
            "justify_content": null,
            "justify_items": null,
            "left": null,
            "margin": null,
            "max_height": null,
            "max_width": null,
            "min_height": null,
            "min_width": null,
            "object_fit": null,
            "object_position": null,
            "order": null,
            "overflow": null,
            "overflow_x": null,
            "overflow_y": null,
            "padding": null,
            "right": null,
            "top": null,
            "visibility": null,
            "width": null
          }
        },
        "fb7c970171b24247a3cd81fb89e0b45f": {
          "model_module": "@jupyter-widgets/controls",
          "model_name": "ProgressStyleModel",
          "model_module_version": "1.5.0",
          "state": {
            "_model_module": "@jupyter-widgets/controls",
            "_model_module_version": "1.5.0",
            "_model_name": "ProgressStyleModel",
            "_view_count": null,
            "_view_module": "@jupyter-widgets/base",
            "_view_module_version": "1.2.0",
            "_view_name": "StyleView",
            "bar_color": null,
            "description_width": ""
          }
        },
        "8b0539c5c6dc4c01885de7e6cd78d4a9": {
          "model_module": "@jupyter-widgets/base",
          "model_name": "LayoutModel",
          "model_module_version": "1.2.0",
          "state": {
            "_model_module": "@jupyter-widgets/base",
            "_model_module_version": "1.2.0",
            "_model_name": "LayoutModel",
            "_view_count": null,
            "_view_module": "@jupyter-widgets/base",
            "_view_module_version": "1.2.0",
            "_view_name": "LayoutView",
            "align_content": null,
            "align_items": null,
            "align_self": null,
            "border": null,
            "bottom": null,
            "display": null,
            "flex": null,
            "flex_flow": null,
            "grid_area": null,
            "grid_auto_columns": null,
            "grid_auto_flow": null,
            "grid_auto_rows": null,
            "grid_column": null,
            "grid_gap": null,
            "grid_row": null,
            "grid_template_areas": null,
            "grid_template_columns": null,
            "grid_template_rows": null,
            "height": null,
            "justify_content": null,
            "justify_items": null,
            "left": null,
            "margin": null,
            "max_height": null,
            "max_width": null,
            "min_height": null,
            "min_width": null,
            "object_fit": null,
            "object_position": null,
            "order": null,
            "overflow": null,
            "overflow_x": null,
            "overflow_y": null,
            "padding": null,
            "right": null,
            "top": null,
            "visibility": null,
            "width": null
          }
        },
        "30f8b5a3999940ccbca6119448f3612f": {
          "model_module": "@jupyter-widgets/controls",
          "model_name": "DescriptionStyleModel",
          "model_module_version": "1.5.0",
          "state": {
            "_model_module": "@jupyter-widgets/controls",
            "_model_module_version": "1.5.0",
            "_model_name": "DescriptionStyleModel",
            "_view_count": null,
            "_view_module": "@jupyter-widgets/base",
            "_view_module_version": "1.2.0",
            "_view_name": "StyleView",
            "description_width": ""
          }
        },
        "e7313d87de634b61a5ac926ed164ddad": {
          "model_module": "@jupyter-widgets/controls",
          "model_name": "HBoxModel",
          "model_module_version": "1.5.0",
          "state": {
            "_dom_classes": [],
            "_model_module": "@jupyter-widgets/controls",
            "_model_module_version": "1.5.0",
            "_model_name": "HBoxModel",
            "_view_count": null,
            "_view_module": "@jupyter-widgets/controls",
            "_view_module_version": "1.5.0",
            "_view_name": "HBoxView",
            "box_style": "",
            "children": [
              "IPY_MODEL_6ab6e7775e80423db17375e92bc5f941",
              "IPY_MODEL_85cfeef864c24b838f9557c251b2797f",
              "IPY_MODEL_e04fa35e653345e5ababf1dd590c5bb7"
            ],
            "layout": "IPY_MODEL_fd48fa5612a84f80bd598a6669349372"
          }
        },
        "6ab6e7775e80423db17375e92bc5f941": {
          "model_module": "@jupyter-widgets/controls",
          "model_name": "HTMLModel",
          "model_module_version": "1.5.0",
          "state": {
            "_dom_classes": [],
            "_model_module": "@jupyter-widgets/controls",
            "_model_module_version": "1.5.0",
            "_model_name": "HTMLModel",
            "_view_count": null,
            "_view_module": "@jupyter-widgets/controls",
            "_view_module_version": "1.5.0",
            "_view_name": "HTMLView",
            "description": "",
            "description_tooltip": null,
            "layout": "IPY_MODEL_107f1d6e4fa345f89b382d3c6745b882",
            "placeholder": "​",
            "style": "IPY_MODEL_8cfdd3e913844851a3a7218d8dea5a6a",
            "value": "sentence_bert_config.json: 100%"
          }
        },
        "85cfeef864c24b838f9557c251b2797f": {
          "model_module": "@jupyter-widgets/controls",
          "model_name": "FloatProgressModel",
          "model_module_version": "1.5.0",
          "state": {
            "_dom_classes": [],
            "_model_module": "@jupyter-widgets/controls",
            "_model_module_version": "1.5.0",
            "_model_name": "FloatProgressModel",
            "_view_count": null,
            "_view_module": "@jupyter-widgets/controls",
            "_view_module_version": "1.5.0",
            "_view_name": "ProgressView",
            "bar_style": "success",
            "description": "",
            "description_tooltip": null,
            "layout": "IPY_MODEL_13b68835622d44bca911437fb508faef",
            "max": 53,
            "min": 0,
            "orientation": "horizontal",
            "style": "IPY_MODEL_b3eef8f1f2cc4f3396d2bd0eac22e9f5",
            "value": 53
          }
        },
        "e04fa35e653345e5ababf1dd590c5bb7": {
          "model_module": "@jupyter-widgets/controls",
          "model_name": "HTMLModel",
          "model_module_version": "1.5.0",
          "state": {
            "_dom_classes": [],
            "_model_module": "@jupyter-widgets/controls",
            "_model_module_version": "1.5.0",
            "_model_name": "HTMLModel",
            "_view_count": null,
            "_view_module": "@jupyter-widgets/controls",
            "_view_module_version": "1.5.0",
            "_view_name": "HTMLView",
            "description": "",
            "description_tooltip": null,
            "layout": "IPY_MODEL_4698012115db4c4c9f787a2cf0d81f1c",
            "placeholder": "​",
            "style": "IPY_MODEL_95ce1d19bcd04794b8631ee7ae8d3e27",
            "value": " 53.0/53.0 [00:00&lt;00:00, 3.09kB/s]"
          }
        },
        "fd48fa5612a84f80bd598a6669349372": {
          "model_module": "@jupyter-widgets/base",
          "model_name": "LayoutModel",
          "model_module_version": "1.2.0",
          "state": {
            "_model_module": "@jupyter-widgets/base",
            "_model_module_version": "1.2.0",
            "_model_name": "LayoutModel",
            "_view_count": null,
            "_view_module": "@jupyter-widgets/base",
            "_view_module_version": "1.2.0",
            "_view_name": "LayoutView",
            "align_content": null,
            "align_items": null,
            "align_self": null,
            "border": null,
            "bottom": null,
            "display": null,
            "flex": null,
            "flex_flow": null,
            "grid_area": null,
            "grid_auto_columns": null,
            "grid_auto_flow": null,
            "grid_auto_rows": null,
            "grid_column": null,
            "grid_gap": null,
            "grid_row": null,
            "grid_template_areas": null,
            "grid_template_columns": null,
            "grid_template_rows": null,
            "height": null,
            "justify_content": null,
            "justify_items": null,
            "left": null,
            "margin": null,
            "max_height": null,
            "max_width": null,
            "min_height": null,
            "min_width": null,
            "object_fit": null,
            "object_position": null,
            "order": null,
            "overflow": null,
            "overflow_x": null,
            "overflow_y": null,
            "padding": null,
            "right": null,
            "top": null,
            "visibility": null,
            "width": null
          }
        },
        "107f1d6e4fa345f89b382d3c6745b882": {
          "model_module": "@jupyter-widgets/base",
          "model_name": "LayoutModel",
          "model_module_version": "1.2.0",
          "state": {
            "_model_module": "@jupyter-widgets/base",
            "_model_module_version": "1.2.0",
            "_model_name": "LayoutModel",
            "_view_count": null,
            "_view_module": "@jupyter-widgets/base",
            "_view_module_version": "1.2.0",
            "_view_name": "LayoutView",
            "align_content": null,
            "align_items": null,
            "align_self": null,
            "border": null,
            "bottom": null,
            "display": null,
            "flex": null,
            "flex_flow": null,
            "grid_area": null,
            "grid_auto_columns": null,
            "grid_auto_flow": null,
            "grid_auto_rows": null,
            "grid_column": null,
            "grid_gap": null,
            "grid_row": null,
            "grid_template_areas": null,
            "grid_template_columns": null,
            "grid_template_rows": null,
            "height": null,
            "justify_content": null,
            "justify_items": null,
            "left": null,
            "margin": null,
            "max_height": null,
            "max_width": null,
            "min_height": null,
            "min_width": null,
            "object_fit": null,
            "object_position": null,
            "order": null,
            "overflow": null,
            "overflow_x": null,
            "overflow_y": null,
            "padding": null,
            "right": null,
            "top": null,
            "visibility": null,
            "width": null
          }
        },
        "8cfdd3e913844851a3a7218d8dea5a6a": {
          "model_module": "@jupyter-widgets/controls",
          "model_name": "DescriptionStyleModel",
          "model_module_version": "1.5.0",
          "state": {
            "_model_module": "@jupyter-widgets/controls",
            "_model_module_version": "1.5.0",
            "_model_name": "DescriptionStyleModel",
            "_view_count": null,
            "_view_module": "@jupyter-widgets/base",
            "_view_module_version": "1.2.0",
            "_view_name": "StyleView",
            "description_width": ""
          }
        },
        "13b68835622d44bca911437fb508faef": {
          "model_module": "@jupyter-widgets/base",
          "model_name": "LayoutModel",
          "model_module_version": "1.2.0",
          "state": {
            "_model_module": "@jupyter-widgets/base",
            "_model_module_version": "1.2.0",
            "_model_name": "LayoutModel",
            "_view_count": null,
            "_view_module": "@jupyter-widgets/base",
            "_view_module_version": "1.2.0",
            "_view_name": "LayoutView",
            "align_content": null,
            "align_items": null,
            "align_self": null,
            "border": null,
            "bottom": null,
            "display": null,
            "flex": null,
            "flex_flow": null,
            "grid_area": null,
            "grid_auto_columns": null,
            "grid_auto_flow": null,
            "grid_auto_rows": null,
            "grid_column": null,
            "grid_gap": null,
            "grid_row": null,
            "grid_template_areas": null,
            "grid_template_columns": null,
            "grid_template_rows": null,
            "height": null,
            "justify_content": null,
            "justify_items": null,
            "left": null,
            "margin": null,
            "max_height": null,
            "max_width": null,
            "min_height": null,
            "min_width": null,
            "object_fit": null,
            "object_position": null,
            "order": null,
            "overflow": null,
            "overflow_x": null,
            "overflow_y": null,
            "padding": null,
            "right": null,
            "top": null,
            "visibility": null,
            "width": null
          }
        },
        "b3eef8f1f2cc4f3396d2bd0eac22e9f5": {
          "model_module": "@jupyter-widgets/controls",
          "model_name": "ProgressStyleModel",
          "model_module_version": "1.5.0",
          "state": {
            "_model_module": "@jupyter-widgets/controls",
            "_model_module_version": "1.5.0",
            "_model_name": "ProgressStyleModel",
            "_view_count": null,
            "_view_module": "@jupyter-widgets/base",
            "_view_module_version": "1.2.0",
            "_view_name": "StyleView",
            "bar_color": null,
            "description_width": ""
          }
        },
        "4698012115db4c4c9f787a2cf0d81f1c": {
          "model_module": "@jupyter-widgets/base",
          "model_name": "LayoutModel",
          "model_module_version": "1.2.0",
          "state": {
            "_model_module": "@jupyter-widgets/base",
            "_model_module_version": "1.2.0",
            "_model_name": "LayoutModel",
            "_view_count": null,
            "_view_module": "@jupyter-widgets/base",
            "_view_module_version": "1.2.0",
            "_view_name": "LayoutView",
            "align_content": null,
            "align_items": null,
            "align_self": null,
            "border": null,
            "bottom": null,
            "display": null,
            "flex": null,
            "flex_flow": null,
            "grid_area": null,
            "grid_auto_columns": null,
            "grid_auto_flow": null,
            "grid_auto_rows": null,
            "grid_column": null,
            "grid_gap": null,
            "grid_row": null,
            "grid_template_areas": null,
            "grid_template_columns": null,
            "grid_template_rows": null,
            "height": null,
            "justify_content": null,
            "justify_items": null,
            "left": null,
            "margin": null,
            "max_height": null,
            "max_width": null,
            "min_height": null,
            "min_width": null,
            "object_fit": null,
            "object_position": null,
            "order": null,
            "overflow": null,
            "overflow_x": null,
            "overflow_y": null,
            "padding": null,
            "right": null,
            "top": null,
            "visibility": null,
            "width": null
          }
        },
        "95ce1d19bcd04794b8631ee7ae8d3e27": {
          "model_module": "@jupyter-widgets/controls",
          "model_name": "DescriptionStyleModel",
          "model_module_version": "1.5.0",
          "state": {
            "_model_module": "@jupyter-widgets/controls",
            "_model_module_version": "1.5.0",
            "_model_name": "DescriptionStyleModel",
            "_view_count": null,
            "_view_module": "@jupyter-widgets/base",
            "_view_module_version": "1.2.0",
            "_view_name": "StyleView",
            "description_width": ""
          }
        },
        "0cdde83a56594aa48ac6dba642483603": {
          "model_module": "@jupyter-widgets/controls",
          "model_name": "HBoxModel",
          "model_module_version": "1.5.0",
          "state": {
            "_dom_classes": [],
            "_model_module": "@jupyter-widgets/controls",
            "_model_module_version": "1.5.0",
            "_model_name": "HBoxModel",
            "_view_count": null,
            "_view_module": "@jupyter-widgets/controls",
            "_view_module_version": "1.5.0",
            "_view_name": "HBoxView",
            "box_style": "",
            "children": [
              "IPY_MODEL_a306d960b91e4802a5b621371cd1e7d9",
              "IPY_MODEL_a609cf6d45fe43538510804795b3c7aa",
              "IPY_MODEL_7df88da6aa6b4bacbe761d31437fba0d"
            ],
            "layout": "IPY_MODEL_22c8b36a33a448c8b289362468532303"
          }
        },
        "a306d960b91e4802a5b621371cd1e7d9": {
          "model_module": "@jupyter-widgets/controls",
          "model_name": "HTMLModel",
          "model_module_version": "1.5.0",
          "state": {
            "_dom_classes": [],
            "_model_module": "@jupyter-widgets/controls",
            "_model_module_version": "1.5.0",
            "_model_name": "HTMLModel",
            "_view_count": null,
            "_view_module": "@jupyter-widgets/controls",
            "_view_module_version": "1.5.0",
            "_view_name": "HTMLView",
            "description": "",
            "description_tooltip": null,
            "layout": "IPY_MODEL_b13241832ed54fdfb3977a0c50ab6f0c",
            "placeholder": "​",
            "style": "IPY_MODEL_26bd7ba0cf3044599a8e89846c21fb41",
            "value": "config.json: 100%"
          }
        },
        "a609cf6d45fe43538510804795b3c7aa": {
          "model_module": "@jupyter-widgets/controls",
          "model_name": "FloatProgressModel",
          "model_module_version": "1.5.0",
          "state": {
            "_dom_classes": [],
            "_model_module": "@jupyter-widgets/controls",
            "_model_module_version": "1.5.0",
            "_model_name": "FloatProgressModel",
            "_view_count": null,
            "_view_module": "@jupyter-widgets/controls",
            "_view_module_version": "1.5.0",
            "_view_name": "ProgressView",
            "bar_style": "success",
            "description": "",
            "description_tooltip": null,
            "layout": "IPY_MODEL_50086727c28d428dade9490541471815",
            "max": 612,
            "min": 0,
            "orientation": "horizontal",
            "style": "IPY_MODEL_52e7a390299f41f2896e9f407a4f58a2",
            "value": 612
          }
        },
        "7df88da6aa6b4bacbe761d31437fba0d": {
          "model_module": "@jupyter-widgets/controls",
          "model_name": "HTMLModel",
          "model_module_version": "1.5.0",
          "state": {
            "_dom_classes": [],
            "_model_module": "@jupyter-widgets/controls",
            "_model_module_version": "1.5.0",
            "_model_name": "HTMLModel",
            "_view_count": null,
            "_view_module": "@jupyter-widgets/controls",
            "_view_module_version": "1.5.0",
            "_view_name": "HTMLView",
            "description": "",
            "description_tooltip": null,
            "layout": "IPY_MODEL_949e5797fa0b4dccacf843cba0e92091",
            "placeholder": "​",
            "style": "IPY_MODEL_94d1d15838734c139e5b6410463e1bdd",
            "value": " 612/612 [00:00&lt;00:00, 44.1kB/s]"
          }
        },
        "22c8b36a33a448c8b289362468532303": {
          "model_module": "@jupyter-widgets/base",
          "model_name": "LayoutModel",
          "model_module_version": "1.2.0",
          "state": {
            "_model_module": "@jupyter-widgets/base",
            "_model_module_version": "1.2.0",
            "_model_name": "LayoutModel",
            "_view_count": null,
            "_view_module": "@jupyter-widgets/base",
            "_view_module_version": "1.2.0",
            "_view_name": "LayoutView",
            "align_content": null,
            "align_items": null,
            "align_self": null,
            "border": null,
            "bottom": null,
            "display": null,
            "flex": null,
            "flex_flow": null,
            "grid_area": null,
            "grid_auto_columns": null,
            "grid_auto_flow": null,
            "grid_auto_rows": null,
            "grid_column": null,
            "grid_gap": null,
            "grid_row": null,
            "grid_template_areas": null,
            "grid_template_columns": null,
            "grid_template_rows": null,
            "height": null,
            "justify_content": null,
            "justify_items": null,
            "left": null,
            "margin": null,
            "max_height": null,
            "max_width": null,
            "min_height": null,
            "min_width": null,
            "object_fit": null,
            "object_position": null,
            "order": null,
            "overflow": null,
            "overflow_x": null,
            "overflow_y": null,
            "padding": null,
            "right": null,
            "top": null,
            "visibility": null,
            "width": null
          }
        },
        "b13241832ed54fdfb3977a0c50ab6f0c": {
          "model_module": "@jupyter-widgets/base",
          "model_name": "LayoutModel",
          "model_module_version": "1.2.0",
          "state": {
            "_model_module": "@jupyter-widgets/base",
            "_model_module_version": "1.2.0",
            "_model_name": "LayoutModel",
            "_view_count": null,
            "_view_module": "@jupyter-widgets/base",
            "_view_module_version": "1.2.0",
            "_view_name": "LayoutView",
            "align_content": null,
            "align_items": null,
            "align_self": null,
            "border": null,
            "bottom": null,
            "display": null,
            "flex": null,
            "flex_flow": null,
            "grid_area": null,
            "grid_auto_columns": null,
            "grid_auto_flow": null,
            "grid_auto_rows": null,
            "grid_column": null,
            "grid_gap": null,
            "grid_row": null,
            "grid_template_areas": null,
            "grid_template_columns": null,
            "grid_template_rows": null,
            "height": null,
            "justify_content": null,
            "justify_items": null,
            "left": null,
            "margin": null,
            "max_height": null,
            "max_width": null,
            "min_height": null,
            "min_width": null,
            "object_fit": null,
            "object_position": null,
            "order": null,
            "overflow": null,
            "overflow_x": null,
            "overflow_y": null,
            "padding": null,
            "right": null,
            "top": null,
            "visibility": null,
            "width": null
          }
        },
        "26bd7ba0cf3044599a8e89846c21fb41": {
          "model_module": "@jupyter-widgets/controls",
          "model_name": "DescriptionStyleModel",
          "model_module_version": "1.5.0",
          "state": {
            "_model_module": "@jupyter-widgets/controls",
            "_model_module_version": "1.5.0",
            "_model_name": "DescriptionStyleModel",
            "_view_count": null,
            "_view_module": "@jupyter-widgets/base",
            "_view_module_version": "1.2.0",
            "_view_name": "StyleView",
            "description_width": ""
          }
        },
        "50086727c28d428dade9490541471815": {
          "model_module": "@jupyter-widgets/base",
          "model_name": "LayoutModel",
          "model_module_version": "1.2.0",
          "state": {
            "_model_module": "@jupyter-widgets/base",
            "_model_module_version": "1.2.0",
            "_model_name": "LayoutModel",
            "_view_count": null,
            "_view_module": "@jupyter-widgets/base",
            "_view_module_version": "1.2.0",
            "_view_name": "LayoutView",
            "align_content": null,
            "align_items": null,
            "align_self": null,
            "border": null,
            "bottom": null,
            "display": null,
            "flex": null,
            "flex_flow": null,
            "grid_area": null,
            "grid_auto_columns": null,
            "grid_auto_flow": null,
            "grid_auto_rows": null,
            "grid_column": null,
            "grid_gap": null,
            "grid_row": null,
            "grid_template_areas": null,
            "grid_template_columns": null,
            "grid_template_rows": null,
            "height": null,
            "justify_content": null,
            "justify_items": null,
            "left": null,
            "margin": null,
            "max_height": null,
            "max_width": null,
            "min_height": null,
            "min_width": null,
            "object_fit": null,
            "object_position": null,
            "order": null,
            "overflow": null,
            "overflow_x": null,
            "overflow_y": null,
            "padding": null,
            "right": null,
            "top": null,
            "visibility": null,
            "width": null
          }
        },
        "52e7a390299f41f2896e9f407a4f58a2": {
          "model_module": "@jupyter-widgets/controls",
          "model_name": "ProgressStyleModel",
          "model_module_version": "1.5.0",
          "state": {
            "_model_module": "@jupyter-widgets/controls",
            "_model_module_version": "1.5.0",
            "_model_name": "ProgressStyleModel",
            "_view_count": null,
            "_view_module": "@jupyter-widgets/base",
            "_view_module_version": "1.2.0",
            "_view_name": "StyleView",
            "bar_color": null,
            "description_width": ""
          }
        },
        "949e5797fa0b4dccacf843cba0e92091": {
          "model_module": "@jupyter-widgets/base",
          "model_name": "LayoutModel",
          "model_module_version": "1.2.0",
          "state": {
            "_model_module": "@jupyter-widgets/base",
            "_model_module_version": "1.2.0",
            "_model_name": "LayoutModel",
            "_view_count": null,
            "_view_module": "@jupyter-widgets/base",
            "_view_module_version": "1.2.0",
            "_view_name": "LayoutView",
            "align_content": null,
            "align_items": null,
            "align_self": null,
            "border": null,
            "bottom": null,
            "display": null,
            "flex": null,
            "flex_flow": null,
            "grid_area": null,
            "grid_auto_columns": null,
            "grid_auto_flow": null,
            "grid_auto_rows": null,
            "grid_column": null,
            "grid_gap": null,
            "grid_row": null,
            "grid_template_areas": null,
            "grid_template_columns": null,
            "grid_template_rows": null,
            "height": null,
            "justify_content": null,
            "justify_items": null,
            "left": null,
            "margin": null,
            "max_height": null,
            "max_width": null,
            "min_height": null,
            "min_width": null,
            "object_fit": null,
            "object_position": null,
            "order": null,
            "overflow": null,
            "overflow_x": null,
            "overflow_y": null,
            "padding": null,
            "right": null,
            "top": null,
            "visibility": null,
            "width": null
          }
        },
        "94d1d15838734c139e5b6410463e1bdd": {
          "model_module": "@jupyter-widgets/controls",
          "model_name": "DescriptionStyleModel",
          "model_module_version": "1.5.0",
          "state": {
            "_model_module": "@jupyter-widgets/controls",
            "_model_module_version": "1.5.0",
            "_model_name": "DescriptionStyleModel",
            "_view_count": null,
            "_view_module": "@jupyter-widgets/base",
            "_view_module_version": "1.2.0",
            "_view_name": "StyleView",
            "description_width": ""
          }
        },
        "55851a89dd6f441789876640950bb372": {
          "model_module": "@jupyter-widgets/controls",
          "model_name": "HBoxModel",
          "model_module_version": "1.5.0",
          "state": {
            "_dom_classes": [],
            "_model_module": "@jupyter-widgets/controls",
            "_model_module_version": "1.5.0",
            "_model_name": "HBoxModel",
            "_view_count": null,
            "_view_module": "@jupyter-widgets/controls",
            "_view_module_version": "1.5.0",
            "_view_name": "HBoxView",
            "box_style": "",
            "children": [
              "IPY_MODEL_5ea926d4917b46e6ac4eeb366f1515bc",
              "IPY_MODEL_84241cc17da744a89bf18d577d7a5499",
              "IPY_MODEL_4bb443a829d04d82849973f492cb912f"
            ],
            "layout": "IPY_MODEL_dbdc31b7ae134002a7b65f736fa090b4"
          }
        },
        "5ea926d4917b46e6ac4eeb366f1515bc": {
          "model_module": "@jupyter-widgets/controls",
          "model_name": "HTMLModel",
          "model_module_version": "1.5.0",
          "state": {
            "_dom_classes": [],
            "_model_module": "@jupyter-widgets/controls",
            "_model_module_version": "1.5.0",
            "_model_name": "HTMLModel",
            "_view_count": null,
            "_view_module": "@jupyter-widgets/controls",
            "_view_module_version": "1.5.0",
            "_view_name": "HTMLView",
            "description": "",
            "description_tooltip": null,
            "layout": "IPY_MODEL_673ecc0c2dd2495fb4cbd92233172a92",
            "placeholder": "​",
            "style": "IPY_MODEL_14e679f11c5e45ab8ce0f76c492c80cf",
            "value": "model.safetensors: 100%"
          }
        },
        "84241cc17da744a89bf18d577d7a5499": {
          "model_module": "@jupyter-widgets/controls",
          "model_name": "FloatProgressModel",
          "model_module_version": "1.5.0",
          "state": {
            "_dom_classes": [],
            "_model_module": "@jupyter-widgets/controls",
            "_model_module_version": "1.5.0",
            "_model_name": "FloatProgressModel",
            "_view_count": null,
            "_view_module": "@jupyter-widgets/controls",
            "_view_module_version": "1.5.0",
            "_view_name": "ProgressView",
            "bar_style": "success",
            "description": "",
            "description_tooltip": null,
            "layout": "IPY_MODEL_22036ad4859848ab9d55ecc5aca9f908",
            "max": 90868376,
            "min": 0,
            "orientation": "horizontal",
            "style": "IPY_MODEL_4bfe256652ba45b0a6a36e22925d82fb",
            "value": 90868376
          }
        },
        "4bb443a829d04d82849973f492cb912f": {
          "model_module": "@jupyter-widgets/controls",
          "model_name": "HTMLModel",
          "model_module_version": "1.5.0",
          "state": {
            "_dom_classes": [],
            "_model_module": "@jupyter-widgets/controls",
            "_model_module_version": "1.5.0",
            "_model_name": "HTMLModel",
            "_view_count": null,
            "_view_module": "@jupyter-widgets/controls",
            "_view_module_version": "1.5.0",
            "_view_name": "HTMLView",
            "description": "",
            "description_tooltip": null,
            "layout": "IPY_MODEL_c69cb5cddd41469fb40b19078d519ba6",
            "placeholder": "​",
            "style": "IPY_MODEL_7ec924428ae5478ba7fd75d6c10f9ee6",
            "value": " 90.9M/90.9M [00:00&lt;00:00, 170MB/s]"
          }
        },
        "dbdc31b7ae134002a7b65f736fa090b4": {
          "model_module": "@jupyter-widgets/base",
          "model_name": "LayoutModel",
          "model_module_version": "1.2.0",
          "state": {
            "_model_module": "@jupyter-widgets/base",
            "_model_module_version": "1.2.0",
            "_model_name": "LayoutModel",
            "_view_count": null,
            "_view_module": "@jupyter-widgets/base",
            "_view_module_version": "1.2.0",
            "_view_name": "LayoutView",
            "align_content": null,
            "align_items": null,
            "align_self": null,
            "border": null,
            "bottom": null,
            "display": null,
            "flex": null,
            "flex_flow": null,
            "grid_area": null,
            "grid_auto_columns": null,
            "grid_auto_flow": null,
            "grid_auto_rows": null,
            "grid_column": null,
            "grid_gap": null,
            "grid_row": null,
            "grid_template_areas": null,
            "grid_template_columns": null,
            "grid_template_rows": null,
            "height": null,
            "justify_content": null,
            "justify_items": null,
            "left": null,
            "margin": null,
            "max_height": null,
            "max_width": null,
            "min_height": null,
            "min_width": null,
            "object_fit": null,
            "object_position": null,
            "order": null,
            "overflow": null,
            "overflow_x": null,
            "overflow_y": null,
            "padding": null,
            "right": null,
            "top": null,
            "visibility": null,
            "width": null
          }
        },
        "673ecc0c2dd2495fb4cbd92233172a92": {
          "model_module": "@jupyter-widgets/base",
          "model_name": "LayoutModel",
          "model_module_version": "1.2.0",
          "state": {
            "_model_module": "@jupyter-widgets/base",
            "_model_module_version": "1.2.0",
            "_model_name": "LayoutModel",
            "_view_count": null,
            "_view_module": "@jupyter-widgets/base",
            "_view_module_version": "1.2.0",
            "_view_name": "LayoutView",
            "align_content": null,
            "align_items": null,
            "align_self": null,
            "border": null,
            "bottom": null,
            "display": null,
            "flex": null,
            "flex_flow": null,
            "grid_area": null,
            "grid_auto_columns": null,
            "grid_auto_flow": null,
            "grid_auto_rows": null,
            "grid_column": null,
            "grid_gap": null,
            "grid_row": null,
            "grid_template_areas": null,
            "grid_template_columns": null,
            "grid_template_rows": null,
            "height": null,
            "justify_content": null,
            "justify_items": null,
            "left": null,
            "margin": null,
            "max_height": null,
            "max_width": null,
            "min_height": null,
            "min_width": null,
            "object_fit": null,
            "object_position": null,
            "order": null,
            "overflow": null,
            "overflow_x": null,
            "overflow_y": null,
            "padding": null,
            "right": null,
            "top": null,
            "visibility": null,
            "width": null
          }
        },
        "14e679f11c5e45ab8ce0f76c492c80cf": {
          "model_module": "@jupyter-widgets/controls",
          "model_name": "DescriptionStyleModel",
          "model_module_version": "1.5.0",
          "state": {
            "_model_module": "@jupyter-widgets/controls",
            "_model_module_version": "1.5.0",
            "_model_name": "DescriptionStyleModel",
            "_view_count": null,
            "_view_module": "@jupyter-widgets/base",
            "_view_module_version": "1.2.0",
            "_view_name": "StyleView",
            "description_width": ""
          }
        },
        "22036ad4859848ab9d55ecc5aca9f908": {
          "model_module": "@jupyter-widgets/base",
          "model_name": "LayoutModel",
          "model_module_version": "1.2.0",
          "state": {
            "_model_module": "@jupyter-widgets/base",
            "_model_module_version": "1.2.0",
            "_model_name": "LayoutModel",
            "_view_count": null,
            "_view_module": "@jupyter-widgets/base",
            "_view_module_version": "1.2.0",
            "_view_name": "LayoutView",
            "align_content": null,
            "align_items": null,
            "align_self": null,
            "border": null,
            "bottom": null,
            "display": null,
            "flex": null,
            "flex_flow": null,
            "grid_area": null,
            "grid_auto_columns": null,
            "grid_auto_flow": null,
            "grid_auto_rows": null,
            "grid_column": null,
            "grid_gap": null,
            "grid_row": null,
            "grid_template_areas": null,
            "grid_template_columns": null,
            "grid_template_rows": null,
            "height": null,
            "justify_content": null,
            "justify_items": null,
            "left": null,
            "margin": null,
            "max_height": null,
            "max_width": null,
            "min_height": null,
            "min_width": null,
            "object_fit": null,
            "object_position": null,
            "order": null,
            "overflow": null,
            "overflow_x": null,
            "overflow_y": null,
            "padding": null,
            "right": null,
            "top": null,
            "visibility": null,
            "width": null
          }
        },
        "4bfe256652ba45b0a6a36e22925d82fb": {
          "model_module": "@jupyter-widgets/controls",
          "model_name": "ProgressStyleModel",
          "model_module_version": "1.5.0",
          "state": {
            "_model_module": "@jupyter-widgets/controls",
            "_model_module_version": "1.5.0",
            "_model_name": "ProgressStyleModel",
            "_view_count": null,
            "_view_module": "@jupyter-widgets/base",
            "_view_module_version": "1.2.0",
            "_view_name": "StyleView",
            "bar_color": null,
            "description_width": ""
          }
        },
        "c69cb5cddd41469fb40b19078d519ba6": {
          "model_module": "@jupyter-widgets/base",
          "model_name": "LayoutModel",
          "model_module_version": "1.2.0",
          "state": {
            "_model_module": "@jupyter-widgets/base",
            "_model_module_version": "1.2.0",
            "_model_name": "LayoutModel",
            "_view_count": null,
            "_view_module": "@jupyter-widgets/base",
            "_view_module_version": "1.2.0",
            "_view_name": "LayoutView",
            "align_content": null,
            "align_items": null,
            "align_self": null,
            "border": null,
            "bottom": null,
            "display": null,
            "flex": null,
            "flex_flow": null,
            "grid_area": null,
            "grid_auto_columns": null,
            "grid_auto_flow": null,
            "grid_auto_rows": null,
            "grid_column": null,
            "grid_gap": null,
            "grid_row": null,
            "grid_template_areas": null,
            "grid_template_columns": null,
            "grid_template_rows": null,
            "height": null,
            "justify_content": null,
            "justify_items": null,
            "left": null,
            "margin": null,
            "max_height": null,
            "max_width": null,
            "min_height": null,
            "min_width": null,
            "object_fit": null,
            "object_position": null,
            "order": null,
            "overflow": null,
            "overflow_x": null,
            "overflow_y": null,
            "padding": null,
            "right": null,
            "top": null,
            "visibility": null,
            "width": null
          }
        },
        "7ec924428ae5478ba7fd75d6c10f9ee6": {
          "model_module": "@jupyter-widgets/controls",
          "model_name": "DescriptionStyleModel",
          "model_module_version": "1.5.0",
          "state": {
            "_model_module": "@jupyter-widgets/controls",
            "_model_module_version": "1.5.0",
            "_model_name": "DescriptionStyleModel",
            "_view_count": null,
            "_view_module": "@jupyter-widgets/base",
            "_view_module_version": "1.2.0",
            "_view_name": "StyleView",
            "description_width": ""
          }
        },
        "645070a106494593a6a90ea556447ec2": {
          "model_module": "@jupyter-widgets/controls",
          "model_name": "HBoxModel",
          "model_module_version": "1.5.0",
          "state": {
            "_dom_classes": [],
            "_model_module": "@jupyter-widgets/controls",
            "_model_module_version": "1.5.0",
            "_model_name": "HBoxModel",
            "_view_count": null,
            "_view_module": "@jupyter-widgets/controls",
            "_view_module_version": "1.5.0",
            "_view_name": "HBoxView",
            "box_style": "",
            "children": [
              "IPY_MODEL_d6ccc79a25ce4c7690951f1b26abe693",
              "IPY_MODEL_c717c3131d46470095bf3ecc4e5856f4",
              "IPY_MODEL_9e9e916979e94030b05d4df3f1ef9467"
            ],
            "layout": "IPY_MODEL_2797f1c3aa674ab6acef53754f440d6b"
          }
        },
        "d6ccc79a25ce4c7690951f1b26abe693": {
          "model_module": "@jupyter-widgets/controls",
          "model_name": "HTMLModel",
          "model_module_version": "1.5.0",
          "state": {
            "_dom_classes": [],
            "_model_module": "@jupyter-widgets/controls",
            "_model_module_version": "1.5.0",
            "_model_name": "HTMLModel",
            "_view_count": null,
            "_view_module": "@jupyter-widgets/controls",
            "_view_module_version": "1.5.0",
            "_view_name": "HTMLView",
            "description": "",
            "description_tooltip": null,
            "layout": "IPY_MODEL_11843000c8aa4bc78dad4162f9f5610b",
            "placeholder": "​",
            "style": "IPY_MODEL_6d56638b63b14a27b6c61b2a7f521abb",
            "value": "tokenizer_config.json: 100%"
          }
        },
        "c717c3131d46470095bf3ecc4e5856f4": {
          "model_module": "@jupyter-widgets/controls",
          "model_name": "FloatProgressModel",
          "model_module_version": "1.5.0",
          "state": {
            "_dom_classes": [],
            "_model_module": "@jupyter-widgets/controls",
            "_model_module_version": "1.5.0",
            "_model_name": "FloatProgressModel",
            "_view_count": null,
            "_view_module": "@jupyter-widgets/controls",
            "_view_module_version": "1.5.0",
            "_view_name": "ProgressView",
            "bar_style": "success",
            "description": "",
            "description_tooltip": null,
            "layout": "IPY_MODEL_9f7c7d75d028407dbb8ff6ddc140d134",
            "max": 350,
            "min": 0,
            "orientation": "horizontal",
            "style": "IPY_MODEL_70139acc7ce74060af2e6a0b6a3a2519",
            "value": 350
          }
        },
        "9e9e916979e94030b05d4df3f1ef9467": {
          "model_module": "@jupyter-widgets/controls",
          "model_name": "HTMLModel",
          "model_module_version": "1.5.0",
          "state": {
            "_dom_classes": [],
            "_model_module": "@jupyter-widgets/controls",
            "_model_module_version": "1.5.0",
            "_model_name": "HTMLModel",
            "_view_count": null,
            "_view_module": "@jupyter-widgets/controls",
            "_view_module_version": "1.5.0",
            "_view_name": "HTMLView",
            "description": "",
            "description_tooltip": null,
            "layout": "IPY_MODEL_35862f1233504697bd233c2f4e098366",
            "placeholder": "​",
            "style": "IPY_MODEL_08e44bf758be4f648a1ca9404114110c",
            "value": " 350/350 [00:00&lt;00:00, 18.8kB/s]"
          }
        },
        "2797f1c3aa674ab6acef53754f440d6b": {
          "model_module": "@jupyter-widgets/base",
          "model_name": "LayoutModel",
          "model_module_version": "1.2.0",
          "state": {
            "_model_module": "@jupyter-widgets/base",
            "_model_module_version": "1.2.0",
            "_model_name": "LayoutModel",
            "_view_count": null,
            "_view_module": "@jupyter-widgets/base",
            "_view_module_version": "1.2.0",
            "_view_name": "LayoutView",
            "align_content": null,
            "align_items": null,
            "align_self": null,
            "border": null,
            "bottom": null,
            "display": null,
            "flex": null,
            "flex_flow": null,
            "grid_area": null,
            "grid_auto_columns": null,
            "grid_auto_flow": null,
            "grid_auto_rows": null,
            "grid_column": null,
            "grid_gap": null,
            "grid_row": null,
            "grid_template_areas": null,
            "grid_template_columns": null,
            "grid_template_rows": null,
            "height": null,
            "justify_content": null,
            "justify_items": null,
            "left": null,
            "margin": null,
            "max_height": null,
            "max_width": null,
            "min_height": null,
            "min_width": null,
            "object_fit": null,
            "object_position": null,
            "order": null,
            "overflow": null,
            "overflow_x": null,
            "overflow_y": null,
            "padding": null,
            "right": null,
            "top": null,
            "visibility": null,
            "width": null
          }
        },
        "11843000c8aa4bc78dad4162f9f5610b": {
          "model_module": "@jupyter-widgets/base",
          "model_name": "LayoutModel",
          "model_module_version": "1.2.0",
          "state": {
            "_model_module": "@jupyter-widgets/base",
            "_model_module_version": "1.2.0",
            "_model_name": "LayoutModel",
            "_view_count": null,
            "_view_module": "@jupyter-widgets/base",
            "_view_module_version": "1.2.0",
            "_view_name": "LayoutView",
            "align_content": null,
            "align_items": null,
            "align_self": null,
            "border": null,
            "bottom": null,
            "display": null,
            "flex": null,
            "flex_flow": null,
            "grid_area": null,
            "grid_auto_columns": null,
            "grid_auto_flow": null,
            "grid_auto_rows": null,
            "grid_column": null,
            "grid_gap": null,
            "grid_row": null,
            "grid_template_areas": null,
            "grid_template_columns": null,
            "grid_template_rows": null,
            "height": null,
            "justify_content": null,
            "justify_items": null,
            "left": null,
            "margin": null,
            "max_height": null,
            "max_width": null,
            "min_height": null,
            "min_width": null,
            "object_fit": null,
            "object_position": null,
            "order": null,
            "overflow": null,
            "overflow_x": null,
            "overflow_y": null,
            "padding": null,
            "right": null,
            "top": null,
            "visibility": null,
            "width": null
          }
        },
        "6d56638b63b14a27b6c61b2a7f521abb": {
          "model_module": "@jupyter-widgets/controls",
          "model_name": "DescriptionStyleModel",
          "model_module_version": "1.5.0",
          "state": {
            "_model_module": "@jupyter-widgets/controls",
            "_model_module_version": "1.5.0",
            "_model_name": "DescriptionStyleModel",
            "_view_count": null,
            "_view_module": "@jupyter-widgets/base",
            "_view_module_version": "1.2.0",
            "_view_name": "StyleView",
            "description_width": ""
          }
        },
        "9f7c7d75d028407dbb8ff6ddc140d134": {
          "model_module": "@jupyter-widgets/base",
          "model_name": "LayoutModel",
          "model_module_version": "1.2.0",
          "state": {
            "_model_module": "@jupyter-widgets/base",
            "_model_module_version": "1.2.0",
            "_model_name": "LayoutModel",
            "_view_count": null,
            "_view_module": "@jupyter-widgets/base",
            "_view_module_version": "1.2.0",
            "_view_name": "LayoutView",
            "align_content": null,
            "align_items": null,
            "align_self": null,
            "border": null,
            "bottom": null,
            "display": null,
            "flex": null,
            "flex_flow": null,
            "grid_area": null,
            "grid_auto_columns": null,
            "grid_auto_flow": null,
            "grid_auto_rows": null,
            "grid_column": null,
            "grid_gap": null,
            "grid_row": null,
            "grid_template_areas": null,
            "grid_template_columns": null,
            "grid_template_rows": null,
            "height": null,
            "justify_content": null,
            "justify_items": null,
            "left": null,
            "margin": null,
            "max_height": null,
            "max_width": null,
            "min_height": null,
            "min_width": null,
            "object_fit": null,
            "object_position": null,
            "order": null,
            "overflow": null,
            "overflow_x": null,
            "overflow_y": null,
            "padding": null,
            "right": null,
            "top": null,
            "visibility": null,
            "width": null
          }
        },
        "70139acc7ce74060af2e6a0b6a3a2519": {
          "model_module": "@jupyter-widgets/controls",
          "model_name": "ProgressStyleModel",
          "model_module_version": "1.5.0",
          "state": {
            "_model_module": "@jupyter-widgets/controls",
            "_model_module_version": "1.5.0",
            "_model_name": "ProgressStyleModel",
            "_view_count": null,
            "_view_module": "@jupyter-widgets/base",
            "_view_module_version": "1.2.0",
            "_view_name": "StyleView",
            "bar_color": null,
            "description_width": ""
          }
        },
        "35862f1233504697bd233c2f4e098366": {
          "model_module": "@jupyter-widgets/base",
          "model_name": "LayoutModel",
          "model_module_version": "1.2.0",
          "state": {
            "_model_module": "@jupyter-widgets/base",
            "_model_module_version": "1.2.0",
            "_model_name": "LayoutModel",
            "_view_count": null,
            "_view_module": "@jupyter-widgets/base",
            "_view_module_version": "1.2.0",
            "_view_name": "LayoutView",
            "align_content": null,
            "align_items": null,
            "align_self": null,
            "border": null,
            "bottom": null,
            "display": null,
            "flex": null,
            "flex_flow": null,
            "grid_area": null,
            "grid_auto_columns": null,
            "grid_auto_flow": null,
            "grid_auto_rows": null,
            "grid_column": null,
            "grid_gap": null,
            "grid_row": null,
            "grid_template_areas": null,
            "grid_template_columns": null,
            "grid_template_rows": null,
            "height": null,
            "justify_content": null,
            "justify_items": null,
            "left": null,
            "margin": null,
            "max_height": null,
            "max_width": null,
            "min_height": null,
            "min_width": null,
            "object_fit": null,
            "object_position": null,
            "order": null,
            "overflow": null,
            "overflow_x": null,
            "overflow_y": null,
            "padding": null,
            "right": null,
            "top": null,
            "visibility": null,
            "width": null
          }
        },
        "08e44bf758be4f648a1ca9404114110c": {
          "model_module": "@jupyter-widgets/controls",
          "model_name": "DescriptionStyleModel",
          "model_module_version": "1.5.0",
          "state": {
            "_model_module": "@jupyter-widgets/controls",
            "_model_module_version": "1.5.0",
            "_model_name": "DescriptionStyleModel",
            "_view_count": null,
            "_view_module": "@jupyter-widgets/base",
            "_view_module_version": "1.2.0",
            "_view_name": "StyleView",
            "description_width": ""
          }
        },
        "a8663faccb004838bf8a40654191140b": {
          "model_module": "@jupyter-widgets/controls",
          "model_name": "HBoxModel",
          "model_module_version": "1.5.0",
          "state": {
            "_dom_classes": [],
            "_model_module": "@jupyter-widgets/controls",
            "_model_module_version": "1.5.0",
            "_model_name": "HBoxModel",
            "_view_count": null,
            "_view_module": "@jupyter-widgets/controls",
            "_view_module_version": "1.5.0",
            "_view_name": "HBoxView",
            "box_style": "",
            "children": [
              "IPY_MODEL_eb20c7cad88b4dc09b1bbd55c35d95a3",
              "IPY_MODEL_fdb64cc33eb5434591a107de5e8433ed",
              "IPY_MODEL_245e3dc9c9a2454c956ea1fb7b55abf0"
            ],
            "layout": "IPY_MODEL_7266928914604369b853e5314cf38241"
          }
        },
        "eb20c7cad88b4dc09b1bbd55c35d95a3": {
          "model_module": "@jupyter-widgets/controls",
          "model_name": "HTMLModel",
          "model_module_version": "1.5.0",
          "state": {
            "_dom_classes": [],
            "_model_module": "@jupyter-widgets/controls",
            "_model_module_version": "1.5.0",
            "_model_name": "HTMLModel",
            "_view_count": null,
            "_view_module": "@jupyter-widgets/controls",
            "_view_module_version": "1.5.0",
            "_view_name": "HTMLView",
            "description": "",
            "description_tooltip": null,
            "layout": "IPY_MODEL_2dbf480186f945a4bf1733eaf5792695",
            "placeholder": "​",
            "style": "IPY_MODEL_dc0bd1435264431587787613a5f45510",
            "value": "vocab.txt: 100%"
          }
        },
        "fdb64cc33eb5434591a107de5e8433ed": {
          "model_module": "@jupyter-widgets/controls",
          "model_name": "FloatProgressModel",
          "model_module_version": "1.5.0",
          "state": {
            "_dom_classes": [],
            "_model_module": "@jupyter-widgets/controls",
            "_model_module_version": "1.5.0",
            "_model_name": "FloatProgressModel",
            "_view_count": null,
            "_view_module": "@jupyter-widgets/controls",
            "_view_module_version": "1.5.0",
            "_view_name": "ProgressView",
            "bar_style": "success",
            "description": "",
            "description_tooltip": null,
            "layout": "IPY_MODEL_eafd4409b22b40bcb6a563882eff993e",
            "max": 231508,
            "min": 0,
            "orientation": "horizontal",
            "style": "IPY_MODEL_73f57dd0a9d0477cba0114ce8ccb7730",
            "value": 231508
          }
        },
        "245e3dc9c9a2454c956ea1fb7b55abf0": {
          "model_module": "@jupyter-widgets/controls",
          "model_name": "HTMLModel",
          "model_module_version": "1.5.0",
          "state": {
            "_dom_classes": [],
            "_model_module": "@jupyter-widgets/controls",
            "_model_module_version": "1.5.0",
            "_model_name": "HTMLModel",
            "_view_count": null,
            "_view_module": "@jupyter-widgets/controls",
            "_view_module_version": "1.5.0",
            "_view_name": "HTMLView",
            "description": "",
            "description_tooltip": null,
            "layout": "IPY_MODEL_4e5882e0e84e4ce78bf0c2d12329d757",
            "placeholder": "​",
            "style": "IPY_MODEL_5c08a2acb20149e2a709e4eee8fd65dc",
            "value": " 232k/232k [00:00&lt;00:00, 3.31MB/s]"
          }
        },
        "7266928914604369b853e5314cf38241": {
          "model_module": "@jupyter-widgets/base",
          "model_name": "LayoutModel",
          "model_module_version": "1.2.0",
          "state": {
            "_model_module": "@jupyter-widgets/base",
            "_model_module_version": "1.2.0",
            "_model_name": "LayoutModel",
            "_view_count": null,
            "_view_module": "@jupyter-widgets/base",
            "_view_module_version": "1.2.0",
            "_view_name": "LayoutView",
            "align_content": null,
            "align_items": null,
            "align_self": null,
            "border": null,
            "bottom": null,
            "display": null,
            "flex": null,
            "flex_flow": null,
            "grid_area": null,
            "grid_auto_columns": null,
            "grid_auto_flow": null,
            "grid_auto_rows": null,
            "grid_column": null,
            "grid_gap": null,
            "grid_row": null,
            "grid_template_areas": null,
            "grid_template_columns": null,
            "grid_template_rows": null,
            "height": null,
            "justify_content": null,
            "justify_items": null,
            "left": null,
            "margin": null,
            "max_height": null,
            "max_width": null,
            "min_height": null,
            "min_width": null,
            "object_fit": null,
            "object_position": null,
            "order": null,
            "overflow": null,
            "overflow_x": null,
            "overflow_y": null,
            "padding": null,
            "right": null,
            "top": null,
            "visibility": null,
            "width": null
          }
        },
        "2dbf480186f945a4bf1733eaf5792695": {
          "model_module": "@jupyter-widgets/base",
          "model_name": "LayoutModel",
          "model_module_version": "1.2.0",
          "state": {
            "_model_module": "@jupyter-widgets/base",
            "_model_module_version": "1.2.0",
            "_model_name": "LayoutModel",
            "_view_count": null,
            "_view_module": "@jupyter-widgets/base",
            "_view_module_version": "1.2.0",
            "_view_name": "LayoutView",
            "align_content": null,
            "align_items": null,
            "align_self": null,
            "border": null,
            "bottom": null,
            "display": null,
            "flex": null,
            "flex_flow": null,
            "grid_area": null,
            "grid_auto_columns": null,
            "grid_auto_flow": null,
            "grid_auto_rows": null,
            "grid_column": null,
            "grid_gap": null,
            "grid_row": null,
            "grid_template_areas": null,
            "grid_template_columns": null,
            "grid_template_rows": null,
            "height": null,
            "justify_content": null,
            "justify_items": null,
            "left": null,
            "margin": null,
            "max_height": null,
            "max_width": null,
            "min_height": null,
            "min_width": null,
            "object_fit": null,
            "object_position": null,
            "order": null,
            "overflow": null,
            "overflow_x": null,
            "overflow_y": null,
            "padding": null,
            "right": null,
            "top": null,
            "visibility": null,
            "width": null
          }
        },
        "dc0bd1435264431587787613a5f45510": {
          "model_module": "@jupyter-widgets/controls",
          "model_name": "DescriptionStyleModel",
          "model_module_version": "1.5.0",
          "state": {
            "_model_module": "@jupyter-widgets/controls",
            "_model_module_version": "1.5.0",
            "_model_name": "DescriptionStyleModel",
            "_view_count": null,
            "_view_module": "@jupyter-widgets/base",
            "_view_module_version": "1.2.0",
            "_view_name": "StyleView",
            "description_width": ""
          }
        },
        "eafd4409b22b40bcb6a563882eff993e": {
          "model_module": "@jupyter-widgets/base",
          "model_name": "LayoutModel",
          "model_module_version": "1.2.0",
          "state": {
            "_model_module": "@jupyter-widgets/base",
            "_model_module_version": "1.2.0",
            "_model_name": "LayoutModel",
            "_view_count": null,
            "_view_module": "@jupyter-widgets/base",
            "_view_module_version": "1.2.0",
            "_view_name": "LayoutView",
            "align_content": null,
            "align_items": null,
            "align_self": null,
            "border": null,
            "bottom": null,
            "display": null,
            "flex": null,
            "flex_flow": null,
            "grid_area": null,
            "grid_auto_columns": null,
            "grid_auto_flow": null,
            "grid_auto_rows": null,
            "grid_column": null,
            "grid_gap": null,
            "grid_row": null,
            "grid_template_areas": null,
            "grid_template_columns": null,
            "grid_template_rows": null,
            "height": null,
            "justify_content": null,
            "justify_items": null,
            "left": null,
            "margin": null,
            "max_height": null,
            "max_width": null,
            "min_height": null,
            "min_width": null,
            "object_fit": null,
            "object_position": null,
            "order": null,
            "overflow": null,
            "overflow_x": null,
            "overflow_y": null,
            "padding": null,
            "right": null,
            "top": null,
            "visibility": null,
            "width": null
          }
        },
        "73f57dd0a9d0477cba0114ce8ccb7730": {
          "model_module": "@jupyter-widgets/controls",
          "model_name": "ProgressStyleModel",
          "model_module_version": "1.5.0",
          "state": {
            "_model_module": "@jupyter-widgets/controls",
            "_model_module_version": "1.5.0",
            "_model_name": "ProgressStyleModel",
            "_view_count": null,
            "_view_module": "@jupyter-widgets/base",
            "_view_module_version": "1.2.0",
            "_view_name": "StyleView",
            "bar_color": null,
            "description_width": ""
          }
        },
        "4e5882e0e84e4ce78bf0c2d12329d757": {
          "model_module": "@jupyter-widgets/base",
          "model_name": "LayoutModel",
          "model_module_version": "1.2.0",
          "state": {
            "_model_module": "@jupyter-widgets/base",
            "_model_module_version": "1.2.0",
            "_model_name": "LayoutModel",
            "_view_count": null,
            "_view_module": "@jupyter-widgets/base",
            "_view_module_version": "1.2.0",
            "_view_name": "LayoutView",
            "align_content": null,
            "align_items": null,
            "align_self": null,
            "border": null,
            "bottom": null,
            "display": null,
            "flex": null,
            "flex_flow": null,
            "grid_area": null,
            "grid_auto_columns": null,
            "grid_auto_flow": null,
            "grid_auto_rows": null,
            "grid_column": null,
            "grid_gap": null,
            "grid_row": null,
            "grid_template_areas": null,
            "grid_template_columns": null,
            "grid_template_rows": null,
            "height": null,
            "justify_content": null,
            "justify_items": null,
            "left": null,
            "margin": null,
            "max_height": null,
            "max_width": null,
            "min_height": null,
            "min_width": null,
            "object_fit": null,
            "object_position": null,
            "order": null,
            "overflow": null,
            "overflow_x": null,
            "overflow_y": null,
            "padding": null,
            "right": null,
            "top": null,
            "visibility": null,
            "width": null
          }
        },
        "5c08a2acb20149e2a709e4eee8fd65dc": {
          "model_module": "@jupyter-widgets/controls",
          "model_name": "DescriptionStyleModel",
          "model_module_version": "1.5.0",
          "state": {
            "_model_module": "@jupyter-widgets/controls",
            "_model_module_version": "1.5.0",
            "_model_name": "DescriptionStyleModel",
            "_view_count": null,
            "_view_module": "@jupyter-widgets/base",
            "_view_module_version": "1.2.0",
            "_view_name": "StyleView",
            "description_width": ""
          }
        },
        "280aa30b07a44945b43c1adb73038d5a": {
          "model_module": "@jupyter-widgets/controls",
          "model_name": "HBoxModel",
          "model_module_version": "1.5.0",
          "state": {
            "_dom_classes": [],
            "_model_module": "@jupyter-widgets/controls",
            "_model_module_version": "1.5.0",
            "_model_name": "HBoxModel",
            "_view_count": null,
            "_view_module": "@jupyter-widgets/controls",
            "_view_module_version": "1.5.0",
            "_view_name": "HBoxView",
            "box_style": "",
            "children": [
              "IPY_MODEL_acbf825da61d48628ddbe7d4532284db",
              "IPY_MODEL_ded51892d748403aa11f1cbc4ae3e708",
              "IPY_MODEL_7ffa54f902cc4ee5ac36eb707bf6858d"
            ],
            "layout": "IPY_MODEL_2a461f7d08374a0bbd189dc945cae1fb"
          }
        },
        "acbf825da61d48628ddbe7d4532284db": {
          "model_module": "@jupyter-widgets/controls",
          "model_name": "HTMLModel",
          "model_module_version": "1.5.0",
          "state": {
            "_dom_classes": [],
            "_model_module": "@jupyter-widgets/controls",
            "_model_module_version": "1.5.0",
            "_model_name": "HTMLModel",
            "_view_count": null,
            "_view_module": "@jupyter-widgets/controls",
            "_view_module_version": "1.5.0",
            "_view_name": "HTMLView",
            "description": "",
            "description_tooltip": null,
            "layout": "IPY_MODEL_21c1edeed0e44e0c83ba221a0652ca41",
            "placeholder": "​",
            "style": "IPY_MODEL_de01a3205a234545b1b23b7d48aebce6",
            "value": "tokenizer.json: 100%"
          }
        },
        "ded51892d748403aa11f1cbc4ae3e708": {
          "model_module": "@jupyter-widgets/controls",
          "model_name": "FloatProgressModel",
          "model_module_version": "1.5.0",
          "state": {
            "_dom_classes": [],
            "_model_module": "@jupyter-widgets/controls",
            "_model_module_version": "1.5.0",
            "_model_name": "FloatProgressModel",
            "_view_count": null,
            "_view_module": "@jupyter-widgets/controls",
            "_view_module_version": "1.5.0",
            "_view_name": "ProgressView",
            "bar_style": "success",
            "description": "",
            "description_tooltip": null,
            "layout": "IPY_MODEL_504e1c74b5ee4c32a7ee7378a446be83",
            "max": 466247,
            "min": 0,
            "orientation": "horizontal",
            "style": "IPY_MODEL_3952fa7c1ada4bf1b1fba13d2d560bdb",
            "value": 466247
          }
        },
        "7ffa54f902cc4ee5ac36eb707bf6858d": {
          "model_module": "@jupyter-widgets/controls",
          "model_name": "HTMLModel",
          "model_module_version": "1.5.0",
          "state": {
            "_dom_classes": [],
            "_model_module": "@jupyter-widgets/controls",
            "_model_module_version": "1.5.0",
            "_model_name": "HTMLModel",
            "_view_count": null,
            "_view_module": "@jupyter-widgets/controls",
            "_view_module_version": "1.5.0",
            "_view_name": "HTMLView",
            "description": "",
            "description_tooltip": null,
            "layout": "IPY_MODEL_a184cb939991401bbfc9839fd29fa9d2",
            "placeholder": "​",
            "style": "IPY_MODEL_3660d01714714ca786bbef1f7e0ba02a",
            "value": " 466k/466k [00:00&lt;00:00, 3.57MB/s]"
          }
        },
        "2a461f7d08374a0bbd189dc945cae1fb": {
          "model_module": "@jupyter-widgets/base",
          "model_name": "LayoutModel",
          "model_module_version": "1.2.0",
          "state": {
            "_model_module": "@jupyter-widgets/base",
            "_model_module_version": "1.2.0",
            "_model_name": "LayoutModel",
            "_view_count": null,
            "_view_module": "@jupyter-widgets/base",
            "_view_module_version": "1.2.0",
            "_view_name": "LayoutView",
            "align_content": null,
            "align_items": null,
            "align_self": null,
            "border": null,
            "bottom": null,
            "display": null,
            "flex": null,
            "flex_flow": null,
            "grid_area": null,
            "grid_auto_columns": null,
            "grid_auto_flow": null,
            "grid_auto_rows": null,
            "grid_column": null,
            "grid_gap": null,
            "grid_row": null,
            "grid_template_areas": null,
            "grid_template_columns": null,
            "grid_template_rows": null,
            "height": null,
            "justify_content": null,
            "justify_items": null,
            "left": null,
            "margin": null,
            "max_height": null,
            "max_width": null,
            "min_height": null,
            "min_width": null,
            "object_fit": null,
            "object_position": null,
            "order": null,
            "overflow": null,
            "overflow_x": null,
            "overflow_y": null,
            "padding": null,
            "right": null,
            "top": null,
            "visibility": null,
            "width": null
          }
        },
        "21c1edeed0e44e0c83ba221a0652ca41": {
          "model_module": "@jupyter-widgets/base",
          "model_name": "LayoutModel",
          "model_module_version": "1.2.0",
          "state": {
            "_model_module": "@jupyter-widgets/base",
            "_model_module_version": "1.2.0",
            "_model_name": "LayoutModel",
            "_view_count": null,
            "_view_module": "@jupyter-widgets/base",
            "_view_module_version": "1.2.0",
            "_view_name": "LayoutView",
            "align_content": null,
            "align_items": null,
            "align_self": null,
            "border": null,
            "bottom": null,
            "display": null,
            "flex": null,
            "flex_flow": null,
            "grid_area": null,
            "grid_auto_columns": null,
            "grid_auto_flow": null,
            "grid_auto_rows": null,
            "grid_column": null,
            "grid_gap": null,
            "grid_row": null,
            "grid_template_areas": null,
            "grid_template_columns": null,
            "grid_template_rows": null,
            "height": null,
            "justify_content": null,
            "justify_items": null,
            "left": null,
            "margin": null,
            "max_height": null,
            "max_width": null,
            "min_height": null,
            "min_width": null,
            "object_fit": null,
            "object_position": null,
            "order": null,
            "overflow": null,
            "overflow_x": null,
            "overflow_y": null,
            "padding": null,
            "right": null,
            "top": null,
            "visibility": null,
            "width": null
          }
        },
        "de01a3205a234545b1b23b7d48aebce6": {
          "model_module": "@jupyter-widgets/controls",
          "model_name": "DescriptionStyleModel",
          "model_module_version": "1.5.0",
          "state": {
            "_model_module": "@jupyter-widgets/controls",
            "_model_module_version": "1.5.0",
            "_model_name": "DescriptionStyleModel",
            "_view_count": null,
            "_view_module": "@jupyter-widgets/base",
            "_view_module_version": "1.2.0",
            "_view_name": "StyleView",
            "description_width": ""
          }
        },
        "504e1c74b5ee4c32a7ee7378a446be83": {
          "model_module": "@jupyter-widgets/base",
          "model_name": "LayoutModel",
          "model_module_version": "1.2.0",
          "state": {
            "_model_module": "@jupyter-widgets/base",
            "_model_module_version": "1.2.0",
            "_model_name": "LayoutModel",
            "_view_count": null,
            "_view_module": "@jupyter-widgets/base",
            "_view_module_version": "1.2.0",
            "_view_name": "LayoutView",
            "align_content": null,
            "align_items": null,
            "align_self": null,
            "border": null,
            "bottom": null,
            "display": null,
            "flex": null,
            "flex_flow": null,
            "grid_area": null,
            "grid_auto_columns": null,
            "grid_auto_flow": null,
            "grid_auto_rows": null,
            "grid_column": null,
            "grid_gap": null,
            "grid_row": null,
            "grid_template_areas": null,
            "grid_template_columns": null,
            "grid_template_rows": null,
            "height": null,
            "justify_content": null,
            "justify_items": null,
            "left": null,
            "margin": null,
            "max_height": null,
            "max_width": null,
            "min_height": null,
            "min_width": null,
            "object_fit": null,
            "object_position": null,
            "order": null,
            "overflow": null,
            "overflow_x": null,
            "overflow_y": null,
            "padding": null,
            "right": null,
            "top": null,
            "visibility": null,
            "width": null
          }
        },
        "3952fa7c1ada4bf1b1fba13d2d560bdb": {
          "model_module": "@jupyter-widgets/controls",
          "model_name": "ProgressStyleModel",
          "model_module_version": "1.5.0",
          "state": {
            "_model_module": "@jupyter-widgets/controls",
            "_model_module_version": "1.5.0",
            "_model_name": "ProgressStyleModel",
            "_view_count": null,
            "_view_module": "@jupyter-widgets/base",
            "_view_module_version": "1.2.0",
            "_view_name": "StyleView",
            "bar_color": null,
            "description_width": ""
          }
        },
        "a184cb939991401bbfc9839fd29fa9d2": {
          "model_module": "@jupyter-widgets/base",
          "model_name": "LayoutModel",
          "model_module_version": "1.2.0",
          "state": {
            "_model_module": "@jupyter-widgets/base",
            "_model_module_version": "1.2.0",
            "_model_name": "LayoutModel",
            "_view_count": null,
            "_view_module": "@jupyter-widgets/base",
            "_view_module_version": "1.2.0",
            "_view_name": "LayoutView",
            "align_content": null,
            "align_items": null,
            "align_self": null,
            "border": null,
            "bottom": null,
            "display": null,
            "flex": null,
            "flex_flow": null,
            "grid_area": null,
            "grid_auto_columns": null,
            "grid_auto_flow": null,
            "grid_auto_rows": null,
            "grid_column": null,
            "grid_gap": null,
            "grid_row": null,
            "grid_template_areas": null,
            "grid_template_columns": null,
            "grid_template_rows": null,
            "height": null,
            "justify_content": null,
            "justify_items": null,
            "left": null,
            "margin": null,
            "max_height": null,
            "max_width": null,
            "min_height": null,
            "min_width": null,
            "object_fit": null,
            "object_position": null,
            "order": null,
            "overflow": null,
            "overflow_x": null,
            "overflow_y": null,
            "padding": null,
            "right": null,
            "top": null,
            "visibility": null,
            "width": null
          }
        },
        "3660d01714714ca786bbef1f7e0ba02a": {
          "model_module": "@jupyter-widgets/controls",
          "model_name": "DescriptionStyleModel",
          "model_module_version": "1.5.0",
          "state": {
            "_model_module": "@jupyter-widgets/controls",
            "_model_module_version": "1.5.0",
            "_model_name": "DescriptionStyleModel",
            "_view_count": null,
            "_view_module": "@jupyter-widgets/base",
            "_view_module_version": "1.2.0",
            "_view_name": "StyleView",
            "description_width": ""
          }
        },
        "62535706f90e48fc84fd9dc6df6631ef": {
          "model_module": "@jupyter-widgets/controls",
          "model_name": "HBoxModel",
          "model_module_version": "1.5.0",
          "state": {
            "_dom_classes": [],
            "_model_module": "@jupyter-widgets/controls",
            "_model_module_version": "1.5.0",
            "_model_name": "HBoxModel",
            "_view_count": null,
            "_view_module": "@jupyter-widgets/controls",
            "_view_module_version": "1.5.0",
            "_view_name": "HBoxView",
            "box_style": "",
            "children": [
              "IPY_MODEL_0330205218d543aa8ec0f9a9e782c5b4",
              "IPY_MODEL_7a2c5a830b8544c789446b689979f9ba",
              "IPY_MODEL_982fcbdcc4f8417faea68e6abbade185"
            ],
            "layout": "IPY_MODEL_c1937f7d26144115873b58ff6915eec7"
          }
        },
        "0330205218d543aa8ec0f9a9e782c5b4": {
          "model_module": "@jupyter-widgets/controls",
          "model_name": "HTMLModel",
          "model_module_version": "1.5.0",
          "state": {
            "_dom_classes": [],
            "_model_module": "@jupyter-widgets/controls",
            "_model_module_version": "1.5.0",
            "_model_name": "HTMLModel",
            "_view_count": null,
            "_view_module": "@jupyter-widgets/controls",
            "_view_module_version": "1.5.0",
            "_view_name": "HTMLView",
            "description": "",
            "description_tooltip": null,
            "layout": "IPY_MODEL_fb4a0ce00f3c43aaa0147cd0df3ee4fb",
            "placeholder": "​",
            "style": "IPY_MODEL_1da69dd7984a4dd894d4352fe8325165",
            "value": "special_tokens_map.json: 100%"
          }
        },
        "7a2c5a830b8544c789446b689979f9ba": {
          "model_module": "@jupyter-widgets/controls",
          "model_name": "FloatProgressModel",
          "model_module_version": "1.5.0",
          "state": {
            "_dom_classes": [],
            "_model_module": "@jupyter-widgets/controls",
            "_model_module_version": "1.5.0",
            "_model_name": "FloatProgressModel",
            "_view_count": null,
            "_view_module": "@jupyter-widgets/controls",
            "_view_module_version": "1.5.0",
            "_view_name": "ProgressView",
            "bar_style": "success",
            "description": "",
            "description_tooltip": null,
            "layout": "IPY_MODEL_616e559d403d4572bd88b611b0b8b184",
            "max": 112,
            "min": 0,
            "orientation": "horizontal",
            "style": "IPY_MODEL_4cc2649256354446b6717bf2f6aface0",
            "value": 112
          }
        },
        "982fcbdcc4f8417faea68e6abbade185": {
          "model_module": "@jupyter-widgets/controls",
          "model_name": "HTMLModel",
          "model_module_version": "1.5.0",
          "state": {
            "_dom_classes": [],
            "_model_module": "@jupyter-widgets/controls",
            "_model_module_version": "1.5.0",
            "_model_name": "HTMLModel",
            "_view_count": null,
            "_view_module": "@jupyter-widgets/controls",
            "_view_module_version": "1.5.0",
            "_view_name": "HTMLView",
            "description": "",
            "description_tooltip": null,
            "layout": "IPY_MODEL_4239dbac6e84463abcf2e5bdbc96f6c1",
            "placeholder": "​",
            "style": "IPY_MODEL_03353af8c7b649a6936cf9fa890f1380",
            "value": " 112/112 [00:00&lt;00:00, 6.51kB/s]"
          }
        },
        "c1937f7d26144115873b58ff6915eec7": {
          "model_module": "@jupyter-widgets/base",
          "model_name": "LayoutModel",
          "model_module_version": "1.2.0",
          "state": {
            "_model_module": "@jupyter-widgets/base",
            "_model_module_version": "1.2.0",
            "_model_name": "LayoutModel",
            "_view_count": null,
            "_view_module": "@jupyter-widgets/base",
            "_view_module_version": "1.2.0",
            "_view_name": "LayoutView",
            "align_content": null,
            "align_items": null,
            "align_self": null,
            "border": null,
            "bottom": null,
            "display": null,
            "flex": null,
            "flex_flow": null,
            "grid_area": null,
            "grid_auto_columns": null,
            "grid_auto_flow": null,
            "grid_auto_rows": null,
            "grid_column": null,
            "grid_gap": null,
            "grid_row": null,
            "grid_template_areas": null,
            "grid_template_columns": null,
            "grid_template_rows": null,
            "height": null,
            "justify_content": null,
            "justify_items": null,
            "left": null,
            "margin": null,
            "max_height": null,
            "max_width": null,
            "min_height": null,
            "min_width": null,
            "object_fit": null,
            "object_position": null,
            "order": null,
            "overflow": null,
            "overflow_x": null,
            "overflow_y": null,
            "padding": null,
            "right": null,
            "top": null,
            "visibility": null,
            "width": null
          }
        },
        "fb4a0ce00f3c43aaa0147cd0df3ee4fb": {
          "model_module": "@jupyter-widgets/base",
          "model_name": "LayoutModel",
          "model_module_version": "1.2.0",
          "state": {
            "_model_module": "@jupyter-widgets/base",
            "_model_module_version": "1.2.0",
            "_model_name": "LayoutModel",
            "_view_count": null,
            "_view_module": "@jupyter-widgets/base",
            "_view_module_version": "1.2.0",
            "_view_name": "LayoutView",
            "align_content": null,
            "align_items": null,
            "align_self": null,
            "border": null,
            "bottom": null,
            "display": null,
            "flex": null,
            "flex_flow": null,
            "grid_area": null,
            "grid_auto_columns": null,
            "grid_auto_flow": null,
            "grid_auto_rows": null,
            "grid_column": null,
            "grid_gap": null,
            "grid_row": null,
            "grid_template_areas": null,
            "grid_template_columns": null,
            "grid_template_rows": null,
            "height": null,
            "justify_content": null,
            "justify_items": null,
            "left": null,
            "margin": null,
            "max_height": null,
            "max_width": null,
            "min_height": null,
            "min_width": null,
            "object_fit": null,
            "object_position": null,
            "order": null,
            "overflow": null,
            "overflow_x": null,
            "overflow_y": null,
            "padding": null,
            "right": null,
            "top": null,
            "visibility": null,
            "width": null
          }
        },
        "1da69dd7984a4dd894d4352fe8325165": {
          "model_module": "@jupyter-widgets/controls",
          "model_name": "DescriptionStyleModel",
          "model_module_version": "1.5.0",
          "state": {
            "_model_module": "@jupyter-widgets/controls",
            "_model_module_version": "1.5.0",
            "_model_name": "DescriptionStyleModel",
            "_view_count": null,
            "_view_module": "@jupyter-widgets/base",
            "_view_module_version": "1.2.0",
            "_view_name": "StyleView",
            "description_width": ""
          }
        },
        "616e559d403d4572bd88b611b0b8b184": {
          "model_module": "@jupyter-widgets/base",
          "model_name": "LayoutModel",
          "model_module_version": "1.2.0",
          "state": {
            "_model_module": "@jupyter-widgets/base",
            "_model_module_version": "1.2.0",
            "_model_name": "LayoutModel",
            "_view_count": null,
            "_view_module": "@jupyter-widgets/base",
            "_view_module_version": "1.2.0",
            "_view_name": "LayoutView",
            "align_content": null,
            "align_items": null,
            "align_self": null,
            "border": null,
            "bottom": null,
            "display": null,
            "flex": null,
            "flex_flow": null,
            "grid_area": null,
            "grid_auto_columns": null,
            "grid_auto_flow": null,
            "grid_auto_rows": null,
            "grid_column": null,
            "grid_gap": null,
            "grid_row": null,
            "grid_template_areas": null,
            "grid_template_columns": null,
            "grid_template_rows": null,
            "height": null,
            "justify_content": null,
            "justify_items": null,
            "left": null,
            "margin": null,
            "max_height": null,
            "max_width": null,
            "min_height": null,
            "min_width": null,
            "object_fit": null,
            "object_position": null,
            "order": null,
            "overflow": null,
            "overflow_x": null,
            "overflow_y": null,
            "padding": null,
            "right": null,
            "top": null,
            "visibility": null,
            "width": null
          }
        },
        "4cc2649256354446b6717bf2f6aface0": {
          "model_module": "@jupyter-widgets/controls",
          "model_name": "ProgressStyleModel",
          "model_module_version": "1.5.0",
          "state": {
            "_model_module": "@jupyter-widgets/controls",
            "_model_module_version": "1.5.0",
            "_model_name": "ProgressStyleModel",
            "_view_count": null,
            "_view_module": "@jupyter-widgets/base",
            "_view_module_version": "1.2.0",
            "_view_name": "StyleView",
            "bar_color": null,
            "description_width": ""
          }
        },
        "4239dbac6e84463abcf2e5bdbc96f6c1": {
          "model_module": "@jupyter-widgets/base",
          "model_name": "LayoutModel",
          "model_module_version": "1.2.0",
          "state": {
            "_model_module": "@jupyter-widgets/base",
            "_model_module_version": "1.2.0",
            "_model_name": "LayoutModel",
            "_view_count": null,
            "_view_module": "@jupyter-widgets/base",
            "_view_module_version": "1.2.0",
            "_view_name": "LayoutView",
            "align_content": null,
            "align_items": null,
            "align_self": null,
            "border": null,
            "bottom": null,
            "display": null,
            "flex": null,
            "flex_flow": null,
            "grid_area": null,
            "grid_auto_columns": null,
            "grid_auto_flow": null,
            "grid_auto_rows": null,
            "grid_column": null,
            "grid_gap": null,
            "grid_row": null,
            "grid_template_areas": null,
            "grid_template_columns": null,
            "grid_template_rows": null,
            "height": null,
            "justify_content": null,
            "justify_items": null,
            "left": null,
            "margin": null,
            "max_height": null,
            "max_width": null,
            "min_height": null,
            "min_width": null,
            "object_fit": null,
            "object_position": null,
            "order": null,
            "overflow": null,
            "overflow_x": null,
            "overflow_y": null,
            "padding": null,
            "right": null,
            "top": null,
            "visibility": null,
            "width": null
          }
        },
        "03353af8c7b649a6936cf9fa890f1380": {
          "model_module": "@jupyter-widgets/controls",
          "model_name": "DescriptionStyleModel",
          "model_module_version": "1.5.0",
          "state": {
            "_model_module": "@jupyter-widgets/controls",
            "_model_module_version": "1.5.0",
            "_model_name": "DescriptionStyleModel",
            "_view_count": null,
            "_view_module": "@jupyter-widgets/base",
            "_view_module_version": "1.2.0",
            "_view_name": "StyleView",
            "description_width": ""
          }
        },
        "af50f5a44f1a48378b783699fcf42772": {
          "model_module": "@jupyter-widgets/controls",
          "model_name": "HBoxModel",
          "model_module_version": "1.5.0",
          "state": {
            "_dom_classes": [],
            "_model_module": "@jupyter-widgets/controls",
            "_model_module_version": "1.5.0",
            "_model_name": "HBoxModel",
            "_view_count": null,
            "_view_module": "@jupyter-widgets/controls",
            "_view_module_version": "1.5.0",
            "_view_name": "HBoxView",
            "box_style": "",
            "children": [
              "IPY_MODEL_50a3f3c59afc49f09ab333bfd89e35cb",
              "IPY_MODEL_16929032ab5d4d22b0f0bb8635cb72c1",
              "IPY_MODEL_7e311feb210040eca26e5606183bb120"
            ],
            "layout": "IPY_MODEL_76421526021e4e30892f1465a6de4d98"
          }
        },
        "50a3f3c59afc49f09ab333bfd89e35cb": {
          "model_module": "@jupyter-widgets/controls",
          "model_name": "HTMLModel",
          "model_module_version": "1.5.0",
          "state": {
            "_dom_classes": [],
            "_model_module": "@jupyter-widgets/controls",
            "_model_module_version": "1.5.0",
            "_model_name": "HTMLModel",
            "_view_count": null,
            "_view_module": "@jupyter-widgets/controls",
            "_view_module_version": "1.5.0",
            "_view_name": "HTMLView",
            "description": "",
            "description_tooltip": null,
            "layout": "IPY_MODEL_0953b966df494fab976d4e553723cf41",
            "placeholder": "​",
            "style": "IPY_MODEL_d32277073036442fa72cd116433c48c9",
            "value": "1_Pooling/config.json: 100%"
          }
        },
        "16929032ab5d4d22b0f0bb8635cb72c1": {
          "model_module": "@jupyter-widgets/controls",
          "model_name": "FloatProgressModel",
          "model_module_version": "1.5.0",
          "state": {
            "_dom_classes": [],
            "_model_module": "@jupyter-widgets/controls",
            "_model_module_version": "1.5.0",
            "_model_name": "FloatProgressModel",
            "_view_count": null,
            "_view_module": "@jupyter-widgets/controls",
            "_view_module_version": "1.5.0",
            "_view_name": "ProgressView",
            "bar_style": "success",
            "description": "",
            "description_tooltip": null,
            "layout": "IPY_MODEL_7df99191bb604c36aa044649ce31217f",
            "max": 190,
            "min": 0,
            "orientation": "horizontal",
            "style": "IPY_MODEL_8ee4f35442094a6d911915ef9d1d1cdf",
            "value": 190
          }
        },
        "7e311feb210040eca26e5606183bb120": {
          "model_module": "@jupyter-widgets/controls",
          "model_name": "HTMLModel",
          "model_module_version": "1.5.0",
          "state": {
            "_dom_classes": [],
            "_model_module": "@jupyter-widgets/controls",
            "_model_module_version": "1.5.0",
            "_model_name": "HTMLModel",
            "_view_count": null,
            "_view_module": "@jupyter-widgets/controls",
            "_view_module_version": "1.5.0",
            "_view_name": "HTMLView",
            "description": "",
            "description_tooltip": null,
            "layout": "IPY_MODEL_8df6b11b8a8b47c284484677fcd6bf67",
            "placeholder": "​",
            "style": "IPY_MODEL_54ab9ed32f1349af8929afcc33389756",
            "value": " 190/190 [00:00&lt;00:00, 10.9kB/s]"
          }
        },
        "76421526021e4e30892f1465a6de4d98": {
          "model_module": "@jupyter-widgets/base",
          "model_name": "LayoutModel",
          "model_module_version": "1.2.0",
          "state": {
            "_model_module": "@jupyter-widgets/base",
            "_model_module_version": "1.2.0",
            "_model_name": "LayoutModel",
            "_view_count": null,
            "_view_module": "@jupyter-widgets/base",
            "_view_module_version": "1.2.0",
            "_view_name": "LayoutView",
            "align_content": null,
            "align_items": null,
            "align_self": null,
            "border": null,
            "bottom": null,
            "display": null,
            "flex": null,
            "flex_flow": null,
            "grid_area": null,
            "grid_auto_columns": null,
            "grid_auto_flow": null,
            "grid_auto_rows": null,
            "grid_column": null,
            "grid_gap": null,
            "grid_row": null,
            "grid_template_areas": null,
            "grid_template_columns": null,
            "grid_template_rows": null,
            "height": null,
            "justify_content": null,
            "justify_items": null,
            "left": null,
            "margin": null,
            "max_height": null,
            "max_width": null,
            "min_height": null,
            "min_width": null,
            "object_fit": null,
            "object_position": null,
            "order": null,
            "overflow": null,
            "overflow_x": null,
            "overflow_y": null,
            "padding": null,
            "right": null,
            "top": null,
            "visibility": null,
            "width": null
          }
        },
        "0953b966df494fab976d4e553723cf41": {
          "model_module": "@jupyter-widgets/base",
          "model_name": "LayoutModel",
          "model_module_version": "1.2.0",
          "state": {
            "_model_module": "@jupyter-widgets/base",
            "_model_module_version": "1.2.0",
            "_model_name": "LayoutModel",
            "_view_count": null,
            "_view_module": "@jupyter-widgets/base",
            "_view_module_version": "1.2.0",
            "_view_name": "LayoutView",
            "align_content": null,
            "align_items": null,
            "align_self": null,
            "border": null,
            "bottom": null,
            "display": null,
            "flex": null,
            "flex_flow": null,
            "grid_area": null,
            "grid_auto_columns": null,
            "grid_auto_flow": null,
            "grid_auto_rows": null,
            "grid_column": null,
            "grid_gap": null,
            "grid_row": null,
            "grid_template_areas": null,
            "grid_template_columns": null,
            "grid_template_rows": null,
            "height": null,
            "justify_content": null,
            "justify_items": null,
            "left": null,
            "margin": null,
            "max_height": null,
            "max_width": null,
            "min_height": null,
            "min_width": null,
            "object_fit": null,
            "object_position": null,
            "order": null,
            "overflow": null,
            "overflow_x": null,
            "overflow_y": null,
            "padding": null,
            "right": null,
            "top": null,
            "visibility": null,
            "width": null
          }
        },
        "d32277073036442fa72cd116433c48c9": {
          "model_module": "@jupyter-widgets/controls",
          "model_name": "DescriptionStyleModel",
          "model_module_version": "1.5.0",
          "state": {
            "_model_module": "@jupyter-widgets/controls",
            "_model_module_version": "1.5.0",
            "_model_name": "DescriptionStyleModel",
            "_view_count": null,
            "_view_module": "@jupyter-widgets/base",
            "_view_module_version": "1.2.0",
            "_view_name": "StyleView",
            "description_width": ""
          }
        },
        "7df99191bb604c36aa044649ce31217f": {
          "model_module": "@jupyter-widgets/base",
          "model_name": "LayoutModel",
          "model_module_version": "1.2.0",
          "state": {
            "_model_module": "@jupyter-widgets/base",
            "_model_module_version": "1.2.0",
            "_model_name": "LayoutModel",
            "_view_count": null,
            "_view_module": "@jupyter-widgets/base",
            "_view_module_version": "1.2.0",
            "_view_name": "LayoutView",
            "align_content": null,
            "align_items": null,
            "align_self": null,
            "border": null,
            "bottom": null,
            "display": null,
            "flex": null,
            "flex_flow": null,
            "grid_area": null,
            "grid_auto_columns": null,
            "grid_auto_flow": null,
            "grid_auto_rows": null,
            "grid_column": null,
            "grid_gap": null,
            "grid_row": null,
            "grid_template_areas": null,
            "grid_template_columns": null,
            "grid_template_rows": null,
            "height": null,
            "justify_content": null,
            "justify_items": null,
            "left": null,
            "margin": null,
            "max_height": null,
            "max_width": null,
            "min_height": null,
            "min_width": null,
            "object_fit": null,
            "object_position": null,
            "order": null,
            "overflow": null,
            "overflow_x": null,
            "overflow_y": null,
            "padding": null,
            "right": null,
            "top": null,
            "visibility": null,
            "width": null
          }
        },
        "8ee4f35442094a6d911915ef9d1d1cdf": {
          "model_module": "@jupyter-widgets/controls",
          "model_name": "ProgressStyleModel",
          "model_module_version": "1.5.0",
          "state": {
            "_model_module": "@jupyter-widgets/controls",
            "_model_module_version": "1.5.0",
            "_model_name": "ProgressStyleModel",
            "_view_count": null,
            "_view_module": "@jupyter-widgets/base",
            "_view_module_version": "1.2.0",
            "_view_name": "StyleView",
            "bar_color": null,
            "description_width": ""
          }
        },
        "8df6b11b8a8b47c284484677fcd6bf67": {
          "model_module": "@jupyter-widgets/base",
          "model_name": "LayoutModel",
          "model_module_version": "1.2.0",
          "state": {
            "_model_module": "@jupyter-widgets/base",
            "_model_module_version": "1.2.0",
            "_model_name": "LayoutModel",
            "_view_count": null,
            "_view_module": "@jupyter-widgets/base",
            "_view_module_version": "1.2.0",
            "_view_name": "LayoutView",
            "align_content": null,
            "align_items": null,
            "align_self": null,
            "border": null,
            "bottom": null,
            "display": null,
            "flex": null,
            "flex_flow": null,
            "grid_area": null,
            "grid_auto_columns": null,
            "grid_auto_flow": null,
            "grid_auto_rows": null,
            "grid_column": null,
            "grid_gap": null,
            "grid_row": null,
            "grid_template_areas": null,
            "grid_template_columns": null,
            "grid_template_rows": null,
            "height": null,
            "justify_content": null,
            "justify_items": null,
            "left": null,
            "margin": null,
            "max_height": null,
            "max_width": null,
            "min_height": null,
            "min_width": null,
            "object_fit": null,
            "object_position": null,
            "order": null,
            "overflow": null,
            "overflow_x": null,
            "overflow_y": null,
            "padding": null,
            "right": null,
            "top": null,
            "visibility": null,
            "width": null
          }
        },
        "54ab9ed32f1349af8929afcc33389756": {
          "model_module": "@jupyter-widgets/controls",
          "model_name": "DescriptionStyleModel",
          "model_module_version": "1.5.0",
          "state": {
            "_model_module": "@jupyter-widgets/controls",
            "_model_module_version": "1.5.0",
            "_model_name": "DescriptionStyleModel",
            "_view_count": null,
            "_view_module": "@jupyter-widgets/base",
            "_view_module_version": "1.2.0",
            "_view_name": "StyleView",
            "description_width": ""
          }
        }
      }
    }
  },
  "cells": [
    {
      "cell_type": "markdown",
      "source": [
        "Yuvraj Puri and Sam Fischer\n",
        "\n",
        "**Introduction**\n",
        "\n",
        "Representations of leadership (\"images\") are prominent in discourse about leadership and leadership education. However, the image itself was rarely explored. Prior to 2012, the only study was of two photographs of a CEO (Guthy and Jackson, 2008). Maxwell and Greenhalgh's study of images of leadership submitted by each student in each class of wharton undergraduates from the year 2000 to present made the \"image\" of leadership more tangible and empirical (Maxwell and Greenhalgh, 2011; Greenhalgh and Maxwell, 2019). While the 2019 study had elements of natural language processing, NLP has contiued to advance. Likewise, despite having a large directory of actual images the study didn't leverage any computer vision techniques.\n",
        "\n",
        "Maxwell and Greenhalgh asked their students to each submit an image which represented the essence of leadership and to submit a brief essay explaining their choice. Image based methods of business instruction are seen as valuable prompts for students to, through commentary and discussion, make explicit thier implicit theories of leadership (Cairns-Lee, 2015).\n",
        "\n",
        "One surprising element of the analysis of images of leadership was convergance: common images arose across individuals and class years. Martin Luther King Jr., is one popular and perennial example.\n",
        "\n",
        "The pedagogical approach to business education which generated this assignment over 20 years ago is constructivist. It says that each student constructs reality and surfacing their construction can help them revise it. This framework would tell us that although a picture can speak a thousand words, the words that it \"speaks\" to each student are unique.\n",
        "\n",
        "In this assignment, we aim to test that assumption. We ask if NLP can help us understand whether students who submit the same photos have converged on the same ideas in their essays. We hypothesize that while the essays of the same photos will be divergent because we suppose that what a student has to say about an image is less about the image, and more about their own individual experience.\n",
        "\n",
        "While physical images of leadership have been used to raise implicit beliefs about leadership, it's our hope that our study can help us become more aware of the implicit assumptions we have about the people who use those images, and what they must or may mean to them. In that this study could re-affirm the three key principals of constructivist approaches to education (the individuality of the person, the self-awareness of the interlocutor, and their dialogic process) we believe it will be a valuable contribution in general.\n",
        "\n",
        "Finally, we also predict that different meanings ascribed to the same image will not be cleanly separated by a gender binary. That is, if there are two general streams of meaning about an image, we do not expect it to be the case that the men will sort into one meaning and the women to another.   \n",
        "\n",
        "Stated plainly, here are our hypotheses:\n",
        "\n",
        "1. The same image can have different semantic meanings to different people.\n",
        "2. Elements of identity (e.g. Gender) do not fully account for these semantic differences\n",
        "\n",
        "And here is our data: ~300 images and essays responding to the topic \"what is your image of leadership\" from the 2023 Wharton freshman class\n",
        "\n",
        "And here is our method:\n",
        "\n",
        "**Data Pre-processing:**\n",
        "1. We have a database of essays\n",
        "2. We have a database of images labeled with essay IDs\n",
        "3. We need to pre-process the essay data to remove unintended text e.g. links\n",
        "\n",
        "**Image classfication**\n",
        "1. We have lists of common images, e.g. the essay IDs for MLK essays and the essay IDs for generic image of cartoon man leading group up hill with flag (see (a) and (b) in appendix).\n",
        "\n",
        "\n",
        "**Text Classification: Overview**\n",
        "\n",
        "We introduce our plans for text classfication in theory before we specify a few experiments in practice.\n",
        "\n",
        "In order to test our hypothesis, we will need to create semantic classes for each document. This will be unsupervised as we do not have classes a-priori. Therefore, we approach this problem as unsupervised learning, where documents will be given embeddings, and then clustered into discrete groups. Our goal is to see if the AI can pick up on common topics in the literature, such as agenic leadership essays vs essays which focus on communal characteristics.\n",
        "\n",
        "We prefere unsupervised clustering to one-shot classification not only because of the assignment, but also because clustering implies that documents are rendered as embeddings in multiple dimensions where they can share similarities and differences with other documents on a continuous scale. This aligns with our goal is to explore semantic variance in an unsupervised manner.  \n",
        "\n",
        "While Natural Language Processing has evolved such that it can accept raw text for artificial intelligence--we could submit these essays to ChatGPT4 with the prompt of classifying them, written in plain english--for the sake of the assignment and greater investigative creativity and reproducability, we will pass these documents onto our AI model as vector- or matrix-represented document embeddings.\n",
        "\n",
        "This outlines our three subtasks: (1) evaluating the unsupervised learning clustering (2) designing of a NLP model for unsupervised learning on our dataset (3) designing an encoding scheme for our documents to feed to an NLP model.\n",
        "\n",
        "**Text Classification Task (1): Evaluating Unsupervised Learning Clustering**\n",
        "\n",
        "We begin by identifying how we will evaluate our clustering.\n",
        "\n",
        "*Tree Based Methods*\n",
        "\n",
        "Since our task is unsupervised--we need clustering algorithms which can be easily inspected. Tree-based methods produce dendograms, highly interpretable visual representations of clusters, and therefore these are prioritized.\n",
        "\n",
        "However, tree based methods have disadvantages: they assume there is heirarchical clustering. This may not be true at any important level of depth. For example, breaking images of leadership down into agenic and non-agenic representations which then break down further into agenic/communal, agenic/non-communal, non-agenic/communal, and non-agenic/non-communal representations may not be useful. It would be more intuitive to think non-heirarchically: these narratives are communal, these are agenic, and some narratives may share membership in both.\n",
        "\n",
        "*Parallel Coordinates*\n",
        "\n",
        "Parallel coordinates would then appear as an appealing candidate. Parallal coordinates display the univariate distributions of the data along each dimension. This would allow us to see clustering along the \"communal\" and \"agenic\" axis as a hypothetical example. However, it also allows us to trace connections across dimensions. That is, we can see if there are narratives which are usually \"communal and agenic\" as well as ones that are \"non-communal and non-agenic.\" Parallel coordinates preserves the benefit of hierarchical clustering (exploring combinations of features) without being tied to it.\n",
        "\n",
        "*Gaussian Mixture Model (GMM)*\n",
        "\n",
        "Since we will have vector embeddings for the narratives, it will be straightforward for us to plot the distributions of the feature-space of the embeddings and see if it is indeed roughly gaussian. If it is, a GMM would be advantageous as it could let us see those essays which are clearly divergent in themes or topics as opposed to those whose probabilty of membership overlap.\n",
        "\n",
        "*K-Means Clustering*\n",
        "\n",
        "We consider one last approach: restricting the NLP-encoded output to be three dimensional and applying k-means clustering to the three dimensional space. This lends itself to direct visualization in an animated 3-d plot, has the potential to be quite beautiful, and runs quickly. The cost to implement is low, and the amount we'd probably learn is great. We consider this an important method for learning more about the distribution of our data.\n",
        "\n",
        "*Confusion Matrices*\n",
        "While we don't have the benefit of hand-labels, we can look for patterns in clustering by using confusion matrices. A confusion matrix can help us see if the tree based algorithms which used BERT as opposed to doc2vec created similar or dissimilar clusters.\n",
        "\n",
        "**Text Classification Task (2/3): Emedding to Encoding: NLP Models**\n",
        "\n",
        "Since we need to create embeddings which are at the document level, using [doc2vec](https://radimrehurek.com/gensim/models/doc2vec.html) makes sense. While doc2vec is an extension of word2vec it is more than a bag of words approach. Python implementations of doc2vec can use \"distributed memory\" to take into account the meaning of words around a word within a document while creating semantic embeddings for the document. Because it is unsupervised, it seems useful for our purposes. Indeed, papers from 2018 found it was useful [at just this](https://ieeexplore.ieee.org/abstract/document/8489513).\n",
        "\n",
        "However, that model is 6 years old, which suggests better approaches could exist. Indeed--what we like about doc2vec (contextual understandings of words) is a key part of BERTs and many other transformers. Sentence Transformers or [SBERTs](https://www.sbert.net/) allow us to leverage large, pre-trained, language models to create embeddings for sentences or documents that leverage each words meaning in context. While there have been critiques of [BERT embeddings](https://arxiv.org/abs/2011.05864) for unsupervised tasks, it seems worth it to us to experiment, especially when there are published guides for [model selection](https://www.sbert.net/docs/sentence_transformer/pretrained_models.html). Indeed, given the prior link, all-MiniLM-L6-v2 seems like a great model for us. It is small, quick, and has good all around performance.\n",
        "\n",
        "By the standards of time we've just discussed, our last tool would be ancient. But it might prove useful. In it's python [implementation](https://scikit-learn.org/1.5/modules/generated/sklearn.decomposition.LatentDirichletAllocation.html), we really only need one parameter to run Latent Dirichlet Allocation: the number of topics we'd like it to identify. While the output is discrete (a topic) rather than continuous and therefore not fit for clustering, it could be useful to us as a contrast layet for our cluster visualizations. We could see if our dendogram creates clusters that are akin to what our LDA creates, and do the same with our parallel lines and leader cluster as well."
      ],
      "metadata": {
        "id": "X6Q8w07H6UTe"
      }
    },
    {
      "cell_type": "markdown",
      "source": [
        "**Data Processing**"
      ],
      "metadata": {
        "id": "2ydLpU2p1L76"
      }
    },
    {
      "cell_type": "markdown",
      "source": [
        "Below we clean data, removing nuisance characters like links from the narrative which do not contribute to semantic meaning but would otherwise be tokenized."
      ],
      "metadata": {
        "id": "IM9tM3-WKt6f"
      }
    },
    {
      "cell_type": "code",
      "source": [
        "import requests\n",
        "import os\n",
        "from zipfile import ZipFile"
      ],
      "metadata": {
        "id": "gD_z6F36gjMy"
      },
      "execution_count": 1,
      "outputs": []
    },
    {
      "cell_type": "code",
      "source": [
        "import pandas as pd\n",
        "import numpy as np"
      ],
      "metadata": {
        "id": "VESuJzwGhgK3"
      },
      "execution_count": 2,
      "outputs": []
    },
    {
      "cell_type": "code",
      "source": [
        "from google.colab import files\n",
        "\n",
        "uploaded = files.upload()"
      ],
      "metadata": {
        "id": "K1WVl5SwhktJ",
        "colab": {
          "base_uri": "https://localhost:8080/",
          "height": 73
        },
        "outputId": "ce355880-6f93-4c07-d946-221bd3cd050a"
      },
      "execution_count": 3,
      "outputs": [
        {
          "output_type": "display_data",
          "data": {
            "text/plain": [
              "<IPython.core.display.HTML object>"
            ],
            "text/html": [
              "\n",
              "     <input type=\"file\" id=\"files-967f3925-e2b2-4483-9062-03f803dc3212\" name=\"files[]\" multiple disabled\n",
              "        style=\"border:none\" />\n",
              "     <output id=\"result-967f3925-e2b2-4483-9062-03f803dc3212\">\n",
              "      Upload widget is only available when the cell has been executed in the\n",
              "      current browser session. Please rerun this cell to enable.\n",
              "      </output>\n",
              "      <script>// Copyright 2017 Google LLC\n",
              "//\n",
              "// Licensed under the Apache License, Version 2.0 (the \"License\");\n",
              "// you may not use this file except in compliance with the License.\n",
              "// You may obtain a copy of the License at\n",
              "//\n",
              "//      http://www.apache.org/licenses/LICENSE-2.0\n",
              "//\n",
              "// Unless required by applicable law or agreed to in writing, software\n",
              "// distributed under the License is distributed on an \"AS IS\" BASIS,\n",
              "// WITHOUT WARRANTIES OR CONDITIONS OF ANY KIND, either express or implied.\n",
              "// See the License for the specific language governing permissions and\n",
              "// limitations under the License.\n",
              "\n",
              "/**\n",
              " * @fileoverview Helpers for google.colab Python module.\n",
              " */\n",
              "(function(scope) {\n",
              "function span(text, styleAttributes = {}) {\n",
              "  const element = document.createElement('span');\n",
              "  element.textContent = text;\n",
              "  for (const key of Object.keys(styleAttributes)) {\n",
              "    element.style[key] = styleAttributes[key];\n",
              "  }\n",
              "  return element;\n",
              "}\n",
              "\n",
              "// Max number of bytes which will be uploaded at a time.\n",
              "const MAX_PAYLOAD_SIZE = 100 * 1024;\n",
              "\n",
              "function _uploadFiles(inputId, outputId) {\n",
              "  const steps = uploadFilesStep(inputId, outputId);\n",
              "  const outputElement = document.getElementById(outputId);\n",
              "  // Cache steps on the outputElement to make it available for the next call\n",
              "  // to uploadFilesContinue from Python.\n",
              "  outputElement.steps = steps;\n",
              "\n",
              "  return _uploadFilesContinue(outputId);\n",
              "}\n",
              "\n",
              "// This is roughly an async generator (not supported in the browser yet),\n",
              "// where there are multiple asynchronous steps and the Python side is going\n",
              "// to poll for completion of each step.\n",
              "// This uses a Promise to block the python side on completion of each step,\n",
              "// then passes the result of the previous step as the input to the next step.\n",
              "function _uploadFilesContinue(outputId) {\n",
              "  const outputElement = document.getElementById(outputId);\n",
              "  const steps = outputElement.steps;\n",
              "\n",
              "  const next = steps.next(outputElement.lastPromiseValue);\n",
              "  return Promise.resolve(next.value.promise).then((value) => {\n",
              "    // Cache the last promise value to make it available to the next\n",
              "    // step of the generator.\n",
              "    outputElement.lastPromiseValue = value;\n",
              "    return next.value.response;\n",
              "  });\n",
              "}\n",
              "\n",
              "/**\n",
              " * Generator function which is called between each async step of the upload\n",
              " * process.\n",
              " * @param {string} inputId Element ID of the input file picker element.\n",
              " * @param {string} outputId Element ID of the output display.\n",
              " * @return {!Iterable<!Object>} Iterable of next steps.\n",
              " */\n",
              "function* uploadFilesStep(inputId, outputId) {\n",
              "  const inputElement = document.getElementById(inputId);\n",
              "  inputElement.disabled = false;\n",
              "\n",
              "  const outputElement = document.getElementById(outputId);\n",
              "  outputElement.innerHTML = '';\n",
              "\n",
              "  const pickedPromise = new Promise((resolve) => {\n",
              "    inputElement.addEventListener('change', (e) => {\n",
              "      resolve(e.target.files);\n",
              "    });\n",
              "  });\n",
              "\n",
              "  const cancel = document.createElement('button');\n",
              "  inputElement.parentElement.appendChild(cancel);\n",
              "  cancel.textContent = 'Cancel upload';\n",
              "  const cancelPromise = new Promise((resolve) => {\n",
              "    cancel.onclick = () => {\n",
              "      resolve(null);\n",
              "    };\n",
              "  });\n",
              "\n",
              "  // Wait for the user to pick the files.\n",
              "  const files = yield {\n",
              "    promise: Promise.race([pickedPromise, cancelPromise]),\n",
              "    response: {\n",
              "      action: 'starting',\n",
              "    }\n",
              "  };\n",
              "\n",
              "  cancel.remove();\n",
              "\n",
              "  // Disable the input element since further picks are not allowed.\n",
              "  inputElement.disabled = true;\n",
              "\n",
              "  if (!files) {\n",
              "    return {\n",
              "      response: {\n",
              "        action: 'complete',\n",
              "      }\n",
              "    };\n",
              "  }\n",
              "\n",
              "  for (const file of files) {\n",
              "    const li = document.createElement('li');\n",
              "    li.append(span(file.name, {fontWeight: 'bold'}));\n",
              "    li.append(span(\n",
              "        `(${file.type || 'n/a'}) - ${file.size} bytes, ` +\n",
              "        `last modified: ${\n",
              "            file.lastModifiedDate ? file.lastModifiedDate.toLocaleDateString() :\n",
              "                                    'n/a'} - `));\n",
              "    const percent = span('0% done');\n",
              "    li.appendChild(percent);\n",
              "\n",
              "    outputElement.appendChild(li);\n",
              "\n",
              "    const fileDataPromise = new Promise((resolve) => {\n",
              "      const reader = new FileReader();\n",
              "      reader.onload = (e) => {\n",
              "        resolve(e.target.result);\n",
              "      };\n",
              "      reader.readAsArrayBuffer(file);\n",
              "    });\n",
              "    // Wait for the data to be ready.\n",
              "    let fileData = yield {\n",
              "      promise: fileDataPromise,\n",
              "      response: {\n",
              "        action: 'continue',\n",
              "      }\n",
              "    };\n",
              "\n",
              "    // Use a chunked sending to avoid message size limits. See b/62115660.\n",
              "    let position = 0;\n",
              "    do {\n",
              "      const length = Math.min(fileData.byteLength - position, MAX_PAYLOAD_SIZE);\n",
              "      const chunk = new Uint8Array(fileData, position, length);\n",
              "      position += length;\n",
              "\n",
              "      const base64 = btoa(String.fromCharCode.apply(null, chunk));\n",
              "      yield {\n",
              "        response: {\n",
              "          action: 'append',\n",
              "          file: file.name,\n",
              "          data: base64,\n",
              "        },\n",
              "      };\n",
              "\n",
              "      let percentDone = fileData.byteLength === 0 ?\n",
              "          100 :\n",
              "          Math.round((position / fileData.byteLength) * 100);\n",
              "      percent.textContent = `${percentDone}% done`;\n",
              "\n",
              "    } while (position < fileData.byteLength);\n",
              "  }\n",
              "\n",
              "  // All done.\n",
              "  yield {\n",
              "    response: {\n",
              "      action: 'complete',\n",
              "    }\n",
              "  };\n",
              "}\n",
              "\n",
              "scope.google = scope.google || {};\n",
              "scope.google.colab = scope.google.colab || {};\n",
              "scope.google.colab._files = {\n",
              "  _uploadFiles,\n",
              "  _uploadFilesContinue,\n",
              "};\n",
              "})(self);\n",
              "</script> "
            ]
          },
          "metadata": {}
        },
        {
          "output_type": "stream",
          "name": "stdout",
          "text": [
            "Saving simple_text.csv to simple_text.csv\n"
          ]
        }
      ]
    },
    {
      "cell_type": "code",
      "source": [
        "df = pd.read_csv(\"simple_text.csv\")"
      ],
      "metadata": {
        "id": "ilGTkhhliLXT"
      },
      "execution_count": 5,
      "outputs": []
    },
    {
      "cell_type": "code",
      "source": [
        "import re\n",
        "\n",
        "def process_text2(text):\n",
        "    # Remove leading/trailing spaces and newlines\n",
        "    cleaned_text = text.strip()\n",
        "\n",
        "    # Define a series of hyperlink patterns for a citation\n",
        "    # If a website was linked, we aren't going to include this hyperlink\n",
        "    # in the processed text\n",
        "    hyperlink_pattern = r'(http[s]?://|www\\.|\\.com|\\.org|\\.net|\\.edu|\\.gov)'\n",
        "\n",
        "    # Check if there is a hyperlink in the cleaned text\n",
        "    if re.search(hyperlink_pattern, cleaned_text):\n",
        "\n",
        "        # Handle hyperlinks in the text\n",
        "        if '\\n' in cleaned_text:\n",
        "            # Split at the last \\n\n",
        "            last_newline_index = cleaned_text.rfind('\\n')\n",
        "\n",
        "            # Check if hyperlink is before or after the last \\n\n",
        "            if re.search(hyperlink_pattern, cleaned_text[last_newline_index:]):\n",
        "                # If hyperlink is after the last newline, keep only text before it\n",
        "                cleaned_text = cleaned_text[:last_newline_index]\n",
        "            elif re.search(hyperlink_pattern, cleaned_text[:last_newline_index]):\n",
        "                # If hyperlink is before the first \\n, keep only text after it\n",
        "                cleaned_text = cleaned_text[last_newline_index + 1:]\n",
        "        else:\n",
        "            # If no \\n is found but there’s a hyperlink, remove the word containing the hyperlink\n",
        "            words = cleaned_text.split()\n",
        "            cleaned_text = ' '.join(word for word in words if not re.search(hyperlink_pattern, word))\n",
        "\n",
        "    # Step 3: Replace escape characters and excess whitespace\n",
        "    cleaned_text = cleaned_text.replace('\\n', ' ').replace('\\xa0', ' ')\n",
        "    cleaned_text = re.sub(r'\\s+', ' ', cleaned_text).strip()\n",
        "\n",
        "    return cleaned_text\n"
      ],
      "metadata": {
        "id": "yG2oFmhpjJIU"
      },
      "execution_count": 6,
      "outputs": []
    },
    {
      "cell_type": "markdown",
      "source": [
        "Here is an example of some nuisance text--the copyright and url at the end of the essay"
      ],
      "metadata": {
        "id": "GtqrcyncLLCw"
      }
    },
    {
      "cell_type": "code",
      "source": [
        "df.submission_text[140]"
      ],
      "metadata": {
        "colab": {
          "base_uri": "https://localhost:8080/",
          "height": 157
        },
        "id": "nP_ja6ScZ8se",
        "outputId": "f8d54a24-d333-4728-d91e-8e2e3f56a510"
      },
      "execution_count": 7,
      "outputs": [
        {
          "output_type": "execute_result",
          "data": {
            "text/plain": [
              "'I believe this picture captures the essence of leadership because being a leader cannot be done alone. In this picture, the leader is the one in charge of the direction of where they are going and is making the big decisions. However, without the other members who are rowing, the boat would never get to their destination. I think it is important to acknowledge that leadership means that you look out for your team and take charge but also continue to rely on them to get to the desired outcome. This also gives the leader a sense of humility which is crucial. In addition, the leader here directing the boat also has to communicate with the rowers in order to reach their destination. Open communication is essential when you are a leader because you have to take into consideration the needs, desires, and capabilities of the whole group. For example, the leader of the boat would need to take into consideration if the rowers need a break and adjust his plans accordingly. Therefore a leader who wants to be successful accepts open communication and input from those they are in charge of. \\n Copyright for image: Devi Yanthi \\n Url: 123rf.com'"
            ],
            "application/vnd.google.colaboratory.intrinsic+json": {
              "type": "string"
            }
          },
          "metadata": {},
          "execution_count": 7
        }
      ]
    },
    {
      "cell_type": "markdown",
      "source": [
        "Our Pre-process can get rid of the url--this particular case is a nuisance where the copyright is difficult to remove. Shows a limitation in data quality."
      ],
      "metadata": {
        "id": "sZZz7Zd8LPt1"
      }
    },
    {
      "cell_type": "code",
      "source": [
        "print(process_text2(df.submission_text[140]))"
      ],
      "metadata": {
        "colab": {
          "base_uri": "https://localhost:8080/"
        },
        "id": "kQeoedLqbot4",
        "outputId": "a7a604ab-6e83-48dc-f071-65aa9187beef"
      },
      "execution_count": null,
      "outputs": [
        {
          "output_type": "stream",
          "name": "stdout",
          "text": [
            "I believe this picture captures the essence of leadership because being a leader cannot be done alone. In this picture, the leader is the one in charge of the direction of where they are going and is making the big decisions. However, without the other members who are rowing, the boat would never get to their destination. I think it is important to acknowledge that leadership means that you look out for your team and take charge but also continue to rely on them to get to the desired outcome. This also gives the leader a sense of humility which is crucial. In addition, the leader here directing the boat also has to communicate with the rowers in order to reach their destination. Open communication is essential when you are a leader because you have to take into consideration the needs, desires, and capabilities of the whole group. For example, the leader of the boat would need to take into consideration if the rowers need a break and adjust his plans accordingly. Therefore a leader who wants to be successful accepts open communication and input from those they are in charge of. Copyright for image: Devi Yanthi\n"
          ]
        }
      ]
    },
    {
      "cell_type": "code",
      "source": [
        "df[\"processed_text\"] = df[\"submission_text\"].apply(process_text2)\n"
      ],
      "metadata": {
        "id": "20fJIO_rqQsB"
      },
      "execution_count": 8,
      "outputs": []
    },
    {
      "cell_type": "markdown",
      "source": [
        "**Let's Make Embeddings**"
      ],
      "metadata": {
        "id": "hqfT6c0wzk-W"
      }
    },
    {
      "cell_type": "markdown",
      "source": [
        "With the data processed we proceed with our embeddings."
      ],
      "metadata": {
        "id": "ExQPX7gxLfek"
      }
    },
    {
      "cell_type": "markdown",
      "source": [
        "*Doc2Vec Embeddings*\n",
        "\n"
      ],
      "metadata": {
        "id": "9bQyHiEA2KWN"
      }
    },
    {
      "cell_type": "code",
      "source": [
        "from gensim.test.utils import common_texts\n",
        "from gensim.models.doc2vec import Doc2Vec, TaggedDocument"
      ],
      "metadata": {
        "id": "fqxqcNQJzp_E"
      },
      "execution_count": 10,
      "outputs": []
    },
    {
      "cell_type": "code",
      "source": [
        "documents = [TaggedDocument(doc, [i]) for i, doc in enumerate(common_texts)]\n",
        "model = Doc2Vec(documents, vector_size=5, window=2, min_count=1, workers=4)"
      ],
      "metadata": {
        "id": "oFB2DS1szrCT"
      },
      "execution_count": 11,
      "outputs": []
    },
    {
      "cell_type": "code",
      "source": [
        "embeddings = []\n",
        "for i in df[\"processed_text\"]:\n",
        "   embeddings.append([model.infer_vector(list(i))])"
      ],
      "metadata": {
        "id": "p35Ixm7Dz8zc"
      },
      "execution_count": 12,
      "outputs": []
    },
    {
      "cell_type": "code",
      "source": [
        "df[\"doc2vec_embeddings\"] = embeddings"
      ],
      "metadata": {
        "id": "S-cQzCAo0a7t"
      },
      "execution_count": 13,
      "outputs": []
    },
    {
      "cell_type": "markdown",
      "source": [
        "*Sentence BERT Embeddings*"
      ],
      "metadata": {
        "id": "-MtZmIU_0JbS"
      }
    },
    {
      "cell_type": "code",
      "source": [
        "from sentence_transformers import SentenceTransformer"
      ],
      "metadata": {
        "id": "C7MtctdQ2az2",
        "colab": {
          "base_uri": "https://localhost:8080/",
          "height": 0
        },
        "outputId": "c50903a5-a595-4d58-a342-d5799b8fea37"
      },
      "execution_count": 14,
      "outputs": [
        {
          "output_type": "stream",
          "name": "stderr",
          "text": [
            "/usr/local/lib/python3.10/dist-packages/sentence_transformers/cross_encoder/CrossEncoder.py:13: TqdmExperimentalWarning: Using `tqdm.autonotebook.tqdm` in notebook mode. Use `tqdm.tqdm` instead to force console mode (e.g. in jupyter console)\n",
            "  from tqdm.autonotebook import tqdm, trange\n"
          ]
        }
      ]
    },
    {
      "cell_type": "code",
      "source": [
        "model = SentenceTransformer(\"all-MiniLM-L6-v2\")"
      ],
      "metadata": {
        "id": "NOs6uf8u2sBM",
        "colab": {
          "base_uri": "https://localhost:8080/",
          "height": 493,
          "referenced_widgets": [
            "53369cc615e248ebbba004af1869c562",
            "e9c43b93908a4393baef346312191f33",
            "9b59f02250e341d09d923c4d25f62e8d",
            "e86360d688ad46b89db6411985d3e85c",
            "c7e5e4162fb74fb69e58c8600d92000a",
            "9ba4f57de4bf446bb5c6faa5a35b4e95",
            "4f8be3c4cd5d40cca914f30df3c58064",
            "bceea062b62a46869885ca8ea947b9c5",
            "c821f60dfbbd4bba936c027d250b8a07",
            "3d4072361e40408b868d7b442e2ff93e",
            "b49b265729b34703ae4e04cf769add87",
            "b9948273832f47fe9d66318b8e38f3a7",
            "84bbd4264a124a5090f0ceacc11650d5",
            "772006e53e364b90b532d439646f484f",
            "7ed5b1d777f046ffaee41722cee16af5",
            "b94c348e7abc435dbc2f3556f252d4c8",
            "2621c4ab7fc74402bf9fe0f174101a18",
            "1f32eaa34c0841c9bb928b2481111e8a",
            "1630ba415b2644d98db258ad67e9154d",
            "e8decef6d7034f1cb175f882b478263f",
            "836513c31f9f42e185679403884afb8b",
            "48d6b796353b4282bce5a128cf6f2698",
            "21f02864d7dd4c88a29e2f243f682816",
            "43843e2dd52f42268157c8819121b7c6",
            "fdea2f54a7c244d49c3b1a6a06b1aa69",
            "55d67eb984b54b52beaa130a31476430",
            "4292641d5e4c44ce8ad20401171e8f23",
            "a47dd2cc4e6641caa2da9f4a418891c1",
            "0bb2ac46346541fabea310db9874d510",
            "9415b25becb34bf1903385161e9e2b6b",
            "fb7c970171b24247a3cd81fb89e0b45f",
            "8b0539c5c6dc4c01885de7e6cd78d4a9",
            "30f8b5a3999940ccbca6119448f3612f",
            "e7313d87de634b61a5ac926ed164ddad",
            "6ab6e7775e80423db17375e92bc5f941",
            "85cfeef864c24b838f9557c251b2797f",
            "e04fa35e653345e5ababf1dd590c5bb7",
            "fd48fa5612a84f80bd598a6669349372",
            "107f1d6e4fa345f89b382d3c6745b882",
            "8cfdd3e913844851a3a7218d8dea5a6a",
            "13b68835622d44bca911437fb508faef",
            "b3eef8f1f2cc4f3396d2bd0eac22e9f5",
            "4698012115db4c4c9f787a2cf0d81f1c",
            "95ce1d19bcd04794b8631ee7ae8d3e27",
            "0cdde83a56594aa48ac6dba642483603",
            "a306d960b91e4802a5b621371cd1e7d9",
            "a609cf6d45fe43538510804795b3c7aa",
            "7df88da6aa6b4bacbe761d31437fba0d",
            "22c8b36a33a448c8b289362468532303",
            "b13241832ed54fdfb3977a0c50ab6f0c",
            "26bd7ba0cf3044599a8e89846c21fb41",
            "50086727c28d428dade9490541471815",
            "52e7a390299f41f2896e9f407a4f58a2",
            "949e5797fa0b4dccacf843cba0e92091",
            "94d1d15838734c139e5b6410463e1bdd",
            "55851a89dd6f441789876640950bb372",
            "5ea926d4917b46e6ac4eeb366f1515bc",
            "84241cc17da744a89bf18d577d7a5499",
            "4bb443a829d04d82849973f492cb912f",
            "dbdc31b7ae134002a7b65f736fa090b4",
            "673ecc0c2dd2495fb4cbd92233172a92",
            "14e679f11c5e45ab8ce0f76c492c80cf",
            "22036ad4859848ab9d55ecc5aca9f908",
            "4bfe256652ba45b0a6a36e22925d82fb",
            "c69cb5cddd41469fb40b19078d519ba6",
            "7ec924428ae5478ba7fd75d6c10f9ee6",
            "645070a106494593a6a90ea556447ec2",
            "d6ccc79a25ce4c7690951f1b26abe693",
            "c717c3131d46470095bf3ecc4e5856f4",
            "9e9e916979e94030b05d4df3f1ef9467",
            "2797f1c3aa674ab6acef53754f440d6b",
            "11843000c8aa4bc78dad4162f9f5610b",
            "6d56638b63b14a27b6c61b2a7f521abb",
            "9f7c7d75d028407dbb8ff6ddc140d134",
            "70139acc7ce74060af2e6a0b6a3a2519",
            "35862f1233504697bd233c2f4e098366",
            "08e44bf758be4f648a1ca9404114110c",
            "a8663faccb004838bf8a40654191140b",
            "eb20c7cad88b4dc09b1bbd55c35d95a3",
            "fdb64cc33eb5434591a107de5e8433ed",
            "245e3dc9c9a2454c956ea1fb7b55abf0",
            "7266928914604369b853e5314cf38241",
            "2dbf480186f945a4bf1733eaf5792695",
            "dc0bd1435264431587787613a5f45510",
            "eafd4409b22b40bcb6a563882eff993e",
            "73f57dd0a9d0477cba0114ce8ccb7730",
            "4e5882e0e84e4ce78bf0c2d12329d757",
            "5c08a2acb20149e2a709e4eee8fd65dc",
            "280aa30b07a44945b43c1adb73038d5a",
            "acbf825da61d48628ddbe7d4532284db",
            "ded51892d748403aa11f1cbc4ae3e708",
            "7ffa54f902cc4ee5ac36eb707bf6858d",
            "2a461f7d08374a0bbd189dc945cae1fb",
            "21c1edeed0e44e0c83ba221a0652ca41",
            "de01a3205a234545b1b23b7d48aebce6",
            "504e1c74b5ee4c32a7ee7378a446be83",
            "3952fa7c1ada4bf1b1fba13d2d560bdb",
            "a184cb939991401bbfc9839fd29fa9d2",
            "3660d01714714ca786bbef1f7e0ba02a",
            "62535706f90e48fc84fd9dc6df6631ef",
            "0330205218d543aa8ec0f9a9e782c5b4",
            "7a2c5a830b8544c789446b689979f9ba",
            "982fcbdcc4f8417faea68e6abbade185",
            "c1937f7d26144115873b58ff6915eec7",
            "fb4a0ce00f3c43aaa0147cd0df3ee4fb",
            "1da69dd7984a4dd894d4352fe8325165",
            "616e559d403d4572bd88b611b0b8b184",
            "4cc2649256354446b6717bf2f6aface0",
            "4239dbac6e84463abcf2e5bdbc96f6c1",
            "03353af8c7b649a6936cf9fa890f1380",
            "af50f5a44f1a48378b783699fcf42772",
            "50a3f3c59afc49f09ab333bfd89e35cb",
            "16929032ab5d4d22b0f0bb8635cb72c1",
            "7e311feb210040eca26e5606183bb120",
            "76421526021e4e30892f1465a6de4d98",
            "0953b966df494fab976d4e553723cf41",
            "d32277073036442fa72cd116433c48c9",
            "7df99191bb604c36aa044649ce31217f",
            "8ee4f35442094a6d911915ef9d1d1cdf",
            "8df6b11b8a8b47c284484677fcd6bf67",
            "54ab9ed32f1349af8929afcc33389756"
          ]
        },
        "outputId": "964d8ffb-1d91-4f66-857b-914e43f7912d"
      },
      "execution_count": 15,
      "outputs": [
        {
          "output_type": "stream",
          "name": "stderr",
          "text": [
            "/usr/local/lib/python3.10/dist-packages/huggingface_hub/utils/_auth.py:94: UserWarning: \n",
            "The secret `HF_TOKEN` does not exist in your Colab secrets.\n",
            "To authenticate with the Hugging Face Hub, create a token in your settings tab (https://huggingface.co/settings/tokens), set it as secret in your Google Colab and restart your session.\n",
            "You will be able to reuse this secret in all of your notebooks.\n",
            "Please note that authentication is recommended but still optional to access public models or datasets.\n",
            "  warnings.warn(\n"
          ]
        },
        {
          "output_type": "display_data",
          "data": {
            "text/plain": [
              "modules.json:   0%|          | 0.00/349 [00:00<?, ?B/s]"
            ],
            "application/vnd.jupyter.widget-view+json": {
              "version_major": 2,
              "version_minor": 0,
              "model_id": "53369cc615e248ebbba004af1869c562"
            }
          },
          "metadata": {}
        },
        {
          "output_type": "display_data",
          "data": {
            "text/plain": [
              "config_sentence_transformers.json:   0%|          | 0.00/116 [00:00<?, ?B/s]"
            ],
            "application/vnd.jupyter.widget-view+json": {
              "version_major": 2,
              "version_minor": 0,
              "model_id": "b9948273832f47fe9d66318b8e38f3a7"
            }
          },
          "metadata": {}
        },
        {
          "output_type": "display_data",
          "data": {
            "text/plain": [
              "README.md:   0%|          | 0.00/10.7k [00:00<?, ?B/s]"
            ],
            "application/vnd.jupyter.widget-view+json": {
              "version_major": 2,
              "version_minor": 0,
              "model_id": "21f02864d7dd4c88a29e2f243f682816"
            }
          },
          "metadata": {}
        },
        {
          "output_type": "display_data",
          "data": {
            "text/plain": [
              "sentence_bert_config.json:   0%|          | 0.00/53.0 [00:00<?, ?B/s]"
            ],
            "application/vnd.jupyter.widget-view+json": {
              "version_major": 2,
              "version_minor": 0,
              "model_id": "e7313d87de634b61a5ac926ed164ddad"
            }
          },
          "metadata": {}
        },
        {
          "output_type": "display_data",
          "data": {
            "text/plain": [
              "config.json:   0%|          | 0.00/612 [00:00<?, ?B/s]"
            ],
            "application/vnd.jupyter.widget-view+json": {
              "version_major": 2,
              "version_minor": 0,
              "model_id": "0cdde83a56594aa48ac6dba642483603"
            }
          },
          "metadata": {}
        },
        {
          "output_type": "display_data",
          "data": {
            "text/plain": [
              "model.safetensors:   0%|          | 0.00/90.9M [00:00<?, ?B/s]"
            ],
            "application/vnd.jupyter.widget-view+json": {
              "version_major": 2,
              "version_minor": 0,
              "model_id": "55851a89dd6f441789876640950bb372"
            }
          },
          "metadata": {}
        },
        {
          "output_type": "display_data",
          "data": {
            "text/plain": [
              "tokenizer_config.json:   0%|          | 0.00/350 [00:00<?, ?B/s]"
            ],
            "application/vnd.jupyter.widget-view+json": {
              "version_major": 2,
              "version_minor": 0,
              "model_id": "645070a106494593a6a90ea556447ec2"
            }
          },
          "metadata": {}
        },
        {
          "output_type": "display_data",
          "data": {
            "text/plain": [
              "vocab.txt:   0%|          | 0.00/232k [00:00<?, ?B/s]"
            ],
            "application/vnd.jupyter.widget-view+json": {
              "version_major": 2,
              "version_minor": 0,
              "model_id": "a8663faccb004838bf8a40654191140b"
            }
          },
          "metadata": {}
        },
        {
          "output_type": "display_data",
          "data": {
            "text/plain": [
              "tokenizer.json:   0%|          | 0.00/466k [00:00<?, ?B/s]"
            ],
            "application/vnd.jupyter.widget-view+json": {
              "version_major": 2,
              "version_minor": 0,
              "model_id": "280aa30b07a44945b43c1adb73038d5a"
            }
          },
          "metadata": {}
        },
        {
          "output_type": "display_data",
          "data": {
            "text/plain": [
              "special_tokens_map.json:   0%|          | 0.00/112 [00:00<?, ?B/s]"
            ],
            "application/vnd.jupyter.widget-view+json": {
              "version_major": 2,
              "version_minor": 0,
              "model_id": "62535706f90e48fc84fd9dc6df6631ef"
            }
          },
          "metadata": {}
        },
        {
          "output_type": "display_data",
          "data": {
            "text/plain": [
              "1_Pooling/config.json:   0%|          | 0.00/190 [00:00<?, ?B/s]"
            ],
            "application/vnd.jupyter.widget-view+json": {
              "version_major": 2,
              "version_minor": 0,
              "model_id": "af50f5a44f1a48378b783699fcf42772"
            }
          },
          "metadata": {}
        }
      ]
    },
    {
      "cell_type": "code",
      "source": [
        "embeddings = model.encode(df[\"processed_text\"])"
      ],
      "metadata": {
        "id": "ZqPSfapo29Cy"
      },
      "execution_count": 16,
      "outputs": []
    },
    {
      "cell_type": "code",
      "source": [
        "df[\"bert_embeddings\"] = list(embeddings)"
      ],
      "metadata": {
        "id": "stdfVggX3WW6"
      },
      "execution_count": 17,
      "outputs": []
    },
    {
      "cell_type": "markdown",
      "source": [
        "*Latent Dirichlet Allocation*"
      ],
      "metadata": {
        "id": "_mEM_0Ez3jcf"
      }
    },
    {
      "cell_type": "code",
      "source": [
        "from sklearn.decomposition import LatentDirichletAllocation"
      ],
      "metadata": {
        "id": "VfQ1AM25jNOa"
      },
      "execution_count": 18,
      "outputs": []
    },
    {
      "cell_type": "code",
      "source": [
        "from sklearn.feature_extraction.text import TfidfVectorizer, CountVectorizer\n",
        "\n",
        "documents = df[\"processed_text\"]\n",
        "no_features = 1000\n",
        "\n",
        "tf_vectorizer = CountVectorizer(max_df=0.95,\n",
        "                                min_df=2,\n",
        "                                max_features=no_features,\n",
        "                                stop_words=\"english\")\n",
        "tf = tf_vectorizer.fit_transform(documents)"
      ],
      "metadata": {
        "id": "Jv5q8fSrGxYr"
      },
      "execution_count": 19,
      "outputs": []
    },
    {
      "cell_type": "code",
      "source": [
        "n_components = 3"
      ],
      "metadata": {
        "id": "mnU7et_ZHyg-"
      },
      "execution_count": 21,
      "outputs": []
    },
    {
      "cell_type": "code",
      "source": [
        "lda = LatentDirichletAllocation(\n",
        "    n_components=n_components,\n",
        "    max_iter=5,\n",
        "    learning_method=\"online\",\n",
        "    learning_offset=50.0,\n",
        "    random_state=0,\n",
        ")"
      ],
      "metadata": {
        "id": "-e_lPliCHxT6"
      },
      "execution_count": 22,
      "outputs": []
    },
    {
      "cell_type": "code",
      "source": [
        "lda.fit(tf)"
      ],
      "metadata": {
        "colab": {
          "base_uri": "https://localhost:8080/",
          "height": 97
        },
        "id": "Dj4V2KfQH1SV",
        "outputId": "8ecc5748-2a22-49d6-bc72-0274aa89d05c"
      },
      "execution_count": 23,
      "outputs": [
        {
          "output_type": "execute_result",
          "data": {
            "text/plain": [
              "LatentDirichletAllocation(learning_method='online', learning_offset=50.0,\n",
              "                          max_iter=5, n_components=3, random_state=0)"
            ],
            "text/html": [
              "<style>#sk-container-id-1 {\n",
              "  /* Definition of color scheme common for light and dark mode */\n",
              "  --sklearn-color-text: black;\n",
              "  --sklearn-color-line: gray;\n",
              "  /* Definition of color scheme for unfitted estimators */\n",
              "  --sklearn-color-unfitted-level-0: #fff5e6;\n",
              "  --sklearn-color-unfitted-level-1: #f6e4d2;\n",
              "  --sklearn-color-unfitted-level-2: #ffe0b3;\n",
              "  --sklearn-color-unfitted-level-3: chocolate;\n",
              "  /* Definition of color scheme for fitted estimators */\n",
              "  --sklearn-color-fitted-level-0: #f0f8ff;\n",
              "  --sklearn-color-fitted-level-1: #d4ebff;\n",
              "  --sklearn-color-fitted-level-2: #b3dbfd;\n",
              "  --sklearn-color-fitted-level-3: cornflowerblue;\n",
              "\n",
              "  /* Specific color for light theme */\n",
              "  --sklearn-color-text-on-default-background: var(--sg-text-color, var(--theme-code-foreground, var(--jp-content-font-color1, black)));\n",
              "  --sklearn-color-background: var(--sg-background-color, var(--theme-background, var(--jp-layout-color0, white)));\n",
              "  --sklearn-color-border-box: var(--sg-text-color, var(--theme-code-foreground, var(--jp-content-font-color1, black)));\n",
              "  --sklearn-color-icon: #696969;\n",
              "\n",
              "  @media (prefers-color-scheme: dark) {\n",
              "    /* Redefinition of color scheme for dark theme */\n",
              "    --sklearn-color-text-on-default-background: var(--sg-text-color, var(--theme-code-foreground, var(--jp-content-font-color1, white)));\n",
              "    --sklearn-color-background: var(--sg-background-color, var(--theme-background, var(--jp-layout-color0, #111)));\n",
              "    --sklearn-color-border-box: var(--sg-text-color, var(--theme-code-foreground, var(--jp-content-font-color1, white)));\n",
              "    --sklearn-color-icon: #878787;\n",
              "  }\n",
              "}\n",
              "\n",
              "#sk-container-id-1 {\n",
              "  color: var(--sklearn-color-text);\n",
              "}\n",
              "\n",
              "#sk-container-id-1 pre {\n",
              "  padding: 0;\n",
              "}\n",
              "\n",
              "#sk-container-id-1 input.sk-hidden--visually {\n",
              "  border: 0;\n",
              "  clip: rect(1px 1px 1px 1px);\n",
              "  clip: rect(1px, 1px, 1px, 1px);\n",
              "  height: 1px;\n",
              "  margin: -1px;\n",
              "  overflow: hidden;\n",
              "  padding: 0;\n",
              "  position: absolute;\n",
              "  width: 1px;\n",
              "}\n",
              "\n",
              "#sk-container-id-1 div.sk-dashed-wrapped {\n",
              "  border: 1px dashed var(--sklearn-color-line);\n",
              "  margin: 0 0.4em 0.5em 0.4em;\n",
              "  box-sizing: border-box;\n",
              "  padding-bottom: 0.4em;\n",
              "  background-color: var(--sklearn-color-background);\n",
              "}\n",
              "\n",
              "#sk-container-id-1 div.sk-container {\n",
              "  /* jupyter's `normalize.less` sets `[hidden] { display: none; }`\n",
              "     but bootstrap.min.css set `[hidden] { display: none !important; }`\n",
              "     so we also need the `!important` here to be able to override the\n",
              "     default hidden behavior on the sphinx rendered scikit-learn.org.\n",
              "     See: https://github.com/scikit-learn/scikit-learn/issues/21755 */\n",
              "  display: inline-block !important;\n",
              "  position: relative;\n",
              "}\n",
              "\n",
              "#sk-container-id-1 div.sk-text-repr-fallback {\n",
              "  display: none;\n",
              "}\n",
              "\n",
              "div.sk-parallel-item,\n",
              "div.sk-serial,\n",
              "div.sk-item {\n",
              "  /* draw centered vertical line to link estimators */\n",
              "  background-image: linear-gradient(var(--sklearn-color-text-on-default-background), var(--sklearn-color-text-on-default-background));\n",
              "  background-size: 2px 100%;\n",
              "  background-repeat: no-repeat;\n",
              "  background-position: center center;\n",
              "}\n",
              "\n",
              "/* Parallel-specific style estimator block */\n",
              "\n",
              "#sk-container-id-1 div.sk-parallel-item::after {\n",
              "  content: \"\";\n",
              "  width: 100%;\n",
              "  border-bottom: 2px solid var(--sklearn-color-text-on-default-background);\n",
              "  flex-grow: 1;\n",
              "}\n",
              "\n",
              "#sk-container-id-1 div.sk-parallel {\n",
              "  display: flex;\n",
              "  align-items: stretch;\n",
              "  justify-content: center;\n",
              "  background-color: var(--sklearn-color-background);\n",
              "  position: relative;\n",
              "}\n",
              "\n",
              "#sk-container-id-1 div.sk-parallel-item {\n",
              "  display: flex;\n",
              "  flex-direction: column;\n",
              "}\n",
              "\n",
              "#sk-container-id-1 div.sk-parallel-item:first-child::after {\n",
              "  align-self: flex-end;\n",
              "  width: 50%;\n",
              "}\n",
              "\n",
              "#sk-container-id-1 div.sk-parallel-item:last-child::after {\n",
              "  align-self: flex-start;\n",
              "  width: 50%;\n",
              "}\n",
              "\n",
              "#sk-container-id-1 div.sk-parallel-item:only-child::after {\n",
              "  width: 0;\n",
              "}\n",
              "\n",
              "/* Serial-specific style estimator block */\n",
              "\n",
              "#sk-container-id-1 div.sk-serial {\n",
              "  display: flex;\n",
              "  flex-direction: column;\n",
              "  align-items: center;\n",
              "  background-color: var(--sklearn-color-background);\n",
              "  padding-right: 1em;\n",
              "  padding-left: 1em;\n",
              "}\n",
              "\n",
              "\n",
              "/* Toggleable style: style used for estimator/Pipeline/ColumnTransformer box that is\n",
              "clickable and can be expanded/collapsed.\n",
              "- Pipeline and ColumnTransformer use this feature and define the default style\n",
              "- Estimators will overwrite some part of the style using the `sk-estimator` class\n",
              "*/\n",
              "\n",
              "/* Pipeline and ColumnTransformer style (default) */\n",
              "\n",
              "#sk-container-id-1 div.sk-toggleable {\n",
              "  /* Default theme specific background. It is overwritten whether we have a\n",
              "  specific estimator or a Pipeline/ColumnTransformer */\n",
              "  background-color: var(--sklearn-color-background);\n",
              "}\n",
              "\n",
              "/* Toggleable label */\n",
              "#sk-container-id-1 label.sk-toggleable__label {\n",
              "  cursor: pointer;\n",
              "  display: block;\n",
              "  width: 100%;\n",
              "  margin-bottom: 0;\n",
              "  padding: 0.5em;\n",
              "  box-sizing: border-box;\n",
              "  text-align: center;\n",
              "}\n",
              "\n",
              "#sk-container-id-1 label.sk-toggleable__label-arrow:before {\n",
              "  /* Arrow on the left of the label */\n",
              "  content: \"▸\";\n",
              "  float: left;\n",
              "  margin-right: 0.25em;\n",
              "  color: var(--sklearn-color-icon);\n",
              "}\n",
              "\n",
              "#sk-container-id-1 label.sk-toggleable__label-arrow:hover:before {\n",
              "  color: var(--sklearn-color-text);\n",
              "}\n",
              "\n",
              "/* Toggleable content - dropdown */\n",
              "\n",
              "#sk-container-id-1 div.sk-toggleable__content {\n",
              "  max-height: 0;\n",
              "  max-width: 0;\n",
              "  overflow: hidden;\n",
              "  text-align: left;\n",
              "  /* unfitted */\n",
              "  background-color: var(--sklearn-color-unfitted-level-0);\n",
              "}\n",
              "\n",
              "#sk-container-id-1 div.sk-toggleable__content.fitted {\n",
              "  /* fitted */\n",
              "  background-color: var(--sklearn-color-fitted-level-0);\n",
              "}\n",
              "\n",
              "#sk-container-id-1 div.sk-toggleable__content pre {\n",
              "  margin: 0.2em;\n",
              "  border-radius: 0.25em;\n",
              "  color: var(--sklearn-color-text);\n",
              "  /* unfitted */\n",
              "  background-color: var(--sklearn-color-unfitted-level-0);\n",
              "}\n",
              "\n",
              "#sk-container-id-1 div.sk-toggleable__content.fitted pre {\n",
              "  /* unfitted */\n",
              "  background-color: var(--sklearn-color-fitted-level-0);\n",
              "}\n",
              "\n",
              "#sk-container-id-1 input.sk-toggleable__control:checked~div.sk-toggleable__content {\n",
              "  /* Expand drop-down */\n",
              "  max-height: 200px;\n",
              "  max-width: 100%;\n",
              "  overflow: auto;\n",
              "}\n",
              "\n",
              "#sk-container-id-1 input.sk-toggleable__control:checked~label.sk-toggleable__label-arrow:before {\n",
              "  content: \"▾\";\n",
              "}\n",
              "\n",
              "/* Pipeline/ColumnTransformer-specific style */\n",
              "\n",
              "#sk-container-id-1 div.sk-label input.sk-toggleable__control:checked~label.sk-toggleable__label {\n",
              "  color: var(--sklearn-color-text);\n",
              "  background-color: var(--sklearn-color-unfitted-level-2);\n",
              "}\n",
              "\n",
              "#sk-container-id-1 div.sk-label.fitted input.sk-toggleable__control:checked~label.sk-toggleable__label {\n",
              "  background-color: var(--sklearn-color-fitted-level-2);\n",
              "}\n",
              "\n",
              "/* Estimator-specific style */\n",
              "\n",
              "/* Colorize estimator box */\n",
              "#sk-container-id-1 div.sk-estimator input.sk-toggleable__control:checked~label.sk-toggleable__label {\n",
              "  /* unfitted */\n",
              "  background-color: var(--sklearn-color-unfitted-level-2);\n",
              "}\n",
              "\n",
              "#sk-container-id-1 div.sk-estimator.fitted input.sk-toggleable__control:checked~label.sk-toggleable__label {\n",
              "  /* fitted */\n",
              "  background-color: var(--sklearn-color-fitted-level-2);\n",
              "}\n",
              "\n",
              "#sk-container-id-1 div.sk-label label.sk-toggleable__label,\n",
              "#sk-container-id-1 div.sk-label label {\n",
              "  /* The background is the default theme color */\n",
              "  color: var(--sklearn-color-text-on-default-background);\n",
              "}\n",
              "\n",
              "/* On hover, darken the color of the background */\n",
              "#sk-container-id-1 div.sk-label:hover label.sk-toggleable__label {\n",
              "  color: var(--sklearn-color-text);\n",
              "  background-color: var(--sklearn-color-unfitted-level-2);\n",
              "}\n",
              "\n",
              "/* Label box, darken color on hover, fitted */\n",
              "#sk-container-id-1 div.sk-label.fitted:hover label.sk-toggleable__label.fitted {\n",
              "  color: var(--sklearn-color-text);\n",
              "  background-color: var(--sklearn-color-fitted-level-2);\n",
              "}\n",
              "\n",
              "/* Estimator label */\n",
              "\n",
              "#sk-container-id-1 div.sk-label label {\n",
              "  font-family: monospace;\n",
              "  font-weight: bold;\n",
              "  display: inline-block;\n",
              "  line-height: 1.2em;\n",
              "}\n",
              "\n",
              "#sk-container-id-1 div.sk-label-container {\n",
              "  text-align: center;\n",
              "}\n",
              "\n",
              "/* Estimator-specific */\n",
              "#sk-container-id-1 div.sk-estimator {\n",
              "  font-family: monospace;\n",
              "  border: 1px dotted var(--sklearn-color-border-box);\n",
              "  border-radius: 0.25em;\n",
              "  box-sizing: border-box;\n",
              "  margin-bottom: 0.5em;\n",
              "  /* unfitted */\n",
              "  background-color: var(--sklearn-color-unfitted-level-0);\n",
              "}\n",
              "\n",
              "#sk-container-id-1 div.sk-estimator.fitted {\n",
              "  /* fitted */\n",
              "  background-color: var(--sklearn-color-fitted-level-0);\n",
              "}\n",
              "\n",
              "/* on hover */\n",
              "#sk-container-id-1 div.sk-estimator:hover {\n",
              "  /* unfitted */\n",
              "  background-color: var(--sklearn-color-unfitted-level-2);\n",
              "}\n",
              "\n",
              "#sk-container-id-1 div.sk-estimator.fitted:hover {\n",
              "  /* fitted */\n",
              "  background-color: var(--sklearn-color-fitted-level-2);\n",
              "}\n",
              "\n",
              "/* Specification for estimator info (e.g. \"i\" and \"?\") */\n",
              "\n",
              "/* Common style for \"i\" and \"?\" */\n",
              "\n",
              ".sk-estimator-doc-link,\n",
              "a:link.sk-estimator-doc-link,\n",
              "a:visited.sk-estimator-doc-link {\n",
              "  float: right;\n",
              "  font-size: smaller;\n",
              "  line-height: 1em;\n",
              "  font-family: monospace;\n",
              "  background-color: var(--sklearn-color-background);\n",
              "  border-radius: 1em;\n",
              "  height: 1em;\n",
              "  width: 1em;\n",
              "  text-decoration: none !important;\n",
              "  margin-left: 1ex;\n",
              "  /* unfitted */\n",
              "  border: var(--sklearn-color-unfitted-level-1) 1pt solid;\n",
              "  color: var(--sklearn-color-unfitted-level-1);\n",
              "}\n",
              "\n",
              ".sk-estimator-doc-link.fitted,\n",
              "a:link.sk-estimator-doc-link.fitted,\n",
              "a:visited.sk-estimator-doc-link.fitted {\n",
              "  /* fitted */\n",
              "  border: var(--sklearn-color-fitted-level-1) 1pt solid;\n",
              "  color: var(--sklearn-color-fitted-level-1);\n",
              "}\n",
              "\n",
              "/* On hover */\n",
              "div.sk-estimator:hover .sk-estimator-doc-link:hover,\n",
              ".sk-estimator-doc-link:hover,\n",
              "div.sk-label-container:hover .sk-estimator-doc-link:hover,\n",
              ".sk-estimator-doc-link:hover {\n",
              "  /* unfitted */\n",
              "  background-color: var(--sklearn-color-unfitted-level-3);\n",
              "  color: var(--sklearn-color-background);\n",
              "  text-decoration: none;\n",
              "}\n",
              "\n",
              "div.sk-estimator.fitted:hover .sk-estimator-doc-link.fitted:hover,\n",
              ".sk-estimator-doc-link.fitted:hover,\n",
              "div.sk-label-container:hover .sk-estimator-doc-link.fitted:hover,\n",
              ".sk-estimator-doc-link.fitted:hover {\n",
              "  /* fitted */\n",
              "  background-color: var(--sklearn-color-fitted-level-3);\n",
              "  color: var(--sklearn-color-background);\n",
              "  text-decoration: none;\n",
              "}\n",
              "\n",
              "/* Span, style for the box shown on hovering the info icon */\n",
              ".sk-estimator-doc-link span {\n",
              "  display: none;\n",
              "  z-index: 9999;\n",
              "  position: relative;\n",
              "  font-weight: normal;\n",
              "  right: .2ex;\n",
              "  padding: .5ex;\n",
              "  margin: .5ex;\n",
              "  width: min-content;\n",
              "  min-width: 20ex;\n",
              "  max-width: 50ex;\n",
              "  color: var(--sklearn-color-text);\n",
              "  box-shadow: 2pt 2pt 4pt #999;\n",
              "  /* unfitted */\n",
              "  background: var(--sklearn-color-unfitted-level-0);\n",
              "  border: .5pt solid var(--sklearn-color-unfitted-level-3);\n",
              "}\n",
              "\n",
              ".sk-estimator-doc-link.fitted span {\n",
              "  /* fitted */\n",
              "  background: var(--sklearn-color-fitted-level-0);\n",
              "  border: var(--sklearn-color-fitted-level-3);\n",
              "}\n",
              "\n",
              ".sk-estimator-doc-link:hover span {\n",
              "  display: block;\n",
              "}\n",
              "\n",
              "/* \"?\"-specific style due to the `<a>` HTML tag */\n",
              "\n",
              "#sk-container-id-1 a.estimator_doc_link {\n",
              "  float: right;\n",
              "  font-size: 1rem;\n",
              "  line-height: 1em;\n",
              "  font-family: monospace;\n",
              "  background-color: var(--sklearn-color-background);\n",
              "  border-radius: 1rem;\n",
              "  height: 1rem;\n",
              "  width: 1rem;\n",
              "  text-decoration: none;\n",
              "  /* unfitted */\n",
              "  color: var(--sklearn-color-unfitted-level-1);\n",
              "  border: var(--sklearn-color-unfitted-level-1) 1pt solid;\n",
              "}\n",
              "\n",
              "#sk-container-id-1 a.estimator_doc_link.fitted {\n",
              "  /* fitted */\n",
              "  border: var(--sklearn-color-fitted-level-1) 1pt solid;\n",
              "  color: var(--sklearn-color-fitted-level-1);\n",
              "}\n",
              "\n",
              "/* On hover */\n",
              "#sk-container-id-1 a.estimator_doc_link:hover {\n",
              "  /* unfitted */\n",
              "  background-color: var(--sklearn-color-unfitted-level-3);\n",
              "  color: var(--sklearn-color-background);\n",
              "  text-decoration: none;\n",
              "}\n",
              "\n",
              "#sk-container-id-1 a.estimator_doc_link.fitted:hover {\n",
              "  /* fitted */\n",
              "  background-color: var(--sklearn-color-fitted-level-3);\n",
              "}\n",
              "</style><div id=\"sk-container-id-1\" class=\"sk-top-container\"><div class=\"sk-text-repr-fallback\"><pre>LatentDirichletAllocation(learning_method=&#x27;online&#x27;, learning_offset=50.0,\n",
              "                          max_iter=5, n_components=3, random_state=0)</pre><b>In a Jupyter environment, please rerun this cell to show the HTML representation or trust the notebook. <br />On GitHub, the HTML representation is unable to render, please try loading this page with nbviewer.org.</b></div><div class=\"sk-container\" hidden><div class=\"sk-item\"><div class=\"sk-estimator fitted sk-toggleable\"><input class=\"sk-toggleable__control sk-hidden--visually\" id=\"sk-estimator-id-1\" type=\"checkbox\" checked><label for=\"sk-estimator-id-1\" class=\"sk-toggleable__label fitted sk-toggleable__label-arrow fitted\">&nbsp;&nbsp;LatentDirichletAllocation<a class=\"sk-estimator-doc-link fitted\" rel=\"noreferrer\" target=\"_blank\" href=\"https://scikit-learn.org/1.5/modules/generated/sklearn.decomposition.LatentDirichletAllocation.html\">?<span>Documentation for LatentDirichletAllocation</span></a><span class=\"sk-estimator-doc-link fitted\">i<span>Fitted</span></span></label><div class=\"sk-toggleable__content fitted\"><pre>LatentDirichletAllocation(learning_method=&#x27;online&#x27;, learning_offset=50.0,\n",
              "                          max_iter=5, n_components=3, random_state=0)</pre></div> </div></div></div></div>"
            ]
          },
          "metadata": {},
          "execution_count": 23
        }
      ]
    },
    {
      "cell_type": "code",
      "source": [
        "test = tf.toarray() @ np.transpose(lda.components_)"
      ],
      "metadata": {
        "id": "PMDV27g8KWEO"
      },
      "execution_count": 24,
      "outputs": []
    },
    {
      "cell_type": "code",
      "source": [
        "df[\"lda_e1\"] = test[:,0]\n",
        "df[\"lda_e2\"] = test[:,1]\n",
        "df[\"lda_e3\"] = test[:,2]"
      ],
      "metadata": {
        "id": "PcAsPcd4LMwB"
      },
      "execution_count": 25,
      "outputs": []
    },
    {
      "cell_type": "code",
      "source": [
        "print(df[\"lda_e1\"].mean())\n",
        "print(df[\"lda_e2\"].mean())\n",
        "print(df[\"lda_e3\"].mean())"
      ],
      "metadata": {
        "colab": {
          "base_uri": "https://localhost:8080/",
          "height": 0
        },
        "id": "d0zNOrPhLzKE",
        "outputId": "5714df74-d3f0-47fd-c62a-c3c43322c315"
      },
      "execution_count": 29,
      "outputs": [
        {
          "output_type": "stream",
          "name": "stdout",
          "text": [
            "2480.4135478410594\n",
            "200.24892367376972\n",
            "65.98827684776734\n"
          ]
        }
      ]
    },
    {
      "cell_type": "markdown",
      "source": [
        "Our topics had decreasing relevance. Interesting."
      ],
      "metadata": {
        "id": "kmlKX0AfLxmN"
      }
    },
    {
      "cell_type": "markdown",
      "source": [
        "# **Clustering**"
      ],
      "metadata": {
        "id": "8HYFWIlrLwwc"
      }
    },
    {
      "cell_type": "markdown",
      "source": [
        "With our three embedding strategies in hand we proceed to our clustering methods."
      ],
      "metadata": {
        "id": "ywyBgibIMJ7c"
      }
    },
    {
      "cell_type": "markdown",
      "source": [
        "*Normally distributed data?*"
      ],
      "metadata": {
        "id": "m6sPot2_rjU_"
      }
    },
    {
      "cell_type": "markdown",
      "source": [
        "Let's go find out if GMM is a good approach"
      ],
      "metadata": {
        "id": "BIjad2xjrotv"
      }
    },
    {
      "cell_type": "code",
      "source": [
        "X = np.array(df[\"doc2vec_embeddings\"].values.tolist())[:,0,:]"
      ],
      "metadata": {
        "id": "slW9GTAerqwT"
      },
      "execution_count": 329,
      "outputs": []
    },
    {
      "cell_type": "code",
      "source": [
        "import seaborn as sns\n",
        "import matplotlib.pyplot as plt"
      ],
      "metadata": {
        "id": "6jT9NkVGrr73"
      },
      "execution_count": 322,
      "outputs": []
    },
    {
      "cell_type": "code",
      "source": [
        "pd.DataFrame(X).hist()"
      ],
      "metadata": {
        "colab": {
          "base_uri": "https://localhost:8080/",
          "height": 504
        },
        "id": "GreFV1Bvr0_A",
        "outputId": "55d23271-2684-4e3c-d6b5-f83c45876a90"
      },
      "execution_count": 331,
      "outputs": [
        {
          "output_type": "execute_result",
          "data": {
            "text/plain": [
              "array([[<Axes: title={'center': '0'}>, <Axes: title={'center': '1'}>],\n",
              "       [<Axes: title={'center': '2'}>, <Axes: title={'center': '3'}>],\n",
              "       [<Axes: title={'center': '4'}>, <Axes: >]], dtype=object)"
            ]
          },
          "metadata": {},
          "execution_count": 331
        },
        {
          "output_type": "display_data",
          "data": {
            "text/plain": [
              "<Figure size 640x480 with 6 Axes>"
            ],
            "image/png": "[encoded data removed]"
          },
          "metadata": {}
        }
      ]
    },
    {
      "cell_type": "markdown",
      "source": [
        "Doc2Vec is not a good candidate.... let's check out an ICA reduction (assuming there are signals driving traffic so to speak) of bert..."
      ],
      "metadata": {
        "id": "yuz9CJVKrrmf"
      }
    },
    {
      "cell_type": "code",
      "source": [
        "X = np.array(df[\"bert_embeddings\"].values.tolist())"
      ],
      "metadata": {
        "id": "kAM_XYuCsvaQ"
      },
      "execution_count": 337,
      "outputs": []
    },
    {
      "cell_type": "code",
      "source": [
        "from sklearn.decomposition import FastICA\n",
        "ica = FastICA(n_components=3)\n",
        "S_bert = ica.fit_transform(X)"
      ],
      "metadata": {
        "id": "RxXoYRS1sjh9"
      },
      "execution_count": 338,
      "outputs": []
    },
    {
      "cell_type": "code",
      "source": [
        "pd.DataFrame(S_bert).hist()"
      ],
      "metadata": {
        "colab": {
          "base_uri": "https://localhost:8080/",
          "height": 487
        },
        "id": "xmWahGpos4N3",
        "outputId": "0e586974-f795-4a33-c0eb-579cb2fce62d"
      },
      "execution_count": 339,
      "outputs": [
        {
          "output_type": "execute_result",
          "data": {
            "text/plain": [
              "array([[<Axes: title={'center': '0'}>, <Axes: title={'center': '1'}>],\n",
              "       [<Axes: title={'center': '2'}>, <Axes: >]], dtype=object)"
            ]
          },
          "metadata": {},
          "execution_count": 339
        },
        {
          "output_type": "display_data",
          "data": {
            "text/plain": [
              "<Figure size 640x480 with 4 Axes>"
            ],
            "image/png": "[encoded data removed]"
          },
          "metadata": {}
        }
      ]
    },
    {
      "cell_type": "markdown",
      "source": [
        "That does look promising!"
      ],
      "metadata": {
        "id": "SiB3xob8s7qZ"
      }
    },
    {
      "cell_type": "markdown",
      "source": [
        "Now let's check LDA"
      ],
      "metadata": {
        "id": "XYjpvMi-s-UX"
      }
    },
    {
      "cell_type": "code",
      "source": [
        "X = np.array(df[[\"lda_e1\",\"lda_e2\",\"lda_e3\"]].values.tolist())\n",
        "X_cs = (X - X.mean(axis=0)) / X.std(axis=0)"
      ],
      "metadata": {
        "id": "yFhWrPGOs9su"
      },
      "execution_count": 335,
      "outputs": []
    },
    {
      "cell_type": "code",
      "source": [
        "pd.DataFrame(X_cs).hist()"
      ],
      "metadata": {
        "colab": {
          "base_uri": "https://localhost:8080/",
          "height": 487
        },
        "id": "PNhFrQKktTg6",
        "outputId": "3cfe16b1-0bb9-4199-e8e3-0fe90ee81cd4"
      },
      "execution_count": 336,
      "outputs": [
        {
          "output_type": "execute_result",
          "data": {
            "text/plain": [
              "array([[<Axes: title={'center': '0'}>, <Axes: title={'center': '1'}>],\n",
              "       [<Axes: title={'center': '2'}>, <Axes: >]], dtype=object)"
            ]
          },
          "metadata": {},
          "execution_count": 336
        },
        {
          "output_type": "display_data",
          "data": {
            "text/plain": [
              "<Figure size 640x480 with 4 Axes>"
            ],
            "image/png": "[encoded data removed]"
          },
          "metadata": {}
        }
      ]
    },
    {
      "cell_type": "markdown",
      "source": [
        "This also might work. Neat."
      ],
      "metadata": {
        "id": "6V9P12y7tZsV"
      }
    },
    {
      "cell_type": "markdown",
      "source": [
        "Let's do ICA bert and store results for later."
      ],
      "metadata": {
        "id": "xqnWm0gOtptt"
      }
    },
    {
      "cell_type": "code",
      "source": [
        "import numpy as np\n",
        "from sklearn.mixture import GaussianMixture\n",
        "X = S_bert\n",
        "gm = GaussianMixture(n_components=3, random_state=0).fit(X)\n",
        "print(gm.means_)\n",
        "print(gm.aic(X)) #AIC is a little high eh...\n",
        "keep = gm.fit_predict(X)\n"
      ],
      "metadata": {
        "colab": {
          "base_uri": "https://localhost:8080/",
          "height": 0
        },
        "id": "HRTlauAQtpK5",
        "outputId": "f25b668d-c41f-41ac-f190-2e98a8b89eb9"
      },
      "execution_count": 348,
      "outputs": [
        {
          "output_type": "stream",
          "name": "stdout",
          "text": [
            "[[-0.49110349 -0.29788519 -0.86950628]\n",
            " [-0.14068516 -0.40525807  0.78609639]\n",
            " [ 0.65480163  0.81274007 -0.18530336]]\n",
            "2697.2346602856996\n"
          ]
        }
      ]
    },
    {
      "cell_type": "markdown",
      "source": [
        "Now let's LDA GMM and store results for later"
      ],
      "metadata": {
        "id": "HQyVoobeueMK"
      }
    },
    {
      "cell_type": "code",
      "source": [
        "import numpy as np\n",
        "from sklearn.mixture import GaussianMixture\n",
        "X = X_cs\n",
        "gm = GaussianMixture(n_components=3, random_state=0).fit(X)\n",
        "print(gm.means_)\n",
        "print(gm.aic(X)) #AIC is a little high eh...\n",
        "keep2 = gm.fit_predict(X)"
      ],
      "metadata": {
        "colab": {
          "base_uri": "https://localhost:8080/",
          "height": 0
        },
        "id": "tUHIYrvlud0B",
        "outputId": "ac63845e-4e22-4193-80d6-221cba596e94"
      },
      "execution_count": 349,
      "outputs": [
        {
          "output_type": "stream",
          "name": "stdout",
          "text": [
            "[[ 0.90177643  1.36817393  1.04948533]\n",
            " [-0.68054183 -0.67745677 -0.69354568]\n",
            " [ 0.35037807  0.31506833  0.34772132]]\n",
            "1085.088005331316\n"
          ]
        }
      ]
    },
    {
      "cell_type": "markdown",
      "source": [
        "OOh the AIC went down that's promising. let's continue on and return to this at the end."
      ],
      "metadata": {
        "id": "j6LBV7NjudZ4"
      }
    },
    {
      "cell_type": "markdown",
      "source": [
        "*Tree based clustering - Doc 2 Vec*"
      ],
      "metadata": {
        "id": "ru0_Pju8MYwh"
      }
    },
    {
      "cell_type": "markdown",
      "source": [
        "We start with a visual inspection of a dendogram for Doc2Vec"
      ],
      "metadata": {
        "id": "x2AtUO3PMRFv"
      }
    },
    {
      "cell_type": "code",
      "source": [
        "import plotly.figure_factory as ff\n",
        "import numpy as np\n",
        "np.random.seed(1)"
      ],
      "metadata": {
        "id": "KReaZSuGMYDj"
      },
      "execution_count": 31,
      "outputs": []
    },
    {
      "cell_type": "code",
      "source": [
        "X = np.array(df[\"doc2vec_embeddings\"].values.tolist())[:,0,:]\n",
        "Y = np.array(df[\"essay_id\"])"
      ],
      "metadata": {
        "id": "HhQAeAw0NfMK"
      },
      "execution_count": 110,
      "outputs": []
    },
    {
      "cell_type": "code",
      "source": [
        "labels = df[\"essay_id\"].tolist()"
      ],
      "metadata": {
        "id": "QLrTQ-CagJ7I"
      },
      "execution_count": 33,
      "outputs": []
    },
    {
      "cell_type": "code",
      "source": [
        "fig = ff.create_dendrogram(X)\n",
        "fig.update_layout(width=800, height=500)\n",
        "fig.show()"
      ],
      "metadata": {
        "colab": {
          "base_uri": "https://localhost:8080/",
          "height": 517
        },
        "id": "L1mFfc-WNhoY",
        "outputId": "f3d2c1aa-4aa8-4602-e411-22679fa121f1"
      },
      "execution_count": 34,
      "outputs": [
        {
          "output_type": "display_data",
          "data": {
            "text/html": [
              "<html>\n",
              "<head><meta charset=\"utf-8\" /></head>\n",
              "<body>\n",
              "    <div>            <script src=\"https://cdnjs.cloudflare.com/ajax/libs/mathjax/2.7.5/MathJax.js?config=TeX-AMS-MML_SVG\"></script><script type=\"text/javascript\">if (window.MathJax && window.MathJax.Hub && window.MathJax.Hub.Config) {window.MathJax.Hub.Config({SVG: {font: \"STIX-Web\"}});}</script>                <script type=\"text/javascript\">window.PlotlyConfig = {MathJaxConfig: 'local'};</script>\n",
              "        <script charset=\"utf-8\" src=\"https://cdn.plot.ly/plotly-2.35.2.min.js\"></script>                <div id=\"4270969b-6d84-4805-8250-018407ea3bce\" class=\"plotly-graph-div\" style=\"height:500px; width:800px;\"></div>            <script type=\"text/javascript\">                                    window.PLOTLYENV=window.PLOTLYENV || {};                                    if (document.getElementById(\"4270969b-6d84-4805-8250-018407ea3bce\")) {                    Plotly.newPlot(                        \"4270969b-6d84-4805-8250-018407ea3bce\",                        [{\"hoverinfo\":\"text\",\"marker\":{\"color\":\"rgb(61,153,112)\"},\"mode\":\"lines\",\"x\":[15.0,15.0,25.0,25.0],\"xaxis\":\"x\",\"y\":[0.0,0.05189525051104592,0.05189525051104592,0.0],\"yaxis\":\"y\",\"type\":\"scatter\"},{\"hoverinfo\":\"text\",\"marker\":{\"color\":\"rgb(61,153,112)\"},\"mode\":\"lines\",\"x\":[5.0,5.0,20.0,20.0],\"xaxis\":\"x\",\"y\":[0.0,0.10267575780621345,0.10267575780621345,0.05189525051104592],\"yaxis\":\"y\",\"type\":\"scatter\"},{\"hoverinfo\":\"text\",\"marker\":{\"color\":\"rgb(61,153,112)\"},\"mode\":\"lines\",\"x\":[35.0,35.0,45.0,45.0],\"xaxis\":\"x\",\"y\":[0.0,0.05771720403722835,0.05771720403722835,0.0],\"yaxis\":\"y\",\"type\":\"scatter\"},{\"hoverinfo\":\"text\",\"marker\":{\"color\":\"rgb(61,153,112)\"},\"mode\":\"lines\",\"x\":[65.0,65.0,75.0,75.0],\"xaxis\":\"x\",\"y\":[0.0,0.05234356250062032,0.05234356250062032,0.0],\"yaxis\":\"y\",\"type\":\"scatter\"},{\"hoverinfo\":\"text\",\"marker\":{\"color\":\"rgb(61,153,112)\"},\"mode\":\"lines\",\"x\":[55.0,55.0,70.0,70.0],\"xaxis\":\"x\",\"y\":[0.0,0.06312850973779983,0.06312850973779983,0.05234356250062032],\"yaxis\":\"y\",\"type\":\"scatter\"},{\"hoverinfo\":\"text\",\"marker\":{\"color\":\"rgb(61,153,112)\"},\"mode\":\"lines\",\"x\":[85.0,85.0,95.0,95.0],\"xaxis\":\"x\",\"y\":[0.0,0.04751437220080367,0.04751437220080367,0.0],\"yaxis\":\"y\",\"type\":\"scatter\"},{\"hoverinfo\":\"text\",\"marker\":{\"color\":\"rgb(61,153,112)\"},\"mode\":\"lines\",\"x\":[105.0,105.0,115.0,115.0],\"xaxis\":\"x\",\"y\":[0.0,0.03756115109430431,0.03756115109430431,0.0],\"yaxis\":\"y\",\"type\":\"scatter\"},{\"hoverinfo\":\"text\",\"marker\":{\"color\":\"rgb(61,153,112)\"},\"mode\":\"lines\",\"x\":[125.0,125.0,135.0,135.0],\"xaxis\":\"x\",\"y\":[0.0,0.04032655257452503,0.04032655257452503,0.0],\"yaxis\":\"y\",\"type\":\"scatter\"},{\"hoverinfo\":\"text\",\"marker\":{\"color\":\"rgb(61,153,112)\"},\"mode\":\"lines\",\"x\":[110.0,110.0,130.0,130.0],\"xaxis\":\"x\",\"y\":[0.03756115109430431,0.06653752430948144,0.06653752430948144,0.04032655257452503],\"yaxis\":\"y\",\"type\":\"scatter\"},{\"hoverinfo\":\"text\",\"marker\":{\"color\":\"rgb(61,153,112)\"},\"mode\":\"lines\",\"x\":[90.0,90.0,120.0,120.0],\"xaxis\":\"x\",\"y\":[0.04751437220080367,0.09050669435948716,0.09050669435948716,0.06653752430948144],\"yaxis\":\"y\",\"type\":\"scatter\"},{\"hoverinfo\":\"text\",\"marker\":{\"color\":\"rgb(61,153,112)\"},\"mode\":\"lines\",\"x\":[62.5,62.5,105.0,105.0],\"xaxis\":\"x\",\"y\":[0.06312850973779983,0.11601298167489811,0.11601298167489811,0.09050669435948716],\"yaxis\":\"y\",\"type\":\"scatter\"},{\"hoverinfo\":\"text\",\"marker\":{\"color\":\"rgb(61,153,112)\"},\"mode\":\"lines\",\"x\":[40.0,40.0,83.75,83.75],\"xaxis\":\"x\",\"y\":[0.05771720403722835,0.12128079122161273,0.12128079122161273,0.11601298167489811],\"yaxis\":\"y\",\"type\":\"scatter\"},{\"hoverinfo\":\"text\",\"marker\":{\"color\":\"rgb(61,153,112)\"},\"mode\":\"lines\",\"x\":[12.5,12.5,61.875,61.875],\"xaxis\":\"x\",\"y\":[0.10267575780621345,0.13550871411504542,0.13550871411504542,0.12128079122161273],\"yaxis\":\"y\",\"type\":\"scatter\"},{\"hoverinfo\":\"text\",\"marker\":{\"color\":\"rgb(61,153,112)\"},\"mode\":\"lines\",\"x\":[145.0,145.0,155.0,155.0],\"xaxis\":\"x\",\"y\":[0.0,0.07184763662390799,0.07184763662390799,0.0],\"yaxis\":\"y\",\"type\":\"scatter\"},{\"hoverinfo\":\"text\",\"marker\":{\"color\":\"rgb(61,153,112)\"},\"mode\":\"lines\",\"x\":[185.0,185.0,195.0,195.0],\"xaxis\":\"x\",\"y\":[0.0,0.024450808977958705,0.024450808977958705,0.0],\"yaxis\":\"y\",\"type\":\"scatter\"},{\"hoverinfo\":\"text\",\"marker\":{\"color\":\"rgb(61,153,112)\"},\"mode\":\"lines\",\"x\":[175.0,175.0,190.0,190.0],\"xaxis\":\"x\",\"y\":[0.0,0.08435907991448127,0.08435907991448127,0.024450808977958705],\"yaxis\":\"y\",\"type\":\"scatter\"},{\"hoverinfo\":\"text\",\"marker\":{\"color\":\"rgb(61,153,112)\"},\"mode\":\"lines\",\"x\":[165.0,165.0,182.5,182.5],\"xaxis\":\"x\",\"y\":[0.0,0.09278875066155515,0.09278875066155515,0.08435907991448127],\"yaxis\":\"y\",\"type\":\"scatter\"},{\"hoverinfo\":\"text\",\"marker\":{\"color\":\"rgb(61,153,112)\"},\"mode\":\"lines\",\"x\":[150.0,150.0,173.75,173.75],\"xaxis\":\"x\",\"y\":[0.07184763662390799,0.14060404514332756,0.14060404514332756,0.09278875066155515],\"yaxis\":\"y\",\"type\":\"scatter\"},{\"hoverinfo\":\"text\",\"marker\":{\"color\":\"rgb(61,153,112)\"},\"mode\":\"lines\",\"x\":[37.1875,37.1875,161.875,161.875],\"xaxis\":\"x\",\"y\":[0.13550871411504542,0.1806246473547159,0.1806246473547159,0.14060404514332756],\"yaxis\":\"y\",\"type\":\"scatter\"},{\"hoverinfo\":\"text\",\"marker\":{\"color\":\"rgb(255,65,54)\"},\"mode\":\"lines\",\"x\":[225.0,225.0,235.0,235.0],\"xaxis\":\"x\",\"y\":[0.0,0.053086404846374696,0.053086404846374696,0.0],\"yaxis\":\"y\",\"type\":\"scatter\"},{\"hoverinfo\":\"text\",\"marker\":{\"color\":\"rgb(255,65,54)\"},\"mode\":\"lines\",\"x\":[215.0,215.0,230.0,230.0],\"xaxis\":\"x\",\"y\":[0.0,0.06326608941783526,0.06326608941783526,0.053086404846374696],\"yaxis\":\"y\",\"type\":\"scatter\"},{\"hoverinfo\":\"text\",\"marker\":{\"color\":\"rgb(255,65,54)\"},\"mode\":\"lines\",\"x\":[205.0,205.0,222.5,222.5],\"xaxis\":\"x\",\"y\":[0.0,0.07877184733624235,0.07877184733624235,0.06326608941783526],\"yaxis\":\"y\",\"type\":\"scatter\"},{\"hoverinfo\":\"text\",\"marker\":{\"color\":\"rgb(255,65,54)\"},\"mode\":\"lines\",\"x\":[245.0,245.0,255.0,255.0],\"xaxis\":\"x\",\"y\":[0.0,0.04751719294833724,0.04751719294833724,0.0],\"yaxis\":\"y\",\"type\":\"scatter\"},{\"hoverinfo\":\"text\",\"marker\":{\"color\":\"rgb(255,65,54)\"},\"mode\":\"lines\",\"x\":[275.0,275.0,285.0,285.0],\"xaxis\":\"x\",\"y\":[0.0,0.03966199898013437,0.03966199898013437,0.0],\"yaxis\":\"y\",\"type\":\"scatter\"},{\"hoverinfo\":\"text\",\"marker\":{\"color\":\"rgb(255,65,54)\"},\"mode\":\"lines\",\"x\":[265.0,265.0,280.0,280.0],\"xaxis\":\"x\",\"y\":[0.0,0.0744880230534788,0.0744880230534788,0.03966199898013437],\"yaxis\":\"y\",\"type\":\"scatter\"},{\"hoverinfo\":\"text\",\"marker\":{\"color\":\"rgb(255,65,54)\"},\"mode\":\"lines\",\"x\":[250.0,250.0,272.5,272.5],\"xaxis\":\"x\",\"y\":[0.04751719294833724,0.09085739520550652,0.09085739520550652,0.0744880230534788],\"yaxis\":\"y\",\"type\":\"scatter\"},{\"hoverinfo\":\"text\",\"marker\":{\"color\":\"rgb(255,65,54)\"},\"mode\":\"lines\",\"x\":[213.75,213.75,261.25,261.25],\"xaxis\":\"x\",\"y\":[0.07877184733624235,0.12576153697923895,0.12576153697923895,0.09085739520550652],\"yaxis\":\"y\",\"type\":\"scatter\"},{\"hoverinfo\":\"text\",\"marker\":{\"color\":\"rgb(255,65,54)\"},\"mode\":\"lines\",\"x\":[295.0,295.0,305.0,305.0],\"xaxis\":\"x\",\"y\":[0.0,0.05896559947149918,0.05896559947149918,0.0],\"yaxis\":\"y\",\"type\":\"scatter\"},{\"hoverinfo\":\"text\",\"marker\":{\"color\":\"rgb(255,65,54)\"},\"mode\":\"lines\",\"x\":[325.0,325.0,335.0,335.0],\"xaxis\":\"x\",\"y\":[0.0,0.046285979175418955,0.046285979175418955,0.0],\"yaxis\":\"y\",\"type\":\"scatter\"},{\"hoverinfo\":\"text\",\"marker\":{\"color\":\"rgb(255,65,54)\"},\"mode\":\"lines\",\"x\":[315.0,315.0,330.0,330.0],\"xaxis\":\"x\",\"y\":[0.0,0.08258841536399567,0.08258841536399567,0.046285979175418955],\"yaxis\":\"y\",\"type\":\"scatter\"},{\"hoverinfo\":\"text\",\"marker\":{\"color\":\"rgb(255,65,54)\"},\"mode\":\"lines\",\"x\":[300.0,300.0,322.5,322.5],\"xaxis\":\"x\",\"y\":[0.05896559947149918,0.09746325786357365,0.09746325786357365,0.08258841536399567],\"yaxis\":\"y\",\"type\":\"scatter\"},{\"hoverinfo\":\"text\",\"marker\":{\"color\":\"rgb(255,65,54)\"},\"mode\":\"lines\",\"x\":[345.0,345.0,355.0,355.0],\"xaxis\":\"x\",\"y\":[0.0,0.03900301822511578,0.03900301822511578,0.0],\"yaxis\":\"y\",\"type\":\"scatter\"},{\"hoverinfo\":\"text\",\"marker\":{\"color\":\"rgb(255,65,54)\"},\"mode\":\"lines\",\"x\":[365.0,365.0,375.0,375.0],\"xaxis\":\"x\",\"y\":[0.0,0.03438605184885352,0.03438605184885352,0.0],\"yaxis\":\"y\",\"type\":\"scatter\"},{\"hoverinfo\":\"text\",\"marker\":{\"color\":\"rgb(255,65,54)\"},\"mode\":\"lines\",\"x\":[385.0,385.0,395.0,395.0],\"xaxis\":\"x\",\"y\":[0.0,0.04424328595205175,0.04424328595205175,0.0],\"yaxis\":\"y\",\"type\":\"scatter\"},{\"hoverinfo\":\"text\",\"marker\":{\"color\":\"rgb(255,65,54)\"},\"mode\":\"lines\",\"x\":[370.0,370.0,390.0,390.0],\"xaxis\":\"x\",\"y\":[0.03438605184885352,0.05461651441717033,0.05461651441717033,0.04424328595205175],\"yaxis\":\"y\",\"type\":\"scatter\"},{\"hoverinfo\":\"text\",\"marker\":{\"color\":\"rgb(255,65,54)\"},\"mode\":\"lines\",\"x\":[415.0,415.0,425.0,425.0],\"xaxis\":\"x\",\"y\":[0.0,0.04584313596826718,0.04584313596826718,0.0],\"yaxis\":\"y\",\"type\":\"scatter\"},{\"hoverinfo\":\"text\",\"marker\":{\"color\":\"rgb(255,65,54)\"},\"mode\":\"lines\",\"x\":[405.0,405.0,420.0,420.0],\"xaxis\":\"x\",\"y\":[0.0,0.07015776146535053,0.07015776146535053,0.04584313596826718],\"yaxis\":\"y\",\"type\":\"scatter\"},{\"hoverinfo\":\"text\",\"marker\":{\"color\":\"rgb(255,65,54)\"},\"mode\":\"lines\",\"x\":[380.0,380.0,412.5,412.5],\"xaxis\":\"x\",\"y\":[0.05461651441717033,0.0967831497744269,0.0967831497744269,0.07015776146535053],\"yaxis\":\"y\",\"type\":\"scatter\"},{\"hoverinfo\":\"text\",\"marker\":{\"color\":\"rgb(255,65,54)\"},\"mode\":\"lines\",\"x\":[350.0,350.0,396.25,396.25],\"xaxis\":\"x\",\"y\":[0.03900301822511578,0.11043722170434873,0.11043722170434873,0.0967831497744269],\"yaxis\":\"y\",\"type\":\"scatter\"},{\"hoverinfo\":\"text\",\"marker\":{\"color\":\"rgb(255,65,54)\"},\"mode\":\"lines\",\"x\":[435.0,435.0,445.0,445.0],\"xaxis\":\"x\",\"y\":[0.0,0.03509052308500004,0.03509052308500004,0.0],\"yaxis\":\"y\",\"type\":\"scatter\"},{\"hoverinfo\":\"text\",\"marker\":{\"color\":\"rgb(255,65,54)\"},\"mode\":\"lines\",\"x\":[465.0,465.0,475.0,475.0],\"xaxis\":\"x\",\"y\":[0.0,0.022651098184577424,0.022651098184577424,0.0],\"yaxis\":\"y\",\"type\":\"scatter\"},{\"hoverinfo\":\"text\",\"marker\":{\"color\":\"rgb(255,65,54)\"},\"mode\":\"lines\",\"x\":[455.0,455.0,470.0,470.0],\"xaxis\":\"x\",\"y\":[0.0,0.053891703626442515,0.053891703626442515,0.022651098184577424],\"yaxis\":\"y\",\"type\":\"scatter\"},{\"hoverinfo\":\"text\",\"marker\":{\"color\":\"rgb(255,65,54)\"},\"mode\":\"lines\",\"x\":[440.0,440.0,462.5,462.5],\"xaxis\":\"x\",\"y\":[0.03509052308500004,0.07048069987210202,0.07048069987210202,0.053891703626442515],\"yaxis\":\"y\",\"type\":\"scatter\"},{\"hoverinfo\":\"text\",\"marker\":{\"color\":\"rgb(255,65,54)\"},\"mode\":\"lines\",\"x\":[485.0,485.0,495.0,495.0],\"xaxis\":\"x\",\"y\":[0.0,0.030429447529650305,0.030429447529650305,0.0],\"yaxis\":\"y\",\"type\":\"scatter\"},{\"hoverinfo\":\"text\",\"marker\":{\"color\":\"rgb(255,65,54)\"},\"mode\":\"lines\",\"x\":[505.0,505.0,515.0,515.0],\"xaxis\":\"x\",\"y\":[0.0,0.04050550606388148,0.04050550606388148,0.0],\"yaxis\":\"y\",\"type\":\"scatter\"},{\"hoverinfo\":\"text\",\"marker\":{\"color\":\"rgb(255,65,54)\"},\"mode\":\"lines\",\"x\":[490.0,490.0,510.0,510.0],\"xaxis\":\"x\",\"y\":[0.030429447529650305,0.05857091148045108,0.05857091148045108,0.04050550606388148],\"yaxis\":\"y\",\"type\":\"scatter\"},{\"hoverinfo\":\"text\",\"marker\":{\"color\":\"rgb(255,65,54)\"},\"mode\":\"lines\",\"x\":[525.0,525.0,535.0,535.0],\"xaxis\":\"x\",\"y\":[0.0,0.02215778130299285,0.02215778130299285,0.0],\"yaxis\":\"y\",\"type\":\"scatter\"},{\"hoverinfo\":\"text\",\"marker\":{\"color\":\"rgb(255,65,54)\"},\"mode\":\"lines\",\"x\":[555.0,555.0,565.0,565.0],\"xaxis\":\"x\",\"y\":[0.0,0.025269736504086805,0.025269736504086805,0.0],\"yaxis\":\"y\",\"type\":\"scatter\"},{\"hoverinfo\":\"text\",\"marker\":{\"color\":\"rgb(255,65,54)\"},\"mode\":\"lines\",\"x\":[545.0,545.0,560.0,560.0],\"xaxis\":\"x\",\"y\":[0.0,0.03862935800299749,0.03862935800299749,0.025269736504086805],\"yaxis\":\"y\",\"type\":\"scatter\"},{\"hoverinfo\":\"text\",\"marker\":{\"color\":\"rgb(255,65,54)\"},\"mode\":\"lines\",\"x\":[530.0,530.0,552.5,552.5],\"xaxis\":\"x\",\"y\":[0.02215778130299285,0.06621053188152858,0.06621053188152858,0.03862935800299749],\"yaxis\":\"y\",\"type\":\"scatter\"},{\"hoverinfo\":\"text\",\"marker\":{\"color\":\"rgb(255,65,54)\"},\"mode\":\"lines\",\"x\":[500.0,500.0,541.25,541.25],\"xaxis\":\"x\",\"y\":[0.05857091148045108,0.09091379810946894,0.09091379810946894,0.06621053188152858],\"yaxis\":\"y\",\"type\":\"scatter\"},{\"hoverinfo\":\"text\",\"marker\":{\"color\":\"rgb(255,65,54)\"},\"mode\":\"lines\",\"x\":[451.25,451.25,520.625,520.625],\"xaxis\":\"x\",\"y\":[0.07048069987210202,0.1114756255572545,0.1114756255572545,0.09091379810946894],\"yaxis\":\"y\",\"type\":\"scatter\"},{\"hoverinfo\":\"text\",\"marker\":{\"color\":\"rgb(255,65,54)\"},\"mode\":\"lines\",\"x\":[373.125,373.125,485.9375,485.9375],\"xaxis\":\"x\",\"y\":[0.11043722170434873,0.15541703383062574,0.15541703383062574,0.1114756255572545],\"yaxis\":\"y\",\"type\":\"scatter\"},{\"hoverinfo\":\"text\",\"marker\":{\"color\":\"rgb(255,65,54)\"},\"mode\":\"lines\",\"x\":[311.25,311.25,429.53125,429.53125],\"xaxis\":\"x\",\"y\":[0.09746325786357365,0.19136908870439492,0.19136908870439492,0.15541703383062574],\"yaxis\":\"y\",\"type\":\"scatter\"},{\"hoverinfo\":\"text\",\"marker\":{\"color\":\"rgb(255,65,54)\"},\"mode\":\"lines\",\"x\":[237.5,237.5,370.390625,370.390625],\"xaxis\":\"x\",\"y\":[0.12576153697923895,0.21226483225918227,0.21226483225918227,0.19136908870439492],\"yaxis\":\"y\",\"type\":\"scatter\"},{\"hoverinfo\":\"text\",\"marker\":{\"color\":\"rgb(0,116,217)\"},\"mode\":\"lines\",\"x\":[99.53125,99.53125,303.9453125,303.9453125],\"xaxis\":\"x\",\"y\":[0.1806246473547159,0.2584109133925209,0.2584109133925209,0.21226483225918227],\"yaxis\":\"y\",\"type\":\"scatter\"},{\"hoverinfo\":\"text\",\"marker\":{\"color\":\"rgb(35,205,205)\"},\"mode\":\"lines\",\"x\":[575.0,575.0,585.0,585.0],\"xaxis\":\"x\",\"y\":[0.0,0.03961661768563913,0.03961661768563913,0.0],\"yaxis\":\"y\",\"type\":\"scatter\"},{\"hoverinfo\":\"text\",\"marker\":{\"color\":\"rgb(35,205,205)\"},\"mode\":\"lines\",\"x\":[595.0,595.0,605.0,605.0],\"xaxis\":\"x\",\"y\":[0.0,0.04785321766725704,0.04785321766725704,0.0],\"yaxis\":\"y\",\"type\":\"scatter\"},{\"hoverinfo\":\"text\",\"marker\":{\"color\":\"rgb(35,205,205)\"},\"mode\":\"lines\",\"x\":[580.0,580.0,600.0,600.0],\"xaxis\":\"x\",\"y\":[0.03961661768563913,0.0829227057686751,0.0829227057686751,0.04785321766725704],\"yaxis\":\"y\",\"type\":\"scatter\"},{\"hoverinfo\":\"text\",\"marker\":{\"color\":\"rgb(35,205,205)\"},\"mode\":\"lines\",\"x\":[615.0,615.0,625.0,625.0],\"xaxis\":\"x\",\"y\":[0.0,0.05518082102989029,0.05518082102989029,0.0],\"yaxis\":\"y\",\"type\":\"scatter\"},{\"hoverinfo\":\"text\",\"marker\":{\"color\":\"rgb(35,205,205)\"},\"mode\":\"lines\",\"x\":[635.0,635.0,645.0,645.0],\"xaxis\":\"x\",\"y\":[0.0,0.03402956277665071,0.03402956277665071,0.0],\"yaxis\":\"y\",\"type\":\"scatter\"},{\"hoverinfo\":\"text\",\"marker\":{\"color\":\"rgb(35,205,205)\"},\"mode\":\"lines\",\"x\":[655.0,655.0,665.0,665.0],\"xaxis\":\"x\",\"y\":[0.0,0.04018286302862879,0.04018286302862879,0.0],\"yaxis\":\"y\",\"type\":\"scatter\"},{\"hoverinfo\":\"text\",\"marker\":{\"color\":\"rgb(35,205,205)\"},\"mode\":\"lines\",\"x\":[640.0,640.0,660.0,660.0],\"xaxis\":\"x\",\"y\":[0.03402956277665071,0.06739739281087798,0.06739739281087798,0.04018286302862879],\"yaxis\":\"y\",\"type\":\"scatter\"},{\"hoverinfo\":\"text\",\"marker\":{\"color\":\"rgb(35,205,205)\"},\"mode\":\"lines\",\"x\":[620.0,620.0,650.0,650.0],\"xaxis\":\"x\",\"y\":[0.05518082102989029,0.1062617485354881,0.1062617485354881,0.06739739281087798],\"yaxis\":\"y\",\"type\":\"scatter\"},{\"hoverinfo\":\"text\",\"marker\":{\"color\":\"rgb(35,205,205)\"},\"mode\":\"lines\",\"x\":[590.0,590.0,635.0,635.0],\"xaxis\":\"x\",\"y\":[0.0829227057686751,0.1264018867418397,0.1264018867418397,0.1062617485354881],\"yaxis\":\"y\",\"type\":\"scatter\"},{\"hoverinfo\":\"text\",\"marker\":{\"color\":\"rgb(35,205,205)\"},\"mode\":\"lines\",\"x\":[695.0,695.0,705.0,705.0],\"xaxis\":\"x\",\"y\":[0.0,0.05103242720758732,0.05103242720758732,0.0],\"yaxis\":\"y\",\"type\":\"scatter\"},{\"hoverinfo\":\"text\",\"marker\":{\"color\":\"rgb(35,205,205)\"},\"mode\":\"lines\",\"x\":[685.0,685.0,700.0,700.0],\"xaxis\":\"x\",\"y\":[0.0,0.06309834640391346,0.06309834640391346,0.05103242720758732],\"yaxis\":\"y\",\"type\":\"scatter\"},{\"hoverinfo\":\"text\",\"marker\":{\"color\":\"rgb(35,205,205)\"},\"mode\":\"lines\",\"x\":[725.0,725.0,735.0,735.0],\"xaxis\":\"x\",\"y\":[0.0,0.023677972072112263,0.023677972072112263,0.0],\"yaxis\":\"y\",\"type\":\"scatter\"},{\"hoverinfo\":\"text\",\"marker\":{\"color\":\"rgb(35,205,205)\"},\"mode\":\"lines\",\"x\":[715.0,715.0,730.0,730.0],\"xaxis\":\"x\",\"y\":[0.0,0.03802450443927409,0.03802450443927409,0.023677972072112263],\"yaxis\":\"y\",\"type\":\"scatter\"},{\"hoverinfo\":\"text\",\"marker\":{\"color\":\"rgb(35,205,205)\"},\"mode\":\"lines\",\"x\":[745.0,745.0,755.0,755.0],\"xaxis\":\"x\",\"y\":[0.0,0.06724892656881314,0.06724892656881314,0.0],\"yaxis\":\"y\",\"type\":\"scatter\"},{\"hoverinfo\":\"text\",\"marker\":{\"color\":\"rgb(35,205,205)\"},\"mode\":\"lines\",\"x\":[722.5,722.5,750.0,750.0],\"xaxis\":\"x\",\"y\":[0.03802450443927409,0.08575826728553235,0.08575826728553235,0.06724892656881314],\"yaxis\":\"y\",\"type\":\"scatter\"},{\"hoverinfo\":\"text\",\"marker\":{\"color\":\"rgb(35,205,205)\"},\"mode\":\"lines\",\"x\":[692.5,692.5,736.25,736.25],\"xaxis\":\"x\",\"y\":[0.06309834640391346,0.0945343150542977,0.0945343150542977,0.08575826728553235],\"yaxis\":\"y\",\"type\":\"scatter\"},{\"hoverinfo\":\"text\",\"marker\":{\"color\":\"rgb(35,205,205)\"},\"mode\":\"lines\",\"x\":[675.0,675.0,714.375,714.375],\"xaxis\":\"x\",\"y\":[0.0,0.11019050388588394,0.11019050388588394,0.0945343150542977],\"yaxis\":\"y\",\"type\":\"scatter\"},{\"hoverinfo\":\"text\",\"marker\":{\"color\":\"rgb(35,205,205)\"},\"mode\":\"lines\",\"x\":[765.0,765.0,775.0,775.0],\"xaxis\":\"x\",\"y\":[0.0,0.03541856003678958,0.03541856003678958,0.0],\"yaxis\":\"y\",\"type\":\"scatter\"},{\"hoverinfo\":\"text\",\"marker\":{\"color\":\"rgb(35,205,205)\"},\"mode\":\"lines\",\"x\":[785.0,785.0,795.0,795.0],\"xaxis\":\"x\",\"y\":[0.0,0.0505478230493207,0.0505478230493207,0.0],\"yaxis\":\"y\",\"type\":\"scatter\"},{\"hoverinfo\":\"text\",\"marker\":{\"color\":\"rgb(35,205,205)\"},\"mode\":\"lines\",\"x\":[770.0,770.0,790.0,790.0],\"xaxis\":\"x\",\"y\":[0.03541856003678958,0.08318856931151877,0.08318856931151877,0.0505478230493207],\"yaxis\":\"y\",\"type\":\"scatter\"},{\"hoverinfo\":\"text\",\"marker\":{\"color\":\"rgb(35,205,205)\"},\"mode\":\"lines\",\"x\":[815.0,815.0,825.0,825.0],\"xaxis\":\"x\",\"y\":[0.0,0.03472102935674349,0.03472102935674349,0.0],\"yaxis\":\"y\",\"type\":\"scatter\"},{\"hoverinfo\":\"text\",\"marker\":{\"color\":\"rgb(35,205,205)\"},\"mode\":\"lines\",\"x\":[835.0,835.0,845.0,845.0],\"xaxis\":\"x\",\"y\":[0.0,0.038550754825017235,0.038550754825017235,0.0],\"yaxis\":\"y\",\"type\":\"scatter\"},{\"hoverinfo\":\"text\",\"marker\":{\"color\":\"rgb(35,205,205)\"},\"mode\":\"lines\",\"x\":[820.0,820.0,840.0,840.0],\"xaxis\":\"x\",\"y\":[0.03472102935674349,0.05910970580197556,0.05910970580197556,0.038550754825017235],\"yaxis\":\"y\",\"type\":\"scatter\"},{\"hoverinfo\":\"text\",\"marker\":{\"color\":\"rgb(35,205,205)\"},\"mode\":\"lines\",\"x\":[805.0,805.0,830.0,830.0],\"xaxis\":\"x\",\"y\":[0.0,0.08944285446582123,0.08944285446582123,0.05910970580197556],\"yaxis\":\"y\",\"type\":\"scatter\"},{\"hoverinfo\":\"text\",\"marker\":{\"color\":\"rgb(35,205,205)\"},\"mode\":\"lines\",\"x\":[780.0,780.0,817.5,817.5],\"xaxis\":\"x\",\"y\":[0.08318856931151877,0.1301574339948677,0.1301574339948677,0.08944285446582123],\"yaxis\":\"y\",\"type\":\"scatter\"},{\"hoverinfo\":\"text\",\"marker\":{\"color\":\"rgb(35,205,205)\"},\"mode\":\"lines\",\"x\":[694.6875,694.6875,798.75,798.75],\"xaxis\":\"x\",\"y\":[0.11019050388588394,0.16680362884269676,0.16680362884269676,0.1301574339948677],\"yaxis\":\"y\",\"type\":\"scatter\"},{\"hoverinfo\":\"text\",\"marker\":{\"color\":\"rgb(35,205,205)\"},\"mode\":\"lines\",\"x\":[612.5,612.5,746.71875,746.71875],\"xaxis\":\"x\",\"y\":[0.1264018867418397,0.20350009265614066,0.20350009265614066,0.16680362884269676],\"yaxis\":\"y\",\"type\":\"scatter\"},{\"hoverinfo\":\"text\",\"marker\":{\"color\":\"rgb(133,20,75)\"},\"mode\":\"lines\",\"x\":[865.0,865.0,875.0,875.0],\"xaxis\":\"x\",\"y\":[0.0,0.0392936244728574,0.0392936244728574,0.0],\"yaxis\":\"y\",\"type\":\"scatter\"},{\"hoverinfo\":\"text\",\"marker\":{\"color\":\"rgb(133,20,75)\"},\"mode\":\"lines\",\"x\":[855.0,855.0,870.0,870.0],\"xaxis\":\"x\",\"y\":[0.0,0.06554913981520218,0.06554913981520218,0.0392936244728574],\"yaxis\":\"y\",\"type\":\"scatter\"},{\"hoverinfo\":\"text\",\"marker\":{\"color\":\"rgb(133,20,75)\"},\"mode\":\"lines\",\"x\":[895.0,895.0,905.0,905.0],\"xaxis\":\"x\",\"y\":[0.0,0.05599950572824344,0.05599950572824344,0.0],\"yaxis\":\"y\",\"type\":\"scatter\"},{\"hoverinfo\":\"text\",\"marker\":{\"color\":\"rgb(133,20,75)\"},\"mode\":\"lines\",\"x\":[885.0,885.0,900.0,900.0],\"xaxis\":\"x\",\"y\":[0.0,0.08098717249706466,0.08098717249706466,0.05599950572824344],\"yaxis\":\"y\",\"type\":\"scatter\"},{\"hoverinfo\":\"text\",\"marker\":{\"color\":\"rgb(133,20,75)\"},\"mode\":\"lines\",\"x\":[862.5,862.5,892.5,892.5],\"xaxis\":\"x\",\"y\":[0.06554913981520218,0.1065889560373481,0.1065889560373481,0.08098717249706466],\"yaxis\":\"y\",\"type\":\"scatter\"},{\"hoverinfo\":\"text\",\"marker\":{\"color\":\"rgb(133,20,75)\"},\"mode\":\"lines\",\"x\":[915.0,915.0,925.0,925.0],\"xaxis\":\"x\",\"y\":[0.0,0.03713943966947845,0.03713943966947845,0.0],\"yaxis\":\"y\",\"type\":\"scatter\"},{\"hoverinfo\":\"text\",\"marker\":{\"color\":\"rgb(133,20,75)\"},\"mode\":\"lines\",\"x\":[945.0,945.0,955.0,955.0],\"xaxis\":\"x\",\"y\":[0.0,0.009498616460541807,0.009498616460541807,0.0],\"yaxis\":\"y\",\"type\":\"scatter\"},{\"hoverinfo\":\"text\",\"marker\":{\"color\":\"rgb(133,20,75)\"},\"mode\":\"lines\",\"x\":[935.0,935.0,950.0,950.0],\"xaxis\":\"x\",\"y\":[0.0,0.052459794219403985,0.052459794219403985,0.009498616460541807],\"yaxis\":\"y\",\"type\":\"scatter\"},{\"hoverinfo\":\"text\",\"marker\":{\"color\":\"rgb(133,20,75)\"},\"mode\":\"lines\",\"x\":[920.0,920.0,942.5,942.5],\"xaxis\":\"x\",\"y\":[0.03713943966947845,0.06823693729225916,0.06823693729225916,0.052459794219403985],\"yaxis\":\"y\",\"type\":\"scatter\"},{\"hoverinfo\":\"text\",\"marker\":{\"color\":\"rgb(133,20,75)\"},\"mode\":\"lines\",\"x\":[975.0,975.0,985.0,985.0],\"xaxis\":\"x\",\"y\":[0.0,0.05148437477107651,0.05148437477107651,0.0],\"yaxis\":\"y\",\"type\":\"scatter\"},{\"hoverinfo\":\"text\",\"marker\":{\"color\":\"rgb(133,20,75)\"},\"mode\":\"lines\",\"x\":[965.0,965.0,980.0,980.0],\"xaxis\":\"x\",\"y\":[0.0,0.07110631834304758,0.07110631834304758,0.05148437477107651],\"yaxis\":\"y\",\"type\":\"scatter\"},{\"hoverinfo\":\"text\",\"marker\":{\"color\":\"rgb(133,20,75)\"},\"mode\":\"lines\",\"x\":[931.25,931.25,972.5,972.5],\"xaxis\":\"x\",\"y\":[0.06823693729225916,0.11643689784508261,0.11643689784508261,0.07110631834304758],\"yaxis\":\"y\",\"type\":\"scatter\"},{\"hoverinfo\":\"text\",\"marker\":{\"color\":\"rgb(133,20,75)\"},\"mode\":\"lines\",\"x\":[877.5,877.5,951.875,951.875],\"xaxis\":\"x\",\"y\":[0.1065889560373481,0.17093541962381964,0.17093541962381964,0.11643689784508261],\"yaxis\":\"y\",\"type\":\"scatter\"},{\"hoverinfo\":\"text\",\"marker\":{\"color\":\"rgb(133,20,75)\"},\"mode\":\"lines\",\"x\":[995.0,995.0,1005.0,1005.0],\"xaxis\":\"x\",\"y\":[0.0,0.05374289407273194,0.05374289407273194,0.0],\"yaxis\":\"y\",\"type\":\"scatter\"},{\"hoverinfo\":\"text\",\"marker\":{\"color\":\"rgb(133,20,75)\"},\"mode\":\"lines\",\"x\":[1015.0,1015.0,1025.0,1025.0],\"xaxis\":\"x\",\"y\":[0.0,0.05634791735063437,0.05634791735063437,0.0],\"yaxis\":\"y\",\"type\":\"scatter\"},{\"hoverinfo\":\"text\",\"marker\":{\"color\":\"rgb(133,20,75)\"},\"mode\":\"lines\",\"x\":[1000.0,1000.0,1020.0,1020.0],\"xaxis\":\"x\",\"y\":[0.05374289407273194,0.08975851664395965,0.08975851664395965,0.05634791735063437],\"yaxis\":\"y\",\"type\":\"scatter\"},{\"hoverinfo\":\"text\",\"marker\":{\"color\":\"rgb(133,20,75)\"},\"mode\":\"lines\",\"x\":[1045.0,1045.0,1055.0,1055.0],\"xaxis\":\"x\",\"y\":[0.0,0.04521040605799972,0.04521040605799972,0.0],\"yaxis\":\"y\",\"type\":\"scatter\"},{\"hoverinfo\":\"text\",\"marker\":{\"color\":\"rgb(133,20,75)\"},\"mode\":\"lines\",\"x\":[1035.0,1035.0,1050.0,1050.0],\"xaxis\":\"x\",\"y\":[0.0,0.09522459941533166,0.09522459941533166,0.04521040605799972],\"yaxis\":\"y\",\"type\":\"scatter\"},{\"hoverinfo\":\"text\",\"marker\":{\"color\":\"rgb(133,20,75)\"},\"mode\":\"lines\",\"x\":[1075.0,1075.0,1085.0,1085.0],\"xaxis\":\"x\",\"y\":[0.0,0.04805477909750709,0.04805477909750709,0.0],\"yaxis\":\"y\",\"type\":\"scatter\"},{\"hoverinfo\":\"text\",\"marker\":{\"color\":\"rgb(133,20,75)\"},\"mode\":\"lines\",\"x\":[1095.0,1095.0,1105.0,1105.0],\"xaxis\":\"x\",\"y\":[0.0,0.06336080127948193,0.06336080127948193,0.0],\"yaxis\":\"y\",\"type\":\"scatter\"},{\"hoverinfo\":\"text\",\"marker\":{\"color\":\"rgb(133,20,75)\"},\"mode\":\"lines\",\"x\":[1080.0,1080.0,1100.0,1100.0],\"xaxis\":\"x\",\"y\":[0.04805477909750709,0.08552890867419273,0.08552890867419273,0.06336080127948193],\"yaxis\":\"y\",\"type\":\"scatter\"},{\"hoverinfo\":\"text\",\"marker\":{\"color\":\"rgb(133,20,75)\"},\"mode\":\"lines\",\"x\":[1065.0,1065.0,1090.0,1090.0],\"xaxis\":\"x\",\"y\":[0.0,0.10121471159579871,0.10121471159579871,0.08552890867419273],\"yaxis\":\"y\",\"type\":\"scatter\"},{\"hoverinfo\":\"text\",\"marker\":{\"color\":\"rgb(133,20,75)\"},\"mode\":\"lines\",\"x\":[1042.5,1042.5,1077.5,1077.5],\"xaxis\":\"x\",\"y\":[0.09522459941533166,0.15184221863369937,0.15184221863369937,0.10121471159579871],\"yaxis\":\"y\",\"type\":\"scatter\"},{\"hoverinfo\":\"text\",\"marker\":{\"color\":\"rgb(133,20,75)\"},\"mode\":\"lines\",\"x\":[1010.0,1010.0,1060.0,1060.0],\"xaxis\":\"x\",\"y\":[0.08975851664395965,0.18197950586390527,0.18197950586390527,0.15184221863369937],\"yaxis\":\"y\",\"type\":\"scatter\"},{\"hoverinfo\":\"text\",\"marker\":{\"color\":\"rgb(133,20,75)\"},\"mode\":\"lines\",\"x\":[914.6875,914.6875,1035.0,1035.0],\"xaxis\":\"x\",\"y\":[0.17093541962381964,0.23199177823265435,0.23199177823265435,0.18197950586390527],\"yaxis\":\"y\",\"type\":\"scatter\"},{\"hoverinfo\":\"text\",\"marker\":{\"color\":\"rgb(0,116,217)\"},\"mode\":\"lines\",\"x\":[679.609375,679.609375,974.84375,974.84375],\"xaxis\":\"x\",\"y\":[0.20350009265614066,0.26083604081252065,0.26083604081252065,0.23199177823265435],\"yaxis\":\"y\",\"type\":\"scatter\"},{\"hoverinfo\":\"text\",\"marker\":{\"color\":\"rgb(0,116,217)\"},\"mode\":\"lines\",\"x\":[201.73828125,201.73828125,827.2265625,827.2265625],\"xaxis\":\"x\",\"y\":[0.2584109133925209,0.3135319497004375,0.3135319497004375,0.26083604081252065],\"yaxis\":\"y\",\"type\":\"scatter\"},{\"hoverinfo\":\"text\",\"marker\":{\"color\":\"rgb(255,220,0)\"},\"mode\":\"lines\",\"x\":[1115.0,1115.0,1125.0,1125.0],\"xaxis\":\"x\",\"y\":[0.0,0.07212322567668622,0.07212322567668622,0.0],\"yaxis\":\"y\",\"type\":\"scatter\"},{\"hoverinfo\":\"text\",\"marker\":{\"color\":\"rgb(255,220,0)\"},\"mode\":\"lines\",\"x\":[1155.0,1155.0,1165.0,1165.0],\"xaxis\":\"x\",\"y\":[0.0,0.05670465522563744,0.05670465522563744,0.0],\"yaxis\":\"y\",\"type\":\"scatter\"},{\"hoverinfo\":\"text\",\"marker\":{\"color\":\"rgb(255,220,0)\"},\"mode\":\"lines\",\"x\":[1145.0,1145.0,1160.0,1160.0],\"xaxis\":\"x\",\"y\":[0.0,0.08259217145565956,0.08259217145565956,0.05670465522563744],\"yaxis\":\"y\",\"type\":\"scatter\"},{\"hoverinfo\":\"text\",\"marker\":{\"color\":\"rgb(255,220,0)\"},\"mode\":\"lines\",\"x\":[1135.0,1135.0,1152.5,1152.5],\"xaxis\":\"x\",\"y\":[0.0,0.10473520159475146,0.10473520159475146,0.08259217145565956],\"yaxis\":\"y\",\"type\":\"scatter\"},{\"hoverinfo\":\"text\",\"marker\":{\"color\":\"rgb(255,220,0)\"},\"mode\":\"lines\",\"x\":[1120.0,1120.0,1143.75,1143.75],\"xaxis\":\"x\",\"y\":[0.07212322567668622,0.1540668118434422,0.1540668118434422,0.10473520159475146],\"yaxis\":\"y\",\"type\":\"scatter\"},{\"hoverinfo\":\"text\",\"marker\":{\"color\":\"rgb(255,220,0)\"},\"mode\":\"lines\",\"x\":[1175.0,1175.0,1185.0,1185.0],\"xaxis\":\"x\",\"y\":[0.0,0.035238649344528875,0.035238649344528875,0.0],\"yaxis\":\"y\",\"type\":\"scatter\"},{\"hoverinfo\":\"text\",\"marker\":{\"color\":\"rgb(255,220,0)\"},\"mode\":\"lines\",\"x\":[1195.0,1195.0,1205.0,1205.0],\"xaxis\":\"x\",\"y\":[0.0,0.027253270028608004,0.027253270028608004,0.0],\"yaxis\":\"y\",\"type\":\"scatter\"},{\"hoverinfo\":\"text\",\"marker\":{\"color\":\"rgb(255,220,0)\"},\"mode\":\"lines\",\"x\":[1225.0,1225.0,1235.0,1235.0],\"xaxis\":\"x\",\"y\":[0.0,0.03483048917002509,0.03483048917002509,0.0],\"yaxis\":\"y\",\"type\":\"scatter\"},{\"hoverinfo\":\"text\",\"marker\":{\"color\":\"rgb(255,220,0)\"},\"mode\":\"lines\",\"x\":[1215.0,1215.0,1230.0,1230.0],\"xaxis\":\"x\",\"y\":[0.0,0.05081866241143939,0.05081866241143939,0.03483048917002509],\"yaxis\":\"y\",\"type\":\"scatter\"},{\"hoverinfo\":\"text\",\"marker\":{\"color\":\"rgb(255,220,0)\"},\"mode\":\"lines\",\"x\":[1200.0,1200.0,1222.5,1222.5],\"xaxis\":\"x\",\"y\":[0.027253270028608004,0.06915635366065023,0.06915635366065023,0.05081866241143939],\"yaxis\":\"y\",\"type\":\"scatter\"},{\"hoverinfo\":\"text\",\"marker\":{\"color\":\"rgb(255,220,0)\"},\"mode\":\"lines\",\"x\":[1180.0,1180.0,1211.25,1211.25],\"xaxis\":\"x\",\"y\":[0.035238649344528875,0.09596409205065605,0.09596409205065605,0.06915635366065023],\"yaxis\":\"y\",\"type\":\"scatter\"},{\"hoverinfo\":\"text\",\"marker\":{\"color\":\"rgb(255,220,0)\"},\"mode\":\"lines\",\"x\":[1245.0,1245.0,1255.0,1255.0],\"xaxis\":\"x\",\"y\":[0.0,0.043600771262699595,0.043600771262699595,0.0],\"yaxis\":\"y\",\"type\":\"scatter\"},{\"hoverinfo\":\"text\",\"marker\":{\"color\":\"rgb(255,220,0)\"},\"mode\":\"lines\",\"x\":[1275.0,1275.0,1285.0,1285.0],\"xaxis\":\"x\",\"y\":[0.0,0.041172490094016446,0.041172490094016446,0.0],\"yaxis\":\"y\",\"type\":\"scatter\"},{\"hoverinfo\":\"text\",\"marker\":{\"color\":\"rgb(255,220,0)\"},\"mode\":\"lines\",\"x\":[1265.0,1265.0,1280.0,1280.0],\"xaxis\":\"x\",\"y\":[0.0,0.05663829632924541,0.05663829632924541,0.041172490094016446],\"yaxis\":\"y\",\"type\":\"scatter\"},{\"hoverinfo\":\"text\",\"marker\":{\"color\":\"rgb(255,220,0)\"},\"mode\":\"lines\",\"x\":[1250.0,1250.0,1272.5,1272.5],\"xaxis\":\"x\",\"y\":[0.043600771262699595,0.06764102465357334,0.06764102465357334,0.05663829632924541],\"yaxis\":\"y\",\"type\":\"scatter\"},{\"hoverinfo\":\"text\",\"marker\":{\"color\":\"rgb(255,220,0)\"},\"mode\":\"lines\",\"x\":[1305.0,1305.0,1315.0,1315.0],\"xaxis\":\"x\",\"y\":[0.0,0.029142309066251242,0.029142309066251242,0.0],\"yaxis\":\"y\",\"type\":\"scatter\"},{\"hoverinfo\":\"text\",\"marker\":{\"color\":\"rgb(255,220,0)\"},\"mode\":\"lines\",\"x\":[1295.0,1295.0,1310.0,1310.0],\"xaxis\":\"x\",\"y\":[0.0,0.05033452608093792,0.05033452608093792,0.029142309066251242],\"yaxis\":\"y\",\"type\":\"scatter\"},{\"hoverinfo\":\"text\",\"marker\":{\"color\":\"rgb(255,220,0)\"},\"mode\":\"lines\",\"x\":[1325.0,1325.0,1335.0,1335.0],\"xaxis\":\"x\",\"y\":[0.0,0.05902930377180958,0.05902930377180958,0.0],\"yaxis\":\"y\",\"type\":\"scatter\"},{\"hoverinfo\":\"text\",\"marker\":{\"color\":\"rgb(255,220,0)\"},\"mode\":\"lines\",\"x\":[1302.5,1302.5,1330.0,1330.0],\"xaxis\":\"x\",\"y\":[0.05033452608093792,0.06941519844243679,0.06941519844243679,0.05902930377180958],\"yaxis\":\"y\",\"type\":\"scatter\"},{\"hoverinfo\":\"text\",\"marker\":{\"color\":\"rgb(255,220,0)\"},\"mode\":\"lines\",\"x\":[1261.25,1261.25,1316.25,1316.25],\"xaxis\":\"x\",\"y\":[0.06764102465357334,0.11852027700143668,0.11852027700143668,0.06941519844243679],\"yaxis\":\"y\",\"type\":\"scatter\"},{\"hoverinfo\":\"text\",\"marker\":{\"color\":\"rgb(255,220,0)\"},\"mode\":\"lines\",\"x\":[1195.625,1195.625,1288.75,1288.75],\"xaxis\":\"x\",\"y\":[0.09596409205065605,0.1591106502411306,0.1591106502411306,0.11852027700143668],\"yaxis\":\"y\",\"type\":\"scatter\"},{\"hoverinfo\":\"text\",\"marker\":{\"color\":\"rgb(255,220,0)\"},\"mode\":\"lines\",\"x\":[1131.875,1131.875,1242.1875,1242.1875],\"xaxis\":\"x\",\"y\":[0.1540668118434422,0.18109614009306393,0.18109614009306393,0.1591106502411306],\"yaxis\":\"y\",\"type\":\"scatter\"},{\"hoverinfo\":\"text\",\"marker\":{\"color\":\"rgb(40,35,35)\"},\"mode\":\"lines\",\"x\":[1345.0,1345.0,1355.0,1355.0],\"xaxis\":\"x\",\"y\":[0.0,0.044914782382357445,0.044914782382357445,0.0],\"yaxis\":\"y\",\"type\":\"scatter\"},{\"hoverinfo\":\"text\",\"marker\":{\"color\":\"rgb(40,35,35)\"},\"mode\":\"lines\",\"x\":[1365.0,1365.0,1375.0,1375.0],\"xaxis\":\"x\",\"y\":[0.0,0.05394092103397675,0.05394092103397675,0.0],\"yaxis\":\"y\",\"type\":\"scatter\"},{\"hoverinfo\":\"text\",\"marker\":{\"color\":\"rgb(40,35,35)\"},\"mode\":\"lines\",\"x\":[1405.0,1405.0,1415.0,1415.0],\"xaxis\":\"x\",\"y\":[0.0,0.015343134829976924,0.015343134829976924,0.0],\"yaxis\":\"y\",\"type\":\"scatter\"},{\"hoverinfo\":\"text\",\"marker\":{\"color\":\"rgb(40,35,35)\"},\"mode\":\"lines\",\"x\":[1395.0,1395.0,1410.0,1410.0],\"xaxis\":\"x\",\"y\":[0.0,0.0359520878160155,0.0359520878160155,0.015343134829976924],\"yaxis\":\"y\",\"type\":\"scatter\"},{\"hoverinfo\":\"text\",\"marker\":{\"color\":\"rgb(40,35,35)\"},\"mode\":\"lines\",\"x\":[1385.0,1385.0,1402.5,1402.5],\"xaxis\":\"x\",\"y\":[0.0,0.06793112692393265,0.06793112692393265,0.0359520878160155],\"yaxis\":\"y\",\"type\":\"scatter\"},{\"hoverinfo\":\"text\",\"marker\":{\"color\":\"rgb(40,35,35)\"},\"mode\":\"lines\",\"x\":[1370.0,1370.0,1393.75,1393.75],\"xaxis\":\"x\",\"y\":[0.05394092103397675,0.08294025477577902,0.08294025477577902,0.06793112692393265],\"yaxis\":\"y\",\"type\":\"scatter\"},{\"hoverinfo\":\"text\",\"marker\":{\"color\":\"rgb(40,35,35)\"},\"mode\":\"lines\",\"x\":[1350.0,1350.0,1381.875,1381.875],\"xaxis\":\"x\",\"y\":[0.044914782382357445,0.10039405148896081,0.10039405148896081,0.08294025477577902],\"yaxis\":\"y\",\"type\":\"scatter\"},{\"hoverinfo\":\"text\",\"marker\":{\"color\":\"rgb(40,35,35)\"},\"mode\":\"lines\",\"x\":[1425.0,1425.0,1435.0,1435.0],\"xaxis\":\"x\",\"y\":[0.0,0.06452861030756328,0.06452861030756328,0.0],\"yaxis\":\"y\",\"type\":\"scatter\"},{\"hoverinfo\":\"text\",\"marker\":{\"color\":\"rgb(40,35,35)\"},\"mode\":\"lines\",\"x\":[1455.0,1455.0,1465.0,1465.0],\"xaxis\":\"x\",\"y\":[0.0,0.03417060703765011,0.03417060703765011,0.0],\"yaxis\":\"y\",\"type\":\"scatter\"},{\"hoverinfo\":\"text\",\"marker\":{\"color\":\"rgb(40,35,35)\"},\"mode\":\"lines\",\"x\":[1445.0,1445.0,1460.0,1460.0],\"xaxis\":\"x\",\"y\":[0.0,0.04917051028027855,0.04917051028027855,0.03417060703765011],\"yaxis\":\"y\",\"type\":\"scatter\"},{\"hoverinfo\":\"text\",\"marker\":{\"color\":\"rgb(40,35,35)\"},\"mode\":\"lines\",\"x\":[1475.0,1475.0,1485.0,1485.0],\"xaxis\":\"x\",\"y\":[0.0,0.03443799497139671,0.03443799497139671,0.0],\"yaxis\":\"y\",\"type\":\"scatter\"},{\"hoverinfo\":\"text\",\"marker\":{\"color\":\"rgb(40,35,35)\"},\"mode\":\"lines\",\"x\":[1495.0,1495.0,1505.0,1505.0],\"xaxis\":\"x\",\"y\":[0.0,0.053933234041700445,0.053933234041700445,0.0],\"yaxis\":\"y\",\"type\":\"scatter\"},{\"hoverinfo\":\"text\",\"marker\":{\"color\":\"rgb(40,35,35)\"},\"mode\":\"lines\",\"x\":[1480.0,1480.0,1500.0,1500.0],\"xaxis\":\"x\",\"y\":[0.03443799497139671,0.086753813034342,0.086753813034342,0.053933234041700445],\"yaxis\":\"y\",\"type\":\"scatter\"},{\"hoverinfo\":\"text\",\"marker\":{\"color\":\"rgb(40,35,35)\"},\"mode\":\"lines\",\"x\":[1452.5,1452.5,1490.0,1490.0],\"xaxis\":\"x\",\"y\":[0.04917051028027855,0.1069160664241482,0.1069160664241482,0.086753813034342],\"yaxis\":\"y\",\"type\":\"scatter\"},{\"hoverinfo\":\"text\",\"marker\":{\"color\":\"rgb(40,35,35)\"},\"mode\":\"lines\",\"x\":[1430.0,1430.0,1471.25,1471.25],\"xaxis\":\"x\",\"y\":[0.06452861030756328,0.12483353337347429,0.12483353337347429,0.1069160664241482],\"yaxis\":\"y\",\"type\":\"scatter\"},{\"hoverinfo\":\"text\",\"marker\":{\"color\":\"rgb(40,35,35)\"},\"mode\":\"lines\",\"x\":[1365.9375,1365.9375,1450.625,1450.625],\"xaxis\":\"x\",\"y\":[0.10039405148896081,0.16220976566585124,0.16220976566585124,0.12483353337347429],\"yaxis\":\"y\",\"type\":\"scatter\"},{\"hoverinfo\":\"text\",\"marker\":{\"color\":\"rgb(40,35,35)\"},\"mode\":\"lines\",\"x\":[1525.0,1525.0,1535.0,1535.0],\"xaxis\":\"x\",\"y\":[0.0,0.03533744907744348,0.03533744907744348,0.0],\"yaxis\":\"y\",\"type\":\"scatter\"},{\"hoverinfo\":\"text\",\"marker\":{\"color\":\"rgb(40,35,35)\"},\"mode\":\"lines\",\"x\":[1515.0,1515.0,1530.0,1530.0],\"xaxis\":\"x\",\"y\":[0.0,0.06998674024719777,0.06998674024719777,0.03533744907744348],\"yaxis\":\"y\",\"type\":\"scatter\"},{\"hoverinfo\":\"text\",\"marker\":{\"color\":\"rgb(40,35,35)\"},\"mode\":\"lines\",\"x\":[1565.0,1565.0,1575.0,1575.0],\"xaxis\":\"x\",\"y\":[0.0,0.033594632615705625,0.033594632615705625,0.0],\"yaxis\":\"y\",\"type\":\"scatter\"},{\"hoverinfo\":\"text\",\"marker\":{\"color\":\"rgb(40,35,35)\"},\"mode\":\"lines\",\"x\":[1555.0,1555.0,1570.0,1570.0],\"xaxis\":\"x\",\"y\":[0.0,0.04084166428349936,0.04084166428349936,0.033594632615705625],\"yaxis\":\"y\",\"type\":\"scatter\"},{\"hoverinfo\":\"text\",\"marker\":{\"color\":\"rgb(40,35,35)\"},\"mode\":\"lines\",\"x\":[1545.0,1545.0,1562.5,1562.5],\"xaxis\":\"x\",\"y\":[0.0,0.07619806989692886,0.07619806989692886,0.04084166428349936],\"yaxis\":\"y\",\"type\":\"scatter\"},{\"hoverinfo\":\"text\",\"marker\":{\"color\":\"rgb(40,35,35)\"},\"mode\":\"lines\",\"x\":[1585.0,1585.0,1595.0,1595.0],\"xaxis\":\"x\",\"y\":[0.0,0.03861551582368818,0.03861551582368818,0.0],\"yaxis\":\"y\",\"type\":\"scatter\"},{\"hoverinfo\":\"text\",\"marker\":{\"color\":\"rgb(40,35,35)\"},\"mode\":\"lines\",\"x\":[1605.0,1605.0,1615.0,1615.0],\"xaxis\":\"x\",\"y\":[0.0,0.0619443146924638,0.0619443146924638,0.0],\"yaxis\":\"y\",\"type\":\"scatter\"},{\"hoverinfo\":\"text\",\"marker\":{\"color\":\"rgb(40,35,35)\"},\"mode\":\"lines\",\"x\":[1590.0,1590.0,1610.0,1610.0],\"xaxis\":\"x\",\"y\":[0.03861551582368818,0.0806859791325765,0.0806859791325765,0.0619443146924638],\"yaxis\":\"y\",\"type\":\"scatter\"},{\"hoverinfo\":\"text\",\"marker\":{\"color\":\"rgb(40,35,35)\"},\"mode\":\"lines\",\"x\":[1553.75,1553.75,1600.0,1600.0],\"xaxis\":\"x\",\"y\":[0.07619806989692886,0.09921137504207203,0.09921137504207203,0.0806859791325765],\"yaxis\":\"y\",\"type\":\"scatter\"},{\"hoverinfo\":\"text\",\"marker\":{\"color\":\"rgb(40,35,35)\"},\"mode\":\"lines\",\"x\":[1522.5,1522.5,1576.875,1576.875],\"xaxis\":\"x\",\"y\":[0.06998674024719777,0.10877874650652872,0.10877874650652872,0.09921137504207203],\"yaxis\":\"y\",\"type\":\"scatter\"},{\"hoverinfo\":\"text\",\"marker\":{\"color\":\"rgb(40,35,35)\"},\"mode\":\"lines\",\"x\":[1635.0,1635.0,1645.0,1645.0],\"xaxis\":\"x\",\"y\":[0.0,0.053603468376839464,0.053603468376839464,0.0],\"yaxis\":\"y\",\"type\":\"scatter\"},{\"hoverinfo\":\"text\",\"marker\":{\"color\":\"rgb(40,35,35)\"},\"mode\":\"lines\",\"x\":[1625.0,1625.0,1640.0,1640.0],\"xaxis\":\"x\",\"y\":[0.0,0.07920793768090362,0.07920793768090362,0.053603468376839464],\"yaxis\":\"y\",\"type\":\"scatter\"},{\"hoverinfo\":\"text\",\"marker\":{\"color\":\"rgb(40,35,35)\"},\"mode\":\"lines\",\"x\":[1655.0,1655.0,1665.0,1665.0],\"xaxis\":\"x\",\"y\":[0.0,0.06443064656841167,0.06443064656841167,0.0],\"yaxis\":\"y\",\"type\":\"scatter\"},{\"hoverinfo\":\"text\",\"marker\":{\"color\":\"rgb(40,35,35)\"},\"mode\":\"lines\",\"x\":[1675.0,1675.0,1685.0,1685.0],\"xaxis\":\"x\",\"y\":[0.0,0.06787043913971759,0.06787043913971759,0.0],\"yaxis\":\"y\",\"type\":\"scatter\"},{\"hoverinfo\":\"text\",\"marker\":{\"color\":\"rgb(40,35,35)\"},\"mode\":\"lines\",\"x\":[1660.0,1660.0,1680.0,1680.0],\"xaxis\":\"x\",\"y\":[0.06443064656841167,0.09295703044412203,0.09295703044412203,0.06787043913971759],\"yaxis\":\"y\",\"type\":\"scatter\"},{\"hoverinfo\":\"text\",\"marker\":{\"color\":\"rgb(40,35,35)\"},\"mode\":\"lines\",\"x\":[1632.5,1632.5,1670.0,1670.0],\"xaxis\":\"x\",\"y\":[0.07920793768090362,0.12447559818251114,0.12447559818251114,0.09295703044412203],\"yaxis\":\"y\",\"type\":\"scatter\"},{\"hoverinfo\":\"text\",\"marker\":{\"color\":\"rgb(40,35,35)\"},\"mode\":\"lines\",\"x\":[1549.6875,1549.6875,1651.25,1651.25],\"xaxis\":\"x\",\"y\":[0.10877874650652872,0.16908549693749253,0.16908549693749253,0.12447559818251114],\"yaxis\":\"y\",\"type\":\"scatter\"},{\"hoverinfo\":\"text\",\"marker\":{\"color\":\"rgb(40,35,35)\"},\"mode\":\"lines\",\"x\":[1408.28125,1408.28125,1600.46875,1600.46875],\"xaxis\":\"x\",\"y\":[0.16220976566585124,0.21837742529895773,0.21837742529895773,0.16908549693749253],\"yaxis\":\"y\",\"type\":\"scatter\"},{\"hoverinfo\":\"text\",\"marker\":{\"color\":\"rgb(61,153,112)\"},\"mode\":\"lines\",\"x\":[1705.0,1705.0,1715.0,1715.0],\"xaxis\":\"x\",\"y\":[0.0,0.0607246866974,0.0607246866974,0.0],\"yaxis\":\"y\",\"type\":\"scatter\"},{\"hoverinfo\":\"text\",\"marker\":{\"color\":\"rgb(61,153,112)\"},\"mode\":\"lines\",\"x\":[1695.0,1695.0,1710.0,1710.0],\"xaxis\":\"x\",\"y\":[0.0,0.08091651120870129,0.08091651120870129,0.0607246866974],\"yaxis\":\"y\",\"type\":\"scatter\"},{\"hoverinfo\":\"text\",\"marker\":{\"color\":\"rgb(61,153,112)\"},\"mode\":\"lines\",\"x\":[1735.0,1735.0,1745.0,1745.0],\"xaxis\":\"x\",\"y\":[0.0,0.03613766136257318,0.03613766136257318,0.0],\"yaxis\":\"y\",\"type\":\"scatter\"},{\"hoverinfo\":\"text\",\"marker\":{\"color\":\"rgb(61,153,112)\"},\"mode\":\"lines\",\"x\":[1755.0,1755.0,1765.0,1765.0],\"xaxis\":\"x\",\"y\":[0.0,0.055391502807562214,0.055391502807562214,0.0],\"yaxis\":\"y\",\"type\":\"scatter\"},{\"hoverinfo\":\"text\",\"marker\":{\"color\":\"rgb(61,153,112)\"},\"mode\":\"lines\",\"x\":[1740.0,1740.0,1760.0,1760.0],\"xaxis\":\"x\",\"y\":[0.03613766136257318,0.06935988413350931,0.06935988413350931,0.055391502807562214],\"yaxis\":\"y\",\"type\":\"scatter\"},{\"hoverinfo\":\"text\",\"marker\":{\"color\":\"rgb(61,153,112)\"},\"mode\":\"lines\",\"x\":[1725.0,1725.0,1750.0,1750.0],\"xaxis\":\"x\",\"y\":[0.0,0.10136835314920782,0.10136835314920782,0.06935988413350931],\"yaxis\":\"y\",\"type\":\"scatter\"},{\"hoverinfo\":\"text\",\"marker\":{\"color\":\"rgb(61,153,112)\"},\"mode\":\"lines\",\"x\":[1702.5,1702.5,1737.5,1737.5],\"xaxis\":\"x\",\"y\":[0.08091651120870129,0.16017591276642615,0.16017591276642615,0.10136835314920782],\"yaxis\":\"y\",\"type\":\"scatter\"},{\"hoverinfo\":\"text\",\"marker\":{\"color\":\"rgb(61,153,112)\"},\"mode\":\"lines\",\"x\":[1775.0,1775.0,1785.0,1785.0],\"xaxis\":\"x\",\"y\":[0.0,0.0672219628315069,0.0672219628315069,0.0],\"yaxis\":\"y\",\"type\":\"scatter\"},{\"hoverinfo\":\"text\",\"marker\":{\"color\":\"rgb(61,153,112)\"},\"mode\":\"lines\",\"x\":[1805.0,1805.0,1815.0,1815.0],\"xaxis\":\"x\",\"y\":[0.0,0.03111813688365113,0.03111813688365113,0.0],\"yaxis\":\"y\",\"type\":\"scatter\"},{\"hoverinfo\":\"text\",\"marker\":{\"color\":\"rgb(61,153,112)\"},\"mode\":\"lines\",\"x\":[1795.0,1795.0,1810.0,1810.0],\"xaxis\":\"x\",\"y\":[0.0,0.04799430107130964,0.04799430107130964,0.03111813688365113],\"yaxis\":\"y\",\"type\":\"scatter\"},{\"hoverinfo\":\"text\",\"marker\":{\"color\":\"rgb(61,153,112)\"},\"mode\":\"lines\",\"x\":[1825.0,1825.0,1835.0,1835.0],\"xaxis\":\"x\",\"y\":[0.0,0.03815055686107268,0.03815055686107268,0.0],\"yaxis\":\"y\",\"type\":\"scatter\"},{\"hoverinfo\":\"text\",\"marker\":{\"color\":\"rgb(61,153,112)\"},\"mode\":\"lines\",\"x\":[1845.0,1845.0,1855.0,1855.0],\"xaxis\":\"x\",\"y\":[0.0,0.04638746739013449,0.04638746739013449,0.0],\"yaxis\":\"y\",\"type\":\"scatter\"},{\"hoverinfo\":\"text\",\"marker\":{\"color\":\"rgb(61,153,112)\"},\"mode\":\"lines\",\"x\":[1830.0,1830.0,1850.0,1850.0],\"xaxis\":\"x\",\"y\":[0.03815055686107268,0.07576848226378582,0.07576848226378582,0.04638746739013449],\"yaxis\":\"y\",\"type\":\"scatter\"},{\"hoverinfo\":\"text\",\"marker\":{\"color\":\"rgb(61,153,112)\"},\"mode\":\"lines\",\"x\":[1802.5,1802.5,1840.0,1840.0],\"xaxis\":\"x\",\"y\":[0.04799430107130964,0.10982429653086125,0.10982429653086125,0.07576848226378582],\"yaxis\":\"y\",\"type\":\"scatter\"},{\"hoverinfo\":\"text\",\"marker\":{\"color\":\"rgb(61,153,112)\"},\"mode\":\"lines\",\"x\":[1780.0,1780.0,1821.25,1821.25],\"xaxis\":\"x\",\"y\":[0.0672219628315069,0.12272111028198121,0.12272111028198121,0.10982429653086125],\"yaxis\":\"y\",\"type\":\"scatter\"},{\"hoverinfo\":\"text\",\"marker\":{\"color\":\"rgb(61,153,112)\"},\"mode\":\"lines\",\"x\":[1865.0,1865.0,1875.0,1875.0],\"xaxis\":\"x\",\"y\":[0.0,0.042009748456998376,0.042009748456998376,0.0],\"yaxis\":\"y\",\"type\":\"scatter\"},{\"hoverinfo\":\"text\",\"marker\":{\"color\":\"rgb(61,153,112)\"},\"mode\":\"lines\",\"x\":[1885.0,1885.0,1895.0,1895.0],\"xaxis\":\"x\",\"y\":[0.0,0.04546741922927636,0.04546741922927636,0.0],\"yaxis\":\"y\",\"type\":\"scatter\"},{\"hoverinfo\":\"text\",\"marker\":{\"color\":\"rgb(61,153,112)\"},\"mode\":\"lines\",\"x\":[1905.0,1905.0,1915.0,1915.0],\"xaxis\":\"x\",\"y\":[0.0,0.0667781012899687,0.0667781012899687,0.0],\"yaxis\":\"y\",\"type\":\"scatter\"},{\"hoverinfo\":\"text\",\"marker\":{\"color\":\"rgb(61,153,112)\"},\"mode\":\"lines\",\"x\":[1890.0,1890.0,1910.0,1910.0],\"xaxis\":\"x\",\"y\":[0.04546741922927636,0.07158307153101001,0.07158307153101001,0.0667781012899687],\"yaxis\":\"y\",\"type\":\"scatter\"},{\"hoverinfo\":\"text\",\"marker\":{\"color\":\"rgb(61,153,112)\"},\"mode\":\"lines\",\"x\":[1870.0,1870.0,1900.0,1900.0],\"xaxis\":\"x\",\"y\":[0.042009748456998376,0.10948294912468491,0.10948294912468491,0.07158307153101001],\"yaxis\":\"y\",\"type\":\"scatter\"},{\"hoverinfo\":\"text\",\"marker\":{\"color\":\"rgb(61,153,112)\"},\"mode\":\"lines\",\"x\":[1925.0,1925.0,1935.0,1935.0],\"xaxis\":\"x\",\"y\":[0.0,0.04673600977209145,0.04673600977209145,0.0],\"yaxis\":\"y\",\"type\":\"scatter\"},{\"hoverinfo\":\"text\",\"marker\":{\"color\":\"rgb(61,153,112)\"},\"mode\":\"lines\",\"x\":[1965.0,1965.0,1975.0,1975.0],\"xaxis\":\"x\",\"y\":[0.0,0.025949054723624167,0.025949054723624167,0.0],\"yaxis\":\"y\",\"type\":\"scatter\"},{\"hoverinfo\":\"text\",\"marker\":{\"color\":\"rgb(61,153,112)\"},\"mode\":\"lines\",\"x\":[1955.0,1955.0,1970.0,1970.0],\"xaxis\":\"x\",\"y\":[0.0,0.051263216966495086,0.051263216966495086,0.025949054723624167],\"yaxis\":\"y\",\"type\":\"scatter\"},{\"hoverinfo\":\"text\",\"marker\":{\"color\":\"rgb(61,153,112)\"},\"mode\":\"lines\",\"x\":[1945.0,1945.0,1962.5,1962.5],\"xaxis\":\"x\",\"y\":[0.0,0.078669900431459,0.078669900431459,0.051263216966495086],\"yaxis\":\"y\",\"type\":\"scatter\"},{\"hoverinfo\":\"text\",\"marker\":{\"color\":\"rgb(61,153,112)\"},\"mode\":\"lines\",\"x\":[1930.0,1930.0,1953.75,1953.75],\"xaxis\":\"x\",\"y\":[0.04673600977209145,0.13316075081302023,0.13316075081302023,0.078669900431459],\"yaxis\":\"y\",\"type\":\"scatter\"},{\"hoverinfo\":\"text\",\"marker\":{\"color\":\"rgb(61,153,112)\"},\"mode\":\"lines\",\"x\":[1885.0,1885.0,1941.875,1941.875],\"xaxis\":\"x\",\"y\":[0.10948294912468491,0.14762926882709876,0.14762926882709876,0.13316075081302023],\"yaxis\":\"y\",\"type\":\"scatter\"},{\"hoverinfo\":\"text\",\"marker\":{\"color\":\"rgb(61,153,112)\"},\"mode\":\"lines\",\"x\":[1800.625,1800.625,1913.4375,1913.4375],\"xaxis\":\"x\",\"y\":[0.12272111028198121,0.19916204182169717,0.19916204182169717,0.14762926882709876],\"yaxis\":\"y\",\"type\":\"scatter\"},{\"hoverinfo\":\"text\",\"marker\":{\"color\":\"rgb(61,153,112)\"},\"mode\":\"lines\",\"x\":[1720.0,1720.0,1857.03125,1857.03125],\"xaxis\":\"x\",\"y\":[0.16017591276642615,0.22644400180414817,0.22644400180414817,0.19916204182169717],\"yaxis\":\"y\",\"type\":\"scatter\"},{\"hoverinfo\":\"text\",\"marker\":{\"color\":\"rgb(0,116,217)\"},\"mode\":\"lines\",\"x\":[1504.375,1504.375,1788.515625,1788.515625],\"xaxis\":\"x\",\"y\":[0.21837742529895773,0.27086914767057685,0.27086914767057685,0.22644400180414817],\"yaxis\":\"y\",\"type\":\"scatter\"},{\"hoverinfo\":\"text\",\"marker\":{\"color\":\"rgb(0,116,217)\"},\"mode\":\"lines\",\"x\":[1187.03125,1187.03125,1646.4453125,1646.4453125],\"xaxis\":\"x\",\"y\":[0.18109614009306393,0.2878131145478952,0.2878131145478952,0.27086914767057685],\"yaxis\":\"y\",\"type\":\"scatter\"},{\"hoverinfo\":\"text\",\"marker\":{\"color\":\"rgb(255,65,54)\"},\"mode\":\"lines\",\"x\":[1995.0,1995.0,2005.0,2005.0],\"xaxis\":\"x\",\"y\":[0.0,0.033781407895586084,0.033781407895586084,0.0],\"yaxis\":\"y\",\"type\":\"scatter\"},{\"hoverinfo\":\"text\",\"marker\":{\"color\":\"rgb(255,65,54)\"},\"mode\":\"lines\",\"x\":[1985.0,1985.0,2000.0,2000.0],\"xaxis\":\"x\",\"y\":[0.0,0.05106722528920354,0.05106722528920354,0.033781407895586084],\"yaxis\":\"y\",\"type\":\"scatter\"},{\"hoverinfo\":\"text\",\"marker\":{\"color\":\"rgb(255,65,54)\"},\"mode\":\"lines\",\"x\":[2015.0,2015.0,2025.0,2025.0],\"xaxis\":\"x\",\"y\":[0.0,0.05466409806823769,0.05466409806823769,0.0],\"yaxis\":\"y\",\"type\":\"scatter\"},{\"hoverinfo\":\"text\",\"marker\":{\"color\":\"rgb(255,65,54)\"},\"mode\":\"lines\",\"x\":[1992.5,1992.5,2020.0,2020.0],\"xaxis\":\"x\",\"y\":[0.05106722528920354,0.0914364428474876,0.0914364428474876,0.05466409806823769],\"yaxis\":\"y\",\"type\":\"scatter\"},{\"hoverinfo\":\"text\",\"marker\":{\"color\":\"rgb(255,65,54)\"},\"mode\":\"lines\",\"x\":[2065.0,2065.0,2075.0,2075.0],\"xaxis\":\"x\",\"y\":[0.0,0.02330469038219861,0.02330469038219861,0.0],\"yaxis\":\"y\",\"type\":\"scatter\"},{\"hoverinfo\":\"text\",\"marker\":{\"color\":\"rgb(255,65,54)\"},\"mode\":\"lines\",\"x\":[2055.0,2055.0,2070.0,2070.0],\"xaxis\":\"x\",\"y\":[0.0,0.05193341229936624,0.05193341229936624,0.02330469038219861],\"yaxis\":\"y\",\"type\":\"scatter\"},{\"hoverinfo\":\"text\",\"marker\":{\"color\":\"rgb(255,65,54)\"},\"mode\":\"lines\",\"x\":[2045.0,2045.0,2062.5,2062.5],\"xaxis\":\"x\",\"y\":[0.0,0.06310477511830882,0.06310477511830882,0.05193341229936624],\"yaxis\":\"y\",\"type\":\"scatter\"},{\"hoverinfo\":\"text\",\"marker\":{\"color\":\"rgb(255,65,54)\"},\"mode\":\"lines\",\"x\":[2035.0,2035.0,2053.75,2053.75],\"xaxis\":\"x\",\"y\":[0.0,0.10219343729005836,0.10219343729005836,0.06310477511830882],\"yaxis\":\"y\",\"type\":\"scatter\"},{\"hoverinfo\":\"text\",\"marker\":{\"color\":\"rgb(255,65,54)\"},\"mode\":\"lines\",\"x\":[2006.25,2006.25,2044.375,2044.375],\"xaxis\":\"x\",\"y\":[0.0914364428474876,0.13684177671068873,0.13684177671068873,0.10219343729005836],\"yaxis\":\"y\",\"type\":\"scatter\"},{\"hoverinfo\":\"text\",\"marker\":{\"color\":\"rgb(35,205,205)\"},\"mode\":\"lines\",\"x\":[2085.0,2085.0,2095.0,2095.0],\"xaxis\":\"x\",\"y\":[0.0,0.024905193693500756,0.024905193693500756,0.0],\"yaxis\":\"y\",\"type\":\"scatter\"},{\"hoverinfo\":\"text\",\"marker\":{\"color\":\"rgb(35,205,205)\"},\"mode\":\"lines\",\"x\":[2115.0,2115.0,2125.0,2125.0],\"xaxis\":\"x\",\"y\":[0.0,0.060604423231595726,0.060604423231595726,0.0],\"yaxis\":\"y\",\"type\":\"scatter\"},{\"hoverinfo\":\"text\",\"marker\":{\"color\":\"rgb(35,205,205)\"},\"mode\":\"lines\",\"x\":[2105.0,2105.0,2120.0,2120.0],\"xaxis\":\"x\",\"y\":[0.0,0.0752891949380637,0.0752891949380637,0.060604423231595726],\"yaxis\":\"y\",\"type\":\"scatter\"},{\"hoverinfo\":\"text\",\"marker\":{\"color\":\"rgb(35,205,205)\"},\"mode\":\"lines\",\"x\":[2090.0,2090.0,2112.5,2112.5],\"xaxis\":\"x\",\"y\":[0.024905193693500756,0.10548201833849176,0.10548201833849176,0.0752891949380637],\"yaxis\":\"y\",\"type\":\"scatter\"},{\"hoverinfo\":\"text\",\"marker\":{\"color\":\"rgb(35,205,205)\"},\"mode\":\"lines\",\"x\":[2135.0,2135.0,2145.0,2145.0],\"xaxis\":\"x\",\"y\":[0.0,0.056774769691345664,0.056774769691345664,0.0],\"yaxis\":\"y\",\"type\":\"scatter\"},{\"hoverinfo\":\"text\",\"marker\":{\"color\":\"rgb(35,205,205)\"},\"mode\":\"lines\",\"x\":[2175.0,2175.0,2185.0,2185.0],\"xaxis\":\"x\",\"y\":[0.0,0.031173076830937167,0.031173076830937167,0.0],\"yaxis\":\"y\",\"type\":\"scatter\"},{\"hoverinfo\":\"text\",\"marker\":{\"color\":\"rgb(35,205,205)\"},\"mode\":\"lines\",\"x\":[2165.0,2165.0,2180.0,2180.0],\"xaxis\":\"x\",\"y\":[0.0,0.05366755679324887,0.05366755679324887,0.031173076830937167],\"yaxis\":\"y\",\"type\":\"scatter\"},{\"hoverinfo\":\"text\",\"marker\":{\"color\":\"rgb(35,205,205)\"},\"mode\":\"lines\",\"x\":[2155.0,2155.0,2172.5,2172.5],\"xaxis\":\"x\",\"y\":[0.0,0.07882087106059306,0.07882087106059306,0.05366755679324887],\"yaxis\":\"y\",\"type\":\"scatter\"},{\"hoverinfo\":\"text\",\"marker\":{\"color\":\"rgb(35,205,205)\"},\"mode\":\"lines\",\"x\":[2205.0,2205.0,2215.0,2215.0],\"xaxis\":\"x\",\"y\":[0.0,0.04483769565381697,0.04483769565381697,0.0],\"yaxis\":\"y\",\"type\":\"scatter\"},{\"hoverinfo\":\"text\",\"marker\":{\"color\":\"rgb(35,205,205)\"},\"mode\":\"lines\",\"x\":[2195.0,2195.0,2210.0,2210.0],\"xaxis\":\"x\",\"y\":[0.0,0.08228828132051584,0.08228828132051584,0.04483769565381697],\"yaxis\":\"y\",\"type\":\"scatter\"},{\"hoverinfo\":\"text\",\"marker\":{\"color\":\"rgb(35,205,205)\"},\"mode\":\"lines\",\"x\":[2163.75,2163.75,2202.5,2202.5],\"xaxis\":\"x\",\"y\":[0.07882087106059306,0.11258743560164675,0.11258743560164675,0.08228828132051584],\"yaxis\":\"y\",\"type\":\"scatter\"},{\"hoverinfo\":\"text\",\"marker\":{\"color\":\"rgb(35,205,205)\"},\"mode\":\"lines\",\"x\":[2140.0,2140.0,2183.125,2183.125],\"xaxis\":\"x\",\"y\":[0.056774769691345664,0.12124791330245085,0.12124791330245085,0.11258743560164675],\"yaxis\":\"y\",\"type\":\"scatter\"},{\"hoverinfo\":\"text\",\"marker\":{\"color\":\"rgb(35,205,205)\"},\"mode\":\"lines\",\"x\":[2101.25,2101.25,2161.5625,2161.5625],\"xaxis\":\"x\",\"y\":[0.10548201833849176,0.15309906894951225,0.15309906894951225,0.12124791330245085],\"yaxis\":\"y\",\"type\":\"scatter\"},{\"hoverinfo\":\"text\",\"marker\":{\"color\":\"rgb(35,205,205)\"},\"mode\":\"lines\",\"x\":[2235.0,2235.0,2245.0,2245.0],\"xaxis\":\"x\",\"y\":[0.0,0.04949544384019887,0.04949544384019887,0.0],\"yaxis\":\"y\",\"type\":\"scatter\"},{\"hoverinfo\":\"text\",\"marker\":{\"color\":\"rgb(35,205,205)\"},\"mode\":\"lines\",\"x\":[2225.0,2225.0,2240.0,2240.0],\"xaxis\":\"x\",\"y\":[0.0,0.07478027800070255,0.07478027800070255,0.04949544384019887],\"yaxis\":\"y\",\"type\":\"scatter\"},{\"hoverinfo\":\"text\",\"marker\":{\"color\":\"rgb(35,205,205)\"},\"mode\":\"lines\",\"x\":[2275.0,2275.0,2285.0,2285.0],\"xaxis\":\"x\",\"y\":[0.0,0.04533664561824869,0.04533664561824869,0.0],\"yaxis\":\"y\",\"type\":\"scatter\"},{\"hoverinfo\":\"text\",\"marker\":{\"color\":\"rgb(35,205,205)\"},\"mode\":\"lines\",\"x\":[2265.0,2265.0,2280.0,2280.0],\"xaxis\":\"x\",\"y\":[0.0,0.05678430493613131,0.05678430493613131,0.04533664561824869],\"yaxis\":\"y\",\"type\":\"scatter\"},{\"hoverinfo\":\"text\",\"marker\":{\"color\":\"rgb(35,205,205)\"},\"mode\":\"lines\",\"x\":[2255.0,2255.0,2272.5,2272.5],\"xaxis\":\"x\",\"y\":[0.0,0.07301049689673113,0.07301049689673113,0.05678430493613131],\"yaxis\":\"y\",\"type\":\"scatter\"},{\"hoverinfo\":\"text\",\"marker\":{\"color\":\"rgb(35,205,205)\"},\"mode\":\"lines\",\"x\":[2295.0,2295.0,2305.0,2305.0],\"xaxis\":\"x\",\"y\":[0.0,0.0411500707866215,0.0411500707866215,0.0],\"yaxis\":\"y\",\"type\":\"scatter\"},{\"hoverinfo\":\"text\",\"marker\":{\"color\":\"rgb(35,205,205)\"},\"mode\":\"lines\",\"x\":[2315.0,2315.0,2325.0,2325.0],\"xaxis\":\"x\",\"y\":[0.0,0.05001584981448033,0.05001584981448033,0.0],\"yaxis\":\"y\",\"type\":\"scatter\"},{\"hoverinfo\":\"text\",\"marker\":{\"color\":\"rgb(35,205,205)\"},\"mode\":\"lines\",\"x\":[2300.0,2300.0,2320.0,2320.0],\"xaxis\":\"x\",\"y\":[0.0411500707866215,0.08723214077957743,0.08723214077957743,0.05001584981448033],\"yaxis\":\"y\",\"type\":\"scatter\"},{\"hoverinfo\":\"text\",\"marker\":{\"color\":\"rgb(35,205,205)\"},\"mode\":\"lines\",\"x\":[2263.75,2263.75,2310.0,2310.0],\"xaxis\":\"x\",\"y\":[0.07301049689673113,0.10241181889881218,0.10241181889881218,0.08723214077957743],\"yaxis\":\"y\",\"type\":\"scatter\"},{\"hoverinfo\":\"text\",\"marker\":{\"color\":\"rgb(35,205,205)\"},\"mode\":\"lines\",\"x\":[2232.5,2232.5,2286.875,2286.875],\"xaxis\":\"x\",\"y\":[0.07478027800070255,0.13007780970766367,0.13007780970766367,0.10241181889881218],\"yaxis\":\"y\",\"type\":\"scatter\"},{\"hoverinfo\":\"text\",\"marker\":{\"color\":\"rgb(35,205,205)\"},\"mode\":\"lines\",\"x\":[2345.0,2345.0,2355.0,2355.0],\"xaxis\":\"x\",\"y\":[0.0,0.052702395022356206,0.052702395022356206,0.0],\"yaxis\":\"y\",\"type\":\"scatter\"},{\"hoverinfo\":\"text\",\"marker\":{\"color\":\"rgb(35,205,205)\"},\"mode\":\"lines\",\"x\":[2335.0,2335.0,2350.0,2350.0],\"xaxis\":\"x\",\"y\":[0.0,0.06266193390516574,0.06266193390516574,0.052702395022356206],\"yaxis\":\"y\",\"type\":\"scatter\"},{\"hoverinfo\":\"text\",\"marker\":{\"color\":\"rgb(35,205,205)\"},\"mode\":\"lines\",\"x\":[2375.0,2375.0,2385.0,2385.0],\"xaxis\":\"x\",\"y\":[0.0,0.036221871355569056,0.036221871355569056,0.0],\"yaxis\":\"y\",\"type\":\"scatter\"},{\"hoverinfo\":\"text\",\"marker\":{\"color\":\"rgb(35,205,205)\"},\"mode\":\"lines\",\"x\":[2365.0,2365.0,2380.0,2380.0],\"xaxis\":\"x\",\"y\":[0.0,0.10355765866259381,0.10355765866259381,0.036221871355569056],\"yaxis\":\"y\",\"type\":\"scatter\"},{\"hoverinfo\":\"text\",\"marker\":{\"color\":\"rgb(35,205,205)\"},\"mode\":\"lines\",\"x\":[2342.5,2342.5,2372.5,2372.5],\"xaxis\":\"x\",\"y\":[0.06266193390516574,0.1062069062674159,0.1062069062674159,0.10355765866259381],\"yaxis\":\"y\",\"type\":\"scatter\"},{\"hoverinfo\":\"text\",\"marker\":{\"color\":\"rgb(35,205,205)\"},\"mode\":\"lines\",\"x\":[2405.0,2405.0,2415.0,2415.0],\"xaxis\":\"x\",\"y\":[0.0,0.049910522653638364,0.049910522653638364,0.0],\"yaxis\":\"y\",\"type\":\"scatter\"},{\"hoverinfo\":\"text\",\"marker\":{\"color\":\"rgb(35,205,205)\"},\"mode\":\"lines\",\"x\":[2395.0,2395.0,2410.0,2410.0],\"xaxis\":\"x\",\"y\":[0.0,0.062215617256552114,0.062215617256552114,0.049910522653638364],\"yaxis\":\"y\",\"type\":\"scatter\"},{\"hoverinfo\":\"text\",\"marker\":{\"color\":\"rgb(35,205,205)\"},\"mode\":\"lines\",\"x\":[2425.0,2425.0,2435.0,2435.0],\"xaxis\":\"x\",\"y\":[0.0,0.05657107532582488,0.05657107532582488,0.0],\"yaxis\":\"y\",\"type\":\"scatter\"},{\"hoverinfo\":\"text\",\"marker\":{\"color\":\"rgb(35,205,205)\"},\"mode\":\"lines\",\"x\":[2455.0,2455.0,2465.0,2465.0],\"xaxis\":\"x\",\"y\":[0.0,0.0372793215821078,0.0372793215821078,0.0],\"yaxis\":\"y\",\"type\":\"scatter\"},{\"hoverinfo\":\"text\",\"marker\":{\"color\":\"rgb(35,205,205)\"},\"mode\":\"lines\",\"x\":[2445.0,2445.0,2460.0,2460.0],\"xaxis\":\"x\",\"y\":[0.0,0.06077362369003652,0.06077362369003652,0.0372793215821078],\"yaxis\":\"y\",\"type\":\"scatter\"},{\"hoverinfo\":\"text\",\"marker\":{\"color\":\"rgb(35,205,205)\"},\"mode\":\"lines\",\"x\":[2430.0,2430.0,2452.5,2452.5],\"xaxis\":\"x\",\"y\":[0.05657107532582488,0.08747469430915768,0.08747469430915768,0.06077362369003652],\"yaxis\":\"y\",\"type\":\"scatter\"},{\"hoverinfo\":\"text\",\"marker\":{\"color\":\"rgb(35,205,205)\"},\"mode\":\"lines\",\"x\":[2402.5,2402.5,2441.25,2441.25],\"xaxis\":\"x\",\"y\":[0.062215617256552114,0.10918880196513191,0.10918880196513191,0.08747469430915768],\"yaxis\":\"y\",\"type\":\"scatter\"},{\"hoverinfo\":\"text\",\"marker\":{\"color\":\"rgb(35,205,205)\"},\"mode\":\"lines\",\"x\":[2357.5,2357.5,2421.875,2421.875],\"xaxis\":\"x\",\"y\":[0.1062069062674159,0.14765075180102163,0.14765075180102163,0.10918880196513191],\"yaxis\":\"y\",\"type\":\"scatter\"},{\"hoverinfo\":\"text\",\"marker\":{\"color\":\"rgb(35,205,205)\"},\"mode\":\"lines\",\"x\":[2259.6875,2259.6875,2389.6875,2389.6875],\"xaxis\":\"x\",\"y\":[0.13007780970766367,0.190798432444674,0.190798432444674,0.14765075180102163],\"yaxis\":\"y\",\"type\":\"scatter\"},{\"hoverinfo\":\"text\",\"marker\":{\"color\":\"rgb(35,205,205)\"},\"mode\":\"lines\",\"x\":[2131.40625,2131.40625,2324.6875,2324.6875],\"xaxis\":\"x\",\"y\":[0.15309906894951225,0.22493835283966024,0.22493835283966024,0.190798432444674],\"yaxis\":\"y\",\"type\":\"scatter\"},{\"hoverinfo\":\"text\",\"marker\":{\"color\":\"rgb(0,116,217)\"},\"mode\":\"lines\",\"x\":[2025.3125,2025.3125,2228.046875,2228.046875],\"xaxis\":\"x\",\"y\":[0.13684177671068873,0.2558729871768142,0.2558729871768142,0.22493835283966024],\"yaxis\":\"y\",\"type\":\"scatter\"},{\"hoverinfo\":\"text\",\"marker\":{\"color\":\"rgb(61,153,112)\"},\"mode\":\"lines\",\"x\":[2485.0,2485.0,2495.0,2495.0],\"xaxis\":\"x\",\"y\":[0.0,0.029719729705712034,0.029719729705712034,0.0],\"yaxis\":\"y\",\"type\":\"scatter\"},{\"hoverinfo\":\"text\",\"marker\":{\"color\":\"rgb(61,153,112)\"},\"mode\":\"lines\",\"x\":[2475.0,2475.0,2490.0,2490.0],\"xaxis\":\"x\",\"y\":[0.0,0.054547292473009205,0.054547292473009205,0.029719729705712034],\"yaxis\":\"y\",\"type\":\"scatter\"},{\"hoverinfo\":\"text\",\"marker\":{\"color\":\"rgb(61,153,112)\"},\"mode\":\"lines\",\"x\":[2515.0,2515.0,2525.0,2525.0],\"xaxis\":\"x\",\"y\":[0.0,0.04195896989202498,0.04195896989202498,0.0],\"yaxis\":\"y\",\"type\":\"scatter\"},{\"hoverinfo\":\"text\",\"marker\":{\"color\":\"rgb(61,153,112)\"},\"mode\":\"lines\",\"x\":[2505.0,2505.0,2520.0,2520.0],\"xaxis\":\"x\",\"y\":[0.0,0.08249271100600711,0.08249271100600711,0.04195896989202498],\"yaxis\":\"y\",\"type\":\"scatter\"},{\"hoverinfo\":\"text\",\"marker\":{\"color\":\"rgb(61,153,112)\"},\"mode\":\"lines\",\"x\":[2482.5,2482.5,2512.5,2512.5],\"xaxis\":\"x\",\"y\":[0.054547292473009205,0.09422905085687157,0.09422905085687157,0.08249271100600711],\"yaxis\":\"y\",\"type\":\"scatter\"},{\"hoverinfo\":\"text\",\"marker\":{\"color\":\"rgb(61,153,112)\"},\"mode\":\"lines\",\"x\":[2535.0,2535.0,2545.0,2545.0],\"xaxis\":\"x\",\"y\":[0.0,0.05396805311600018,0.05396805311600018,0.0],\"yaxis\":\"y\",\"type\":\"scatter\"},{\"hoverinfo\":\"text\",\"marker\":{\"color\":\"rgb(61,153,112)\"},\"mode\":\"lines\",\"x\":[2555.0,2555.0,2565.0,2565.0],\"xaxis\":\"x\",\"y\":[0.0,0.04091583362222171,0.04091583362222171,0.0],\"yaxis\":\"y\",\"type\":\"scatter\"},{\"hoverinfo\":\"text\",\"marker\":{\"color\":\"rgb(61,153,112)\"},\"mode\":\"lines\",\"x\":[2575.0,2575.0,2585.0,2585.0],\"xaxis\":\"x\",\"y\":[0.0,0.048508681917437534,0.048508681917437534,0.0],\"yaxis\":\"y\",\"type\":\"scatter\"},{\"hoverinfo\":\"text\",\"marker\":{\"color\":\"rgb(61,153,112)\"},\"mode\":\"lines\",\"x\":[2560.0,2560.0,2580.0,2580.0],\"xaxis\":\"x\",\"y\":[0.04091583362222171,0.0793938379501224,0.0793938379501224,0.048508681917437534],\"yaxis\":\"y\",\"type\":\"scatter\"},{\"hoverinfo\":\"text\",\"marker\":{\"color\":\"rgb(61,153,112)\"},\"mode\":\"lines\",\"x\":[2540.0,2540.0,2570.0,2570.0],\"xaxis\":\"x\",\"y\":[0.05396805311600018,0.09947875340031255,0.09947875340031255,0.0793938379501224],\"yaxis\":\"y\",\"type\":\"scatter\"},{\"hoverinfo\":\"text\",\"marker\":{\"color\":\"rgb(61,153,112)\"},\"mode\":\"lines\",\"x\":[2497.5,2497.5,2555.0,2555.0],\"xaxis\":\"x\",\"y\":[0.09422905085687157,0.14377555635615696,0.14377555635615696,0.09947875340031255],\"yaxis\":\"y\",\"type\":\"scatter\"},{\"hoverinfo\":\"text\",\"marker\":{\"color\":\"rgb(61,153,112)\"},\"mode\":\"lines\",\"x\":[2595.0,2595.0,2605.0,2605.0],\"xaxis\":\"x\",\"y\":[0.0,0.06946190196714416,0.06946190196714416,0.0],\"yaxis\":\"y\",\"type\":\"scatter\"},{\"hoverinfo\":\"text\",\"marker\":{\"color\":\"rgb(61,153,112)\"},\"mode\":\"lines\",\"x\":[2615.0,2615.0,2625.0,2625.0],\"xaxis\":\"x\",\"y\":[0.0,0.053280773680061,0.053280773680061,0.0],\"yaxis\":\"y\",\"type\":\"scatter\"},{\"hoverinfo\":\"text\",\"marker\":{\"color\":\"rgb(61,153,112)\"},\"mode\":\"lines\",\"x\":[2645.0,2645.0,2655.0,2655.0],\"xaxis\":\"x\",\"y\":[0.0,0.059403437209345496,0.059403437209345496,0.0],\"yaxis\":\"y\",\"type\":\"scatter\"},{\"hoverinfo\":\"text\",\"marker\":{\"color\":\"rgb(61,153,112)\"},\"mode\":\"lines\",\"x\":[2635.0,2635.0,2650.0,2650.0],\"xaxis\":\"x\",\"y\":[0.0,0.07895060295931611,0.07895060295931611,0.059403437209345496],\"yaxis\":\"y\",\"type\":\"scatter\"},{\"hoverinfo\":\"text\",\"marker\":{\"color\":\"rgb(61,153,112)\"},\"mode\":\"lines\",\"x\":[2620.0,2620.0,2642.5,2642.5],\"xaxis\":\"x\",\"y\":[0.053280773680061,0.09720139460794121,0.09720139460794121,0.07895060295931611],\"yaxis\":\"y\",\"type\":\"scatter\"},{\"hoverinfo\":\"text\",\"marker\":{\"color\":\"rgb(61,153,112)\"},\"mode\":\"lines\",\"x\":[2600.0,2600.0,2631.25,2631.25],\"xaxis\":\"x\",\"y\":[0.06946190196714416,0.11610122186405199,0.11610122186405199,0.09720139460794121],\"yaxis\":\"y\",\"type\":\"scatter\"},{\"hoverinfo\":\"text\",\"marker\":{\"color\":\"rgb(61,153,112)\"},\"mode\":\"lines\",\"x\":[2695.0,2695.0,2705.0,2705.0],\"xaxis\":\"x\",\"y\":[0.0,0.049494855668205155,0.049494855668205155,0.0],\"yaxis\":\"y\",\"type\":\"scatter\"},{\"hoverinfo\":\"text\",\"marker\":{\"color\":\"rgb(61,153,112)\"},\"mode\":\"lines\",\"x\":[2685.0,2685.0,2700.0,2700.0],\"xaxis\":\"x\",\"y\":[0.0,0.05298370865697159,0.05298370865697159,0.049494855668205155],\"yaxis\":\"y\",\"type\":\"scatter\"},{\"hoverinfo\":\"text\",\"marker\":{\"color\":\"rgb(61,153,112)\"},\"mode\":\"lines\",\"x\":[2675.0,2675.0,2692.5,2692.5],\"xaxis\":\"x\",\"y\":[0.0,0.0650373311484947,0.0650373311484947,0.05298370865697159],\"yaxis\":\"y\",\"type\":\"scatter\"},{\"hoverinfo\":\"text\",\"marker\":{\"color\":\"rgb(61,153,112)\"},\"mode\":\"lines\",\"x\":[2665.0,2665.0,2683.75,2683.75],\"xaxis\":\"x\",\"y\":[0.0,0.08733903574673059,0.08733903574673059,0.0650373311484947],\"yaxis\":\"y\",\"type\":\"scatter\"},{\"hoverinfo\":\"text\",\"marker\":{\"color\":\"rgb(61,153,112)\"},\"mode\":\"lines\",\"x\":[2725.0,2725.0,2735.0,2735.0],\"xaxis\":\"x\",\"y\":[0.0,0.03830192989075134,0.03830192989075134,0.0],\"yaxis\":\"y\",\"type\":\"scatter\"},{\"hoverinfo\":\"text\",\"marker\":{\"color\":\"rgb(61,153,112)\"},\"mode\":\"lines\",\"x\":[2715.0,2715.0,2730.0,2730.0],\"xaxis\":\"x\",\"y\":[0.0,0.058330867641686164,0.058330867641686164,0.03830192989075134],\"yaxis\":\"y\",\"type\":\"scatter\"},{\"hoverinfo\":\"text\",\"marker\":{\"color\":\"rgb(61,153,112)\"},\"mode\":\"lines\",\"x\":[2745.0,2745.0,2755.0,2755.0],\"xaxis\":\"x\",\"y\":[0.0,0.029413951128715112,0.029413951128715112,0.0],\"yaxis\":\"y\",\"type\":\"scatter\"},{\"hoverinfo\":\"text\",\"marker\":{\"color\":\"rgb(61,153,112)\"},\"mode\":\"lines\",\"x\":[2765.0,2765.0,2775.0,2775.0],\"xaxis\":\"x\",\"y\":[0.0,0.04788019300498161,0.04788019300498161,0.0],\"yaxis\":\"y\",\"type\":\"scatter\"},{\"hoverinfo\":\"text\",\"marker\":{\"color\":\"rgb(61,153,112)\"},\"mode\":\"lines\",\"x\":[2750.0,2750.0,2770.0,2770.0],\"xaxis\":\"x\",\"y\":[0.029413951128715112,0.06490425893548937,0.06490425893548937,0.04788019300498161],\"yaxis\":\"y\",\"type\":\"scatter\"},{\"hoverinfo\":\"text\",\"marker\":{\"color\":\"rgb(61,153,112)\"},\"mode\":\"lines\",\"x\":[2722.5,2722.5,2760.0,2760.0],\"xaxis\":\"x\",\"y\":[0.058330867641686164,0.09374541465591897,0.09374541465591897,0.06490425893548937],\"yaxis\":\"y\",\"type\":\"scatter\"},{\"hoverinfo\":\"text\",\"marker\":{\"color\":\"rgb(61,153,112)\"},\"mode\":\"lines\",\"x\":[2674.375,2674.375,2741.25,2741.25],\"xaxis\":\"x\",\"y\":[0.08733903574673059,0.12476697389084192,0.12476697389084192,0.09374541465591897],\"yaxis\":\"y\",\"type\":\"scatter\"},{\"hoverinfo\":\"text\",\"marker\":{\"color\":\"rgb(61,153,112)\"},\"mode\":\"lines\",\"x\":[2615.625,2615.625,2707.8125,2707.8125],\"xaxis\":\"x\",\"y\":[0.11610122186405199,0.18871856352592478,0.18871856352592478,0.12476697389084192],\"yaxis\":\"y\",\"type\":\"scatter\"},{\"hoverinfo\":\"text\",\"marker\":{\"color\":\"rgb(61,153,112)\"},\"mode\":\"lines\",\"x\":[2526.25,2526.25,2661.71875,2661.71875],\"xaxis\":\"x\",\"y\":[0.14377555635615696,0.22037558233037105,0.22037558233037105,0.18871856352592478],\"yaxis\":\"y\",\"type\":\"scatter\"},{\"hoverinfo\":\"text\",\"marker\":{\"color\":\"rgb(255,65,54)\"},\"mode\":\"lines\",\"x\":[2785.0,2785.0,2795.0,2795.0],\"xaxis\":\"x\",\"y\":[0.0,0.06466595060920365,0.06466595060920365,0.0],\"yaxis\":\"y\",\"type\":\"scatter\"},{\"hoverinfo\":\"text\",\"marker\":{\"color\":\"rgb(255,65,54)\"},\"mode\":\"lines\",\"x\":[2805.0,2805.0,2815.0,2815.0],\"xaxis\":\"x\",\"y\":[0.0,0.04658581967511657,0.04658581967511657,0.0],\"yaxis\":\"y\",\"type\":\"scatter\"},{\"hoverinfo\":\"text\",\"marker\":{\"color\":\"rgb(255,65,54)\"},\"mode\":\"lines\",\"x\":[2825.0,2825.0,2835.0,2835.0],\"xaxis\":\"x\",\"y\":[0.0,0.030943199651153927,0.030943199651153927,0.0],\"yaxis\":\"y\",\"type\":\"scatter\"},{\"hoverinfo\":\"text\",\"marker\":{\"color\":\"rgb(255,65,54)\"},\"mode\":\"lines\",\"x\":[2845.0,2845.0,2855.0,2855.0],\"xaxis\":\"x\",\"y\":[0.0,0.032377240953892196,0.032377240953892196,0.0],\"yaxis\":\"y\",\"type\":\"scatter\"},{\"hoverinfo\":\"text\",\"marker\":{\"color\":\"rgb(255,65,54)\"},\"mode\":\"lines\",\"x\":[2830.0,2830.0,2850.0,2850.0],\"xaxis\":\"x\",\"y\":[0.030943199651153927,0.07202504390700544,0.07202504390700544,0.032377240953892196],\"yaxis\":\"y\",\"type\":\"scatter\"},{\"hoverinfo\":\"text\",\"marker\":{\"color\":\"rgb(255,65,54)\"},\"mode\":\"lines\",\"x\":[2810.0,2810.0,2840.0,2840.0],\"xaxis\":\"x\",\"y\":[0.04658581967511657,0.11583288781106463,0.11583288781106463,0.07202504390700544],\"yaxis\":\"y\",\"type\":\"scatter\"},{\"hoverinfo\":\"text\",\"marker\":{\"color\":\"rgb(255,65,54)\"},\"mode\":\"lines\",\"x\":[2790.0,2790.0,2825.0,2825.0],\"xaxis\":\"x\",\"y\":[0.06466595060920365,0.14408107086784266,0.14408107086784266,0.11583288781106463],\"yaxis\":\"y\",\"type\":\"scatter\"},{\"hoverinfo\":\"text\",\"marker\":{\"color\":\"rgb(255,65,54)\"},\"mode\":\"lines\",\"x\":[2865.0,2865.0,2875.0,2875.0],\"xaxis\":\"x\",\"y\":[0.0,0.07267301430907341,0.07267301430907341,0.0],\"yaxis\":\"y\",\"type\":\"scatter\"},{\"hoverinfo\":\"text\",\"marker\":{\"color\":\"rgb(255,65,54)\"},\"mode\":\"lines\",\"x\":[2895.0,2895.0,2905.0,2905.0],\"xaxis\":\"x\",\"y\":[0.0,0.04728976564000159,0.04728976564000159,0.0],\"yaxis\":\"y\",\"type\":\"scatter\"},{\"hoverinfo\":\"text\",\"marker\":{\"color\":\"rgb(255,65,54)\"},\"mode\":\"lines\",\"x\":[2885.0,2885.0,2900.0,2900.0],\"xaxis\":\"x\",\"y\":[0.0,0.059792589129292036,0.059792589129292036,0.04728976564000159],\"yaxis\":\"y\",\"type\":\"scatter\"},{\"hoverinfo\":\"text\",\"marker\":{\"color\":\"rgb(255,65,54)\"},\"mode\":\"lines\",\"x\":[2925.0,2925.0,2935.0,2935.0],\"xaxis\":\"x\",\"y\":[0.0,0.037466280527335014,0.037466280527335014,0.0],\"yaxis\":\"y\",\"type\":\"scatter\"},{\"hoverinfo\":\"text\",\"marker\":{\"color\":\"rgb(255,65,54)\"},\"mode\":\"lines\",\"x\":[2915.0,2915.0,2930.0,2930.0],\"xaxis\":\"x\",\"y\":[0.0,0.06122255386328854,0.06122255386328854,0.037466280527335014],\"yaxis\":\"y\",\"type\":\"scatter\"},{\"hoverinfo\":\"text\",\"marker\":{\"color\":\"rgb(255,65,54)\"},\"mode\":\"lines\",\"x\":[2892.5,2892.5,2922.5,2922.5],\"xaxis\":\"x\",\"y\":[0.059792589129292036,0.09071415675904665,0.09071415675904665,0.06122255386328854],\"yaxis\":\"y\",\"type\":\"scatter\"},{\"hoverinfo\":\"text\",\"marker\":{\"color\":\"rgb(255,65,54)\"},\"mode\":\"lines\",\"x\":[2870.0,2870.0,2907.5,2907.5],\"xaxis\":\"x\",\"y\":[0.07267301430907341,0.14519780859454195,0.14519780859454195,0.09071415675904665],\"yaxis\":\"y\",\"type\":\"scatter\"},{\"hoverinfo\":\"text\",\"marker\":{\"color\":\"rgb(255,65,54)\"},\"mode\":\"lines\",\"x\":[2807.5,2807.5,2888.75,2888.75],\"xaxis\":\"x\",\"y\":[0.14408107086784266,0.18770034197482494,0.18770034197482494,0.14519780859454195],\"yaxis\":\"y\",\"type\":\"scatter\"},{\"hoverinfo\":\"text\",\"marker\":{\"color\":\"rgb(35,205,205)\"},\"mode\":\"lines\",\"x\":[2955.0,2955.0,2965.0,2965.0],\"xaxis\":\"x\",\"y\":[0.0,0.04588406867530854,0.04588406867530854,0.0],\"yaxis\":\"y\",\"type\":\"scatter\"},{\"hoverinfo\":\"text\",\"marker\":{\"color\":\"rgb(35,205,205)\"},\"mode\":\"lines\",\"x\":[2945.0,2945.0,2960.0,2960.0],\"xaxis\":\"x\",\"y\":[0.0,0.0906298213961732,0.0906298213961732,0.04588406867530854],\"yaxis\":\"y\",\"type\":\"scatter\"},{\"hoverinfo\":\"text\",\"marker\":{\"color\":\"rgb(35,205,205)\"},\"mode\":\"lines\",\"x\":[2985.0,2985.0,2995.0,2995.0],\"xaxis\":\"x\",\"y\":[0.0,0.0591372216456784,0.0591372216456784,0.0],\"yaxis\":\"y\",\"type\":\"scatter\"},{\"hoverinfo\":\"text\",\"marker\":{\"color\":\"rgb(35,205,205)\"},\"mode\":\"lines\",\"x\":[2975.0,2975.0,2990.0,2990.0],\"xaxis\":\"x\",\"y\":[0.0,0.06021340684685704,0.06021340684685704,0.0591372216456784],\"yaxis\":\"y\",\"type\":\"scatter\"},{\"hoverinfo\":\"text\",\"marker\":{\"color\":\"rgb(35,205,205)\"},\"mode\":\"lines\",\"x\":[3005.0,3005.0,3015.0,3015.0],\"xaxis\":\"x\",\"y\":[0.0,0.036742706857515094,0.036742706857515094,0.0],\"yaxis\":\"y\",\"type\":\"scatter\"},{\"hoverinfo\":\"text\",\"marker\":{\"color\":\"rgb(35,205,205)\"},\"mode\":\"lines\",\"x\":[3025.0,3025.0,3035.0,3035.0],\"xaxis\":\"x\",\"y\":[0.0,0.030401269451244384,0.030401269451244384,0.0],\"yaxis\":\"y\",\"type\":\"scatter\"},{\"hoverinfo\":\"text\",\"marker\":{\"color\":\"rgb(35,205,205)\"},\"mode\":\"lines\",\"x\":[3045.0,3045.0,3055.0,3055.0],\"xaxis\":\"x\",\"y\":[0.0,0.032501075089944036,0.032501075089944036,0.0],\"yaxis\":\"y\",\"type\":\"scatter\"},{\"hoverinfo\":\"text\",\"marker\":{\"color\":\"rgb(35,205,205)\"},\"mode\":\"lines\",\"x\":[3030.0,3030.0,3050.0,3050.0],\"xaxis\":\"x\",\"y\":[0.030401269451244384,0.0746063895768672,0.0746063895768672,0.032501075089944036],\"yaxis\":\"y\",\"type\":\"scatter\"},{\"hoverinfo\":\"text\",\"marker\":{\"color\":\"rgb(35,205,205)\"},\"mode\":\"lines\",\"x\":[3010.0,3010.0,3040.0,3040.0],\"xaxis\":\"x\",\"y\":[0.036742706857515094,0.08976811560922593,0.08976811560922593,0.0746063895768672],\"yaxis\":\"y\",\"type\":\"scatter\"},{\"hoverinfo\":\"text\",\"marker\":{\"color\":\"rgb(35,205,205)\"},\"mode\":\"lines\",\"x\":[2982.5,2982.5,3025.0,3025.0],\"xaxis\":\"x\",\"y\":[0.06021340684685704,0.11594737859858514,0.11594737859858514,0.08976811560922593],\"yaxis\":\"y\",\"type\":\"scatter\"},{\"hoverinfo\":\"text\",\"marker\":{\"color\":\"rgb(35,205,205)\"},\"mode\":\"lines\",\"x\":[2952.5,2952.5,3003.75,3003.75],\"xaxis\":\"x\",\"y\":[0.0906298213961732,0.1529691052364748,0.1529691052364748,0.11594737859858514],\"yaxis\":\"y\",\"type\":\"scatter\"},{\"hoverinfo\":\"text\",\"marker\":{\"color\":\"rgb(35,205,205)\"},\"mode\":\"lines\",\"x\":[3075.0,3075.0,3085.0,3085.0],\"xaxis\":\"x\",\"y\":[0.0,0.03275199478699168,0.03275199478699168,0.0],\"yaxis\":\"y\",\"type\":\"scatter\"},{\"hoverinfo\":\"text\",\"marker\":{\"color\":\"rgb(35,205,205)\"},\"mode\":\"lines\",\"x\":[3065.0,3065.0,3080.0,3080.0],\"xaxis\":\"x\",\"y\":[0.0,0.05992834208096124,0.05992834208096124,0.03275199478699168],\"yaxis\":\"y\",\"type\":\"scatter\"},{\"hoverinfo\":\"text\",\"marker\":{\"color\":\"rgb(35,205,205)\"},\"mode\":\"lines\",\"x\":[3095.0,3095.0,3105.0,3105.0],\"xaxis\":\"x\",\"y\":[0.0,0.03354056141265433,0.03354056141265433,0.0],\"yaxis\":\"y\",\"type\":\"scatter\"},{\"hoverinfo\":\"text\",\"marker\":{\"color\":\"rgb(35,205,205)\"},\"mode\":\"lines\",\"x\":[3115.0,3115.0,3125.0,3125.0],\"xaxis\":\"x\",\"y\":[0.0,0.04730655980568262,0.04730655980568262,0.0],\"yaxis\":\"y\",\"type\":\"scatter\"},{\"hoverinfo\":\"text\",\"marker\":{\"color\":\"rgb(35,205,205)\"},\"mode\":\"lines\",\"x\":[3100.0,3100.0,3120.0,3120.0],\"xaxis\":\"x\",\"y\":[0.03354056141265433,0.07317426791515125,0.07317426791515125,0.04730655980568262],\"yaxis\":\"y\",\"type\":\"scatter\"},{\"hoverinfo\":\"text\",\"marker\":{\"color\":\"rgb(35,205,205)\"},\"mode\":\"lines\",\"x\":[3072.5,3072.5,3110.0,3110.0],\"xaxis\":\"x\",\"y\":[0.05992834208096124,0.11694327916145297,0.11694327916145297,0.07317426791515125],\"yaxis\":\"y\",\"type\":\"scatter\"},{\"hoverinfo\":\"text\",\"marker\":{\"color\":\"rgb(35,205,205)\"},\"mode\":\"lines\",\"x\":[3135.0,3135.0,3145.0,3145.0],\"xaxis\":\"x\",\"y\":[0.0,0.056158864114588064,0.056158864114588064,0.0],\"yaxis\":\"y\",\"type\":\"scatter\"},{\"hoverinfo\":\"text\",\"marker\":{\"color\":\"rgb(35,205,205)\"},\"mode\":\"lines\",\"x\":[3155.0,3155.0,3165.0,3165.0],\"xaxis\":\"x\",\"y\":[0.0,0.05779574390246036,0.05779574390246036,0.0],\"yaxis\":\"y\",\"type\":\"scatter\"},{\"hoverinfo\":\"text\",\"marker\":{\"color\":\"rgb(35,205,205)\"},\"mode\":\"lines\",\"x\":[3175.0,3175.0,3185.0,3185.0],\"xaxis\":\"x\",\"y\":[0.0,0.029215035785841646,0.029215035785841646,0.0],\"yaxis\":\"y\",\"type\":\"scatter\"},{\"hoverinfo\":\"text\",\"marker\":{\"color\":\"rgb(35,205,205)\"},\"mode\":\"lines\",\"x\":[3195.0,3195.0,3205.0,3205.0],\"xaxis\":\"x\",\"y\":[0.0,0.03788617988987143,0.03788617988987143,0.0],\"yaxis\":\"y\",\"type\":\"scatter\"},{\"hoverinfo\":\"text\",\"marker\":{\"color\":\"rgb(35,205,205)\"},\"mode\":\"lines\",\"x\":[3180.0,3180.0,3200.0,3200.0],\"xaxis\":\"x\",\"y\":[0.029215035785841646,0.07668201290538934,0.07668201290538934,0.03788617988987143],\"yaxis\":\"y\",\"type\":\"scatter\"},{\"hoverinfo\":\"text\",\"marker\":{\"color\":\"rgb(35,205,205)\"},\"mode\":\"lines\",\"x\":[3160.0,3160.0,3190.0,3190.0],\"xaxis\":\"x\",\"y\":[0.05779574390246036,0.09154467590613599,0.09154467590613599,0.07668201290538934],\"yaxis\":\"y\",\"type\":\"scatter\"},{\"hoverinfo\":\"text\",\"marker\":{\"color\":\"rgb(35,205,205)\"},\"mode\":\"lines\",\"x\":[3140.0,3140.0,3175.0,3175.0],\"xaxis\":\"x\",\"y\":[0.056158864114588064,0.12106977728684733,0.12106977728684733,0.09154467590613599],\"yaxis\":\"y\",\"type\":\"scatter\"},{\"hoverinfo\":\"text\",\"marker\":{\"color\":\"rgb(35,205,205)\"},\"mode\":\"lines\",\"x\":[3091.25,3091.25,3157.5,3157.5],\"xaxis\":\"x\",\"y\":[0.11694327916145297,0.18187965354185268,0.18187965354185268,0.12106977728684733],\"yaxis\":\"y\",\"type\":\"scatter\"},{\"hoverinfo\":\"text\",\"marker\":{\"color\":\"rgb(35,205,205)\"},\"mode\":\"lines\",\"x\":[2978.125,2978.125,3124.375,3124.375],\"xaxis\":\"x\",\"y\":[0.1529691052364748,0.20169693749226883,0.20169693749226883,0.18187965354185268],\"yaxis\":\"y\",\"type\":\"scatter\"},{\"hoverinfo\":\"text\",\"marker\":{\"color\":\"rgb(0,116,217)\"},\"mode\":\"lines\",\"x\":[2848.125,2848.125,3051.25,3051.25],\"xaxis\":\"x\",\"y\":[0.18770034197482494,0.24254532626112013,0.24254532626112013,0.20169693749226883],\"yaxis\":\"y\",\"type\":\"scatter\"},{\"hoverinfo\":\"text\",\"marker\":{\"color\":\"rgb(0,116,217)\"},\"mode\":\"lines\",\"x\":[2593.984375,2593.984375,2949.6875,2949.6875],\"xaxis\":\"x\",\"y\":[0.22037558233037105,0.29272982453261664,0.29272982453261664,0.24254532626112013],\"yaxis\":\"y\",\"type\":\"scatter\"},{\"hoverinfo\":\"text\",\"marker\":{\"color\":\"rgb(0,116,217)\"},\"mode\":\"lines\",\"x\":[2126.6796875,2126.6796875,2771.8359375,2771.8359375],\"xaxis\":\"x\",\"y\":[0.2558729871768142,0.3164771148822522,0.3164771148822522,0.29272982453261664],\"yaxis\":\"y\",\"type\":\"scatter\"},{\"hoverinfo\":\"text\",\"marker\":{\"color\":\"rgb(0,116,217)\"},\"mode\":\"lines\",\"x\":[1416.73828125,1416.73828125,2449.2578125,2449.2578125],\"xaxis\":\"x\",\"y\":[0.2878131145478952,0.3335885896261119,0.3335885896261119,0.3164771148822522],\"yaxis\":\"y\",\"type\":\"scatter\"},{\"hoverinfo\":\"text\",\"marker\":{\"color\":\"rgb(0,116,217)\"},\"mode\":\"lines\",\"x\":[514.482421875,514.482421875,1932.998046875,1932.998046875],\"xaxis\":\"x\",\"y\":[0.3135319497004375,0.345048706447505,0.345048706447505,0.3335885896261119],\"yaxis\":\"y\",\"type\":\"scatter\"}],                        {\"autosize\":false,\"height\":500,\"hovermode\":\"closest\",\"showlegend\":false,\"width\":800,\"xaxis\":{\"mirror\":\"allticks\",\"rangemode\":\"tozero\",\"showgrid\":false,\"showline\":true,\"showticklabels\":true,\"tickmode\":\"array\",\"ticks\":\"outside\",\"ticktext\":[\"307\",\"17\",\"267\",\"231\",\"293\",\"288\",\"193\",\"232\",\"121\",\"203\",\"55\",\"199\",\"112\",\"136\",\"27\",\"259\",\"156\",\"286\",\"150\",\"209\",\"14\",\"91\",\"58\",\"102\",\"117\",\"264\",\"98\",\"2\",\"51\",\"204\",\"263\",\"283\",\"224\",\"261\",\"10\",\"133\",\"20\",\"279\",\"54\",\"277\",\"145\",\"100\",\"295\",\"138\",\"312\",\"266\",\"122\",\"265\",\"258\",\"289\",\"79\",\"135\",\"167\",\"180\",\"188\",\"153\",\"274\",\"65\",\"111\",\"154\",\"285\",\"120\",\"151\",\"60\",\"197\",\"94\",\"184\",\"282\",\"240\",\"172\",\"194\",\"96\",\"40\",\"218\",\"124\",\"235\",\"75\",\"272\",\"82\",\"201\",\"189\",\"107\",\"166\",\"29\",\"238\",\"113\",\"9\",\"103\",\"5\",\"12\",\"243\",\"228\",\"306\",\"239\",\"87\",\"280\",\"62\",\"95\",\"284\",\"25\",\"47\",\"131\",\"226\",\"208\",\"126\",\"223\",\"76\",\"160\",\"302\",\"129\",\"221\",\"1\",\"80\",\"256\",\"281\",\"158\",\"195\",\"255\",\"262\",\"13\",\"290\",\"59\",\"37\",\"108\",\"34\",\"178\",\"74\",\"214\",\"252\",\"207\",\"71\",\"273\",\"303\",\"318\",\"39\",\"171\",\"245\",\"319\",\"146\",\"294\",\"164\",\"299\",\"165\",\"215\",\"304\",\"44\",\"119\",\"6\",\"23\",\"32\",\"300\",\"22\",\"159\",\"298\",\"157\",\"200\",\"185\",\"269\",\"15\",\"287\",\"33\",\"89\",\"72\",\"28\",\"63\",\"170\",\"234\",\"4\",\"125\",\"50\",\"70\",\"176\",\"83\",\"292\",\"320\",\"233\",\"316\",\"45\",\"192\",\"198\",\"242\",\"260\",\"134\",\"162\",\"31\",\"237\",\"217\",\"278\",\"104\",\"196\",\"141\",\"248\",\"128\",\"246\",\"46\",\"21\",\"67\",\"101\",\"69\",\"7\",\"317\",\"43\",\"168\",\"311\",\"142\",\"66\",\"48\",\"49\",\"78\",\"222\",\"152\",\"64\",\"309\",\"42\",\"139\",\"308\",\"26\",\"57\",\"271\",\"8\",\"30\",\"99\",\"191\",\"56\",\"93\",\"143\",\"155\",\"190\",\"219\",\"110\",\"169\",\"41\",\"127\",\"230\",\"175\",\"212\",\"270\",\"0\",\"38\",\"181\",\"68\",\"220\",\"144\",\"257\",\"16\",\"114\",\"315\",\"174\",\"24\",\"297\",\"140\",\"106\",\"275\",\"77\",\"205\",\"18\",\"216\",\"84\",\"90\",\"137\",\"186\",\"11\",\"251\",\"206\",\"35\",\"211\",\"163\",\"19\",\"313\",\"202\",\"305\",\"97\",\"161\",\"177\",\"88\",\"276\",\"247\",\"310\",\"249\",\"291\",\"149\",\"182\",\"53\",\"229\",\"92\",\"253\",\"250\",\"254\",\"173\",\"85\",\"241\",\"179\",\"81\",\"116\",\"296\",\"61\",\"187\",\"147\",\"105\",\"227\",\"115\",\"130\",\"52\",\"109\",\"183\",\"225\",\"268\",\"123\",\"301\",\"3\",\"73\",\"210\",\"314\",\"132\",\"148\",\"213\",\"236\",\"36\",\"118\",\"86\",\"244\"],\"tickvals\":[5.0,15.0,25.0,35.0,45.0,55.0,65.0,75.0,85.0,95.0,105.0,115.0,125.0,135.0,145.0,155.0,165.0,175.0,185.0,195.0,205.0,215.0,225.0,235.0,245.0,255.0,265.0,275.0,285.0,295.0,305.0,315.0,325.0,335.0,345.0,355.0,365.0,375.0,385.0,395.0,405.0,415.0,425.0,435.0,445.0,455.0,465.0,475.0,485.0,495.0,505.0,515.0,525.0,535.0,545.0,555.0,565.0,575.0,585.0,595.0,605.0,615.0,625.0,635.0,645.0,655.0,665.0,675.0,685.0,695.0,705.0,715.0,725.0,735.0,745.0,755.0,765.0,775.0,785.0,795.0,805.0,815.0,825.0,835.0,845.0,855.0,865.0,875.0,885.0,895.0,905.0,915.0,925.0,935.0,945.0,955.0,965.0,975.0,985.0,995.0,1005.0,1015.0,1025.0,1035.0,1045.0,1055.0,1065.0,1075.0,1085.0,1095.0,1105.0,1115.0,1125.0,1135.0,1145.0,1155.0,1165.0,1175.0,1185.0,1195.0,1205.0,1215.0,1225.0,1235.0,1245.0,1255.0,1265.0,1275.0,1285.0,1295.0,1305.0,1315.0,1325.0,1335.0,1345.0,1355.0,1365.0,1375.0,1385.0,1395.0,1405.0,1415.0,1425.0,1435.0,1445.0,1455.0,1465.0,1475.0,1485.0,1495.0,1505.0,1515.0,1525.0,1535.0,1545.0,1555.0,1565.0,1575.0,1585.0,1595.0,1605.0,1615.0,1625.0,1635.0,1645.0,1655.0,1665.0,1675.0,1685.0,1695.0,1705.0,1715.0,1725.0,1735.0,1745.0,1755.0,1765.0,1775.0,1785.0,1795.0,1805.0,1815.0,1825.0,1835.0,1845.0,1855.0,1865.0,1875.0,1885.0,1895.0,1905.0,1915.0,1925.0,1935.0,1945.0,1955.0,1965.0,1975.0,1985.0,1995.0,2005.0,2015.0,2025.0,2035.0,2045.0,2055.0,2065.0,2075.0,2085.0,2095.0,2105.0,2115.0,2125.0,2135.0,2145.0,2155.0,2165.0,2175.0,2185.0,2195.0,2205.0,2215.0,2225.0,2235.0,2245.0,2255.0,2265.0,2275.0,2285.0,2295.0,2305.0,2315.0,2325.0,2335.0,2345.0,2355.0,2365.0,2375.0,2385.0,2395.0,2405.0,2415.0,2425.0,2435.0,2445.0,2455.0,2465.0,2475.0,2485.0,2495.0,2505.0,2515.0,2525.0,2535.0,2545.0,2555.0,2565.0,2575.0,2585.0,2595.0,2605.0,2615.0,2625.0,2635.0,2645.0,2655.0,2665.0,2675.0,2685.0,2695.0,2705.0,2715.0,2725.0,2735.0,2745.0,2755.0,2765.0,2775.0,2785.0,2795.0,2805.0,2815.0,2825.0,2835.0,2845.0,2855.0,2865.0,2875.0,2885.0,2895.0,2905.0,2915.0,2925.0,2935.0,2945.0,2955.0,2965.0,2975.0,2985.0,2995.0,3005.0,3015.0,3025.0,3035.0,3045.0,3055.0,3065.0,3075.0,3085.0,3095.0,3105.0,3115.0,3125.0,3135.0,3145.0,3155.0,3165.0,3175.0,3185.0,3195.0,3205.0],\"type\":\"linear\",\"zeroline\":false},\"yaxis\":{\"mirror\":\"allticks\",\"rangemode\":\"tozero\",\"showgrid\":false,\"showline\":true,\"showticklabels\":true,\"ticks\":\"outside\",\"type\":\"linear\",\"zeroline\":false},\"template\":{\"data\":{\"histogram2dcontour\":[{\"type\":\"histogram2dcontour\",\"colorbar\":{\"outlinewidth\":0,\"ticks\":\"\"},\"colorscale\":[[0.0,\"#0d0887\"],[0.1111111111111111,\"#46039f\"],[0.2222222222222222,\"#7201a8\"],[0.3333333333333333,\"#9c179e\"],[0.4444444444444444,\"#bd3786\"],[0.5555555555555556,\"#d8576b\"],[0.6666666666666666,\"#ed7953\"],[0.7777777777777778,\"#fb9f3a\"],[0.8888888888888888,\"#fdca26\"],[1.0,\"#f0f921\"]]}],\"choropleth\":[{\"type\":\"choropleth\",\"colorbar\":{\"outlinewidth\":0,\"ticks\":\"\"}}],\"histogram2d\":[{\"type\":\"histogram2d\",\"colorbar\":{\"outlinewidth\":0,\"ticks\":\"\"},\"colorscale\":[[0.0,\"#0d0887\"],[0.1111111111111111,\"#46039f\"],[0.2222222222222222,\"#7201a8\"],[0.3333333333333333,\"#9c179e\"],[0.4444444444444444,\"#bd3786\"],[0.5555555555555556,\"#d8576b\"],[0.6666666666666666,\"#ed7953\"],[0.7777777777777778,\"#fb9f3a\"],[0.8888888888888888,\"#fdca26\"],[1.0,\"#f0f921\"]]}],\"heatmap\":[{\"type\":\"heatmap\",\"colorbar\":{\"outlinewidth\":0,\"ticks\":\"\"},\"colorscale\":[[0.0,\"#0d0887\"],[0.1111111111111111,\"#46039f\"],[0.2222222222222222,\"#7201a8\"],[0.3333333333333333,\"#9c179e\"],[0.4444444444444444,\"#bd3786\"],[0.5555555555555556,\"#d8576b\"],[0.6666666666666666,\"#ed7953\"],[0.7777777777777778,\"#fb9f3a\"],[0.8888888888888888,\"#fdca26\"],[1.0,\"#f0f921\"]]}],\"heatmapgl\":[{\"type\":\"heatmapgl\",\"colorbar\":{\"outlinewidth\":0,\"ticks\":\"\"},\"colorscale\":[[0.0,\"#0d0887\"],[0.1111111111111111,\"#46039f\"],[0.2222222222222222,\"#7201a8\"],[0.3333333333333333,\"#9c179e\"],[0.4444444444444444,\"#bd3786\"],[0.5555555555555556,\"#d8576b\"],[0.6666666666666666,\"#ed7953\"],[0.7777777777777778,\"#fb9f3a\"],[0.8888888888888888,\"#fdca26\"],[1.0,\"#f0f921\"]]}],\"contourcarpet\":[{\"type\":\"contourcarpet\",\"colorbar\":{\"outlinewidth\":0,\"ticks\":\"\"}}],\"contour\":[{\"type\":\"contour\",\"colorbar\":{\"outlinewidth\":0,\"ticks\":\"\"},\"colorscale\":[[0.0,\"#0d0887\"],[0.1111111111111111,\"#46039f\"],[0.2222222222222222,\"#7201a8\"],[0.3333333333333333,\"#9c179e\"],[0.4444444444444444,\"#bd3786\"],[0.5555555555555556,\"#d8576b\"],[0.6666666666666666,\"#ed7953\"],[0.7777777777777778,\"#fb9f3a\"],[0.8888888888888888,\"#fdca26\"],[1.0,\"#f0f921\"]]}],\"surface\":[{\"type\":\"surface\",\"colorbar\":{\"outlinewidth\":0,\"ticks\":\"\"},\"colorscale\":[[0.0,\"#0d0887\"],[0.1111111111111111,\"#46039f\"],[0.2222222222222222,\"#7201a8\"],[0.3333333333333333,\"#9c179e\"],[0.4444444444444444,\"#bd3786\"],[0.5555555555555556,\"#d8576b\"],[0.6666666666666666,\"#ed7953\"],[0.7777777777777778,\"#fb9f3a\"],[0.8888888888888888,\"#fdca26\"],[1.0,\"#f0f921\"]]}],\"mesh3d\":[{\"type\":\"mesh3d\",\"colorbar\":{\"outlinewidth\":0,\"ticks\":\"\"}}],\"scatter\":[{\"fillpattern\":{\"fillmode\":\"overlay\",\"size\":10,\"solidity\":0.2},\"type\":\"scatter\"}],\"parcoords\":[{\"type\":\"parcoords\",\"line\":{\"colorbar\":{\"outlinewidth\":0,\"ticks\":\"\"}}}],\"scatterpolargl\":[{\"type\":\"scatterpolargl\",\"marker\":{\"colorbar\":{\"outlinewidth\":0,\"ticks\":\"\"}}}],\"bar\":[{\"error_x\":{\"color\":\"#2a3f5f\"},\"error_y\":{\"color\":\"#2a3f5f\"},\"marker\":{\"line\":{\"color\":\"#E5ECF6\",\"width\":0.5},\"pattern\":{\"fillmode\":\"overlay\",\"size\":10,\"solidity\":0.2}},\"type\":\"bar\"}],\"scattergeo\":[{\"type\":\"scattergeo\",\"marker\":{\"colorbar\":{\"outlinewidth\":0,\"ticks\":\"\"}}}],\"scatterpolar\":[{\"type\":\"scatterpolar\",\"marker\":{\"colorbar\":{\"outlinewidth\":0,\"ticks\":\"\"}}}],\"histogram\":[{\"marker\":{\"pattern\":{\"fillmode\":\"overlay\",\"size\":10,\"solidity\":0.2}},\"type\":\"histogram\"}],\"scattergl\":[{\"type\":\"scattergl\",\"marker\":{\"colorbar\":{\"outlinewidth\":0,\"ticks\":\"\"}}}],\"scatter3d\":[{\"type\":\"scatter3d\",\"line\":{\"colorbar\":{\"outlinewidth\":0,\"ticks\":\"\"}},\"marker\":{\"colorbar\":{\"outlinewidth\":0,\"ticks\":\"\"}}}],\"scattermapbox\":[{\"type\":\"scattermapbox\",\"marker\":{\"colorbar\":{\"outlinewidth\":0,\"ticks\":\"\"}}}],\"scatterternary\":[{\"type\":\"scatterternary\",\"marker\":{\"colorbar\":{\"outlinewidth\":0,\"ticks\":\"\"}}}],\"scattercarpet\":[{\"type\":\"scattercarpet\",\"marker\":{\"colorbar\":{\"outlinewidth\":0,\"ticks\":\"\"}}}],\"carpet\":[{\"aaxis\":{\"endlinecolor\":\"#2a3f5f\",\"gridcolor\":\"white\",\"linecolor\":\"white\",\"minorgridcolor\":\"white\",\"startlinecolor\":\"#2a3f5f\"},\"baxis\":{\"endlinecolor\":\"#2a3f5f\",\"gridcolor\":\"white\",\"linecolor\":\"white\",\"minorgridcolor\":\"white\",\"startlinecolor\":\"#2a3f5f\"},\"type\":\"carpet\"}],\"table\":[{\"cells\":{\"fill\":{\"color\":\"#EBF0F8\"},\"line\":{\"color\":\"white\"}},\"header\":{\"fill\":{\"color\":\"#C8D4E3\"},\"line\":{\"color\":\"white\"}},\"type\":\"table\"}],\"barpolar\":[{\"marker\":{\"line\":{\"color\":\"#E5ECF6\",\"width\":0.5},\"pattern\":{\"fillmode\":\"overlay\",\"size\":10,\"solidity\":0.2}},\"type\":\"barpolar\"}],\"pie\":[{\"automargin\":true,\"type\":\"pie\"}]},\"layout\":{\"autotypenumbers\":\"strict\",\"colorway\":[\"#636efa\",\"#EF553B\",\"#00cc96\",\"#ab63fa\",\"#FFA15A\",\"#19d3f3\",\"#FF6692\",\"#B6E880\",\"#FF97FF\",\"#FECB52\"],\"font\":{\"color\":\"#2a3f5f\"},\"hovermode\":\"closest\",\"hoverlabel\":{\"align\":\"left\"},\"paper_bgcolor\":\"white\",\"plot_bgcolor\":\"#E5ECF6\",\"polar\":{\"bgcolor\":\"#E5ECF6\",\"angularaxis\":{\"gridcolor\":\"white\",\"linecolor\":\"white\",\"ticks\":\"\"},\"radialaxis\":{\"gridcolor\":\"white\",\"linecolor\":\"white\",\"ticks\":\"\"}},\"ternary\":{\"bgcolor\":\"#E5ECF6\",\"aaxis\":{\"gridcolor\":\"white\",\"linecolor\":\"white\",\"ticks\":\"\"},\"baxis\":{\"gridcolor\":\"white\",\"linecolor\":\"white\",\"ticks\":\"\"},\"caxis\":{\"gridcolor\":\"white\",\"linecolor\":\"white\",\"ticks\":\"\"}},\"coloraxis\":{\"colorbar\":{\"outlinewidth\":0,\"ticks\":\"\"}},\"colorscale\":{\"sequential\":[[0.0,\"#0d0887\"],[0.1111111111111111,\"#46039f\"],[0.2222222222222222,\"#7201a8\"],[0.3333333333333333,\"#9c179e\"],[0.4444444444444444,\"#bd3786\"],[0.5555555555555556,\"#d8576b\"],[0.6666666666666666,\"#ed7953\"],[0.7777777777777778,\"#fb9f3a\"],[0.8888888888888888,\"#fdca26\"],[1.0,\"#f0f921\"]],\"sequentialminus\":[[0.0,\"#0d0887\"],[0.1111111111111111,\"#46039f\"],[0.2222222222222222,\"#7201a8\"],[0.3333333333333333,\"#9c179e\"],[0.4444444444444444,\"#bd3786\"],[0.5555555555555556,\"#d8576b\"],[0.6666666666666666,\"#ed7953\"],[0.7777777777777778,\"#fb9f3a\"],[0.8888888888888888,\"#fdca26\"],[1.0,\"#f0f921\"]],\"diverging\":[[0,\"#8e0152\"],[0.1,\"#c51b7d\"],[0.2,\"#de77ae\"],[0.3,\"#f1b6da\"],[0.4,\"#fde0ef\"],[0.5,\"#f7f7f7\"],[0.6,\"#e6f5d0\"],[0.7,\"#b8e186\"],[0.8,\"#7fbc41\"],[0.9,\"#4d9221\"],[1,\"#276419\"]]},\"xaxis\":{\"gridcolor\":\"white\",\"linecolor\":\"white\",\"ticks\":\"\",\"title\":{\"standoff\":15},\"zerolinecolor\":\"white\",\"automargin\":true,\"zerolinewidth\":2},\"yaxis\":{\"gridcolor\":\"white\",\"linecolor\":\"white\",\"ticks\":\"\",\"title\":{\"standoff\":15},\"zerolinecolor\":\"white\",\"automargin\":true,\"zerolinewidth\":2},\"scene\":{\"xaxis\":{\"backgroundcolor\":\"#E5ECF6\",\"gridcolor\":\"white\",\"linecolor\":\"white\",\"showbackground\":true,\"ticks\":\"\",\"zerolinecolor\":\"white\",\"gridwidth\":2},\"yaxis\":{\"backgroundcolor\":\"#E5ECF6\",\"gridcolor\":\"white\",\"linecolor\":\"white\",\"showbackground\":true,\"ticks\":\"\",\"zerolinecolor\":\"white\",\"gridwidth\":2},\"zaxis\":{\"backgroundcolor\":\"#E5ECF6\",\"gridcolor\":\"white\",\"linecolor\":\"white\",\"showbackground\":true,\"ticks\":\"\",\"zerolinecolor\":\"white\",\"gridwidth\":2}},\"shapedefaults\":{\"line\":{\"color\":\"#2a3f5f\"}},\"annotationdefaults\":{\"arrowcolor\":\"#2a3f5f\",\"arrowhead\":0,\"arrowwidth\":1},\"geo\":{\"bgcolor\":\"white\",\"landcolor\":\"#E5ECF6\",\"subunitcolor\":\"white\",\"showland\":true,\"showlakes\":true,\"lakecolor\":\"white\"},\"title\":{\"x\":0.05},\"mapbox\":{\"style\":\"light\"}}}},                        {\"responsive\": true}                    ).then(function(){\n",
              "                            \n",
              "var gd = document.getElementById('4270969b-6d84-4805-8250-018407ea3bce');\n",
              "var x = new MutationObserver(function (mutations, observer) {{\n",
              "        var display = window.getComputedStyle(gd).display;\n",
              "        if (!display || display === 'none') {{\n",
              "            console.log([gd, 'removed!']);\n",
              "            Plotly.purge(gd);\n",
              "            observer.disconnect();\n",
              "        }}\n",
              "}});\n",
              "\n",
              "// Listen for the removal of the full notebook cells\n",
              "var notebookContainer = gd.closest('#notebook-container');\n",
              "if (notebookContainer) {{\n",
              "    x.observe(notebookContainer, {childList: true});\n",
              "}}\n",
              "\n",
              "// Listen for the clearing of the current output cell\n",
              "var outputEl = gd.closest('.output');\n",
              "if (outputEl) {{\n",
              "    x.observe(outputEl, {childList: true});\n",
              "}}\n",
              "\n",
              "                        })                };                            </script>        </div>\n",
              "</body>\n",
              "</html>"
            ]
          },
          "metadata": {}
        }
      ]
    },
    {
      "cell_type": "markdown",
      "source": [
        "The result is very pretty, but there are so many leaves we can't really visually inspect the branches. We also don't need many topic branches. Therefore we try again and cut the tree earlier."
      ],
      "metadata": {
        "id": "3NHQIL8mOMZA"
      }
    },
    {
      "cell_type": "code",
      "source": [
        "import numpy as np\n",
        "from scipy.cluster import hierarchy\n",
        "import matplotlib.pyplot as plt"
      ],
      "metadata": {
        "id": "UDGlP0kVQLlj"
      },
      "execution_count": 35,
      "outputs": []
    },
    {
      "cell_type": "code",
      "source": [
        "Z = hierarchy.linkage(X, 'ward')\n",
        "plt.figure()\n",
        "dn = hierarchy.dendrogram(Z, truncate_mode = 'level', p = 3)\n",
        "plt.axhline(y=0.93, color='r', linestyle='--', label=f'Threshold: {0.93}')\n",
        "plt.show()"
      ],
      "metadata": {
        "colab": {
          "base_uri": "https://localhost:8080/",
          "height": 434
        },
        "id": "RZ8udji4QF9L",
        "outputId": "a4f84f4a-1efd-48ed-e783-f88df6d7d21b"
      },
      "execution_count": 111,
      "outputs": [
        {
          "output_type": "display_data",
          "data": {
            "text/plain": [
              "<Figure size 640x480 with 1 Axes>"
            ],
            "image/png": "[encoded data removed]"
          },
          "metadata": {}
        }
      ]
    },
    {
      "cell_type": "markdown",
      "source": [
        "Looking at this chart, it appears as though a point of distance that separates the dendogram into three subtrees is at 0.93. So we cut there and see what our resulting tree looks like."
      ],
      "metadata": {
        "id": "uCxBKoTy-1f2"
      }
    },
    {
      "cell_type": "markdown",
      "source": [
        "We gather up the leaves from our tree..."
      ],
      "metadata": {
        "id": "dMtzJG7KNcdR"
      }
    },
    {
      "cell_type": "code",
      "source": [
        "leaf=hierarchy.leaves_list(Z)"
      ],
      "metadata": {
        "id": "Rwyi9HJvevk0"
      },
      "execution_count": 112,
      "outputs": []
    },
    {
      "cell_type": "code",
      "source": [
        "from scipy.cluster.hierarchy import fcluster\n",
        "\n",
        "max_d = .93\n",
        "\n",
        "cluster_assignments = fcluster(Z, max_d, criterion='distance')\n",
        "\n",
        "# Group labels by their cluster IDs\n",
        "clusters = {}\n",
        "for label, cluster_id in zip(labels, cluster_assignments):\n",
        "    clusters.setdefault(cluster_id, []).append(label)\n",
        "\n",
        "# Print clusters and their corresponding essay_id labels\n",
        "for cluster_id, members in clusters.items():\n",
        "    print(f\"Cluster {cluster_id}: {members}\")\n",
        "\n"
      ],
      "metadata": {
        "colab": {
          "base_uri": "https://localhost:8080/",
          "height": 0
        },
        "id": "fZowTlKSbwfZ",
        "outputId": "4c0e4a9e-73db-468e-9888-11b4bd0aaadd"
      },
      "execution_count": 113,
      "outputs": [
        {
          "output_type": "stream",
          "name": "stdout",
          "text": [
            "Cluster 2: [18241, 18237, 18230, 18225, 18220, 18218, 18211, 18208, 18198, 18190, 18145, 18141, 18130, 18121, 18120, 18119, 18114, 18105, 18100, 18026, 18025, 17946, 17939, 17937, 17930, 17928, 17924, 17917, 17916, 17913, 17900, 17839, 17838, 17830, 17810, 17805, 17802, 17751, 17735, 17734, 17709, 18239, 18238, 18234, 18222, 18212, 18207, 18199, 18155, 18139, 18138, 18137, 18129, 18111, 18099, 18041, 18020, 18016, 18013, 18003, 18000, 17997, 17942, 17934, 17933, 17920, 17919, 17914, 17906, 17903, 17836, 17826, 17808, 17798, 17730, 17725, 17708]\n",
            "Cluster 3: [18240, 18236, 18229, 18227, 18226, 18221, 18217, 18203, 18200, 18193, 18192, 18189, 18153, 18150, 18146, 18142, 18135, 18127, 18124, 18118, 18117, 18110, 18108, 18107, 18101, 18040, 18037, 18034, 18031, 18030, 18028, 18024, 18021, 18018, 18017, 18015, 18014, 18012, 18010, 18008, 18007, 18005, 18001, 17996, 17995, 17940, 17938, 17935, 17929, 17923, 17922, 17910, 17908, 17907, 17902, 17901, 17899, 17837, 17831, 17824, 17820, 17814, 17811, 17803, 17799, 17796, 17749, 17747, 17745, 17738, 17733, 17726, 17722, 17716, 17715, 17713, 17710, 17705, 18228, 18224, 18223, 18215, 18214, 18213, 18206, 18204, 18201, 18196, 18195, 18194, 18151, 18143, 18134, 18133, 18131, 18125, 18113, 18112, 18109, 18104, 18102, 18038, 18032, 18029, 18022, 18011, 18009, 18006, 18004, 18002, 17999, 17950, 17944, 17941, 17936, 17921, 17918, 17915, 17911, 17909, 17905, 17843, 17842, 17841, 17835, 17834, 17825, 17822, 17821, 17819, 17818, 17815, 17812, 17809, 17807, 17804, 17800, 17794, 17790, 17782, 17750, 17743, 17742, 17741, 17729, 17720, 17719, 17717, 17714, 17711, 17703, 17701]\n",
            "Cluster 1: [18233, 18210, 18205, 18202, 18197, 18188, 18154, 18149, 18148, 18147, 18144, 18140, 18123, 18115, 18106, 18035, 18033, 18023, 18019, 17998, 17948, 17945, 17943, 17912, 17840, 17829, 17828, 17823, 17817, 17813, 17806, 17801, 17797, 17795, 17740, 17731, 17724, 17721, 17707, 17706, 17702, 18235, 18232, 18231, 18219, 18216, 18209, 18191, 18152, 18136, 18132, 18128, 18126, 18122, 18116, 18103, 18039, 18036, 17994, 17953, 17952, 17951, 17949, 17947, 17932, 17931, 17927, 17926, 17925, 17904, 17833, 17832, 17827, 17816, 17793, 17792, 17791, 17748, 17746, 17744, 17739, 17737, 17736, 17732, 17728, 17727, 17723, 17718, 17712, 17704, 17700, 17699]\n"
          ]
        }
      ]
    },
    {
      "cell_type": "markdown",
      "source": [
        "What kinds of narratives were in these clusters?"
      ],
      "metadata": {
        "id": "K3ZO0O79OutL"
      }
    },
    {
      "cell_type": "code",
      "source": [
        "print(\"----cluster 1-----\")\n",
        "print(df[df[\"essay_id\"] == 18233][\"processed_text\"].values)\n",
        "print(df[df[\"essay_id\"] == 18210][\"processed_text\"].values)\n",
        "print(\"tag: communalism\")\n",
        "\n",
        "print(\"----cluster 2-----\")\n",
        "print(df[df[\"essay_id\"] == 18241][\"processed_text\"].values)\n",
        "print(df[df[\"essay_id\"] == 18237][\"processed_text\"].values)\n",
        "print(\"tag: directing\")\n",
        "\n",
        "print(\"----cluster 3-----\")\n",
        "print(df[df[\"essay_id\"] == 18240][\"processed_text\"].values)\n",
        "print(df[df[\"essay_id\"] == 18236][\"processed_text\"].values)\n",
        "print(\"tag: vision and guide\")"
      ],
      "metadata": {
        "colab": {
          "base_uri": "https://localhost:8080/",
          "height": 0
        },
        "id": "q6atLKC9OyZC",
        "outputId": "ee51c25b-3fed-4593-90d3-cbc673d2a5fe"
      },
      "execution_count": 97,
      "outputs": [
        {
          "output_type": "stream",
          "name": "stdout",
          "text": [
            "----cluster 1-----\n",
            "['There is a common misconception that leaders stand alone — that they stand ahead everyone else as in they lead the crowd. However, the most effective leader is one who leads from within the masses. A true leader is someone who is able to hold up the hands of his or her counterparts, instilling a feeling of camaraderie, safety, and reliability amongst those he or she is around. Someone who is grounded with compassion and understanding for the day-to-day routine and struggles that the everyday person experiences resonates more deeply with people over someone who is detached. A good leader uplifts those that they lead, striving to better their experiences and make a real difference while also listening to others’ needs. A great leader does all of this from within']\n",
            "[\"This image captures the essence of leadership by showcasing qualities that a leader radiates. The leader's attentive posture and engagement with the team exemplifies empathy and genuine concern for her surroundings, which is key to leadership. This signifies the leader's commitment to fostering growth and well-being among her team. This reflects a leader's ability to inspire her team by making her presence in the room known. This image captures leadership as a partnership, emphasizing the leader's role in nurturing her team's potential. Through capturing the attention of individuals in the room, the leader empowers others, fostering a sense of belonging and commitment. This encapsulates the heart of leadership: guiding and cultivating a cohesive and motivated team, all while demonstrating the transformative impact of compassion-driven leadership.\"]\n",
            "tag: communalism\n",
            "----cluster 2-----\n",
            "['Leadership is influencing and directing others in pursuit of a common goal. The many sticky notes and side discussions occurring in the photo are steps toward the projects listed on the paper (“Community Garden,” “Immigrant Support,” etc.). In this image, the two people standing are exhibiting leadership, discussing and collaborating with other group members to move forward toward their common goal. Leadership involves not only sharing and pursuing your ideas but also considering and inviting new ideas. In this image and most scenarios involving leadership, the members sitting around the table are of various ethnicities, races, gender and sexual orientations, ages, etc. This diversity of identity and experience leads to more innovative and creative direction for the group, and true leaders bolster this and see diversity as a strength.']\n",
            "['Leadership is about uniting and inspiring people to follow your ideas. In this picture, my IB program coordinator holds a team-building event with the IB students and teachers. Despite their different professional and academic experiences, as a leader, she managed to inspire them to become part of the Swiss educational program she’s passionate about. She’s also put much time and effort into persuading a local school to start offering IB courses. Thus, without her inherent charisma and determination, she wouldn’t have created such a close-knit group of IB learners and teachers in Russia, a country that’s far away from Switzerland, and enriched her community with more educational opportunities.']\n",
            "tag: directing\n",
            "----cluster 3-----\n",
            "['I chose an image of a group of individuals hiking up a mountain, where one individual takes initiative and leads the group in order to work towards a common goal. All of these people want to reach to the top of the mountain, but they need to work together in order to achieve this. Leadership can be shown in many different forms. I believe that a true leader takes the first step in order to inspire and motivate others. A leader has a clear agenda that will benefit the group as a whole, and has the ability to manage these individuals in a decisive and organized manner. Leaders recognize that clear communication within a group is what fuels success, empowering each other to work to the best of their abilities within a shared workspace.']\n",
            "[\"This image of my older sister and I as children captures the essence of leadership to me because to me, a leader is someone that can understand others and accommodate to their needs. A good leader is able to understand the abilities, needs, and capacities of each individual, and can cater to both the individual and the group. When I was young, my sister was this type of leader in my life— I wouldn't and couldn't do anything without her, so she would always accommodate to my needs. She led me through anything I couldn't or didn't want to do on my own, and was there for me every step of the way. To me, being a leader mean s being open to change, understanding each individual member, engaging a team on many levels, and encouraging their best efforts.\"]\n",
            "tag: vision and guide\n"
          ]
        }
      ]
    },
    {
      "cell_type": "markdown",
      "source": [
        "A cursory glance suggests these categories hold up."
      ],
      "metadata": {
        "id": "Zfk5R39_RquU"
      }
    },
    {
      "cell_type": "markdown",
      "source": [
        "Now let's go find out where our MLK essays have been clustered, as well as the ones with the identical images...\n"
      ],
      "metadata": {
        "id": "DGuosHuJNtDv"
      }
    },
    {
      "cell_type": "markdown",
      "source": [
        "**SAME PICTURE EXAMINATION**"
      ],
      "metadata": {
        "id": "s8GYaI4uORNX"
      }
    },
    {
      "cell_type": "markdown",
      "source": [
        "We start by providing the IDs for the images of MLK and the cartoon mountain flag leader."
      ],
      "metadata": {
        "id": "Jz5s77rvOSS0"
      }
    },
    {
      "cell_type": "code",
      "source": [
        "mlk_ids = [17714, 17997, 18004, 18209, 18239]\n",
        "# IDs of essays that used pics of MLK\n",
        "\n",
        "samepic_ids = [18225, 18211, 18208, 18197, 18194, 18190, 18150, 18145, 18105, 18107, 18008, 18009, 18000, 17951, 17930, 17901, 17738, 17719, 17715]\n",
        "# IDs of essays that have submitted the same cartoon picture\n"
      ],
      "metadata": {
        "id": "CLHgdIPatVZ1"
      },
      "execution_count": 46,
      "outputs": []
    },
    {
      "cell_type": "markdown",
      "source": [
        "We now look for them in our dendogram"
      ],
      "metadata": {
        "id": "eM5j3CBnOZJA"
      }
    },
    {
      "cell_type": "code",
      "source": [
        "# For Dendrogram based on doc2vec\n",
        "# Finding the clusters that have the MLK pics\n",
        "\n",
        "# Dictionary to store the clusters that contain the specific IDs\n",
        "clu_with_eid = {essay_id: None for essay_id in mlk_ids}\n",
        "\n",
        "# Iterate through the clusters\n",
        "for cluster_id, members in clusters.items():\n",
        "    for essay_id in mlk_ids:\n",
        "        if essay_id in members:\n",
        "            clu_with_eid[essay_id] = cluster_id\n",
        "\n",
        "# Dictionary to group essay IDs by clusters\n",
        "\n",
        "id_by_clu = {}\n",
        "\n",
        "# Populate the dictionaries that show which clusters have which essay_ids.\n",
        "for essay_id, cluster_id in clu_with_eid.items():\n",
        "    if cluster_id not in id_by_clu:\n",
        "        id_by_clu[cluster_id] = []\n",
        "    id_by_clu[cluster_id].append(essay_id)\n",
        "\n",
        "# Display the clusters and their associated essay IDs\n",
        "for cluster_id, essay_ids in sorted(id_by_clu.items()):\n",
        "    print(f\"Cluster {cluster_id} has these essay IDs: {essay_ids}\")"
      ],
      "metadata": {
        "colab": {
          "base_uri": "https://localhost:8080/",
          "height": 0
        },
        "id": "5UVO1SAZtc0p",
        "outputId": "2e6cd456-0991-400f-fead-f506c3e83e9b"
      },
      "execution_count": 47,
      "outputs": [
        {
          "output_type": "stream",
          "name": "stdout",
          "text": [
            "Cluster 1 has these essay IDs: [18209]\n",
            "Cluster 2 has these essay IDs: [17997, 18239]\n",
            "Cluster 3 has these essay IDs: [17714, 18004]\n"
          ]
        }
      ]
    },
    {
      "cell_type": "markdown",
      "source": [
        "We see MLK is spread out among clusters 1, 2, and 3. A vote for communalism. A vote for directing. And a vote for vision. Let's read the essays shall we?"
      ],
      "metadata": {
        "id": "QAA03_QAOegi"
      }
    },
    {
      "cell_type": "code",
      "source": [
        "print(\"----cluster 1-----\")\n",
        "print(df[df[\"essay_id\"] == 18209][\"processed_text\"].values)\n",
        "print(\"tag: communalism ???? Perhaps a good fit, bringing others forward\")\n",
        "\n",
        "print(\"----cluster 2-----\")\n",
        "print(df[df[\"essay_id\"] == 17997][\"processed_text\"].values)\n",
        "print(df[df[\"essay_id\"] == 18239][\"processed_text\"].values)\n",
        "print(\"tag: directing ???? Perhaps, leading by example?\")\n",
        "\n",
        "print(\"----cluster 3-----\")\n",
        "print(df[df[\"essay_id\"] == 17714][\"processed_text\"].values)\n",
        "print(df[df[\"essay_id\"] == 18004][\"processed_text\"].values)\n",
        "print(\"tag: vision and guide ???? Perhaps, goals and power? The motivator?\")"
      ],
      "metadata": {
        "colab": {
          "base_uri": "https://localhost:8080/",
          "height": 0
        },
        "id": "YfnNW0KtR3N4",
        "outputId": "b5fe1f71-7bda-48f4-c914-16d2be81f61c"
      },
      "execution_count": 98,
      "outputs": [
        {
          "output_type": "stream",
          "name": "stdout",
          "text": [
            "----cluster 1-----\n",
            "['The essence of leadership is when a person can communicate and rally a group of people, regardless of scale. From a leader in a group project to a President, leadership is displayed by those who can facilitate and help bring others forward in uncomfortable situations. A leader has to be bold, not necessarily the loudest, but someone who can get their message across to others, thus encouraging them. Confidence must always be shown, even when the leader themself has their own doubts. A leader must also be reliable; when people rely on you, you must bring forth what the people want. Most of all, a leader must care. This means the leader must prioritize their role and embrace the sacrifice that comes with the role. A leader must trudge through adversity if it means losing sleep, suffering, and being uncomfortable overall.']\n",
            "tag: communalism\n",
            "----cluster 2-----\n",
            "['This image of Martin Luther King, Jr., at the Lincoln Memorial, taken on August 28, 1963, exactly 60 years ago, captures the essence of leadership. What I see in this image is a brave man, standing before a group of people-- young, old, black, white, poor, and rich– and speaking with the same level of respect and dignity for each person. He is leading by example, with a purpose as he delivers his \"I Have A Dream\" speech sharing his bold ideas with a plan for freedom. The image shows the massive crowd listening intently and looking up to him for guidance and support. He inspires and encourages all people while making it clear he is no better or worse than anyone else. Martin Luther King Jr. will always be a leader.']\n",
            "['Leadership is standing out from the crowd in order to do what is right. It can be shown in many different ways- some being verbal, or some being through actions themselves. In some rare instances, it can be shown through both. This is why I feel that the picture I chose truly captures the essence of leadership as a whole. Martin Luther King Jr not only led through his speeches, but through action as well. Although Martin Luther King Jr faced severe backlash for his protests regarding freedom for black people, he continued to lead by example and break the cycle of racism built up in America. He sacrificed his life for the slight chance that the world could someday become a better place. His influence on the minority groups in America characterize a true leader.']\n",
            "tag: directing\n",
            "----cluster 3-----\n",
            "['I have chosen a famous image of Martin Luther King Jr. in jail for leading civil rights protests. This image represents true leadership because it shows the sacrifice MLK has shown in order to lead the civil rights movement and represents how a leader is willing to make sacrifices in order to help further the goals of the group he is leading, in this case the civil rights movement. Additionally, this image shows the ideal of perseverance, which is also an important part of leadership. Leaders need to be able to adapt to hardships and setbacks, as King does by writing his famous \"Letter from Birmingham Jail\" while serving his sentence. This image represents the ideals of perseverance and sacrifice as they apply to leadership.']\n",
            "['My classmates and I in high school studied Martin Luther King in our social justice 12 class. When I think of a leader, someone persuasive and charismatic comes to mind. However, most importantly, a leader is someone who can motivate groups of people and lead them towards a common goal. In the attached picture, Martin Luther King demonstrates such leadership by performing his famous speech. His charisma allows him to move countless people and empowers individuals to follow him. Furthermore, by successfully motivating the people, he earnestly directs them towards the same purpose. One important part of the picture also involves the audience. Notice how people of all ethnicity sits patiently and listens carefully. As a powerful leader, understanding the audience and highlighting goals is crucial.']\n",
            "tag: vision and guide\n"
          ]
        }
      ]
    },
    {
      "cell_type": "markdown",
      "source": [
        "We can see that although the dendogram sorted the essays into different branches it's not totally clear why. I'm not sure that's how I would have sorted these five essays although I agree they do touch on different aspects."
      ],
      "metadata": {
        "id": "B1JLa1MaSrnx"
      }
    },
    {
      "cell_type": "markdown",
      "source": [
        "Let's check out some representatives from the cartoon images."
      ],
      "metadata": {
        "id": "N_CVBRApTOC_"
      }
    },
    {
      "cell_type": "code",
      "source": [
        "# All ids of the essays that have submitted the same picture\n",
        "\n",
        "# Dictionary to store the clusters that contain the specific IDs\n",
        "clu_with_eid = {essay_id: None for essay_id in samepic_ids}\n",
        "\n",
        "# Iterate through the clusters\n",
        "for cluster_id, members in clusters.items():\n",
        "    for essay_id in samepic_ids:\n",
        "        if essay_id in members:\n",
        "            clu_with_eid[essay_id] = cluster_id\n",
        "\n",
        "# Dictionary to group essay IDs by clusters\n",
        "\n",
        "id_by_clu = {}\n",
        "\n",
        "# Populate the dictionaries that show which clusters have which essay_ids.\n",
        "for essay_id, cluster_id in clu_with_eid.items():\n",
        "    if cluster_id not in id_by_clu:\n",
        "        id_by_clu[cluster_id] = []\n",
        "    id_by_clu[cluster_id].append(essay_id)\n",
        "\n",
        "# Display the clusters and their associated essay IDs\n",
        "for cluster_id, essay_ids in sorted(id_by_clu.items()):\n",
        "    print(f\"Cluster {cluster_id} has these essay IDs: {essay_ids}\")"
      ],
      "metadata": {
        "colab": {
          "base_uri": "https://localhost:8080/",
          "height": 0
        },
        "id": "OF9BJ1C8OU76",
        "outputId": "c9820d85-c453-4306-eaa6-1ba1be36ade1"
      },
      "execution_count": 99,
      "outputs": [
        {
          "output_type": "stream",
          "name": "stdout",
          "text": [
            "Cluster 1 has these essay IDs: [18197, 17951]\n",
            "Cluster 2 has these essay IDs: [18225, 18211, 18208, 18190, 18145, 18105, 18000, 17930]\n",
            "Cluster 3 has these essay IDs: [18194, 18150, 18107, 18008, 18009, 17901, 17738, 17719, 17715]\n"
          ]
        }
      ]
    },
    {
      "cell_type": "markdown",
      "source": [
        "Let's check out these narratives"
      ],
      "metadata": {
        "id": "_pJ8qSpbTTxR"
      }
    },
    {
      "cell_type": "code",
      "source": [
        "print(\"----cluster 1-----\")\n",
        "print(df[df[\"essay_id\"] == 18197][\"processed_text\"].values)\n",
        "print(\"tag: communalism ???? Mix of vision, but strong ending on communalism?\")\n",
        "\n",
        "print(\"----cluster 2-----\")\n",
        "print(df[df[\"essay_id\"] == 18225][\"processed_text\"].values)\n",
        "print(df[df[\"essay_id\"] == 18211][\"processed_text\"].values)\n",
        "print(\"tag: directing ???? I'm wondering if 'not' was not picked up as negating by doc2vec!!\")\n",
        "\n",
        "print(\"----cluster 3-----\")\n",
        "print(df[df[\"essay_id\"] == 18194][\"processed_text\"].values)\n",
        "print(df[df[\"essay_id\"] == 18150][\"processed_text\"].values)\n",
        "print(\"tag: vision and guide ???? This seems like a good fit, but other narratives mention these themes...\")"
      ],
      "metadata": {
        "colab": {
          "base_uri": "https://localhost:8080/",
          "height": 0
        },
        "id": "kkzLoXMHTWGV",
        "outputId": "2741f685-08e3-4651-aab5-bb557f00cdcf"
      },
      "execution_count": 100,
      "outputs": [
        {
          "output_type": "stream",
          "name": "stdout",
          "text": [
            "----cluster 1-----\n",
            "['Leadership is using your skills and knowledge to reach your goals while influencing and guiding others to reach their goals as well. A leader inspires, empowers, and guides their team towards success through communication and determination. In the image, the \"leader\" carries the flag, because he has useful knowledge and ideas to share with his team members, and he has taken the initiative to lead his team to their goal. The image really captures my understanding of leadership because it shows the \"leader\" also looking back and holding hands with the team meaning he is determined to make not just himself, but everyone else be the best versions of themselves so that everyone grows, learns, and achieves their goals. Leaders like the one in the image make sure their teammates are not left behind.']\n",
            "tag: communalism ???? Perhaps a good fit, bringing others forward\n",
            "----cluster 2-----\n",
            "['To me, leadership is the ability to influence and be an uplifting power. Leadership requires charisma. In the image, the girl with the megaphone cheers and encourages those ahead of her, as does the girl clapping below. Leaders celebrate their team’s successes and progress to empower the group. The image portrays people giving each other a hand, they work together to make it to the top. A good leader does not just command their peers to do things, they have to care about the growth the team as a whole and be able to work collaboratively to assure that the goals of all are met.']\n",
            "[\"Leadership can look different in everyone's eyes and can also be defined in many different ways. Leadership to some may be someone that tells them what to do or where to go. To others it may be someone to look up to. To me leadership still encompasses all these things, but the essence of leadership is making sure everyone is where they need to be and not falling behind or afraid to ask for help. This image presents leadership in that the leader (the person at the front of the line) looks back to check on his team. He is making sure everyone is where they need to be. In addition, he links his hand with the line ensuring that no one is falling behind.\"]\n",
            "tag: directing ???? Perhaps, leading by example?\n",
            "----cluster 3-----\n",
            "['This picture shows not only a person leading others and offering guidance but also a leader who remains united and connected with their team. In the picture, the man in front is even looking back on the group, presumably ensuring their safety and progress. I chose this picture because a leader is someone who guides and empowers others while recognizing that the importance should be placed on the entire group, not the individual leader themself. True leadership is using your expertise, knowledge, and power to help guide others, not draw attention to yourself or flaunt your capabilities. Leadership comes in very many forms, but no matter the form, it is critical to emphasize that the leader is there for the people they lead, and not themselves.']\n",
            "[\"The image encapsulates the essence of leadership. The leader's stance atop the hill, holding the flag, symbolizes their vision and direction, guiding the team towards a shared goal. This parallels the role of a leader who sets a clear path and inspires others through their unwavering commitment. The outstretched hands represent support, encouragement, and a willingness to uplift the team, highlighting the leader's dedication to collective progress. Leadership isn't about mere authority, but about fostering unity and growth. In essence, the image captures how a leader's strategic vision, guidance, and supportive nature combine to elevate the entire team towards success.\"]\n",
            "tag: vision and guide ???? Perhaps, goals and power? The motivator?\n"
          ]
        }
      ]
    },
    {
      "cell_type": "markdown",
      "source": [
        "Again, I see distinct meanings--someone notices the little girl, while the other focuses on the leader in front. However, I'm not sure the distinctions are so meaningful because the image itself is a characature of leadership--it's like what you would get if you googled for clip art of leadership."
      ],
      "metadata": {
        "id": "oyRMZRmnUKr-"
      }
    },
    {
      "cell_type": "markdown",
      "source": [
        "That felt fairly useful. Does BERT make better distinctions? It's supposed to be very advanced..."
      ],
      "metadata": {
        "id": "5oNFsZuiUmz4"
      }
    },
    {
      "cell_type": "markdown",
      "source": [
        "*Tree based clustering BERT*"
      ],
      "metadata": {
        "id": "14aYDpQhSFS-"
      }
    },
    {
      "cell_type": "code",
      "source": [
        "X = np.array(df[\"bert_embeddings\"].values.tolist())"
      ],
      "metadata": {
        "id": "U02j57IGSCLf"
      },
      "execution_count": 114,
      "outputs": []
    },
    {
      "cell_type": "code",
      "source": [
        "Z = hierarchy.linkage(X, 'ward')\n",
        "plt.figure()\n",
        "dn = hierarchy.dendrogram(Z, truncate_mode = 'level', p = 3)\n",
        "plt.axhline(y=2.5, color='r', linestyle='--')\n",
        "plt.show()"
      ],
      "metadata": {
        "colab": {
          "base_uri": "https://localhost:8080/",
          "height": 434
        },
        "id": "8NN2ennrSTVp",
        "outputId": "aed7ff97-bc99-47b3-ace7-e5ff2ec319d2"
      },
      "execution_count": 115,
      "outputs": [
        {
          "output_type": "display_data",
          "data": {
            "text/plain": [
              "<Figure size 640x480 with 1 Axes>"
            ],
            "image/png": "[encoded data removed]"
          },
          "metadata": {}
        }
      ]
    },
    {
      "cell_type": "markdown",
      "source": [
        "We visualize our dendogram with our cut point to produce three distinct clusters."
      ],
      "metadata": {
        "id": "Ocg0CFvNScOI"
      }
    },
    {
      "cell_type": "code",
      "source": [
        "max_d = 2.5\n",
        "\n",
        "cluster_assignments = fcluster(Z, max_d, criterion='distance')\n",
        "\n",
        "# Group labels by their cluster IDs\n",
        "clusters_BERT = {}\n",
        "for label, cluster_id in zip(labels, cluster_assignments):\n",
        "    clusters_BERT.setdefault(cluster_id, []).append(label)\n",
        "\n",
        "# Print clusters and their corresponding essay_id labels\n",
        "for cluster_id, members in clusters_BERT.items():\n",
        "    print(f\"Cluster {cluster_id}: {members}\")\n"
      ],
      "metadata": {
        "colab": {
          "base_uri": "https://localhost:8080/",
          "height": 0
        },
        "id": "_JllXryYRKcs",
        "outputId": "5083f2a1-085b-418d-a5ad-7b58b49119e5"
      },
      "execution_count": 116,
      "outputs": [
        {
          "output_type": "stream",
          "name": "stdout",
          "text": [
            "Cluster 2: [18241, 18230, 18229, 18202, 18200, 18197, 18193, 18190, 18188, 18150, 18149, 18145, 18144, 18121, 18117, 18115, 18110, 18108, 18107, 18105, 18101, 18024, 18021, 18014, 18010, 18008, 17998, 17948, 17946, 17943, 17940, 17938, 17937, 17924, 17917, 17912, 17907, 17901, 17840, 17838, 17831, 17823, 17801, 17799, 17747, 17745, 17738, 17733, 17721, 17710, 17709, 17705, 18238, 18231, 18219, 18213, 18212, 18207, 18206, 18201, 18199, 18137, 18133, 18129, 18122, 18099, 18041, 18039, 18038, 18032, 18029, 18016, 18011, 18009, 18002, 17999, 17994, 17953, 17951, 17941, 17933, 17931, 17915, 17836, 17826, 17818, 17800, 17798, 17794, 17792, 17790, 17782, 17746, 17744, 17730, 17729, 17727, 17725, 17699]\n",
            "Cluster 1: [18240, 18236, 18233, 18226, 18225, 18221, 18220, 18211, 18208, 18203, 18192, 18154, 18148, 18147, 18142, 18141, 18130, 18127, 18124, 18123, 18120, 18119, 18118, 18114, 18035, 18034, 18030, 18023, 18019, 18017, 18012, 18005, 18001, 17996, 17995, 17939, 17930, 17928, 17922, 17916, 17913, 17839, 17829, 17814, 17811, 17806, 17803, 17796, 17751, 17749, 17722, 17715, 17713, 17707, 17702, 18235, 18222, 18216, 18215, 18209, 18204, 18194, 18139, 18136, 18125, 18116, 18103, 18102, 18020, 18000, 17949, 17936, 17932, 17926, 17921, 17918, 17914, 17911, 17904, 17843, 17819, 17816, 17808, 17807, 17793, 17750, 17748, 17739, 17737, 17728, 17723, 17719, 17712, 17711, 17704, 17703, 17701]\n",
            "Cluster 3: [18237, 18227, 18218, 18217, 18210, 18205, 18198, 18189, 18153, 18146, 18140, 18135, 18106, 18100, 18040, 18037, 18033, 18031, 18028, 18026, 18025, 18018, 18015, 18007, 17945, 17935, 17929, 17923, 17910, 17908, 17902, 17900, 17899, 17837, 17830, 17828, 17824, 17820, 17817, 17813, 17810, 17805, 17802, 17797, 17795, 17740, 17735, 17734, 17731, 17726, 17724, 17716, 17706, 18239, 18234, 18232, 18228, 18224, 18223, 18214, 18196, 18195, 18191, 18155, 18152, 18151, 18143, 18138, 18134, 18132, 18131, 18128, 18126, 18113, 18112, 18111, 18109, 18104, 18036, 18022, 18013, 18006, 18004, 18003, 17997, 17952, 17950, 17947, 17944, 17942, 17934, 17927, 17925, 17920, 17919, 17909, 17906, 17905, 17903, 17842, 17841, 17835, 17834, 17833, 17832, 17827, 17825, 17822, 17821, 17815, 17812, 17809, 17804, 17791, 17743, 17742, 17741, 17736, 17732, 17720, 17718, 17717, 17714, 17708, 17700]\n"
          ]
        }
      ]
    },
    {
      "cell_type": "markdown",
      "source": [
        "Before we read narratives, what's the confusion matrix like for these two?"
      ],
      "metadata": {
        "id": "vwuXhKlnVsjA"
      }
    },
    {
      "cell_type": "code",
      "source": [
        "data1 = {'data' : clusters[1] , 'd2v_cluster' : 1 }\n",
        "data2 = {'data' : clusters[2] , 'd2v_cluster' : 2 }\n",
        "data3 = {'data' : clusters[3] , 'd2v_cluster' : 3 }\n",
        "data12 = {'data' : clusters_BERT[1] , 'b_cluster' : 1 }\n",
        "data22 = {'data' : clusters_BERT[2] , 'b_cluster' : 2 }\n",
        "data32 = {'data' : clusters_BERT[3] , 'b_cluster' : 3 }"
      ],
      "metadata": {
        "id": "aWG3_Bi3YhVm"
      },
      "execution_count": 170,
      "outputs": []
    },
    {
      "cell_type": "code",
      "source": [
        "temp = pd.DataFrame(data1)\n",
        "for i in [data2,data3]:\n",
        "  temp = pd.concat([temp,pd.DataFrame(i)])"
      ],
      "metadata": {
        "id": "P0ZhXvsfZDCD"
      },
      "execution_count": 171,
      "outputs": []
    },
    {
      "cell_type": "code",
      "source": [
        "result = pd.merge(df, temp, left_on='essay_id', right_on='data')"
      ],
      "metadata": {
        "id": "spU4ItSyagFI"
      },
      "execution_count": 172,
      "outputs": []
    },
    {
      "cell_type": "code",
      "source": [
        "temp = pd.DataFrame(data12)\n",
        "for i in [data22,data32]:\n",
        "  temp = pd.concat([temp,pd.DataFrame(i)])"
      ],
      "metadata": {
        "id": "qf9bqvlcbrIC"
      },
      "execution_count": 173,
      "outputs": []
    },
    {
      "cell_type": "code",
      "source": [
        "result = pd.merge(result, temp, left_on='essay_id', right_on='data')"
      ],
      "metadata": {
        "id": "CqhTPZOhby-G"
      },
      "execution_count": 174,
      "outputs": []
    },
    {
      "cell_type": "code",
      "source": [
        "pd.crosstab(result[\"d2v_cluster\"],result[\"b_cluster\"])"
      ],
      "metadata": {
        "colab": {
          "base_uri": "https://localhost:8080/",
          "height": 174
        },
        "id": "wInsUrKZbX7n",
        "outputId": "57c8ea22-b027-446d-d8a4-03a3a28e3630"
      },
      "execution_count": 177,
      "outputs": [
        {
          "output_type": "execute_result",
          "data": {
            "text/plain": [
              "b_cluster     1   2   3\n",
              "d2v_cluster            \n",
              "1            31  27  34\n",
              "2            22  27  28\n",
              "3            44  45  63"
            ],
            "text/html": [
              "\n",
              "  <div id=\"df-a582d800-d6ce-4510-be1d-eca7d57981cd\" class=\"colab-df-container\">\n",
              "    <div>\n",
              "<style scoped>\n",
              "    .dataframe tbody tr th:only-of-type {\n",
              "        vertical-align: middle;\n",
              "    }\n",
              "\n",
              "    .dataframe tbody tr th {\n",
              "        vertical-align: top;\n",
              "    }\n",
              "\n",
              "    .dataframe thead th {\n",
              "        text-align: right;\n",
              "    }\n",
              "</style>\n",
              "<table border=\"1\" class=\"dataframe\">\n",
              "  <thead>\n",
              "    <tr style=\"text-align: right;\">\n",
              "      <th>b_cluster</th>\n",
              "      <th>1</th>\n",
              "      <th>2</th>\n",
              "      <th>3</th>\n",
              "    </tr>\n",
              "    <tr>\n",
              "      <th>d2v_cluster</th>\n",
              "      <th></th>\n",
              "      <th></th>\n",
              "      <th></th>\n",
              "    </tr>\n",
              "  </thead>\n",
              "  <tbody>\n",
              "    <tr>\n",
              "      <th>1</th>\n",
              "      <td>31</td>\n",
              "      <td>27</td>\n",
              "      <td>34</td>\n",
              "    </tr>\n",
              "    <tr>\n",
              "      <th>2</th>\n",
              "      <td>22</td>\n",
              "      <td>27</td>\n",
              "      <td>28</td>\n",
              "    </tr>\n",
              "    <tr>\n",
              "      <th>3</th>\n",
              "      <td>44</td>\n",
              "      <td>45</td>\n",
              "      <td>63</td>\n",
              "    </tr>\n",
              "  </tbody>\n",
              "</table>\n",
              "</div>\n",
              "    <div class=\"colab-df-buttons\">\n",
              "\n",
              "  <div class=\"colab-df-container\">\n",
              "    <button class=\"colab-df-convert\" onclick=\"convertToInteractive('df-a582d800-d6ce-4510-be1d-eca7d57981cd')\"\n",
              "            title=\"Convert this dataframe to an interactive table.\"\n",
              "            style=\"display:none;\">\n",
              "\n",
              "  <svg xmlns=\"http://www.w3.org/2000/svg\" height=\"24px\" viewBox=\"0 -960 960 960\">\n",
              "    <path d=\"M120-120v-720h720v720H120Zm60-500h600v-160H180v160Zm220 220h160v-160H400v160Zm0 220h160v-160H400v160ZM180-400h160v-160H180v160Zm440 0h160v-160H620v160ZM180-180h160v-160H180v160Zm440 0h160v-160H620v160Z\"/>\n",
              "  </svg>\n",
              "    </button>\n",
              "\n",
              "  <style>\n",
              "    .colab-df-container {\n",
              "      display:flex;\n",
              "      gap: 12px;\n",
              "    }\n",
              "\n",
              "    .colab-df-convert {\n",
              "      background-color: #E8F0FE;\n",
              "      border: none;\n",
              "      border-radius: 50%;\n",
              "      cursor: pointer;\n",
              "      display: none;\n",
              "      fill: #1967D2;\n",
              "      height: 32px;\n",
              "      padding: 0 0 0 0;\n",
              "      width: 32px;\n",
              "    }\n",
              "\n",
              "    .colab-df-convert:hover {\n",
              "      background-color: #E2EBFA;\n",
              "      box-shadow: 0px 1px 2px rgba(60, 64, 67, 0.3), 0px 1px 3px 1px rgba(60, 64, 67, 0.15);\n",
              "      fill: #174EA6;\n",
              "    }\n",
              "\n",
              "    .colab-df-buttons div {\n",
              "      margin-bottom: 4px;\n",
              "    }\n",
              "\n",
              "    [theme=dark] .colab-df-convert {\n",
              "      background-color: #3B4455;\n",
              "      fill: #D2E3FC;\n",
              "    }\n",
              "\n",
              "    [theme=dark] .colab-df-convert:hover {\n",
              "      background-color: #434B5C;\n",
              "      box-shadow: 0px 1px 3px 1px rgba(0, 0, 0, 0.15);\n",
              "      filter: drop-shadow(0px 1px 2px rgba(0, 0, 0, 0.3));\n",
              "      fill: #FFFFFF;\n",
              "    }\n",
              "  </style>\n",
              "\n",
              "    <script>\n",
              "      const buttonEl =\n",
              "        document.querySelector('#df-a582d800-d6ce-4510-be1d-eca7d57981cd button.colab-df-convert');\n",
              "      buttonEl.style.display =\n",
              "        google.colab.kernel.accessAllowed ? 'block' : 'none';\n",
              "\n",
              "      async function convertToInteractive(key) {\n",
              "        const element = document.querySelector('#df-a582d800-d6ce-4510-be1d-eca7d57981cd');\n",
              "        const dataTable =\n",
              "          await google.colab.kernel.invokeFunction('convertToInteractive',\n",
              "                                                    [key], {});\n",
              "        if (!dataTable) return;\n",
              "\n",
              "        const docLinkHtml = 'Like what you see? Visit the ' +\n",
              "          '<a target=\"_blank\" href=https://colab.research.google.com/notebooks/data_table.ipynb>data table notebook</a>'\n",
              "          + ' to learn more about interactive tables.';\n",
              "        element.innerHTML = '';\n",
              "        dataTable['output_type'] = 'display_data';\n",
              "        await google.colab.output.renderOutput(dataTable, element);\n",
              "        const docLink = document.createElement('div');\n",
              "        docLink.innerHTML = docLinkHtml;\n",
              "        element.appendChild(docLink);\n",
              "      }\n",
              "    </script>\n",
              "  </div>\n",
              "\n",
              "\n",
              "<div id=\"df-22a12e10-4a06-4110-81ea-72ffebc15ba1\">\n",
              "  <button class=\"colab-df-quickchart\" onclick=\"quickchart('df-22a12e10-4a06-4110-81ea-72ffebc15ba1')\"\n",
              "            title=\"Suggest charts\"\n",
              "            style=\"display:none;\">\n",
              "\n",
              "<svg xmlns=\"http://www.w3.org/2000/svg\" height=\"24px\"viewBox=\"0 0 24 24\"\n",
              "     width=\"24px\">\n",
              "    <g>\n",
              "        <path d=\"M19 3H5c-1.1 0-2 .9-2 2v14c0 1.1.9 2 2 2h14c1.1 0 2-.9 2-2V5c0-1.1-.9-2-2-2zM9 17H7v-7h2v7zm4 0h-2V7h2v10zm4 0h-2v-4h2v4z\"/>\n",
              "    </g>\n",
              "</svg>\n",
              "  </button>\n",
              "\n",
              "<style>\n",
              "  .colab-df-quickchart {\n",
              "      --bg-color: #E8F0FE;\n",
              "      --fill-color: #1967D2;\n",
              "      --hover-bg-color: #E2EBFA;\n",
              "      --hover-fill-color: #174EA6;\n",
              "      --disabled-fill-color: #AAA;\n",
              "      --disabled-bg-color: #DDD;\n",
              "  }\n",
              "\n",
              "  [theme=dark] .colab-df-quickchart {\n",
              "      --bg-color: #3B4455;\n",
              "      --fill-color: #D2E3FC;\n",
              "      --hover-bg-color: #434B5C;\n",
              "      --hover-fill-color: #FFFFFF;\n",
              "      --disabled-bg-color: #3B4455;\n",
              "      --disabled-fill-color: #666;\n",
              "  }\n",
              "\n",
              "  .colab-df-quickchart {\n",
              "    background-color: var(--bg-color);\n",
              "    border: none;\n",
              "    border-radius: 50%;\n",
              "    cursor: pointer;\n",
              "    display: none;\n",
              "    fill: var(--fill-color);\n",
              "    height: 32px;\n",
              "    padding: 0;\n",
              "    width: 32px;\n",
              "  }\n",
              "\n",
              "  .colab-df-quickchart:hover {\n",
              "    background-color: var(--hover-bg-color);\n",
              "    box-shadow: 0 1px 2px rgba(60, 64, 67, 0.3), 0 1px 3px 1px rgba(60, 64, 67, 0.15);\n",
              "    fill: var(--button-hover-fill-color);\n",
              "  }\n",
              "\n",
              "  .colab-df-quickchart-complete:disabled,\n",
              "  .colab-df-quickchart-complete:disabled:hover {\n",
              "    background-color: var(--disabled-bg-color);\n",
              "    fill: var(--disabled-fill-color);\n",
              "    box-shadow: none;\n",
              "  }\n",
              "\n",
              "  .colab-df-spinner {\n",
              "    border: 2px solid var(--fill-color);\n",
              "    border-color: transparent;\n",
              "    border-bottom-color: var(--fill-color);\n",
              "    animation:\n",
              "      spin 1s steps(1) infinite;\n",
              "  }\n",
              "\n",
              "  @keyframes spin {\n",
              "    0% {\n",
              "      border-color: transparent;\n",
              "      border-bottom-color: var(--fill-color);\n",
              "      border-left-color: var(--fill-color);\n",
              "    }\n",
              "    20% {\n",
              "      border-color: transparent;\n",
              "      border-left-color: var(--fill-color);\n",
              "      border-top-color: var(--fill-color);\n",
              "    }\n",
              "    30% {\n",
              "      border-color: transparent;\n",
              "      border-left-color: var(--fill-color);\n",
              "      border-top-color: var(--fill-color);\n",
              "      border-right-color: var(--fill-color);\n",
              "    }\n",
              "    40% {\n",
              "      border-color: transparent;\n",
              "      border-right-color: var(--fill-color);\n",
              "      border-top-color: var(--fill-color);\n",
              "    }\n",
              "    60% {\n",
              "      border-color: transparent;\n",
              "      border-right-color: var(--fill-color);\n",
              "    }\n",
              "    80% {\n",
              "      border-color: transparent;\n",
              "      border-right-color: var(--fill-color);\n",
              "      border-bottom-color: var(--fill-color);\n",
              "    }\n",
              "    90% {\n",
              "      border-color: transparent;\n",
              "      border-bottom-color: var(--fill-color);\n",
              "    }\n",
              "  }\n",
              "</style>\n",
              "\n",
              "  <script>\n",
              "    async function quickchart(key) {\n",
              "      const quickchartButtonEl =\n",
              "        document.querySelector('#' + key + ' button');\n",
              "      quickchartButtonEl.disabled = true;  // To prevent multiple clicks.\n",
              "      quickchartButtonEl.classList.add('colab-df-spinner');\n",
              "      try {\n",
              "        const charts = await google.colab.kernel.invokeFunction(\n",
              "            'suggestCharts', [key], {});\n",
              "      } catch (error) {\n",
              "        console.error('Error during call to suggestCharts:', error);\n",
              "      }\n",
              "      quickchartButtonEl.classList.remove('colab-df-spinner');\n",
              "      quickchartButtonEl.classList.add('colab-df-quickchart-complete');\n",
              "    }\n",
              "    (() => {\n",
              "      let quickchartButtonEl =\n",
              "        document.querySelector('#df-22a12e10-4a06-4110-81ea-72ffebc15ba1 button');\n",
              "      quickchartButtonEl.style.display =\n",
              "        google.colab.kernel.accessAllowed ? 'block' : 'none';\n",
              "    })();\n",
              "  </script>\n",
              "</div>\n",
              "\n",
              "    </div>\n",
              "  </div>\n"
            ],
            "application/vnd.google.colaboratory.intrinsic+json": {
              "type": "dataframe",
              "summary": "{\n  \"name\": \"pd\",\n  \"rows\": 3,\n  \"fields\": [\n    {\n      \"column\": \"d2v_cluster\",\n      \"properties\": {\n        \"dtype\": \"number\",\n        \"std\": 1,\n        \"min\": 1,\n        \"max\": 3,\n        \"num_unique_values\": 3,\n        \"samples\": [\n          1,\n          2,\n          3\n        ],\n        \"semantic_type\": \"\",\n        \"description\": \"\"\n      }\n    },\n    {\n      \"column\": 1,\n      \"properties\": {\n        \"dtype\": \"number\",\n        \"std\": 11,\n        \"min\": 22,\n        \"max\": 44,\n        \"num_unique_values\": 3,\n        \"samples\": [\n          31,\n          22,\n          44\n        ],\n        \"semantic_type\": \"\",\n        \"description\": \"\"\n      }\n    },\n    {\n      \"column\": 2,\n      \"properties\": {\n        \"dtype\": \"number\",\n        \"std\": 10,\n        \"min\": 27,\n        \"max\": 45,\n        \"num_unique_values\": 2,\n        \"samples\": [\n          45,\n          27\n        ],\n        \"semantic_type\": \"\",\n        \"description\": \"\"\n      }\n    },\n    {\n      \"column\": 3,\n      \"properties\": {\n        \"dtype\": \"number\",\n        \"std\": 18,\n        \"min\": 28,\n        \"max\": 63,\n        \"num_unique_values\": 3,\n        \"samples\": [\n          34,\n          28\n        ],\n        \"semantic_type\": \"\",\n        \"description\": \"\"\n      }\n    }\n  ]\n}"
            }
          },
          "metadata": {},
          "execution_count": 177
        }
      ]
    },
    {
      "cell_type": "markdown",
      "source": [
        "Ok, let's maximize accuracy by assuming that a cluster of d2v should be matched with the cluster of b for which it shares the most membership. Therefore... 3<->3, and 1<->1 and therefore 2<->2 and the \"accuracy\" is along the diagonal and is about 38%. Not great! Looks like they are producing different clusters!"
      ],
      "metadata": {
        "id": "hWQomlgqcLl5"
      }
    },
    {
      "cell_type": "markdown",
      "source": [
        "So this would make me guess that the clusters will be distinct. Let's see if we can pick up how..."
      ],
      "metadata": {
        "id": "wHyMgjDAdYbT"
      }
    },
    {
      "cell_type": "code",
      "source": [
        "print(\"----cluster 1-----\")\n",
        "print(df[df[\"essay_id\"] == 18240][\"processed_text\"].values)\n",
        "print(df[df[\"essay_id\"] == 18236][\"processed_text\"].values)\n",
        "print(\"tag: communalism ???? This still feels relevant\")\n",
        "\n",
        "print(\"----cluster 2-----\")\n",
        "print(df[df[\"essay_id\"] == 18241][\"processed_text\"].values)\n",
        "print(df[df[\"essay_id\"] == 18230][\"processed_text\"].values)\n",
        "print(\"tag: directing ???? This still feels relevant\")\n",
        "\n",
        "print(\"----cluster 3-----\")\n",
        "print(df[df[\"essay_id\"] == 18237][\"processed_text\"].values)\n",
        "print(df[df[\"essay_id\"] == 18227][\"processed_text\"].values)\n",
        "print(\"tag: Charity and abroad actually feels most relevant here...\")"
      ],
      "metadata": {
        "colab": {
          "base_uri": "https://localhost:8080/",
          "height": 0
        },
        "id": "2oDtlhiaddE9",
        "outputId": "7bc44bc9-391a-4546-8aa8-a236ac7685f8"
      },
      "execution_count": 182,
      "outputs": [
        {
          "output_type": "stream",
          "name": "stdout",
          "text": [
            "----cluster 1-----\n",
            "['I chose an image of a group of individuals hiking up a mountain, where one individual takes initiative and leads the group in order to work towards a common goal. All of these people want to reach to the top of the mountain, but they need to work together in order to achieve this. Leadership can be shown in many different forms. I believe that a true leader takes the first step in order to inspire and motivate others. A leader has a clear agenda that will benefit the group as a whole, and has the ability to manage these individuals in a decisive and organized manner. Leaders recognize that clear communication within a group is what fuels success, empowering each other to work to the best of their abilities within a shared workspace.']\n",
            "[\"This image of my older sister and I as children captures the essence of leadership to me because to me, a leader is someone that can understand others and accommodate to their needs. A good leader is able to understand the abilities, needs, and capacities of each individual, and can cater to both the individual and the group. When I was young, my sister was this type of leader in my life— I wouldn't and couldn't do anything without her, so she would always accommodate to my needs. She led me through anything I couldn't or didn't want to do on my own, and was there for me every step of the way. To me, being a leader mean s being open to change, understanding each individual member, engaging a team on many levels, and encouraging their best efforts.\"]\n",
            "tag: communalism ???? This still feels relevant\n",
            "----cluster 2-----\n",
            "['Leadership is influencing and directing others in pursuit of a common goal. The many sticky notes and side discussions occurring in the photo are steps toward the projects listed on the paper (“Community Garden,” “Immigrant Support,” etc.). In this image, the two people standing are exhibiting leadership, discussing and collaborating with other group members to move forward toward their common goal. Leadership involves not only sharing and pursuing your ideas but also considering and inviting new ideas. In this image and most scenarios involving leadership, the members sitting around the table are of various ethnicities, races, gender and sexual orientations, ages, etc. This diversity of identity and experience leads to more innovative and creative direction for the group, and true leaders bolster this and see diversity as a strength.']\n",
            "['At its core, I believe that leadership is the mechanism that allows for execution and implementation of a vision through utilization of an outward mindset. Leadership allows an individual or group to influence the people around them to believe in their vision, helping mentor and develop those individuals into a strong team that can turn the vision into a reality, ideally one that positively impacts society. That’s why I selected the image of a person guiding a group of people through the dark with a flashlight—often, leaders are pushing the envelope with ideas that don’t seem wholly plausible, but with the “light” of their leadership, they are able to guide their team through the unknown, and push boundaries to explore new frontiers of human capability.']\n",
            "tag: directing ???? This still feels relevant\n",
            "----cluster 3-----\n",
            "['Leadership is about uniting and inspiring people to follow your ideas. In this picture, my IB program coordinator holds a team-building event with the IB students and teachers. Despite their different professional and academic experiences, as a leader, she managed to inspire them to become part of the Swiss educational program she’s passionate about. She’s also put much time and effort into persuading a local school to start offering IB courses. Thus, without her inherent charisma and determination, she wouldn’t have created such a close-knit group of IB learners and teachers in Russia, a country that’s far away from Switzerland, and enriched her community with more educational opportunities.']\n",
            "[\"A few months ago, my family visited Porto Ferreira, a Portuguese wine business started in 1751, for a wine tour. I quickly came to learn about Antonia Ferreira, an exemplary leader who broke many glass ceilings for women in business. As part of the fourth generation of the Ferreira family, Antonia defied norms as she overtook business activities. She helped Ferreira innovate with new cultivation techniques and a focus on humanitarian support. Antonia worked to build hospitals and schools in vineyard regions as a way to support the wellbeing of Ferreira's farmers and workers. This in turn supported their families through new jobs and better opportunities. The values and incredible leadership of Antonia Ferreira continues to inspire and resonate with me as a woman in business.\"]\n",
            "tag: Charity and abroad actually feels most relevant here...\n"
          ]
        }
      ]
    },
    {
      "cell_type": "markdown",
      "source": [
        "Interesting, the first cluster of communalism feels relevant. Directing feels relevant for the second. International leadership of a charitable sort feels most relevant for the third. I wonder how the MLK images split out. I don't think the mountain images would land in this third bucket."
      ],
      "metadata": {
        "id": "HWhiC4x2eKzT"
      }
    },
    {
      "cell_type": "markdown",
      "source": [
        "And again, let's inspect membership for MLK"
      ],
      "metadata": {
        "id": "LpJOMK6sVPDA"
      }
    },
    {
      "cell_type": "code",
      "source": [
        "mlk_ids = [17714, 17997, 18004, 18209, 18239]\n",
        "# IDs of essays that used pics of MLK\n",
        "\n",
        "samepic_ids = [18225, 18211, 18208, 18197, 18194, 18190, 18150, 18145, 18105, 18107, 18008, 18009, 18000, 17951, 17930, 17901, 17738, 17719, 17715]\n",
        "# IDs of essays that have submitted the same cartoon picture\n"
      ],
      "metadata": {
        "id": "yaYohLJARs4y"
      },
      "execution_count": 183,
      "outputs": []
    },
    {
      "cell_type": "code",
      "source": [
        "# For Dendrogram based on BERT\n",
        "# Finding the clusters that have the MLK pics\n",
        "\n",
        "# Dictionary to store the clusters that contain the specific IDs\n",
        "clu_with_eid = {essay_id: None for essay_id in mlk_ids}\n",
        "\n",
        "# Iterate through the clusters\n",
        "for cluster_id, members in clusters_BERT.items():\n",
        "    for essay_id in mlk_ids:\n",
        "        if essay_id in members:\n",
        "            clu_with_eid[essay_id] = cluster_id\n",
        "\n",
        "# Dictionary to group essay IDs by clusters\n",
        "\n",
        "id_by_clu = {}\n",
        "\n",
        "# Populate the dictionaries that show which clusters have which essay_ids.\n",
        "for essay_id, cluster_id in clu_with_eid.items():\n",
        "    if cluster_id not in id_by_clu:\n",
        "        id_by_clu[cluster_id] = []\n",
        "    id_by_clu[cluster_id].append(essay_id)\n",
        "\n",
        "# Display the clusters and their associated essay IDs\n",
        "for cluster_id, essay_ids in sorted(id_by_clu.items()):\n",
        "    print(f\"Cluster {cluster_id} has these essay IDs: {essay_ids}\")"
      ],
      "metadata": {
        "colab": {
          "base_uri": "https://localhost:8080/",
          "height": 0
        },
        "id": "kIvU8pMnSBOA",
        "outputId": "a7b55a79-0e39-452e-f45e-9ec4cd838349"
      },
      "execution_count": 184,
      "outputs": [
        {
          "output_type": "stream",
          "name": "stdout",
          "text": [
            "Cluster 1 has these essay IDs: [18209]\n",
            "Cluster 3 has these essay IDs: [17714, 17997, 18004, 18239]\n"
          ]
        }
      ]
    },
    {
      "cell_type": "markdown",
      "source": [
        "When looking at the dendrogram constructed with BERT embeddings, it appears that the majority of the MLK leadership essays appear to fit into Subtree 3. Interestingly, the only essay that does not end up in Subtree 3 is the one that does NOT mention Martin Luther King by any moniker (i.e. no Dr. King, no MLK, no Martin Luther King Jr.). Wow--maybe BERT picked up who we were talking about! It kind of fits--cluster one could be generic communalism while cluster 3 could be larger international impact. That's really neat. Let's see if my assumptions about less cluster 3 for the mountain cartoon is right..."
      ],
      "metadata": {
        "id": "3DjLEQnbSNer"
      }
    },
    {
      "cell_type": "code",
      "source": [
        "# For dendrogram based on BERT\n",
        "# Finding the clusters that have the same cartoon pic\n",
        "\n",
        "# Dictionary to store the clusters that contain the specific IDs\n",
        "clu_with_eid = {essay_id: None for essay_id in samepic_ids}\n",
        "\n",
        "# Iterate through the clusters\n",
        "for cluster_id, members in clusters_BERT.items():\n",
        "    for essay_id in samepic_ids:\n",
        "        if essay_id in members:\n",
        "            clu_with_eid[essay_id] = cluster_id\n",
        "\n",
        "# Dictionary to group essay IDs by clusters\n",
        "\n",
        "id_by_clu = {}\n",
        "\n",
        "# Populate the dictionaries that show which clusters have which essay_ids.\n",
        "for essay_id, cluster_id in clu_with_eid.items():\n",
        "    if cluster_id not in id_by_clu:\n",
        "        id_by_clu[cluster_id] = []\n",
        "    id_by_clu[cluster_id].append(essay_id)\n",
        "\n",
        "# Display the clusters and their associated essay IDs\n",
        "for cluster_id, essay_ids in sorted(id_by_clu.items()):\n",
        "    print(f\"Cluster {cluster_id} has these essay IDs: {essay_ids}\")"
      ],
      "metadata": {
        "colab": {
          "base_uri": "https://localhost:8080/",
          "height": 0
        },
        "id": "5uZ7_kiaSmla",
        "outputId": "8266a41c-3a10-4a48-e735-3e3f06e8a007"
      },
      "execution_count": 185,
      "outputs": [
        {
          "output_type": "stream",
          "name": "stdout",
          "text": [
            "Cluster 1 has these essay IDs: [18225, 18211, 18208, 18194, 18000, 17930, 17719, 17715]\n",
            "Cluster 2 has these essay IDs: [18197, 18190, 18150, 18145, 18105, 18107, 18008, 18009, 17951, 17901, 17738]\n"
          ]
        }
      ]
    },
    {
      "cell_type": "markdown",
      "source": [
        "These essays which have the same cartoon pic are seemingly evenly spread out between clusters one and two. And how about that. None in cluster three. It looks like BERT picked up on some gradiosity, like a great charitable work of a leader. Wow that's interesting.\n",
        "\n"
      ],
      "metadata": {
        "id": "dNLzXIgpS1Qb"
      }
    },
    {
      "cell_type": "markdown",
      "source": [
        "*Tree based LDA*"
      ],
      "metadata": {
        "id": "m-f-l8qNU_nl"
      }
    },
    {
      "cell_type": "markdown",
      "source": [
        "We recall the LDA produced unbalanced topic associations, so we're going to center and scale it"
      ],
      "metadata": {
        "id": "aDVJsWGqVLrO"
      }
    },
    {
      "cell_type": "code",
      "source": [
        "X = np.array(df[[\"lda_e1\",\"lda_e2\",\"lda_e3\"]].values.tolist())"
      ],
      "metadata": {
        "id": "aYbQmK0qVK3G"
      },
      "execution_count": 186,
      "outputs": []
    },
    {
      "cell_type": "code",
      "source": [
        "X_cs = (X - X.mean(axis=0)) / X.std(axis=0)"
      ],
      "metadata": {
        "id": "nkvBqnr_VXi3"
      },
      "execution_count": 187,
      "outputs": []
    },
    {
      "cell_type": "code",
      "source": [
        "Z = hierarchy.linkage(X_cs, 'ward')\n",
        "plt.figure()\n",
        "dn = hierarchy.dendrogram(Z, truncate_mode = 'level', p = 3)\n",
        "plt.axhline(y=17.5, color='r', linestyle='--')\n",
        "plt.show()"
      ],
      "metadata": {
        "colab": {
          "base_uri": "https://localhost:8080/",
          "height": 434
        },
        "id": "Tv8HK9PrVgew",
        "outputId": "0e8062d4-d8da-40a4-c7e9-1a1014d9b5e6"
      },
      "execution_count": 202,
      "outputs": [
        {
          "output_type": "display_data",
          "data": {
            "text/plain": [
              "<Figure size 640x480 with 1 Axes>"
            ],
            "image/png": "[encoded data removed]"
          },
          "metadata": {}
        }
      ]
    },
    {
      "cell_type": "code",
      "source": [
        "max_d = 17.5\n",
        "\n",
        "cluster_assignments = fcluster(Z, max_d, criterion='distance')\n",
        "\n",
        "# Group labels by their cluster IDs\n",
        "clusters_LDA = {}\n",
        "for label, cluster_id in zip(labels, cluster_assignments):\n",
        "    clusters_LDA.setdefault(cluster_id, []).append(label)\n",
        "\n",
        "# Print clusters and their corresponding essay_id labels\n",
        "for cluster_id, members in clusters_LDA.items():\n",
        "    print(f\"Cluster {cluster_id}: {members}\")\n"
      ],
      "metadata": {
        "colab": {
          "base_uri": "https://localhost:8080/",
          "height": 0
        },
        "id": "JcsRG1aHTDdQ",
        "outputId": "5edbc425-4c49-4e33-8e55-c42b5bf03e07"
      },
      "execution_count": 203,
      "outputs": [
        {
          "output_type": "stream",
          "name": "stdout",
          "text": [
            "Cluster 1: [18241, 18240, 18237, 18236, 18233, 18230, 18229, 18227, 18225, 18221, 18220, 18218, 18217, 18211, 18208, 18205, 18203, 18202, 18198, 18193, 18189, 18188, 18154, 18153, 18149, 18146, 18145, 18144, 18140, 18135, 18127, 18121, 18120, 18119, 18114, 18110, 18106, 18101, 18040, 18035, 18034, 18033, 18031, 18028, 18026, 18025, 18021, 18019, 18017, 18015, 18010, 18008, 18007, 18005, 18001, 17998, 17995, 17946, 17945, 17938, 17937, 17935, 17930, 17929, 17924, 17923, 17922, 17913, 17912, 17910, 17908, 17902, 17901, 17900, 17899, 17840, 17839, 17838, 17837, 17831, 17830, 17829, 17828, 17824, 17823, 17820, 17817, 17814, 17813, 17810, 17806, 17805, 17799, 17797, 17796, 17795, 17751, 17747, 17740, 17735, 17734, 17733, 17731, 17726, 17724, 17721, 17710, 17709, 17707, 17706, 17705, 18239, 18238, 18235, 18234, 18232, 18231, 18224, 18223, 18222, 18219, 18214, 18213, 18212, 18207, 18206, 18204, 18201, 18196, 18195, 18191, 18155, 18152, 18151, 18143, 18138, 18136, 18134, 18133, 18132, 18131, 18129, 18126, 18122, 18116, 18113, 18112, 18111, 18109, 18104, 18102, 18099, 18041, 18039, 18038, 18036, 18032, 18029, 18022, 18020, 18016, 18013, 18011, 18009, 18004, 18000, 17997, 17994, 17953, 17952, 17950, 17949, 17947, 17944, 17942, 17941, 17936, 17934, 17933, 17931, 17927, 17926, 17925, 17920, 17919, 17915, 17914, 17911, 17909, 17906, 17905, 17904, 17903, 17841, 17836, 17835, 17834, 17833, 17827, 17826, 17825, 17822, 17821, 17818, 17816, 17815, 17812, 17809, 17808, 17807, 17804, 17800, 17798, 17794, 17793, 17791, 17790, 17782, 17750, 17748, 17746, 17744, 17743, 17742, 17741, 17737, 17732, 17730, 17729, 17728, 17727, 17725, 17720, 17718, 17717, 17714, 17708, 17704, 17703, 17701, 17700, 17699]\n",
            "Cluster 3: [18226, 18210, 18200, 18197, 18192, 18150, 18148, 18147, 18142, 18141, 18130, 18124, 18123, 18118, 18117, 18115, 18108, 18107, 18105, 18100, 18037, 18030, 18024, 18023, 18018, 18014, 18012, 17996, 17948, 17943, 17940, 17939, 17928, 17917, 17916, 17907, 17811, 17803, 17802, 17801, 17749, 17745, 17738, 17722, 17716, 17715, 17713, 17702, 18228, 18216, 18215, 18209, 18199, 18194, 18139, 18137, 18128, 18125, 18103, 18006, 18003, 18002, 17951, 17932, 17921, 17918, 17843, 17842, 17832, 17819, 17792, 17739, 17736, 17723, 17719, 17712, 17711]\n",
            "Cluster 2: [18190, 17999]\n"
          ]
        }
      ]
    },
    {
      "cell_type": "code",
      "source": [
        "data1 = {'data' : clusters_LDA[1] , 'lda_cluster' : 1 }\n",
        "data2 = {'data' : clusters_LDA[2] , 'lda_cluster' : 2 }\n",
        "data3 = {'data' : clusters_LDA[3] , 'lda_cluster' : 3 }\n",
        "\n",
        "temp = pd.DataFrame(data1)\n",
        "for i in [data2,data3]:\n",
        "  temp = pd.concat([temp,pd.DataFrame(i)])\n",
        "\n",
        "result = pd.merge(result, temp, left_on='essay_id', right_on='data')"
      ],
      "metadata": {
        "colab": {
          "base_uri": "https://localhost:8080/",
          "height": 356
        },
        "id": "gEv9ycJwf_WR",
        "outputId": "e0f787e7-e45a-43b8-975b-2b39d51584fc"
      },
      "execution_count": 206,
      "outputs": [
        {
          "output_type": "error",
          "ename": "MergeError",
          "evalue": "Passing 'suffixes' which cause duplicate columns {'data_x'} is not allowed.",
          "traceback": [
            "\u001b[0;31m---------------------------------------------------------------------------\u001b[0m",
            "\u001b[0;31mMergeError\u001b[0m                                Traceback (most recent call last)",
            "\u001b[0;32m<ipython-input-206-656a23116e02>\u001b[0m in \u001b[0;36m<cell line: 9>\u001b[0;34m()\u001b[0m\n\u001b[1;32m      7\u001b[0m   \u001b[0mtemp\u001b[0m \u001b[0;34m=\u001b[0m \u001b[0mpd\u001b[0m\u001b[0;34m.\u001b[0m\u001b[0mconcat\u001b[0m\u001b[0;34m(\u001b[0m\u001b[0;34m[\u001b[0m\u001b[0mtemp\u001b[0m\u001b[0;34m,\u001b[0m\u001b[0mpd\u001b[0m\u001b[0;34m.\u001b[0m\u001b[0mDataFrame\u001b[0m\u001b[0;34m(\u001b[0m\u001b[0mi\u001b[0m\u001b[0;34m)\u001b[0m\u001b[0;34m]\u001b[0m\u001b[0;34m)\u001b[0m\u001b[0;34m\u001b[0m\u001b[0;34m\u001b[0m\u001b[0m\n\u001b[1;32m      8\u001b[0m \u001b[0;34m\u001b[0m\u001b[0m\n\u001b[0;32m----> 9\u001b[0;31m \u001b[0mresult\u001b[0m \u001b[0;34m=\u001b[0m \u001b[0mpd\u001b[0m\u001b[0;34m.\u001b[0m\u001b[0mmerge\u001b[0m\u001b[0;34m(\u001b[0m\u001b[0mresult\u001b[0m\u001b[0;34m,\u001b[0m \u001b[0mtemp\u001b[0m\u001b[0;34m,\u001b[0m \u001b[0mleft_on\u001b[0m\u001b[0;34m=\u001b[0m\u001b[0;34m'essay_id'\u001b[0m\u001b[0;34m,\u001b[0m \u001b[0mright_on\u001b[0m\u001b[0;34m=\u001b[0m\u001b[0;34m'data'\u001b[0m\u001b[0;34m)\u001b[0m\u001b[0;34m\u001b[0m\u001b[0;34m\u001b[0m\u001b[0m\n\u001b[0m\u001b[1;32m     10\u001b[0m \u001b[0;34m\u001b[0m\u001b[0m\n\u001b[1;32m     11\u001b[0m \u001b[0mpd\u001b[0m\u001b[0;34m.\u001b[0m\u001b[0mcrosstab\u001b[0m\u001b[0;34m(\u001b[0m\u001b[0mresult\u001b[0m\u001b[0;34m[\u001b[0m\u001b[0;34m\"d2v_cluster\"\u001b[0m\u001b[0;34m]\u001b[0m\u001b[0;34m,\u001b[0m\u001b[0mresult\u001b[0m\u001b[0;34m[\u001b[0m\u001b[0;34m\"lda_cluster\"\u001b[0m\u001b[0;34m]\u001b[0m\u001b[0;34m)\u001b[0m\u001b[0;34m\u001b[0m\u001b[0;34m\u001b[0m\u001b[0m\n",
            "\u001b[0;32m/usr/local/lib/python3.10/dist-packages/pandas/core/reshape/merge.py\u001b[0m in \u001b[0;36mmerge\u001b[0;34m(left, right, how, on, left_on, right_on, left_index, right_index, sort, suffixes, copy, indicator, validate)\u001b[0m\n\u001b[1;32m    182\u001b[0m             \u001b[0mvalidate\u001b[0m\u001b[0;34m=\u001b[0m\u001b[0mvalidate\u001b[0m\u001b[0;34m,\u001b[0m\u001b[0;34m\u001b[0m\u001b[0;34m\u001b[0m\u001b[0m\n\u001b[1;32m    183\u001b[0m         )\n\u001b[0;32m--> 184\u001b[0;31m         \u001b[0;32mreturn\u001b[0m \u001b[0mop\u001b[0m\u001b[0;34m.\u001b[0m\u001b[0mget_result\u001b[0m\u001b[0;34m(\u001b[0m\u001b[0mcopy\u001b[0m\u001b[0;34m=\u001b[0m\u001b[0mcopy\u001b[0m\u001b[0;34m)\u001b[0m\u001b[0;34m\u001b[0m\u001b[0;34m\u001b[0m\u001b[0m\n\u001b[0m\u001b[1;32m    185\u001b[0m \u001b[0;34m\u001b[0m\u001b[0m\n\u001b[1;32m    186\u001b[0m \u001b[0;34m\u001b[0m\u001b[0m\n",
            "\u001b[0;32m/usr/local/lib/python3.10/dist-packages/pandas/core/reshape/merge.py\u001b[0m in \u001b[0;36mget_result\u001b[0;34m(self, copy)\u001b[0m\n\u001b[1;32m    886\u001b[0m         \u001b[0mjoin_index\u001b[0m\u001b[0;34m,\u001b[0m \u001b[0mleft_indexer\u001b[0m\u001b[0;34m,\u001b[0m \u001b[0mright_indexer\u001b[0m \u001b[0;34m=\u001b[0m \u001b[0mself\u001b[0m\u001b[0;34m.\u001b[0m\u001b[0m_get_join_info\u001b[0m\u001b[0;34m(\u001b[0m\u001b[0;34m)\u001b[0m\u001b[0;34m\u001b[0m\u001b[0;34m\u001b[0m\u001b[0m\n\u001b[1;32m    887\u001b[0m \u001b[0;34m\u001b[0m\u001b[0m\n\u001b[0;32m--> 888\u001b[0;31m         result = self._reindex_and_concat(\n\u001b[0m\u001b[1;32m    889\u001b[0m             \u001b[0mjoin_index\u001b[0m\u001b[0;34m,\u001b[0m \u001b[0mleft_indexer\u001b[0m\u001b[0;34m,\u001b[0m \u001b[0mright_indexer\u001b[0m\u001b[0;34m,\u001b[0m \u001b[0mcopy\u001b[0m\u001b[0;34m=\u001b[0m\u001b[0mcopy\u001b[0m\u001b[0;34m\u001b[0m\u001b[0;34m\u001b[0m\u001b[0m\n\u001b[1;32m    890\u001b[0m         )\n",
            "\u001b[0;32m/usr/local/lib/python3.10/dist-packages/pandas/core/reshape/merge.py\u001b[0m in \u001b[0;36m_reindex_and_concat\u001b[0;34m(self, join_index, left_indexer, right_indexer, copy)\u001b[0m\n\u001b[1;32m    838\u001b[0m         \u001b[0mright\u001b[0m \u001b[0;34m=\u001b[0m \u001b[0mself\u001b[0m\u001b[0;34m.\u001b[0m\u001b[0mright\u001b[0m\u001b[0;34m[\u001b[0m\u001b[0;34m:\u001b[0m\u001b[0;34m]\u001b[0m\u001b[0;34m\u001b[0m\u001b[0;34m\u001b[0m\u001b[0m\n\u001b[1;32m    839\u001b[0m \u001b[0;34m\u001b[0m\u001b[0m\n\u001b[0;32m--> 840\u001b[0;31m         llabels, rlabels = _items_overlap_with_suffix(\n\u001b[0m\u001b[1;32m    841\u001b[0m             \u001b[0mself\u001b[0m\u001b[0;34m.\u001b[0m\u001b[0mleft\u001b[0m\u001b[0;34m.\u001b[0m\u001b[0m_info_axis\u001b[0m\u001b[0;34m,\u001b[0m \u001b[0mself\u001b[0m\u001b[0;34m.\u001b[0m\u001b[0mright\u001b[0m\u001b[0;34m.\u001b[0m\u001b[0m_info_axis\u001b[0m\u001b[0;34m,\u001b[0m \u001b[0mself\u001b[0m\u001b[0;34m.\u001b[0m\u001b[0msuffixes\u001b[0m\u001b[0;34m\u001b[0m\u001b[0;34m\u001b[0m\u001b[0m\n\u001b[1;32m    842\u001b[0m         )\n",
            "\u001b[0;32m/usr/local/lib/python3.10/dist-packages/pandas/core/reshape/merge.py\u001b[0m in \u001b[0;36m_items_overlap_with_suffix\u001b[0;34m(left, right, suffixes)\u001b[0m\n\u001b[1;32m   2755\u001b[0m         \u001b[0mdups\u001b[0m\u001b[0;34m.\u001b[0m\u001b[0mextend\u001b[0m\u001b[0;34m(\u001b[0m\u001b[0mrlabels\u001b[0m\u001b[0;34m[\u001b[0m\u001b[0;34m(\u001b[0m\u001b[0mrlabels\u001b[0m\u001b[0;34m.\u001b[0m\u001b[0mduplicated\u001b[0m\u001b[0;34m(\u001b[0m\u001b[0;34m)\u001b[0m\u001b[0;34m)\u001b[0m \u001b[0;34m&\u001b[0m \u001b[0;34m(\u001b[0m\u001b[0;34m~\u001b[0m\u001b[0mright\u001b[0m\u001b[0;34m.\u001b[0m\u001b[0mduplicated\u001b[0m\u001b[0;34m(\u001b[0m\u001b[0;34m)\u001b[0m\u001b[0;34m)\u001b[0m\u001b[0;34m]\u001b[0m\u001b[0;34m.\u001b[0m\u001b[0mtolist\u001b[0m\u001b[0;34m(\u001b[0m\u001b[0;34m)\u001b[0m\u001b[0;34m)\u001b[0m\u001b[0;34m\u001b[0m\u001b[0;34m\u001b[0m\u001b[0m\n\u001b[1;32m   2756\u001b[0m     \u001b[0;32mif\u001b[0m \u001b[0mdups\u001b[0m\u001b[0;34m:\u001b[0m\u001b[0;34m\u001b[0m\u001b[0;34m\u001b[0m\u001b[0m\n\u001b[0;32m-> 2757\u001b[0;31m         raise MergeError(\n\u001b[0m\u001b[1;32m   2758\u001b[0m             \u001b[0;34mf\"Passing 'suffixes' which cause duplicate columns {set(dups)} is \"\u001b[0m\u001b[0;34m\u001b[0m\u001b[0;34m\u001b[0m\u001b[0m\n\u001b[1;32m   2759\u001b[0m             \u001b[0;34mf\"not allowed.\"\u001b[0m\u001b[0;34m,\u001b[0m\u001b[0;34m\u001b[0m\u001b[0;34m\u001b[0m\u001b[0m\n",
            "\u001b[0;31mMergeError\u001b[0m: Passing 'suffixes' which cause duplicate columns {'data_x'} is not allowed."
          ]
        }
      ]
    },
    {
      "cell_type": "code",
      "source": [
        "pd.crosstab(result[\"d2v_cluster\"],result[\"lda_cluster\"])"
      ],
      "metadata": {
        "colab": {
          "base_uri": "https://localhost:8080/",
          "height": 174
        },
        "id": "NJygmZK4ga-N",
        "outputId": "51d9dc70-b648-49b6-d91c-981d906c15e2"
      },
      "execution_count": 207,
      "outputs": [
        {
          "output_type": "execute_result",
          "data": {
            "text/plain": [
              "lda_cluster    1  2   3\n",
              "d2v_cluster            \n",
              "1             69  0  23\n",
              "2             63  1  13\n",
              "3            110  1  41"
            ],
            "text/html": [
              "\n",
              "  <div id=\"df-09d0a41a-4907-4eb7-9f4b-2aa4a8830ba7\" class=\"colab-df-container\">\n",
              "    <div>\n",
              "<style scoped>\n",
              "    .dataframe tbody tr th:only-of-type {\n",
              "        vertical-align: middle;\n",
              "    }\n",
              "\n",
              "    .dataframe tbody tr th {\n",
              "        vertical-align: top;\n",
              "    }\n",
              "\n",
              "    .dataframe thead th {\n",
              "        text-align: right;\n",
              "    }\n",
              "</style>\n",
              "<table border=\"1\" class=\"dataframe\">\n",
              "  <thead>\n",
              "    <tr style=\"text-align: right;\">\n",
              "      <th>lda_cluster</th>\n",
              "      <th>1</th>\n",
              "      <th>2</th>\n",
              "      <th>3</th>\n",
              "    </tr>\n",
              "    <tr>\n",
              "      <th>d2v_cluster</th>\n",
              "      <th></th>\n",
              "      <th></th>\n",
              "      <th></th>\n",
              "    </tr>\n",
              "  </thead>\n",
              "  <tbody>\n",
              "    <tr>\n",
              "      <th>1</th>\n",
              "      <td>69</td>\n",
              "      <td>0</td>\n",
              "      <td>23</td>\n",
              "    </tr>\n",
              "    <tr>\n",
              "      <th>2</th>\n",
              "      <td>63</td>\n",
              "      <td>1</td>\n",
              "      <td>13</td>\n",
              "    </tr>\n",
              "    <tr>\n",
              "      <th>3</th>\n",
              "      <td>110</td>\n",
              "      <td>1</td>\n",
              "      <td>41</td>\n",
              "    </tr>\n",
              "  </tbody>\n",
              "</table>\n",
              "</div>\n",
              "    <div class=\"colab-df-buttons\">\n",
              "\n",
              "  <div class=\"colab-df-container\">\n",
              "    <button class=\"colab-df-convert\" onclick=\"convertToInteractive('df-09d0a41a-4907-4eb7-9f4b-2aa4a8830ba7')\"\n",
              "            title=\"Convert this dataframe to an interactive table.\"\n",
              "            style=\"display:none;\">\n",
              "\n",
              "  <svg xmlns=\"http://www.w3.org/2000/svg\" height=\"24px\" viewBox=\"0 -960 960 960\">\n",
              "    <path d=\"M120-120v-720h720v720H120Zm60-500h600v-160H180v160Zm220 220h160v-160H400v160Zm0 220h160v-160H400v160ZM180-400h160v-160H180v160Zm440 0h160v-160H620v160ZM180-180h160v-160H180v160Zm440 0h160v-160H620v160Z\"/>\n",
              "  </svg>\n",
              "    </button>\n",
              "\n",
              "  <style>\n",
              "    .colab-df-container {\n",
              "      display:flex;\n",
              "      gap: 12px;\n",
              "    }\n",
              "\n",
              "    .colab-df-convert {\n",
              "      background-color: #E8F0FE;\n",
              "      border: none;\n",
              "      border-radius: 50%;\n",
              "      cursor: pointer;\n",
              "      display: none;\n",
              "      fill: #1967D2;\n",
              "      height: 32px;\n",
              "      padding: 0 0 0 0;\n",
              "      width: 32px;\n",
              "    }\n",
              "\n",
              "    .colab-df-convert:hover {\n",
              "      background-color: #E2EBFA;\n",
              "      box-shadow: 0px 1px 2px rgba(60, 64, 67, 0.3), 0px 1px 3px 1px rgba(60, 64, 67, 0.15);\n",
              "      fill: #174EA6;\n",
              "    }\n",
              "\n",
              "    .colab-df-buttons div {\n",
              "      margin-bottom: 4px;\n",
              "    }\n",
              "\n",
              "    [theme=dark] .colab-df-convert {\n",
              "      background-color: #3B4455;\n",
              "      fill: #D2E3FC;\n",
              "    }\n",
              "\n",
              "    [theme=dark] .colab-df-convert:hover {\n",
              "      background-color: #434B5C;\n",
              "      box-shadow: 0px 1px 3px 1px rgba(0, 0, 0, 0.15);\n",
              "      filter: drop-shadow(0px 1px 2px rgba(0, 0, 0, 0.3));\n",
              "      fill: #FFFFFF;\n",
              "    }\n",
              "  </style>\n",
              "\n",
              "    <script>\n",
              "      const buttonEl =\n",
              "        document.querySelector('#df-09d0a41a-4907-4eb7-9f4b-2aa4a8830ba7 button.colab-df-convert');\n",
              "      buttonEl.style.display =\n",
              "        google.colab.kernel.accessAllowed ? 'block' : 'none';\n",
              "\n",
              "      async function convertToInteractive(key) {\n",
              "        const element = document.querySelector('#df-09d0a41a-4907-4eb7-9f4b-2aa4a8830ba7');\n",
              "        const dataTable =\n",
              "          await google.colab.kernel.invokeFunction('convertToInteractive',\n",
              "                                                    [key], {});\n",
              "        if (!dataTable) return;\n",
              "\n",
              "        const docLinkHtml = 'Like what you see? Visit the ' +\n",
              "          '<a target=\"_blank\" href=https://colab.research.google.com/notebooks/data_table.ipynb>data table notebook</a>'\n",
              "          + ' to learn more about interactive tables.';\n",
              "        element.innerHTML = '';\n",
              "        dataTable['output_type'] = 'display_data';\n",
              "        await google.colab.output.renderOutput(dataTable, element);\n",
              "        const docLink = document.createElement('div');\n",
              "        docLink.innerHTML = docLinkHtml;\n",
              "        element.appendChild(docLink);\n",
              "      }\n",
              "    </script>\n",
              "  </div>\n",
              "\n",
              "\n",
              "<div id=\"df-ec536956-4c77-418b-9fd8-38adbeacd253\">\n",
              "  <button class=\"colab-df-quickchart\" onclick=\"quickchart('df-ec536956-4c77-418b-9fd8-38adbeacd253')\"\n",
              "            title=\"Suggest charts\"\n",
              "            style=\"display:none;\">\n",
              "\n",
              "<svg xmlns=\"http://www.w3.org/2000/svg\" height=\"24px\"viewBox=\"0 0 24 24\"\n",
              "     width=\"24px\">\n",
              "    <g>\n",
              "        <path d=\"M19 3H5c-1.1 0-2 .9-2 2v14c0 1.1.9 2 2 2h14c1.1 0 2-.9 2-2V5c0-1.1-.9-2-2-2zM9 17H7v-7h2v7zm4 0h-2V7h2v10zm4 0h-2v-4h2v4z\"/>\n",
              "    </g>\n",
              "</svg>\n",
              "  </button>\n",
              "\n",
              "<style>\n",
              "  .colab-df-quickchart {\n",
              "      --bg-color: #E8F0FE;\n",
              "      --fill-color: #1967D2;\n",
              "      --hover-bg-color: #E2EBFA;\n",
              "      --hover-fill-color: #174EA6;\n",
              "      --disabled-fill-color: #AAA;\n",
              "      --disabled-bg-color: #DDD;\n",
              "  }\n",
              "\n",
              "  [theme=dark] .colab-df-quickchart {\n",
              "      --bg-color: #3B4455;\n",
              "      --fill-color: #D2E3FC;\n",
              "      --hover-bg-color: #434B5C;\n",
              "      --hover-fill-color: #FFFFFF;\n",
              "      --disabled-bg-color: #3B4455;\n",
              "      --disabled-fill-color: #666;\n",
              "  }\n",
              "\n",
              "  .colab-df-quickchart {\n",
              "    background-color: var(--bg-color);\n",
              "    border: none;\n",
              "    border-radius: 50%;\n",
              "    cursor: pointer;\n",
              "    display: none;\n",
              "    fill: var(--fill-color);\n",
              "    height: 32px;\n",
              "    padding: 0;\n",
              "    width: 32px;\n",
              "  }\n",
              "\n",
              "  .colab-df-quickchart:hover {\n",
              "    background-color: var(--hover-bg-color);\n",
              "    box-shadow: 0 1px 2px rgba(60, 64, 67, 0.3), 0 1px 3px 1px rgba(60, 64, 67, 0.15);\n",
              "    fill: var(--button-hover-fill-color);\n",
              "  }\n",
              "\n",
              "  .colab-df-quickchart-complete:disabled,\n",
              "  .colab-df-quickchart-complete:disabled:hover {\n",
              "    background-color: var(--disabled-bg-color);\n",
              "    fill: var(--disabled-fill-color);\n",
              "    box-shadow: none;\n",
              "  }\n",
              "\n",
              "  .colab-df-spinner {\n",
              "    border: 2px solid var(--fill-color);\n",
              "    border-color: transparent;\n",
              "    border-bottom-color: var(--fill-color);\n",
              "    animation:\n",
              "      spin 1s steps(1) infinite;\n",
              "  }\n",
              "\n",
              "  @keyframes spin {\n",
              "    0% {\n",
              "      border-color: transparent;\n",
              "      border-bottom-color: var(--fill-color);\n",
              "      border-left-color: var(--fill-color);\n",
              "    }\n",
              "    20% {\n",
              "      border-color: transparent;\n",
              "      border-left-color: var(--fill-color);\n",
              "      border-top-color: var(--fill-color);\n",
              "    }\n",
              "    30% {\n",
              "      border-color: transparent;\n",
              "      border-left-color: var(--fill-color);\n",
              "      border-top-color: var(--fill-color);\n",
              "      border-right-color: var(--fill-color);\n",
              "    }\n",
              "    40% {\n",
              "      border-color: transparent;\n",
              "      border-right-color: var(--fill-color);\n",
              "      border-top-color: var(--fill-color);\n",
              "    }\n",
              "    60% {\n",
              "      border-color: transparent;\n",
              "      border-right-color: var(--fill-color);\n",
              "    }\n",
              "    80% {\n",
              "      border-color: transparent;\n",
              "      border-right-color: var(--fill-color);\n",
              "      border-bottom-color: var(--fill-color);\n",
              "    }\n",
              "    90% {\n",
              "      border-color: transparent;\n",
              "      border-bottom-color: var(--fill-color);\n",
              "    }\n",
              "  }\n",
              "</style>\n",
              "\n",
              "  <script>\n",
              "    async function quickchart(key) {\n",
              "      const quickchartButtonEl =\n",
              "        document.querySelector('#' + key + ' button');\n",
              "      quickchartButtonEl.disabled = true;  // To prevent multiple clicks.\n",
              "      quickchartButtonEl.classList.add('colab-df-spinner');\n",
              "      try {\n",
              "        const charts = await google.colab.kernel.invokeFunction(\n",
              "            'suggestCharts', [key], {});\n",
              "      } catch (error) {\n",
              "        console.error('Error during call to suggestCharts:', error);\n",
              "      }\n",
              "      quickchartButtonEl.classList.remove('colab-df-spinner');\n",
              "      quickchartButtonEl.classList.add('colab-df-quickchart-complete');\n",
              "    }\n",
              "    (() => {\n",
              "      let quickchartButtonEl =\n",
              "        document.querySelector('#df-ec536956-4c77-418b-9fd8-38adbeacd253 button');\n",
              "      quickchartButtonEl.style.display =\n",
              "        google.colab.kernel.accessAllowed ? 'block' : 'none';\n",
              "    })();\n",
              "  </script>\n",
              "</div>\n",
              "\n",
              "    </div>\n",
              "  </div>\n"
            ],
            "application/vnd.google.colaboratory.intrinsic+json": {
              "type": "dataframe",
              "summary": "{\n  \"name\": \"pd\",\n  \"rows\": 3,\n  \"fields\": [\n    {\n      \"column\": \"d2v_cluster\",\n      \"properties\": {\n        \"dtype\": \"number\",\n        \"std\": 1,\n        \"min\": 1,\n        \"max\": 3,\n        \"num_unique_values\": 3,\n        \"samples\": [\n          1,\n          2,\n          3\n        ],\n        \"semantic_type\": \"\",\n        \"description\": \"\"\n      }\n    },\n    {\n      \"column\": 1,\n      \"properties\": {\n        \"dtype\": \"number\",\n        \"std\": 25,\n        \"min\": 63,\n        \"max\": 110,\n        \"num_unique_values\": 3,\n        \"samples\": [\n          69,\n          63,\n          110\n        ],\n        \"semantic_type\": \"\",\n        \"description\": \"\"\n      }\n    },\n    {\n      \"column\": 2,\n      \"properties\": {\n        \"dtype\": \"number\",\n        \"std\": 0,\n        \"min\": 0,\n        \"max\": 1,\n        \"num_unique_values\": 2,\n        \"samples\": [\n          1,\n          0\n        ],\n        \"semantic_type\": \"\",\n        \"description\": \"\"\n      }\n    },\n    {\n      \"column\": 3,\n      \"properties\": {\n        \"dtype\": \"number\",\n        \"std\": 14,\n        \"min\": 13,\n        \"max\": 41,\n        \"num_unique_values\": 3,\n        \"samples\": [\n          23,\n          13\n        ],\n        \"semantic_type\": \"\",\n        \"description\": \"\"\n      }\n    }\n  ]\n}"
            }
          },
          "metadata": {},
          "execution_count": 207
        }
      ]
    },
    {
      "cell_type": "markdown",
      "source": [
        "Very asymetrical. Let's assume d2v 3 maps to LDA 1 and d2v 1 maps to LDA 3 and d2v 2 maps to LDA 2. Then we have 42% shared between LDA and d2v... let's check bert. It will probably be similar because of asymmetry.."
      ],
      "metadata": {
        "id": "r77578bzgeO1"
      }
    },
    {
      "cell_type": "code",
      "source": [
        "pd.crosstab(result[\"b_cluster\"],result[\"lda_cluster\"])"
      ],
      "metadata": {
        "colab": {
          "base_uri": "https://localhost:8080/",
          "height": 174
        },
        "id": "YFIRsJXXg117",
        "outputId": "9b6ce3c8-15dd-48ad-d1ec-951ff0c7d21b"
      },
      "execution_count": 211,
      "outputs": [
        {
          "output_type": "execute_result",
          "data": {
            "text/plain": [
              "lda_cluster    1  2   3\n",
              "b_cluster              \n",
              "1             56  0  41\n",
              "2             74  2  23\n",
              "3            112  0  13"
            ],
            "text/html": [
              "\n",
              "  <div id=\"df-b96fa0e9-a515-4b46-9228-a4210aa36b9f\" class=\"colab-df-container\">\n",
              "    <div>\n",
              "<style scoped>\n",
              "    .dataframe tbody tr th:only-of-type {\n",
              "        vertical-align: middle;\n",
              "    }\n",
              "\n",
              "    .dataframe tbody tr th {\n",
              "        vertical-align: top;\n",
              "    }\n",
              "\n",
              "    .dataframe thead th {\n",
              "        text-align: right;\n",
              "    }\n",
              "</style>\n",
              "<table border=\"1\" class=\"dataframe\">\n",
              "  <thead>\n",
              "    <tr style=\"text-align: right;\">\n",
              "      <th>lda_cluster</th>\n",
              "      <th>1</th>\n",
              "      <th>2</th>\n",
              "      <th>3</th>\n",
              "    </tr>\n",
              "    <tr>\n",
              "      <th>b_cluster</th>\n",
              "      <th></th>\n",
              "      <th></th>\n",
              "      <th></th>\n",
              "    </tr>\n",
              "  </thead>\n",
              "  <tbody>\n",
              "    <tr>\n",
              "      <th>1</th>\n",
              "      <td>56</td>\n",
              "      <td>0</td>\n",
              "      <td>41</td>\n",
              "    </tr>\n",
              "    <tr>\n",
              "      <th>2</th>\n",
              "      <td>74</td>\n",
              "      <td>2</td>\n",
              "      <td>23</td>\n",
              "    </tr>\n",
              "    <tr>\n",
              "      <th>3</th>\n",
              "      <td>112</td>\n",
              "      <td>0</td>\n",
              "      <td>13</td>\n",
              "    </tr>\n",
              "  </tbody>\n",
              "</table>\n",
              "</div>\n",
              "    <div class=\"colab-df-buttons\">\n",
              "\n",
              "  <div class=\"colab-df-container\">\n",
              "    <button class=\"colab-df-convert\" onclick=\"convertToInteractive('df-b96fa0e9-a515-4b46-9228-a4210aa36b9f')\"\n",
              "            title=\"Convert this dataframe to an interactive table.\"\n",
              "            style=\"display:none;\">\n",
              "\n",
              "  <svg xmlns=\"http://www.w3.org/2000/svg\" height=\"24px\" viewBox=\"0 -960 960 960\">\n",
              "    <path d=\"M120-120v-720h720v720H120Zm60-500h600v-160H180v160Zm220 220h160v-160H400v160Zm0 220h160v-160H400v160ZM180-400h160v-160H180v160Zm440 0h160v-160H620v160ZM180-180h160v-160H180v160Zm440 0h160v-160H620v160Z\"/>\n",
              "  </svg>\n",
              "    </button>\n",
              "\n",
              "  <style>\n",
              "    .colab-df-container {\n",
              "      display:flex;\n",
              "      gap: 12px;\n",
              "    }\n",
              "\n",
              "    .colab-df-convert {\n",
              "      background-color: #E8F0FE;\n",
              "      border: none;\n",
              "      border-radius: 50%;\n",
              "      cursor: pointer;\n",
              "      display: none;\n",
              "      fill: #1967D2;\n",
              "      height: 32px;\n",
              "      padding: 0 0 0 0;\n",
              "      width: 32px;\n",
              "    }\n",
              "\n",
              "    .colab-df-convert:hover {\n",
              "      background-color: #E2EBFA;\n",
              "      box-shadow: 0px 1px 2px rgba(60, 64, 67, 0.3), 0px 1px 3px 1px rgba(60, 64, 67, 0.15);\n",
              "      fill: #174EA6;\n",
              "    }\n",
              "\n",
              "    .colab-df-buttons div {\n",
              "      margin-bottom: 4px;\n",
              "    }\n",
              "\n",
              "    [theme=dark] .colab-df-convert {\n",
              "      background-color: #3B4455;\n",
              "      fill: #D2E3FC;\n",
              "    }\n",
              "\n",
              "    [theme=dark] .colab-df-convert:hover {\n",
              "      background-color: #434B5C;\n",
              "      box-shadow: 0px 1px 3px 1px rgba(0, 0, 0, 0.15);\n",
              "      filter: drop-shadow(0px 1px 2px rgba(0, 0, 0, 0.3));\n",
              "      fill: #FFFFFF;\n",
              "    }\n",
              "  </style>\n",
              "\n",
              "    <script>\n",
              "      const buttonEl =\n",
              "        document.querySelector('#df-b96fa0e9-a515-4b46-9228-a4210aa36b9f button.colab-df-convert');\n",
              "      buttonEl.style.display =\n",
              "        google.colab.kernel.accessAllowed ? 'block' : 'none';\n",
              "\n",
              "      async function convertToInteractive(key) {\n",
              "        const element = document.querySelector('#df-b96fa0e9-a515-4b46-9228-a4210aa36b9f');\n",
              "        const dataTable =\n",
              "          await google.colab.kernel.invokeFunction('convertToInteractive',\n",
              "                                                    [key], {});\n",
              "        if (!dataTable) return;\n",
              "\n",
              "        const docLinkHtml = 'Like what you see? Visit the ' +\n",
              "          '<a target=\"_blank\" href=https://colab.research.google.com/notebooks/data_table.ipynb>data table notebook</a>'\n",
              "          + ' to learn more about interactive tables.';\n",
              "        element.innerHTML = '';\n",
              "        dataTable['output_type'] = 'display_data';\n",
              "        await google.colab.output.renderOutput(dataTable, element);\n",
              "        const docLink = document.createElement('div');\n",
              "        docLink.innerHTML = docLinkHtml;\n",
              "        element.appendChild(docLink);\n",
              "      }\n",
              "    </script>\n",
              "  </div>\n",
              "\n",
              "\n",
              "<div id=\"df-b923cf9b-403b-4996-9288-b155cd433978\">\n",
              "  <button class=\"colab-df-quickchart\" onclick=\"quickchart('df-b923cf9b-403b-4996-9288-b155cd433978')\"\n",
              "            title=\"Suggest charts\"\n",
              "            style=\"display:none;\">\n",
              "\n",
              "<svg xmlns=\"http://www.w3.org/2000/svg\" height=\"24px\"viewBox=\"0 0 24 24\"\n",
              "     width=\"24px\">\n",
              "    <g>\n",
              "        <path d=\"M19 3H5c-1.1 0-2 .9-2 2v14c0 1.1.9 2 2 2h14c1.1 0 2-.9 2-2V5c0-1.1-.9-2-2-2zM9 17H7v-7h2v7zm4 0h-2V7h2v10zm4 0h-2v-4h2v4z\"/>\n",
              "    </g>\n",
              "</svg>\n",
              "  </button>\n",
              "\n",
              "<style>\n",
              "  .colab-df-quickchart {\n",
              "      --bg-color: #E8F0FE;\n",
              "      --fill-color: #1967D2;\n",
              "      --hover-bg-color: #E2EBFA;\n",
              "      --hover-fill-color: #174EA6;\n",
              "      --disabled-fill-color: #AAA;\n",
              "      --disabled-bg-color: #DDD;\n",
              "  }\n",
              "\n",
              "  [theme=dark] .colab-df-quickchart {\n",
              "      --bg-color: #3B4455;\n",
              "      --fill-color: #D2E3FC;\n",
              "      --hover-bg-color: #434B5C;\n",
              "      --hover-fill-color: #FFFFFF;\n",
              "      --disabled-bg-color: #3B4455;\n",
              "      --disabled-fill-color: #666;\n",
              "  }\n",
              "\n",
              "  .colab-df-quickchart {\n",
              "    background-color: var(--bg-color);\n",
              "    border: none;\n",
              "    border-radius: 50%;\n",
              "    cursor: pointer;\n",
              "    display: none;\n",
              "    fill: var(--fill-color);\n",
              "    height: 32px;\n",
              "    padding: 0;\n",
              "    width: 32px;\n",
              "  }\n",
              "\n",
              "  .colab-df-quickchart:hover {\n",
              "    background-color: var(--hover-bg-color);\n",
              "    box-shadow: 0 1px 2px rgba(60, 64, 67, 0.3), 0 1px 3px 1px rgba(60, 64, 67, 0.15);\n",
              "    fill: var(--button-hover-fill-color);\n",
              "  }\n",
              "\n",
              "  .colab-df-quickchart-complete:disabled,\n",
              "  .colab-df-quickchart-complete:disabled:hover {\n",
              "    background-color: var(--disabled-bg-color);\n",
              "    fill: var(--disabled-fill-color);\n",
              "    box-shadow: none;\n",
              "  }\n",
              "\n",
              "  .colab-df-spinner {\n",
              "    border: 2px solid var(--fill-color);\n",
              "    border-color: transparent;\n",
              "    border-bottom-color: var(--fill-color);\n",
              "    animation:\n",
              "      spin 1s steps(1) infinite;\n",
              "  }\n",
              "\n",
              "  @keyframes spin {\n",
              "    0% {\n",
              "      border-color: transparent;\n",
              "      border-bottom-color: var(--fill-color);\n",
              "      border-left-color: var(--fill-color);\n",
              "    }\n",
              "    20% {\n",
              "      border-color: transparent;\n",
              "      border-left-color: var(--fill-color);\n",
              "      border-top-color: var(--fill-color);\n",
              "    }\n",
              "    30% {\n",
              "      border-color: transparent;\n",
              "      border-left-color: var(--fill-color);\n",
              "      border-top-color: var(--fill-color);\n",
              "      border-right-color: var(--fill-color);\n",
              "    }\n",
              "    40% {\n",
              "      border-color: transparent;\n",
              "      border-right-color: var(--fill-color);\n",
              "      border-top-color: var(--fill-color);\n",
              "    }\n",
              "    60% {\n",
              "      border-color: transparent;\n",
              "      border-right-color: var(--fill-color);\n",
              "    }\n",
              "    80% {\n",
              "      border-color: transparent;\n",
              "      border-right-color: var(--fill-color);\n",
              "      border-bottom-color: var(--fill-color);\n",
              "    }\n",
              "    90% {\n",
              "      border-color: transparent;\n",
              "      border-bottom-color: var(--fill-color);\n",
              "    }\n",
              "  }\n",
              "</style>\n",
              "\n",
              "  <script>\n",
              "    async function quickchart(key) {\n",
              "      const quickchartButtonEl =\n",
              "        document.querySelector('#' + key + ' button');\n",
              "      quickchartButtonEl.disabled = true;  // To prevent multiple clicks.\n",
              "      quickchartButtonEl.classList.add('colab-df-spinner');\n",
              "      try {\n",
              "        const charts = await google.colab.kernel.invokeFunction(\n",
              "            'suggestCharts', [key], {});\n",
              "      } catch (error) {\n",
              "        console.error('Error during call to suggestCharts:', error);\n",
              "      }\n",
              "      quickchartButtonEl.classList.remove('colab-df-spinner');\n",
              "      quickchartButtonEl.classList.add('colab-df-quickchart-complete');\n",
              "    }\n",
              "    (() => {\n",
              "      let quickchartButtonEl =\n",
              "        document.querySelector('#df-b923cf9b-403b-4996-9288-b155cd433978 button');\n",
              "      quickchartButtonEl.style.display =\n",
              "        google.colab.kernel.accessAllowed ? 'block' : 'none';\n",
              "    })();\n",
              "  </script>\n",
              "</div>\n",
              "\n",
              "    </div>\n",
              "  </div>\n"
            ],
            "application/vnd.google.colaboratory.intrinsic+json": {
              "type": "dataframe",
              "summary": "{\n  \"name\": \"pd\",\n  \"rows\": 3,\n  \"fields\": [\n    {\n      \"column\": \"b_cluster\",\n      \"properties\": {\n        \"dtype\": \"number\",\n        \"std\": 1,\n        \"min\": 1,\n        \"max\": 3,\n        \"num_unique_values\": 3,\n        \"samples\": [\n          1,\n          2,\n          3\n        ],\n        \"semantic_type\": \"\",\n        \"description\": \"\"\n      }\n    },\n    {\n      \"column\": 1,\n      \"properties\": {\n        \"dtype\": \"number\",\n        \"std\": 28,\n        \"min\": 56,\n        \"max\": 112,\n        \"num_unique_values\": 3,\n        \"samples\": [\n          56,\n          74,\n          112\n        ],\n        \"semantic_type\": \"\",\n        \"description\": \"\"\n      }\n    },\n    {\n      \"column\": 2,\n      \"properties\": {\n        \"dtype\": \"number\",\n        \"std\": 1,\n        \"min\": 0,\n        \"max\": 2,\n        \"num_unique_values\": 2,\n        \"samples\": [\n          2,\n          0\n        ],\n        \"semantic_type\": \"\",\n        \"description\": \"\"\n      }\n    },\n    {\n      \"column\": 3,\n      \"properties\": {\n        \"dtype\": \"number\",\n        \"std\": 14,\n        \"min\": 13,\n        \"max\": 41,\n        \"num_unique_values\": 3,\n        \"samples\": [\n          41,\n          23\n        ],\n        \"semantic_type\": \"\",\n        \"description\": \"\"\n      }\n    }\n  ]\n}"
            }
          },
          "metadata": {},
          "execution_count": 211
        }
      ]
    },
    {
      "cell_type": "markdown",
      "source": [
        "About 48% accuracy. So actually LDA did decent at replicating what others found. Let's check out the narratives."
      ],
      "metadata": {
        "id": "_OkjaVkIg9Je"
      }
    },
    {
      "cell_type": "code",
      "source": [
        "print(\"----cluster 1-----\")\n",
        "print(df[df[\"essay_id\"] == 18240][\"processed_text\"].values)\n",
        "print(df[df[\"essay_id\"] == 18241][\"processed_text\"].values)\n",
        "print(\"tag: directing...\")\n",
        "\n",
        "print(\"----cluster 2-----\")\n",
        "print(df[df[\"essay_id\"] == 18190][\"processed_text\"].values)\n",
        "print(df[df[\"essay_id\"] == 17999][\"processed_text\"].values)\n",
        "print(\"tag: compasssion ???\")\n",
        "\n",
        "print(\"----cluster 3-----\")\n",
        "print(df[df[\"essay_id\"] == 18226][\"processed_text\"].values)\n",
        "print(df[df[\"essay_id\"] == 18210][\"processed_text\"].values)\n",
        "print(\"tag: Communalism, definitely...\")"
      ],
      "metadata": {
        "colab": {
          "base_uri": "https://localhost:8080/",
          "height": 0
        },
        "id": "w9yVlnKShHXx",
        "outputId": "afd2beb0-b5d0-477d-c30b-ca37506cf8b2"
      },
      "execution_count": 212,
      "outputs": [
        {
          "output_type": "stream",
          "name": "stdout",
          "text": [
            "----cluster 1-----\n",
            "['I chose an image of a group of individuals hiking up a mountain, where one individual takes initiative and leads the group in order to work towards a common goal. All of these people want to reach to the top of the mountain, but they need to work together in order to achieve this. Leadership can be shown in many different forms. I believe that a true leader takes the first step in order to inspire and motivate others. A leader has a clear agenda that will benefit the group as a whole, and has the ability to manage these individuals in a decisive and organized manner. Leaders recognize that clear communication within a group is what fuels success, empowering each other to work to the best of their abilities within a shared workspace.']\n",
            "['Leadership is influencing and directing others in pursuit of a common goal. The many sticky notes and side discussions occurring in the photo are steps toward the projects listed on the paper (“Community Garden,” “Immigrant Support,” etc.). In this image, the two people standing are exhibiting leadership, discussing and collaborating with other group members to move forward toward their common goal. Leadership involves not only sharing and pursuing your ideas but also considering and inviting new ideas. In this image and most scenarios involving leadership, the members sitting around the table are of various ethnicities, races, gender and sexual orientations, ages, etc. This diversity of identity and experience leads to more innovative and creative direction for the group, and true leaders bolster this and see diversity as a strength.']\n",
            "tag: communalism ???? This still feels relevant\n",
            "----cluster 2-----\n",
            "[\"This image captures the essence of leadership in a variety of ways, and I believe this is because leadership isn’t limited to one trait, one act, or just one type of person etc. Through this image it can be seen that there are many sides to leadership and many ways in which leadership can be demonstrated. This image shows a person holding the flag and leading a group of people up a mountain with the goal of placing their flag at the top of the mountain. Here, this person is shown to be a guide given that they are leading the way up and a mentor given that they are looking back at the others in order to understand their perspective (compassion) and to use their experience to help their team reach their goal in a way best suited for them. This person has vision in the sense that they are able to look up the mountain and see that peak in order to guide the others towards a valued accomplishment. Furthermore, this person seems to be, in not having a hand to guide him up, stepping out of their comfort zone and stepping away from solely their best interests to a more uncomfortable role, in the sense that they have more responsibility and risk on themselves, in order to empower, coach, and facilitate their group. This also suggests that this person has competence, skill, and confidence in order to head up the mountain so seamlessly while guiding others rather than just looking forward for himself. Beyond just this one person leading, however, this picture shows leadership in the rest of the people pictured too. Here each person is a leader in their own way given the fact that they are all working towards a common goal in a manner that fosters a shared sense of purpose, meaningful connection, and in a manner that uplifts each other and challenges themselves to do something with and for the team. While they all are trying to get somewhere and to do something important to them, they are also making a path for those behind them & pulling those behind them along — influencing and inspiring those coming after them in the process. Even the last person in the line who isn’t guiding anyone up himself demonstrates leadership in the way that they are willing to be vulnerable to get the team ahead, and they are willing to not always be the only one leading (recognizing others' strengths over their own, letting others gain experience leading, and/or trusting those who are part of his team even if he may not be able to see the top of the mountain as clearly). In addition, this image shows a diverse set of people showing that leadership isn’t limited to a certain type of person (such as people of certain races or genders).\"]\n",
            "[\"I included a screenshot of a presentation my co-captain and I delivered to our Science Olympiad team a few months before the big tournaments of the year. I worked hard on and was proud of this presentation, in which I attempted to use all of my understanding of leadership to galvanize and motivate the team. The screenshot displays three key components that I currently believe constitute good leadership. One such component is dedication to serving the needs of one's team. Prior to holding many leadership roles, I believed that leaders should exclusively focus on ensuring that their team has all of the information and resources they need to excel. I thought being a leader ought to primarily be a service position. My belief in this principle is very visible through the extensive data I presented to the team (some of which is excerpted in the screenshots). In the image, I include benchmarks of past overall and individual event scores to establish how where we were differed from where we should look to be as we headed into states. As the leader of the team, I felt an obligation to provide my team with any worthwhile information I could produce so that they would be more informed in their preparation for states. More implicit in this photo is a second key of leadership that I have discovered: effective and genuine communication. I believe that effective leaders not only listen to the needs and advice of their team members, but also attempt to make sure that the entire team agrees on where they stand in relation to their goals. While this particular presentation did not include much of the usual checking in with team members, I nonetheless tried to keep this ethos in mind. I included the past nationals scores of my school and our biggest state rivals in part to establish our collective expectations and make sure the team was on the same page. As I gained more leadership experience, I discovered a third principle of leadership: defining, refining, and maintaining the vision of one's team. By the time I made this presentation, I had discovered that viewing leadership purely as an act of direct service to one's team limits its effectiveness. Effective leaders not only work to ensure their team has everything necessary to achieve its collective goal, but also set this goal, maintain morale, and hold people accountable to their potential. Throughout this image, I attempt to proactively set objectives and galvanize the team. I set somewhat lofty score targets for individual events (arrows on graphs). In addition, by referencing our previous (worse than usual) national placing, I attempted to push everyone to do more work than was needed to just squeeze out a narrow victory at states (under the premise that this wouldn't be enough for nationals).\"]\n",
            "tag: directing ???? This still feels relevant\n",
            "----cluster 3-----\n",
            "['Leadership is a team effort. Leadership means building bridges with each other, utilizing the various skills, perspectives, and backgrounds people have. Guiding each other is critical in leadership to achieve success or a common goal, and there can be many leadership styles that people exhibit. This means that people can learn from different leadership styles as well and support each other in their personal and professional development. To do so, we all have to communicate effectively to build bridges of connection with one another while understanding that everyone has unique experiences and leads in their own way. It takes more than one individual to lead and practice leadership skills. Therefore, for me, leadership, at its core, comes down again to working together and supporting each other.']\n",
            "[\"This image captures the essence of leadership by showcasing qualities that a leader radiates. The leader's attentive posture and engagement with the team exemplifies empathy and genuine concern for her surroundings, which is key to leadership. This signifies the leader's commitment to fostering growth and well-being among her team. This reflects a leader's ability to inspire her team by making her presence in the room known. This image captures leadership as a partnership, emphasizing the leader's role in nurturing her team's potential. Through capturing the attention of individuals in the room, the leader empowers others, fostering a sense of belonging and commitment. This encapsulates the heart of leadership: guiding and cultivating a cohesive and motivated team, all while demonstrating the transformative impact of compassion-driven leadership.\"]\n",
            "tag: Charity and abroad actually feels most relevant here...\n"
          ]
        }
      ]
    },
    {
      "cell_type": "markdown",
      "source": [
        "Ok we're seeing similar themes percolate up. Communalism and connection and also directing. So we would guess MLK would come up in either 1 or 3 but not 2 statistically speaking, and most likely to be in 1 statistically."
      ],
      "metadata": {
        "id": "zw4fAldrhICA"
      }
    },
    {
      "cell_type": "code",
      "source": [
        "# For Dendrogram based on LDA\n",
        "# Finding the clusters that have the MLK pics\n",
        "\n",
        "# Dictionary to store the clusters that contain the specific IDs\n",
        "clu_with_eid = {essay_id: None for essay_id in mlk_ids}\n",
        "\n",
        "# Iterate through the clusters\n",
        "for cluster_id, members in clusters_LDA.items():\n",
        "    for essay_id in mlk_ids:\n",
        "        if essay_id in members:\n",
        "            clu_with_eid[essay_id] = cluster_id\n",
        "\n",
        "# Dictionary to group essay IDs by clusters\n",
        "\n",
        "id_by_clu = {}\n",
        "\n",
        "# Populate the dictionaries that show which clusters have which essay_ids.\n",
        "for essay_id, cluster_id in clu_with_eid.items():\n",
        "    if cluster_id not in id_by_clu:\n",
        "        id_by_clu[cluster_id] = []\n",
        "    id_by_clu[cluster_id].append(essay_id)\n",
        "\n",
        "# Display the clusters and their associated essay IDs\n",
        "for cluster_id, essay_ids in sorted(id_by_clu.items()):\n",
        "    print(f\"Cluster {cluster_id} has these essay IDs: {essay_ids}\")"
      ],
      "metadata": {
        "colab": {
          "base_uri": "https://localhost:8080/",
          "height": 0
        },
        "id": "cBVCPAHATeMz",
        "outputId": "f31c06b3-b20f-4365-a486-e986b3e24590"
      },
      "execution_count": 213,
      "outputs": [
        {
          "output_type": "stream",
          "name": "stdout",
          "text": [
            "Cluster 1 has these essay IDs: [17714, 17997, 18004, 18239]\n",
            "Cluster 3 has these essay IDs: [18209]\n"
          ]
        }
      ]
    },
    {
      "cell_type": "markdown",
      "source": [
        "And that is just what we see."
      ],
      "metadata": {
        "id": "0CmVqJ5miCFh"
      }
    },
    {
      "cell_type": "markdown",
      "source": [
        "Again, I'd expect cartoon to follow the distribution as well.. 3 then 1 then 2."
      ],
      "metadata": {
        "id": "LLu0fE_LiFQV"
      }
    },
    {
      "cell_type": "code",
      "source": [
        "# For dendrogram based on LDA\n",
        "# Finding the clusters that have the same cartoon pic\n",
        "\n",
        "# Dictionary to store the clusters that contain the specific IDs\n",
        "clu_with_eid = {essay_id: None for essay_id in samepic_ids}\n",
        "\n",
        "# Iterate through the clusters\n",
        "for cluster_id, members in clusters_LDA.items():\n",
        "    for essay_id in samepic_ids:\n",
        "        if essay_id in members:\n",
        "            clu_with_eid[essay_id] = cluster_id\n",
        "\n",
        "# Dictionary to group essay IDs by clusters\n",
        "\n",
        "id_by_clu = {}\n",
        "\n",
        "# Populate the dictionaries that show which clusters have which essay_ids.\n",
        "for essay_id, cluster_id in clu_with_eid.items():\n",
        "    if cluster_id not in id_by_clu:\n",
        "        id_by_clu[cluster_id] = []\n",
        "    id_by_clu[cluster_id].append(essay_id)\n",
        "\n",
        "# Display the clusters and their associated essay IDs\n",
        "for cluster_id, essay_ids in sorted(id_by_clu.items()):\n",
        "    print(f\"Cluster {cluster_id} has these essay IDs: {essay_ids}\")"
      ],
      "metadata": {
        "colab": {
          "base_uri": "https://localhost:8080/",
          "height": 0
        },
        "id": "8DQG6hRtTiuo",
        "outputId": "e120ba2c-25bf-4166-dd26-88c3c40ba8e6"
      },
      "execution_count": 215,
      "outputs": [
        {
          "output_type": "stream",
          "name": "stdout",
          "text": [
            "Cluster 1 has these essay IDs: [18225, 18211, 18208, 18145, 18008, 18009, 18000, 17930, 17901]\n",
            "Cluster 2 has these essay IDs: [18190]\n",
            "Cluster 3 has these essay IDs: [18197, 18194, 18150, 18105, 18107, 17951, 17738, 17719, 17715]\n"
          ]
        }
      ]
    },
    {
      "cell_type": "markdown",
      "source": [
        "These look a little over-represented in cluster 3, which is the one about communalism. That's interesting and I wouldn't have expected it. Let's read one to learn more."
      ],
      "metadata": {
        "id": "uY-B5JK4TnVa"
      }
    },
    {
      "cell_type": "code",
      "source": [
        "print(\"----cluster 3-----\")\n",
        "print(df[df[\"essay_id\"] == 18197][\"processed_text\"].values)\n",
        "print(df[df[\"essay_id\"] == 18194][\"processed_text\"].values)\n",
        "print(\"tag: Communalism, definitely...\")"
      ],
      "metadata": {
        "colab": {
          "base_uri": "https://localhost:8080/",
          "height": 0
        },
        "id": "fmZiy8QvjA-x",
        "outputId": "d737d84f-369f-46f0-910c-7d37553dd5cd"
      },
      "execution_count": 216,
      "outputs": [
        {
          "output_type": "stream",
          "name": "stdout",
          "text": [
            "----cluster 3-----\n",
            "['Leadership is using your skills and knowledge to reach your goals while influencing and guiding others to reach their goals as well. A leader inspires, empowers, and guides their team towards success through communication and determination. In the image, the \"leader\" carries the flag, because he has useful knowledge and ideas to share with his team members, and he has taken the initiative to lead his team to their goal. The image really captures my understanding of leadership because it shows the \"leader\" also looking back and holding hands with the team meaning he is determined to make not just himself, but everyone else be the best versions of themselves so that everyone grows, learns, and achieves their goals. Leaders like the one in the image make sure their teammates are not left behind.']\n",
            "['This picture shows not only a person leading others and offering guidance but also a leader who remains united and connected with their team. In the picture, the man in front is even looking back on the group, presumably ensuring their safety and progress. I chose this picture because a leader is someone who guides and empowers others while recognizing that the importance should be placed on the entire group, not the individual leader themself. True leadership is using your expertise, knowledge, and power to help guide others, not draw attention to yourself or flaunt your capabilities. Leadership comes in very many forms, but no matter the form, it is critical to emphasize that the leader is there for the people they lead, and not themselves.']\n",
            "tag: Communalism, definitely...\n"
          ]
        }
      ]
    },
    {
      "cell_type": "markdown",
      "source": [
        "It does seem like both are about connections to team! Well done LDA! Surprisingly good show."
      ],
      "metadata": {
        "id": "Zlgz1LitjHuy"
      }
    },
    {
      "cell_type": "markdown",
      "source": [
        "# Evaluating with Parallel Lines"
      ],
      "metadata": {
        "id": "iEeXT2QgjRoa"
      }
    },
    {
      "cell_type": "markdown",
      "source": [
        "*doc2vec parallel*"
      ],
      "metadata": {
        "id": "F5ZJLrTrXfNy"
      }
    },
    {
      "cell_type": "code",
      "source": [
        "X = np.array(df[\"doc2vec_embeddings\"].values.tolist())[:,0,:]"
      ],
      "metadata": {
        "id": "km7CBfL4Xeus"
      },
      "execution_count": 224,
      "outputs": []
    },
    {
      "cell_type": "code",
      "source": [
        "import plotly.express as px\n",
        "fig = px.parallel_coordinates(X)\n",
        "fig.show()"
      ],
      "metadata": {
        "id": "hAG0COBxkcMk"
      },
      "execution_count": null,
      "outputs": []
    },
    {
      "cell_type": "markdown",
      "source": [
        "I can see at least two stories: groups of lines which alternate up and down and opposite of one another. Perhaps also a scattereed group that runs right across. Does color make a difference?\n",
        "\n"
      ],
      "metadata": {
        "id": "lcO69mF7ZdzM"
      }
    },
    {
      "cell_type": "code",
      "source": [
        "import plotly.express as px\n",
        "fig = px.parallel_coordinates(X, color = result[\"d2v_cluster\"])\n",
        "fig.show()"
      ],
      "metadata": {
        "id": "1iXr2w7Tkjus"
      },
      "execution_count": null,
      "outputs": []
    },
    {
      "cell_type": "markdown",
      "source": [
        "A little! One can kind of make out clusters..."
      ],
      "metadata": {
        "id": "VuIJypQLkiuU"
      }
    },
    {
      "cell_type": "markdown",
      "source": [
        "*BERT Parallel Lines*"
      ],
      "metadata": {
        "id": "e9Es0HksjlW_"
      }
    },
    {
      "cell_type": "code",
      "source": [
        "X = np.array(df[\"bert_embeddings\"].values.tolist())"
      ],
      "metadata": {
        "id": "coT2KgAoZfaS"
      },
      "execution_count": 228,
      "outputs": []
    },
    {
      "cell_type": "code",
      "source": [
        "X.shape"
      ],
      "metadata": {
        "colab": {
          "base_uri": "https://localhost:8080/",
          "height": 0
        },
        "id": "ZZgb4mswZsSl",
        "outputId": "31aa0fc4-97a5-4de3-c7e7-44f8026e45d9"
      },
      "execution_count": 229,
      "outputs": [
        {
          "output_type": "execute_result",
          "data": {
            "text/plain": [
              "(321, 384)"
            ]
          },
          "metadata": {},
          "execution_count": 229
        }
      ]
    },
    {
      "cell_type": "markdown",
      "source": [
        "BERT is way to big. Let's assume there are independent signals at work here and reduce this thing down with ICA. We chose ICA because we assume there should be signals driving the embeddings, those signals would be things like topics."
      ],
      "metadata": {
        "id": "t5BqVORNZtbV"
      }
    },
    {
      "cell_type": "code",
      "source": [
        "from sklearn.decomposition import FastICA"
      ],
      "metadata": {
        "id": "gi7wvfN5Zy21"
      },
      "execution_count": 230,
      "outputs": []
    },
    {
      "cell_type": "code",
      "source": [
        "ica = FastICA(n_components=3)\n",
        "S_ = ica.fit_transform(X)"
      ],
      "metadata": {
        "id": "16ULSbC-aUqO"
      },
      "execution_count": 231,
      "outputs": []
    },
    {
      "cell_type": "code",
      "source": [
        "import plotly.express as px\n",
        "fig = px.parallel_coordinates(S_)\n",
        "fig.show()"
      ],
      "metadata": {
        "colab": {
          "base_uri": "https://localhost:8080/",
          "height": 542
        },
        "id": "grv5YF4fabOc",
        "outputId": "f97d4d6b-0842-4416-bf5e-9db05a9b6b4c"
      },
      "execution_count": 220,
      "outputs": [
        {
          "output_type": "display_data",
          "data": {
            "text/html": [
              "<html>\n",
              "<head><meta charset=\"utf-8\" /></head>\n",
              "<body>\n",
              "    <div>            <script src=\"https://cdnjs.cloudflare.com/ajax/libs/mathjax/2.7.5/MathJax.js?config=TeX-AMS-MML_SVG\"></script><script type=\"text/javascript\">if (window.MathJax && window.MathJax.Hub && window.MathJax.Hub.Config) {window.MathJax.Hub.Config({SVG: {font: \"STIX-Web\"}});}</script>                <script type=\"text/javascript\">window.PlotlyConfig = {MathJaxConfig: 'local'};</script>\n",
              "        <script charset=\"utf-8\" src=\"https://cdn.plot.ly/plotly-2.35.2.min.js\"></script>                <div id=\"2b357d02-5aac-41b7-b5cb-73383c01780b\" class=\"plotly-graph-div\" style=\"height:525px; width:100%;\"></div>            <script type=\"text/javascript\">                                    window.PLOTLYENV=window.PLOTLYENV || {};                                    if (document.getElementById(\"2b357d02-5aac-41b7-b5cb-73383c01780b\")) {                    Plotly.newPlot(                        \"2b357d02-5aac-41b7-b5cb-73383c01780b\",                        [{\"dimensions\":[{\"label\":\"0\",\"values\":[-0.9344815,-0.34347695,-1.0627321,0.1414869,0.7704232,0.5949102,0.36397767,-1.786005,0.51265,-0.09290722,0.36828986,1.152606,-1.134732,-0.9445701,1.1323581,-0.9487834,-0.117331214,-0.649901,1.2648442,-0.08336717,0.52494705,0.36201134,0.50736326,0.5741016,0.47008926,-0.12396508,2.0038645,0.19348788,-0.09407952,-0.01681363,-0.111736394,0.011058949,0.9353971,-0.035647467,-1.2714059,-0.14516716,2.0507348,0.3171023,1.0029871,-0.53032213,-0.66858834,-0.74110186,0.08341831,1.0682794,0.034921378,0.13220738,-0.92381895,0.44339272,0.36359447,-0.9592665,1.0407455,1.8685005,-1.7698421,-0.21793245,0.6496965,0.12127578,1.1446803,0.48471424,-0.49048987,0.88607,-1.331945,-0.1694319,0.37820548,-0.36656752,-2.0017397,-1.6773256,-0.49093375,-0.85833234,-0.14611872,-1.651196,1.1761723,0.15360837,-0.20772995,-0.7535417,-0.25645304,-0.80134314,1.61367,0.5171312,1.4750059,0.7067472,-0.059587367,-0.40229496,1.0887489,0.33560163,1.4299101,0.5799705,-1.1410674,1.3967679,-0.17065884,0.4909871,-0.2178424,0.6104273,0.08666614,0.06388897,0.35149404,0.62951267,-1.7810563,-0.26526234,-1.6143346,-0.6731606,0.47063628,-1.0981501,1.6827725,0.73907226,0.26185295,0.4456357,-1.3521695,0.7761016,-1.5957294,0.17381686,-0.45995745,-2.1745465,0.46947548,0.16272548,0.6238427,0.43795192,-0.10385489,0.35675532,-0.68788034,0.5369483,1.0278274,0.66314423,0.6252987,-2.0612793,0.82509243,-1.6285368,0.84034,-0.81978154,-0.694018,-0.33512264,-0.39949843,-1.0303745,1.1931893,0.06241955,-0.17657058,1.3056434,-0.60652083,1.6015265,1.0097873,-0.9555277,-1.3961785,-0.5670435,-0.7392976,-1.2336075,-0.61097836,-1.3649671,-0.71431786,-1.41702,0.15376946,0.5064331,-0.80256486,0.7526384,0.7256872,0.8803795,0.30436987,-0.8226932,0.62832093,0.84459007,-0.078238964,0.8748828,2.0912402,-0.82861036,1.3867818,1.354518,1.2237598,0.8760753,-1.7603145,1.5551608,-1.7182868,0.99334234,-1.5318185,1.5865775,-0.7730527,0.67825544,-0.5314776,-1.2000347,1.2329752,0.69688606,-0.08360964,0.8773385,-2.4338715,0.269448,-0.4508674,0.2599325,0.59308475,0.41922948,-2.6282153,-1.8072823,0.97655356,0.26700535,-0.06469321,1.5113165,0.1813446,-0.103916496,-0.43689328,0.14764975,1.3506554,0.13861103,-0.6638945,-0.93926793,-0.067657985,-0.9957992,-1.5746937,-0.26350817,-1.7353998,-0.39451948,1.3005172,0.08406621,-0.4937979,-0.25655168,0.31579515,-0.122738555,-1.2068521,-0.49208805,-1.1705171,0.9692785,-1.3697231,-0.23172042,0.79257506,0.14907946,-1.0761697,0.80118495,-0.7609671,-0.0230957,-1.5958056,1.1458317,0.008939256,-0.28100526,1.1433327,-1.4116776,2.2497666,0.9325163,0.6186851,0.70361066,-0.95761853,-1.1963754,0.01001882,-2.1691527,1.4128642,1.5107327,1.4315428,1.0921838,1.7109611,0.636217,-0.18908256,-0.9558206,1.0365111,0.6155237,1.8639187,-0.31809935,-1.526981,-0.12592341,0.38443974,-0.8087295,-0.33349198,0.22641923,-1.467451,-1.4567633,-0.3694782,0.82060397,-0.7830264,1.5418667,-1.5110915,-0.71306634,-1.72731,-0.06784669,0.37457773,0.5963354,-0.46689835,0.70335925,-0.7185988,0.35290107,-1.4297316,0.9822714,-0.2301311,-1.6153402,0.86382043,0.6289275,-1.3158818,-0.09054614,-0.10215786,-1.5157173,-1.1361876,0.24715443,0.84313744,-1.5098141,-0.8500655,0.178542,-0.10815115,1.3318633,-1.3458065,0.68937236,1.3760854,-0.12468101,-0.8481214,0.43017474,-1.0950112,-1.0173008,-1.156362,1.2975732,0.86687845,-1.897271,1.7131975,0.4052651,1.4582573,-2.3741708,-0.33836114,0.5053213,0.6322396,0.8808567,0.21004188,1.222494,1.4683634,1.8890448,0.66451097,0.779155,0.8634154,0.998606,1.2406586,1.0134156,-1.9013572]},{\"label\":\"1\",\"values\":[1.0258502,0.3624862,-1.0373113,0.23718823,-0.727813,0.60241914,0.67389476,-2.6554499,0.3968439,0.35978895,-0.5096523,-0.2616506,0.5230642,-1.9153416,1.10172,0.534222,1.0617175,-0.7277351,0.04595604,1.2884564,1.4110421,0.41855034,1.8689657,1.1301522,1.1503159,1.1970785,-0.94769186,0.3440911,-0.21778496,0.31499866,2.036397,0.18579246,0.65560853,0.4137217,-0.7742266,1.6768469,0.49048495,0.73998475,-0.45407972,-1.6927125,-0.36503974,-0.18609849,0.6939808,0.29827952,1.1078596,1.2222033,0.13398334,-0.34555268,0.2585958,2.180731,0.958106,0.40848893,0.2770967,0.5465829,1.0762892,-0.9633415,1.3418463,0.7012289,-0.58164877,-1.5456587,-0.41629317,0.8185202,0.5945857,0.38820174,-1.5110136,0.8450932,-0.9203003,0.79162234,-0.45473796,0.65828675,0.28860933,1.1699891,-0.39510837,-0.978107,0.3504168,0.09736812,0.47349685,0.6029904,1.0362943,1.6775526,-0.39963007,0.85264367,-0.57694554,0.048032813,0.7099843,0.4413829,1.9913763,1.3692873,-0.34798026,0.21656667,1.377907,1.6400975,-0.62269616,0.3475094,-0.07058665,0.8210582,0.9209035,0.025799165,1.4425341,0.58544636,0.98972815,1.9579762,-0.465996,0.28026673,1.0990993,-1.5274167,0.65103394,1.4379601,-0.30249158,0.723953,-0.15595184,-1.6352758,1.4381105,1.2311069,0.4564776,-1.0805564,0.028447837,-0.524687,-1.2372282,-0.7389682,-1.1966008,0.68347234,-1.4787897,-0.3271066,-0.58321804,-1.073087,0.73169816,-1.4483643,-0.37379622,-0.390821,1.266313,1.2870748,1.553751,0.89847815,-0.13514398,0.10293912,-1.0182408,0.55034566,0.64064145,1.3929034,0.7506066,-0.8193541,1.4055455,-1.627147,-1.7137263,1.464348,-1.1521635,0.5865578,-0.6200253,0.094822995,0.5475653,-0.7608465,0.5240278,1.1808099,0.4252715,-0.45312035,0.7568807,-0.30826253,0.578919,0.84761804,-1.3679012,0.6000183,-0.0063520465,-1.0287135,-0.47156724,0.073138565,0.530745,-0.8015233,-0.51265264,-0.03484863,0.9773272,0.56571734,0.7091058,-1.5722423,-0.87015903,1.3033758,-0.6141969,0.57445115,2.097149,0.12183316,-0.4056099,1.424121,-1.1178341,-0.18426704,1.9036039,-2.1086993,1.6484293,-0.8173805,-1.4881544,-1.9324658,1.056018,-1.4051946,1.2523389,-0.12892336,-1.6730365,0.48821446,-1.0169449,-2.2483478,1.2222317,0.14199795,-0.42747238,1.0632834,-1.5135239,-0.31674898,0.10818436,-0.7197732,-0.82848877,0.50470454,-1.8870419,-0.93049765,-0.33364177,-0.028923992,1.3212714,0.8633265,0.66165537,-2.4552233,-0.28672546,0.12918511,0.10693102,0.1888849,-0.19671951,-1.0473863,-0.2042242,0.85855573,0.43968597,-1.6743035,-0.5354246,1.5591669,1.0372742,-0.05965316,-1.4123582,-0.415308,-0.55730325,-0.16734996,1.4414682,-0.7137263,0.62934846,-1.5363046,-1.6771286,-0.7142428,-0.15093212,-0.49477738,-0.22411443,0.38871044,0.89813924,1.1787564,-1.7261188,1.0343078,-1.3095554,1.4726182,-2.2666802,-1.3857963,-0.06552624,0.8356489,-0.7814823,-0.17800443,-0.95840824,-1.760035,-3.1820524,0.28905404,-0.25978172,0.5595787,1.0953505,-1.2732158,-0.2352879,-0.6284433,-1.268942,-0.46916592,1.082149,-1.0949903,-0.82755595,-0.76169956,-0.7799544,-0.40496016,0.82155174,1.4405483,-0.053043257,-1.2805382,-1.2559028,-1.496761,0.4515888,0.010857772,-0.97249955,-0.5058381,0.36494645,-0.2230435,-0.30052784,1.2451385,0.1896027,1.4188567,-0.88921446,1.02246,0.7765828,0.2863313,-1.527547,-1.4477848,-0.21464175,-0.17126969,-0.6699336,0.4665887,-0.47840914,-0.5869143,-0.1244917,-1.0050701,0.771272,0.6155121,-0.15054816,-0.3878878,-0.054039165,1.3551595,-1.5123726,-1.5766109,-1.3979701,0.18053155,-0.092602134,-1.5214992,0.0011543483,0.0075840955,0.18631417,-1.5824153,-0.4869055]},{\"label\":\"2\",\"values\":[-0.8925413,0.40857217,-0.009412352,1.156334,1.1143746,0.64230305,-2.3504276,-0.8978444,1.9810545,0.9518508,1.5011678,0.37872684,0.85015243,-0.487135,0.4157372,-0.29403004,0.41576266,0.050119996,0.17873542,0.2688967,-0.64876646,1.2027748,-0.16149396,-0.8571395,-0.6335523,-1.0514292,0.26060432,-0.09405737,1.3208597,-1.2694285,-1.7586544,-1.0316906,0.6051807,0.5887127,0.8125447,-0.75429183,-1.2785208,0.7872739,1.2660629,0.39398676,0.5973154,1.2070737,0.6089159,0.94164294,1.8759557,-0.41153577,1.9223357,1.2840611,0.7006319,-2.0659938,-0.595138,0.523303,-0.1486148,0.4390769,-0.84686923,0.75886184,-1.3867419,-1.5618521,-0.2130734,-1.6904254,1.2129114,0.94931495,1.4651546,0.07934828,-1.0237312,1.012598,-0.6335882,-0.25006884,1.5598046,0.23533681,1.1078341,0.18493977,1.1645552,0.6275212,0.9438253,0.5824495,-0.9662058,0.38695967,-0.8174986,-0.8936324,0.51798207,1.1180205,0.9904413,0.83152807,-0.5125691,0.8035557,-1.0636787,-1.309536,0.79197276,-0.2763587,-1.6652635,0.7492666,0.94334805,0.043755192,0.927176,1.6820327,-0.37393087,1.098296,-1.2839084,-0.39748475,1.6516732,-0.7864113,0.8279251,1.8061957,0.5940643,-0.6435086,0.6061342,-1.746421,0.7571583,-1.1791588,0.08467849,-0.52613384,-0.1609677,0.90283155,-0.7808004,-1.8065042,-0.20273417,0.12692776,0.7435848,-0.36678493,-0.67324674,0.10276442,-0.19536988,1.0364395,0.12525474,0.6031249,-0.4579013,-1.0661389,1.7329985,-0.43643418,0.5274198,-0.1986815,-1.0390512,-0.74258393,-0.20015755,1.5922459,0.65238124,0.47301814,0.82762605,-0.44186103,0.53555816,0.06359865,0.29794434,-0.27834183,0.5791699,-0.39492908,-0.038747035,0.56562704,0.4952398,1.4481777,-0.23707934,-0.80068755,0.90748274,0.8498055,-0.3215457,1.2072484,1.877931,0.6409972,-1.5797906,0.40870264,0.18398896,-1.0463916,1.4846778,-1.1235746,-0.67154676,-0.9884309,0.5915905,-1.1929965,0.26739475,0.5501421,-0.50314033,0.9928184,1.263928,0.7730059,0.2279656,-1.5987684,1.1630275,-0.6530479,-1.2311767,0.12537684,0.26402017,-1.7690938,0.8547824,0.8470998,-0.63126737,-0.93954545,-1.6281381,0.16467877,0.090637304,-1.4612614,0.9629413,-2.145244,0.37359762,0.97635144,0.44457442,-0.81632835,0.21472335,-1.4760787,-2.2852273,1.1881123,-0.044395007,1.8646913,-2.5169203,1.416251,0.90628487,-0.63166714,-2.699793,-1.1580231,-1.370375,1.4552687,1.5197024,-0.59671277,-2.1138632,-0.4256907,-1.6091844,-0.59326303,0.24618648,-0.91670555,-0.20722218,1.044611,-0.7437185,1.2229905,0.03753996,-0.7313239,0.1660792,0.07889612,0.7571432,-0.82991093,-0.4490649,-0.12839183,-1.8925999,1.0171918,0.39794752,-2.0684564,-1.1683697,0.15820338,1.1778189,-0.08249177,-0.23347645,-1.9138261,-0.53334,0.27729648,-1.4712466,-0.15017127,0.3840722,-1.3384881,-0.16999733,-0.43286547,-0.9290741,1.4828221,-0.7002791,0.36461544,1.454782,-0.43128207,0.9479728,1.2804642,-0.16127765,0.08761108,-1.731539,0.56659234,-0.25177655,0.3983696,-0.516472,0.6711479,0.5037191,-1.2389144,-0.93473506,-0.5362899,-0.6382081,-0.72071046,0.9999182,-0.992263,-0.9227105,-0.17489572,1.0174682,-1.5418969,0.63714445,-0.2808088,-0.2344543,-0.09921294,1.2813575,1.3186742,0.56869346,-0.39354283,0.020947611,-1.6199908,1.3856645,-0.20672137,-0.025744196,-2.0378926,-2.0894928,1.5160226,0.4474426,1.1417269,-0.90368044,-0.5711682,1.2621812,-0.07824626,0.8713702,-0.11297498,-0.5747391,0.75642294,0.49823466,0.3626708,0.8167338,-0.9831254,-0.80866814,0.95137215,-1.0839504,0.045101486,-0.42433214,0.6025568,-2.320649,-0.50964767,2.0713265,-0.4416983,0.9234846,0.7364038,1.5557412,-1.4278857,-0.5593219]}],\"domain\":{\"x\":[0.0,1.0],\"y\":[0.0,1.0]},\"name\":\"\",\"type\":\"parcoords\"}],                        {\"template\":{\"data\":{\"histogram2dcontour\":[{\"type\":\"histogram2dcontour\",\"colorbar\":{\"outlinewidth\":0,\"ticks\":\"\"},\"colorscale\":[[0.0,\"#0d0887\"],[0.1111111111111111,\"#46039f\"],[0.2222222222222222,\"#7201a8\"],[0.3333333333333333,\"#9c179e\"],[0.4444444444444444,\"#bd3786\"],[0.5555555555555556,\"#d8576b\"],[0.6666666666666666,\"#ed7953\"],[0.7777777777777778,\"#fb9f3a\"],[0.8888888888888888,\"#fdca26\"],[1.0,\"#f0f921\"]]}],\"choropleth\":[{\"type\":\"choropleth\",\"colorbar\":{\"outlinewidth\":0,\"ticks\":\"\"}}],\"histogram2d\":[{\"type\":\"histogram2d\",\"colorbar\":{\"outlinewidth\":0,\"ticks\":\"\"},\"colorscale\":[[0.0,\"#0d0887\"],[0.1111111111111111,\"#46039f\"],[0.2222222222222222,\"#7201a8\"],[0.3333333333333333,\"#9c179e\"],[0.4444444444444444,\"#bd3786\"],[0.5555555555555556,\"#d8576b\"],[0.6666666666666666,\"#ed7953\"],[0.7777777777777778,\"#fb9f3a\"],[0.8888888888888888,\"#fdca26\"],[1.0,\"#f0f921\"]]}],\"heatmap\":[{\"type\":\"heatmap\",\"colorbar\":{\"outlinewidth\":0,\"ticks\":\"\"},\"colorscale\":[[0.0,\"#0d0887\"],[0.1111111111111111,\"#46039f\"],[0.2222222222222222,\"#7201a8\"],[0.3333333333333333,\"#9c179e\"],[0.4444444444444444,\"#bd3786\"],[0.5555555555555556,\"#d8576b\"],[0.6666666666666666,\"#ed7953\"],[0.7777777777777778,\"#fb9f3a\"],[0.8888888888888888,\"#fdca26\"],[1.0,\"#f0f921\"]]}],\"heatmapgl\":[{\"type\":\"heatmapgl\",\"colorbar\":{\"outlinewidth\":0,\"ticks\":\"\"},\"colorscale\":[[0.0,\"#0d0887\"],[0.1111111111111111,\"#46039f\"],[0.2222222222222222,\"#7201a8\"],[0.3333333333333333,\"#9c179e\"],[0.4444444444444444,\"#bd3786\"],[0.5555555555555556,\"#d8576b\"],[0.6666666666666666,\"#ed7953\"],[0.7777777777777778,\"#fb9f3a\"],[0.8888888888888888,\"#fdca26\"],[1.0,\"#f0f921\"]]}],\"contourcarpet\":[{\"type\":\"contourcarpet\",\"colorbar\":{\"outlinewidth\":0,\"ticks\":\"\"}}],\"contour\":[{\"type\":\"contour\",\"colorbar\":{\"outlinewidth\":0,\"ticks\":\"\"},\"colorscale\":[[0.0,\"#0d0887\"],[0.1111111111111111,\"#46039f\"],[0.2222222222222222,\"#7201a8\"],[0.3333333333333333,\"#9c179e\"],[0.4444444444444444,\"#bd3786\"],[0.5555555555555556,\"#d8576b\"],[0.6666666666666666,\"#ed7953\"],[0.7777777777777778,\"#fb9f3a\"],[0.8888888888888888,\"#fdca26\"],[1.0,\"#f0f921\"]]}],\"surface\":[{\"type\":\"surface\",\"colorbar\":{\"outlinewidth\":0,\"ticks\":\"\"},\"colorscale\":[[0.0,\"#0d0887\"],[0.1111111111111111,\"#46039f\"],[0.2222222222222222,\"#7201a8\"],[0.3333333333333333,\"#9c179e\"],[0.4444444444444444,\"#bd3786\"],[0.5555555555555556,\"#d8576b\"],[0.6666666666666666,\"#ed7953\"],[0.7777777777777778,\"#fb9f3a\"],[0.8888888888888888,\"#fdca26\"],[1.0,\"#f0f921\"]]}],\"mesh3d\":[{\"type\":\"mesh3d\",\"colorbar\":{\"outlinewidth\":0,\"ticks\":\"\"}}],\"scatter\":[{\"fillpattern\":{\"fillmode\":\"overlay\",\"size\":10,\"solidity\":0.2},\"type\":\"scatter\"}],\"parcoords\":[{\"type\":\"parcoords\",\"line\":{\"colorbar\":{\"outlinewidth\":0,\"ticks\":\"\"}}}],\"scatterpolargl\":[{\"type\":\"scatterpolargl\",\"marker\":{\"colorbar\":{\"outlinewidth\":0,\"ticks\":\"\"}}}],\"bar\":[{\"error_x\":{\"color\":\"#2a3f5f\"},\"error_y\":{\"color\":\"#2a3f5f\"},\"marker\":{\"line\":{\"color\":\"#E5ECF6\",\"width\":0.5},\"pattern\":{\"fillmode\":\"overlay\",\"size\":10,\"solidity\":0.2}},\"type\":\"bar\"}],\"scattergeo\":[{\"type\":\"scattergeo\",\"marker\":{\"colorbar\":{\"outlinewidth\":0,\"ticks\":\"\"}}}],\"scatterpolar\":[{\"type\":\"scatterpolar\",\"marker\":{\"colorbar\":{\"outlinewidth\":0,\"ticks\":\"\"}}}],\"histogram\":[{\"marker\":{\"pattern\":{\"fillmode\":\"overlay\",\"size\":10,\"solidity\":0.2}},\"type\":\"histogram\"}],\"scattergl\":[{\"type\":\"scattergl\",\"marker\":{\"colorbar\":{\"outlinewidth\":0,\"ticks\":\"\"}}}],\"scatter3d\":[{\"type\":\"scatter3d\",\"line\":{\"colorbar\":{\"outlinewidth\":0,\"ticks\":\"\"}},\"marker\":{\"colorbar\":{\"outlinewidth\":0,\"ticks\":\"\"}}}],\"scattermapbox\":[{\"type\":\"scattermapbox\",\"marker\":{\"colorbar\":{\"outlinewidth\":0,\"ticks\":\"\"}}}],\"scatterternary\":[{\"type\":\"scatterternary\",\"marker\":{\"colorbar\":{\"outlinewidth\":0,\"ticks\":\"\"}}}],\"scattercarpet\":[{\"type\":\"scattercarpet\",\"marker\":{\"colorbar\":{\"outlinewidth\":0,\"ticks\":\"\"}}}],\"carpet\":[{\"aaxis\":{\"endlinecolor\":\"#2a3f5f\",\"gridcolor\":\"white\",\"linecolor\":\"white\",\"minorgridcolor\":\"white\",\"startlinecolor\":\"#2a3f5f\"},\"baxis\":{\"endlinecolor\":\"#2a3f5f\",\"gridcolor\":\"white\",\"linecolor\":\"white\",\"minorgridcolor\":\"white\",\"startlinecolor\":\"#2a3f5f\"},\"type\":\"carpet\"}],\"table\":[{\"cells\":{\"fill\":{\"color\":\"#EBF0F8\"},\"line\":{\"color\":\"white\"}},\"header\":{\"fill\":{\"color\":\"#C8D4E3\"},\"line\":{\"color\":\"white\"}},\"type\":\"table\"}],\"barpolar\":[{\"marker\":{\"line\":{\"color\":\"#E5ECF6\",\"width\":0.5},\"pattern\":{\"fillmode\":\"overlay\",\"size\":10,\"solidity\":0.2}},\"type\":\"barpolar\"}],\"pie\":[{\"automargin\":true,\"type\":\"pie\"}]},\"layout\":{\"autotypenumbers\":\"strict\",\"colorway\":[\"#636efa\",\"#EF553B\",\"#00cc96\",\"#ab63fa\",\"#FFA15A\",\"#19d3f3\",\"#FF6692\",\"#B6E880\",\"#FF97FF\",\"#FECB52\"],\"font\":{\"color\":\"#2a3f5f\"},\"hovermode\":\"closest\",\"hoverlabel\":{\"align\":\"left\"},\"paper_bgcolor\":\"white\",\"plot_bgcolor\":\"#E5ECF6\",\"polar\":{\"bgcolor\":\"#E5ECF6\",\"angularaxis\":{\"gridcolor\":\"white\",\"linecolor\":\"white\",\"ticks\":\"\"},\"radialaxis\":{\"gridcolor\":\"white\",\"linecolor\":\"white\",\"ticks\":\"\"}},\"ternary\":{\"bgcolor\":\"#E5ECF6\",\"aaxis\":{\"gridcolor\":\"white\",\"linecolor\":\"white\",\"ticks\":\"\"},\"baxis\":{\"gridcolor\":\"white\",\"linecolor\":\"white\",\"ticks\":\"\"},\"caxis\":{\"gridcolor\":\"white\",\"linecolor\":\"white\",\"ticks\":\"\"}},\"coloraxis\":{\"colorbar\":{\"outlinewidth\":0,\"ticks\":\"\"}},\"colorscale\":{\"sequential\":[[0.0,\"#0d0887\"],[0.1111111111111111,\"#46039f\"],[0.2222222222222222,\"#7201a8\"],[0.3333333333333333,\"#9c179e\"],[0.4444444444444444,\"#bd3786\"],[0.5555555555555556,\"#d8576b\"],[0.6666666666666666,\"#ed7953\"],[0.7777777777777778,\"#fb9f3a\"],[0.8888888888888888,\"#fdca26\"],[1.0,\"#f0f921\"]],\"sequentialminus\":[[0.0,\"#0d0887\"],[0.1111111111111111,\"#46039f\"],[0.2222222222222222,\"#7201a8\"],[0.3333333333333333,\"#9c179e\"],[0.4444444444444444,\"#bd3786\"],[0.5555555555555556,\"#d8576b\"],[0.6666666666666666,\"#ed7953\"],[0.7777777777777778,\"#fb9f3a\"],[0.8888888888888888,\"#fdca26\"],[1.0,\"#f0f921\"]],\"diverging\":[[0,\"#8e0152\"],[0.1,\"#c51b7d\"],[0.2,\"#de77ae\"],[0.3,\"#f1b6da\"],[0.4,\"#fde0ef\"],[0.5,\"#f7f7f7\"],[0.6,\"#e6f5d0\"],[0.7,\"#b8e186\"],[0.8,\"#7fbc41\"],[0.9,\"#4d9221\"],[1,\"#276419\"]]},\"xaxis\":{\"gridcolor\":\"white\",\"linecolor\":\"white\",\"ticks\":\"\",\"title\":{\"standoff\":15},\"zerolinecolor\":\"white\",\"automargin\":true,\"zerolinewidth\":2},\"yaxis\":{\"gridcolor\":\"white\",\"linecolor\":\"white\",\"ticks\":\"\",\"title\":{\"standoff\":15},\"zerolinecolor\":\"white\",\"automargin\":true,\"zerolinewidth\":2},\"scene\":{\"xaxis\":{\"backgroundcolor\":\"#E5ECF6\",\"gridcolor\":\"white\",\"linecolor\":\"white\",\"showbackground\":true,\"ticks\":\"\",\"zerolinecolor\":\"white\",\"gridwidth\":2},\"yaxis\":{\"backgroundcolor\":\"#E5ECF6\",\"gridcolor\":\"white\",\"linecolor\":\"white\",\"showbackground\":true,\"ticks\":\"\",\"zerolinecolor\":\"white\",\"gridwidth\":2},\"zaxis\":{\"backgroundcolor\":\"#E5ECF6\",\"gridcolor\":\"white\",\"linecolor\":\"white\",\"showbackground\":true,\"ticks\":\"\",\"zerolinecolor\":\"white\",\"gridwidth\":2}},\"shapedefaults\":{\"line\":{\"color\":\"#2a3f5f\"}},\"annotationdefaults\":{\"arrowcolor\":\"#2a3f5f\",\"arrowhead\":0,\"arrowwidth\":1},\"geo\":{\"bgcolor\":\"white\",\"landcolor\":\"#E5ECF6\",\"subunitcolor\":\"white\",\"showland\":true,\"showlakes\":true,\"lakecolor\":\"white\"},\"title\":{\"x\":0.05},\"mapbox\":{\"style\":\"light\"}}},\"legend\":{\"tracegroupgap\":0},\"margin\":{\"t\":60}},                        {\"responsive\": true}                    ).then(function(){\n",
              "                            \n",
              "var gd = document.getElementById('2b357d02-5aac-41b7-b5cb-73383c01780b');\n",
              "var x = new MutationObserver(function (mutations, observer) {{\n",
              "        var display = window.getComputedStyle(gd).display;\n",
              "        if (!display || display === 'none') {{\n",
              "            console.log([gd, 'removed!']);\n",
              "            Plotly.purge(gd);\n",
              "            observer.disconnect();\n",
              "        }}\n",
              "}});\n",
              "\n",
              "// Listen for the removal of the full notebook cells\n",
              "var notebookContainer = gd.closest('#notebook-container');\n",
              "if (notebookContainer) {{\n",
              "    x.observe(notebookContainer, {childList: true});\n",
              "}}\n",
              "\n",
              "// Listen for the clearing of the current output cell\n",
              "var outputEl = gd.closest('.output');\n",
              "if (outputEl) {{\n",
              "    x.observe(outputEl, {childList: true});\n",
              "}}\n",
              "\n",
              "                        })                };                            </script>        </div>\n",
              "</body>\n",
              "</html>"
            ]
          },
          "metadata": {}
        }
      ]
    },
    {
      "cell_type": "markdown",
      "source": [
        "Not much..with color?"
      ],
      "metadata": {
        "id": "u1dqoXelkqqJ"
      }
    },
    {
      "cell_type": "code",
      "source": [
        "import plotly.express as px\n",
        "fig = px.parallel_coordinates(S_,color=result[\"b_cluster\"])\n",
        "fig.show()"
      ],
      "metadata": {
        "colab": {
          "base_uri": "https://localhost:8080/",
          "height": 542
        },
        "id": "1uytr3nRkqJq",
        "outputId": "991c83e5-b9ce-401d-f28a-a3d9f8e033f4"
      },
      "execution_count": 232,
      "outputs": [
        {
          "output_type": "display_data",
          "data": {
            "text/html": [
              "<html>\n",
              "<head><meta charset=\"utf-8\" /></head>\n",
              "<body>\n",
              "    <div>            <script src=\"https://cdnjs.cloudflare.com/ajax/libs/mathjax/2.7.5/MathJax.js?config=TeX-AMS-MML_SVG\"></script><script type=\"text/javascript\">if (window.MathJax && window.MathJax.Hub && window.MathJax.Hub.Config) {window.MathJax.Hub.Config({SVG: {font: \"STIX-Web\"}});}</script>                <script type=\"text/javascript\">window.PlotlyConfig = {MathJaxConfig: 'local'};</script>\n",
              "        <script charset=\"utf-8\" src=\"https://cdn.plot.ly/plotly-2.35.2.min.js\"></script>                <div id=\"4aad1ee5-d744-4ab4-b5a1-2583ccb89507\" class=\"plotly-graph-div\" style=\"height:525px; width:100%;\"></div>            <script type=\"text/javascript\">                                    window.PLOTLYENV=window.PLOTLYENV || {};                                    if (document.getElementById(\"4aad1ee5-d744-4ab4-b5a1-2583ccb89507\")) {                    Plotly.newPlot(                        \"4aad1ee5-d744-4ab4-b5a1-2583ccb89507\",                        [{\"dimensions\":[{\"label\":\"0\",\"values\":[-1.0243012,-0.36289066,1.0377418,-0.23877239,0.7260356,-0.60350215,-0.67093045,2.6573384,-0.39966446,-0.36101034,0.5075223,0.26069552,-0.5237404,1.9163562,-1.1027148,-0.533459,-1.0622199,0.72792435,-0.04669071,-1.288778,-1.4103899,-0.42028266,-1.8689506,-1.1292443,-1.1496626,-1.1956385,0.9465569,-0.3440427,0.21607572,-0.31331363,-2.0340264,-0.18443283,-0.6567766,-0.41448554,0.7736528,-1.675791,-0.4896025,-0.7411499,0.4520104,1.6923991,0.36451322,0.18479463,-0.694818,-0.29994503,-1.1103523,-1.2217103,-0.13616042,0.34368017,-0.25966507,-2.17762,-0.95772856,-0.40991664,-0.2762026,-0.547077,-1.0754247,0.96228975,-1.3404629,-0.6993546,0.5821232,1.5475428,0.4152142,-0.8197077,-0.5966711,-0.38816187,1.5131544,-0.8457701,0.9213306,-0.79095286,0.45273316,-0.6579466,-0.2905371,-1.1702932,0.39365038,0.9775736,-0.35156316,-0.09782225,-0.472855,-0.6037051,-1.0357939,-1.6766481,0.3989684,-0.8539624,0.57520676,-0.049264263,-0.70986956,-0.44267333,-1.9895186,-1.3681053,0.34700027,-0.21639463,-1.3756186,-1.6413271,0.6214145,-0.34759212,0.0692224,-0.8235292,-0.9197065,-0.027146522,-1.4401995,-0.5846551,-0.9920962,-1.9565022,0.464238,-0.28294542,-1.0999868,1.5280904,-0.6513018,-1.435956,0.3021192,-0.72246206,0.15602103,1.6368268,-1.4380814,-1.2323635,-0.45569083,1.0827711,-0.028138882,0.5243782,1.236515,0.7392409,1.1970848,-0.6838689,1.4788,0.32654843,0.5827268,1.0729305,-0.7314233,1.4500953,0.3717784,0.39152968,-1.2668515,-1.286405,-1.5528463,-0.89752024,0.13547803,-0.10555841,1.0176165,-0.5516016,-0.6421329,-1.3919417,-0.75076383,0.8194927,-1.4056468,1.6279997,1.7131999,-1.4632868,1.1524953,-0.58674663,0.6193095,-0.09693689,-0.54693514,0.7616077,-0.52551293,-1.1822792,-0.42496598,0.4518482,-0.75961024,0.3070821,-0.57679915,-0.8485023,1.3668327,-0.598308,0.0038428965,1.0296642,0.47197235,-0.07217704,-0.53083295,0.8024869,0.5129758,0.03372991,-0.97605765,-0.5676545,-0.71047145,1.5709517,0.87006634,-1.3007884,0.612173,-0.5738619,-2.0954864,-0.12234451,0.40621954,-1.4218873,1.1168809,0.18304461,-1.9030013,2.1097744,-1.6452398,0.8178742,1.4876484,1.9342904,-1.0572646,1.4074339,-1.2529031,0.12767349,1.6726195,-0.48719305,1.016128,2.2502425,-1.218948,-0.14319836,0.42755738,-1.0653552,1.5174702,0.31498033,-0.10869851,0.7207631,0.8315446,-0.5032064,1.8890462,0.92867404,0.33150807,0.02976116,-1.3180003,-0.86256903,-0.65906626,2.4556236,0.2869395,-0.12788185,-0.106969304,-0.19032441,0.19812657,1.045453,0.20447424,-0.8575791,-0.4392763,1.6737462,0.5344197,-1.5579575,-1.0371302,0.060379103,1.4139724,0.41359547,0.5565329,0.16980697,-1.4395452,0.713988,-0.63090897,1.537267,1.6768789,0.7161769,0.15107295,0.49398,0.22538495,-0.3887623,-0.8985716,-1.1766093,1.7259336,-1.0339773,1.3100481,-1.4744518,2.2682056,1.3853626,0.06345153,-0.83475935,0.7803598,0.17622234,0.959199,1.760492,3.1844842,-0.29012617,0.2604229,-0.5607124,-1.0940714,1.2726084,0.23530243,0.6301073,1.2700291,0.46963948,-1.0811204,1.0956649,0.82651657,0.76287156,0.7817369,0.4048039,-0.82280535,-1.4378723,0.051860552,1.2806604,1.2567301,1.4969264,-0.4532421,-0.01200373,0.97219455,0.5062605,-0.36530614,0.22577979,0.29903075,-1.2449344,-0.18952589,-1.4166863,0.8925062,-1.0247349,-0.7777158,-0.28779125,1.5290745,1.448369,0.21340452,0.17177385,0.6692369,-0.46695027,0.4788269,0.5866615,0.12315785,1.00443,-0.7729257,-0.6132764,0.1517504,0.38643068,0.05522293,-1.3555652,1.5128493,1.5753314,1.4004582,-0.18060203,0.08960201,1.5217748,-0.002715392,-0.008951081,-0.18885949,1.5839021,0.48839366]},{\"label\":\"1\",\"values\":[0.9343167,0.3438792,1.0623181,-0.14065811,-0.77000016,-0.59426475,-0.36520773,1.7843897,-0.5112337,0.093654044,-0.36753517,-1.1524675,1.1354781,0.9435071,-1.1316602,0.94880605,0.11801294,0.64964664,-1.2647121,0.08404463,-0.52480495,-0.36108163,-0.5067312,-0.5742025,-0.47004,0.12376675,-2.0040708,-0.19341241,0.09483405,0.016129963,0.11141813,-0.01164216,-0.93475413,0.03618455,1.2716181,0.14534639,-2.0513546,-0.3163106,-1.00236,0.5299073,0.6688246,0.7417963,-0.08275818,-1.0675628,-0.033292666,-0.1319887,0.92509407,-0.44271165,-0.36304706,0.9588092,-1.0407472,-1.8680065,1.7698561,0.21842651,-0.6498119,-0.12117168,-1.1450347,-0.48543194,0.49012554,-0.8877526,1.3325524,0.17035742,-0.3770397,0.36677048,2.000494,1.6783013,0.49016887,0.85848415,0.14693211,1.6516039,-1.1753538,-0.15303083,0.20831537,0.7535562,0.25719103,0.8017516,-1.614098,-0.5166479,-1.475118,-0.70665604,0.05975975,0.40334117,-1.0883453,-0.33505374,-1.4299567,-0.5792857,1.1411732,-1.3970622,0.17102578,-0.4910776,0.21732466,-0.6093059,-0.086310804,-0.06372453,-0.35093188,-0.62811977,1.7811798,0.265971,1.6140844,0.67313766,-0.46919647,1.0984191,-1.6824287,-0.73781294,-0.26104298,-0.44664523,1.3528106,-0.7766471,1.5960915,-0.1742823,0.45994985,2.1735682,-0.46901247,-0.16166726,-0.62415975,-0.43952557,0.103737086,-0.3568807,0.6878668,-0.5374719,-1.0287256,-0.66281,-0.6260039,2.0618093,-0.82524174,1.6284982,-0.8403435,0.8185339,0.6949732,0.33469132,0.40033156,1.0307537,-1.1932392,-0.06253873,0.17639008,-1.3045897,0.6065354,-1.6010088,-1.0090088,0.9557938,1.3968138,0.56676173,0.74003935,1.2327905,0.610673,1.365291,0.7138402,1.41761,-0.1536981,-0.5054745,0.80262905,-0.7534465,-0.7249038,-0.8793745,-0.30440718,0.8232828,-0.6268288,-0.84430325,0.0774616,-0.8742894,-2.0916603,0.8281803,-1.3858395,-1.3556367,-1.2243719,-0.876675,1.7608988,-1.5562341,1.7182548,-0.99300575,1.5318822,-1.5857233,0.7741352,-0.67838156,0.53128046,1.1995296,-1.2324766,-0.6970755,0.08365079,-0.87721056,2.4338791,-0.27001348,0.45097166,-0.25946602,-0.5927379,-0.42065588,2.6278267,1.8070652,-0.97708046,-0.26869434,0.06572076,-1.513233,-0.18061468,0.10448682,0.43651837,-0.14797707,-1.3509182,-0.14043355,0.662921,0.9400792,0.06746171,0.99740285,1.5724972,0.26428446,1.7360183,0.39383465,-1.3025599,-0.084604405,0.49218443,0.25711152,-0.31495953,0.122347586,1.2060264,0.49215648,1.1697533,-0.9706207,1.3697666,0.231188,-0.79266465,-0.14834072,1.0756191,-0.80081844,0.76091045,0.022967957,1.5960836,-1.1464392,-0.008668092,0.28109014,-1.1432103,1.411572,-2.251525,-0.9320322,-0.61865085,-0.704992,0.95744157,1.1961951,-0.009022237,2.168496,-1.4136715,-1.5122304,-1.4319408,-1.0922016,-1.7119845,-0.6361596,0.18967985,0.95543224,-1.0372974,-0.6153923,-1.8650237,0.31962124,1.5256441,0.12561059,-0.38354003,0.8087834,0.33378774,-0.22567464,1.4669714,1.4561267,0.36712593,-0.8201297,0.7827639,-1.5413929,1.511193,0.7129926,1.7275374,0.06681161,-0.37567094,-0.59686077,0.4669176,-0.7042479,0.7189093,-0.3538315,1.4288375,-0.9825415,0.23110117,1.6149253,-0.8634358,-0.6296092,1.3152387,0.089894705,0.10315039,1.5165598,1.1361668,-0.24760349,-0.84298044,1.5086955,0.8508286,-0.17818403,0.108209275,-1.3326013,1.3441275,-0.6880059,-1.3754951,0.12551974,0.8469459,-0.43110698,1.0957294,1.0171834,1.1566527,-1.2974613,-0.86743176,1.8975209,-1.712929,-0.4054293,-1.4574342,2.3737867,0.33778748,-0.5048685,-0.63295007,-0.88029516,-0.21090615,-1.2227302,-1.4703885,-1.8892975,-0.66322964,-0.78003377,-0.8628273,-0.9981343,-1.2395955,-1.0149455,1.9008094]},{\"label\":\"2\",\"values\":[0.8944906,-0.40787417,0.008715969,-1.1561092,-1.1158254,-0.6418838,2.351085,0.895467,-1.9808534,-0.951315,-1.5020742,-0.37980473,-0.84873885,0.48520198,-0.41499949,0.29533896,-0.4142838,-0.05066926,-0.17947811,-0.26713976,0.65029794,-1.2024502,0.1636427,0.8582682,0.63477397,1.0530896,-0.26313043,0.09438933,-1.3210865,1.2698543,1.7614163,1.0319282,-0.6049074,-0.5881424,-0.81275964,0.7566005,1.2778649,-0.7864961,-1.2672992,-0.39588764,-0.59737253,-1.2068474,-0.6080506,-0.9419263,-1.8745109,0.41306746,-1.9215695,-1.2847984,-0.7005203,2.0694847,0.595743,-0.5239495,0.1501056,-0.4382152,0.8478787,-0.7602119,1.3877873,1.5624697,0.2126157,1.6878169,-1.2126142,-0.9481239,-1.4646071,-0.078601964,1.0230038,-1.0104138,0.63268256,0.25166073,-1.5603112,-0.23341693,-1.1081986,-0.1834901,-1.1649444,-0.6283351,-0.94319797,-0.5818109,0.9658056,-0.38649052,0.81793076,0.89540064,-0.51847214,-1.1166363,-0.99189496,-0.83167696,0.5125988,-0.8033398,1.0670358,1.3104576,-0.7923236,0.2763328,1.6672221,-0.74748504,-0.94422543,-0.043336228,-0.9274917,-1.6813452,0.37627986,-1.0980921,1.2868401,0.39868617,-1.6506618,0.7896972,-0.8296096,-1.806293,-0.5927768,0.64120513,-0.6044135,1.7478272,-0.7565436,1.1800042,-0.08459236,0.5253528,0.16257082,-0.90130615,0.7810068,1.8047951,0.20283756,-0.12784809,-0.74478287,0.3654662,0.6710106,-0.102281936,0.19301696,-1.0355613,-0.12655005,-0.6035084,0.45833442,1.0647434,-1.73305,0.43612987,-0.525491,0.20103788,1.0403464,0.74373144,0.20009081,-1.5929378,-0.65334165,-0.47330752,-0.8274197,0.44430953,-0.53367794,-0.0643217,-0.29561573,0.27697384,-0.5810472,0.39773223,0.037677366,-0.5639504,-0.49615678,-1.4483727,0.23831305,0.7992023,-0.90725,-0.8488025,0.32191423,-1.2073236,-1.8773276,-0.6419409,1.5806041,-0.40813735,-0.1871263,1.0477104,-1.4855657,1.1213526,0.6701449,0.98796993,-0.5897696,1.1909473,-0.26698053,-0.55081874,0.5054055,-0.9930775,-1.2624978,-0.775515,-0.22877824,1.6012524,-1.164622,0.65336406,1.2340015,-0.12577304,-0.26300976,1.7708037,-0.85597306,-0.84750766,0.63340694,0.9364897,1.6319859,-0.16461107,-0.09322549,1.458535,-0.96150285,2.1424234,-0.37205648,-0.97645485,-0.44650856,0.8168791,-0.21692604,1.4730159,2.287263,-1.1873264,0.04387271,-1.8626504,2.5159168,-1.4165009,-0.9050382,0.6309655,2.6978683,1.1586357,1.3681923,-1.4563347,-1.5203425,0.5967518,2.1163747,0.4271445,1.6108012,0.5894,-0.24569502,0.91702265,0.20685975,-1.0444548,0.7441414,-1.2248832,-0.03732644,0.7324731,-0.16448365,-0.08183801,-0.757856,0.8321503,0.44970953,0.12920982,1.889301,-1.0183324,-0.39907718,2.067786,1.1708827,-0.15838678,-1.1769917,0.08183852,0.2303608,1.9119198,0.5322302,-0.2786444,1.4698614,0.15028082,-0.382764,1.3406527,0.16705616,0.43384156,0.9261572,-1.4806712,0.6982514,-0.3663675,-1.4551114,0.43290043,-0.9487932,-1.2808422,0.16094261,-0.08901263,1.7275643,-0.5667309,0.25193033,-0.39860895,0.51887995,-0.6723777,-0.5029321,1.2381252,0.9328181,0.53529,0.63993496,0.71881497,-1.0005549,0.9910305,0.9225867,0.17373592,-1.0162345,1.5448265,-0.63776284,0.27871564,0.23362952,0.097291216,-1.2806942,-1.3176954,-0.56925684,0.3927165,-0.021000756,1.6206535,-1.3855202,0.20825413,0.026063597,2.0389202,2.0891697,-1.5151069,-0.44728968,-1.1412678,0.9021985,0.56897986,-1.2617679,0.07866609,-0.8715204,0.11276734,0.5735551,-0.75599265,-0.49948728,-0.36425692,-0.81663966,0.98544675,0.8086832,-0.9522051,1.0834761,-0.04386921,0.4221985,-0.6054177,2.317865,0.5086856,-2.0718691,0.4391909,-0.9240308,-0.73702747,-1.5562816,1.4251477,0.55988556]},{\"label\":\"color\",\"values\":[2,1,3,1,1,2,2,3,1,1,1,1,3,3,1,3,1,3,1,2,2,3,2,2,1,2,3,2,1,3,2,2,1,1,3,2,2,1,1,3,3,1,1,1,1,2,1,1,1,2,2,1,2,2,2,3,2,2,3,3,3,1,1,3,3,1,3,3,3,2,1,2,1,3,1,3,2,1,2,2,3,1,1,2,1,1,2,2,3,2,2,1,2,2,3,1,3,1,2,3,1,2,1,1,2,3,3,2,3,2,3,3,2,1,2,3,2,3,1,3,3,2,3,3,1,3,1,3,1,3,1,3,2,2,3,1,3,1,1,2,2,3,2,3,3,2,3,3,3,1,2,3,1,1,2,2,1,3,2,1,3,2,1,3,3,2,3,3,3,1,2,1,1,3,2,2,1,2,2,1,2,2,3,3,1,3,3,3,3,3,1,3,2,1,3,2,3,3,2,3,3,1,2,1,3,3,3,3,3,1,1,2,2,2,2,3,2,2,3,1,2,3,2,2,3,3,3,2,1,2,3,2,2,3,2,3,1,3,3,3,2,1,3,2,1,2,3,1,3,1,3,3,1,2,1,1,3,3,3,1,3,1,3,3,2,3,3,3,3,3,2,3,3,3,1,2,1,3,3,3,1,1,3,2,2,2,1,2,3,2,2,1,1,2,2,3,3,3,1,1,3,3,2,2,1,2,2,1,3,1,3,3,3,1,1,3,1,1,1,3,2]}],\"domain\":{\"x\":[0.0,1.0],\"y\":[0.0,1.0]},\"line\":{\"color\":[2,1,3,1,1,2,2,3,1,1,1,1,3,3,1,3,1,3,1,2,2,3,2,2,1,2,3,2,1,3,2,2,1,1,3,2,2,1,1,3,3,1,1,1,1,2,1,1,1,2,2,1,2,2,2,3,2,2,3,3,3,1,1,3,3,1,3,3,3,2,1,2,1,3,1,3,2,1,2,2,3,1,1,2,1,1,2,2,3,2,2,1,2,2,3,1,3,1,2,3,1,2,1,1,2,3,3,2,3,2,3,3,2,1,2,3,2,3,1,3,3,2,3,3,1,3,1,3,1,3,1,3,2,2,3,1,3,1,1,2,2,3,2,3,3,2,3,3,3,1,2,3,1,1,2,2,1,3,2,1,3,2,1,3,3,2,3,3,3,1,2,1,1,3,2,2,1,2,2,1,2,2,3,3,1,3,3,3,3,3,1,3,2,1,3,2,3,3,2,3,3,1,2,1,3,3,3,3,3,1,1,2,2,2,2,3,2,2,3,1,2,3,2,2,3,3,3,2,1,2,3,2,2,3,2,3,1,3,3,3,2,1,3,2,1,2,3,1,3,1,3,3,1,2,1,1,3,3,3,1,3,1,3,3,2,3,3,3,3,3,2,3,3,3,1,2,1,3,3,3,1,1,3,2,2,2,1,2,3,2,2,1,1,2,2,3,3,3,1,1,3,3,2,2,1,2,2,1,3,1,3,3,3,1,1,3,1,1,1,3,2],\"coloraxis\":\"coloraxis\"},\"name\":\"\",\"type\":\"parcoords\"}],                        {\"template\":{\"data\":{\"histogram2dcontour\":[{\"type\":\"histogram2dcontour\",\"colorbar\":{\"outlinewidth\":0,\"ticks\":\"\"},\"colorscale\":[[0.0,\"#0d0887\"],[0.1111111111111111,\"#46039f\"],[0.2222222222222222,\"#7201a8\"],[0.3333333333333333,\"#9c179e\"],[0.4444444444444444,\"#bd3786\"],[0.5555555555555556,\"#d8576b\"],[0.6666666666666666,\"#ed7953\"],[0.7777777777777778,\"#fb9f3a\"],[0.8888888888888888,\"#fdca26\"],[1.0,\"#f0f921\"]]}],\"choropleth\":[{\"type\":\"choropleth\",\"colorbar\":{\"outlinewidth\":0,\"ticks\":\"\"}}],\"histogram2d\":[{\"type\":\"histogram2d\",\"colorbar\":{\"outlinewidth\":0,\"ticks\":\"\"},\"colorscale\":[[0.0,\"#0d0887\"],[0.1111111111111111,\"#46039f\"],[0.2222222222222222,\"#7201a8\"],[0.3333333333333333,\"#9c179e\"],[0.4444444444444444,\"#bd3786\"],[0.5555555555555556,\"#d8576b\"],[0.6666666666666666,\"#ed7953\"],[0.7777777777777778,\"#fb9f3a\"],[0.8888888888888888,\"#fdca26\"],[1.0,\"#f0f921\"]]}],\"heatmap\":[{\"type\":\"heatmap\",\"colorbar\":{\"outlinewidth\":0,\"ticks\":\"\"},\"colorscale\":[[0.0,\"#0d0887\"],[0.1111111111111111,\"#46039f\"],[0.2222222222222222,\"#7201a8\"],[0.3333333333333333,\"#9c179e\"],[0.4444444444444444,\"#bd3786\"],[0.5555555555555556,\"#d8576b\"],[0.6666666666666666,\"#ed7953\"],[0.7777777777777778,\"#fb9f3a\"],[0.8888888888888888,\"#fdca26\"],[1.0,\"#f0f921\"]]}],\"heatmapgl\":[{\"type\":\"heatmapgl\",\"colorbar\":{\"outlinewidth\":0,\"ticks\":\"\"},\"colorscale\":[[0.0,\"#0d0887\"],[0.1111111111111111,\"#46039f\"],[0.2222222222222222,\"#7201a8\"],[0.3333333333333333,\"#9c179e\"],[0.4444444444444444,\"#bd3786\"],[0.5555555555555556,\"#d8576b\"],[0.6666666666666666,\"#ed7953\"],[0.7777777777777778,\"#fb9f3a\"],[0.8888888888888888,\"#fdca26\"],[1.0,\"#f0f921\"]]}],\"contourcarpet\":[{\"type\":\"contourcarpet\",\"colorbar\":{\"outlinewidth\":0,\"ticks\":\"\"}}],\"contour\":[{\"type\":\"contour\",\"colorbar\":{\"outlinewidth\":0,\"ticks\":\"\"},\"colorscale\":[[0.0,\"#0d0887\"],[0.1111111111111111,\"#46039f\"],[0.2222222222222222,\"#7201a8\"],[0.3333333333333333,\"#9c179e\"],[0.4444444444444444,\"#bd3786\"],[0.5555555555555556,\"#d8576b\"],[0.6666666666666666,\"#ed7953\"],[0.7777777777777778,\"#fb9f3a\"],[0.8888888888888888,\"#fdca26\"],[1.0,\"#f0f921\"]]}],\"surface\":[{\"type\":\"surface\",\"colorbar\":{\"outlinewidth\":0,\"ticks\":\"\"},\"colorscale\":[[0.0,\"#0d0887\"],[0.1111111111111111,\"#46039f\"],[0.2222222222222222,\"#7201a8\"],[0.3333333333333333,\"#9c179e\"],[0.4444444444444444,\"#bd3786\"],[0.5555555555555556,\"#d8576b\"],[0.6666666666666666,\"#ed7953\"],[0.7777777777777778,\"#fb9f3a\"],[0.8888888888888888,\"#fdca26\"],[1.0,\"#f0f921\"]]}],\"mesh3d\":[{\"type\":\"mesh3d\",\"colorbar\":{\"outlinewidth\":0,\"ticks\":\"\"}}],\"scatter\":[{\"fillpattern\":{\"fillmode\":\"overlay\",\"size\":10,\"solidity\":0.2},\"type\":\"scatter\"}],\"parcoords\":[{\"type\":\"parcoords\",\"line\":{\"colorbar\":{\"outlinewidth\":0,\"ticks\":\"\"}}}],\"scatterpolargl\":[{\"type\":\"scatterpolargl\",\"marker\":{\"colorbar\":{\"outlinewidth\":0,\"ticks\":\"\"}}}],\"bar\":[{\"error_x\":{\"color\":\"#2a3f5f\"},\"error_y\":{\"color\":\"#2a3f5f\"},\"marker\":{\"line\":{\"color\":\"#E5ECF6\",\"width\":0.5},\"pattern\":{\"fillmode\":\"overlay\",\"size\":10,\"solidity\":0.2}},\"type\":\"bar\"}],\"scattergeo\":[{\"type\":\"scattergeo\",\"marker\":{\"colorbar\":{\"outlinewidth\":0,\"ticks\":\"\"}}}],\"scatterpolar\":[{\"type\":\"scatterpolar\",\"marker\":{\"colorbar\":{\"outlinewidth\":0,\"ticks\":\"\"}}}],\"histogram\":[{\"marker\":{\"pattern\":{\"fillmode\":\"overlay\",\"size\":10,\"solidity\":0.2}},\"type\":\"histogram\"}],\"scattergl\":[{\"type\":\"scattergl\",\"marker\":{\"colorbar\":{\"outlinewidth\":0,\"ticks\":\"\"}}}],\"scatter3d\":[{\"type\":\"scatter3d\",\"line\":{\"colorbar\":{\"outlinewidth\":0,\"ticks\":\"\"}},\"marker\":{\"colorbar\":{\"outlinewidth\":0,\"ticks\":\"\"}}}],\"scattermapbox\":[{\"type\":\"scattermapbox\",\"marker\":{\"colorbar\":{\"outlinewidth\":0,\"ticks\":\"\"}}}],\"scatterternary\":[{\"type\":\"scatterternary\",\"marker\":{\"colorbar\":{\"outlinewidth\":0,\"ticks\":\"\"}}}],\"scattercarpet\":[{\"type\":\"scattercarpet\",\"marker\":{\"colorbar\":{\"outlinewidth\":0,\"ticks\":\"\"}}}],\"carpet\":[{\"aaxis\":{\"endlinecolor\":\"#2a3f5f\",\"gridcolor\":\"white\",\"linecolor\":\"white\",\"minorgridcolor\":\"white\",\"startlinecolor\":\"#2a3f5f\"},\"baxis\":{\"endlinecolor\":\"#2a3f5f\",\"gridcolor\":\"white\",\"linecolor\":\"white\",\"minorgridcolor\":\"white\",\"startlinecolor\":\"#2a3f5f\"},\"type\":\"carpet\"}],\"table\":[{\"cells\":{\"fill\":{\"color\":\"#EBF0F8\"},\"line\":{\"color\":\"white\"}},\"header\":{\"fill\":{\"color\":\"#C8D4E3\"},\"line\":{\"color\":\"white\"}},\"type\":\"table\"}],\"barpolar\":[{\"marker\":{\"line\":{\"color\":\"#E5ECF6\",\"width\":0.5},\"pattern\":{\"fillmode\":\"overlay\",\"size\":10,\"solidity\":0.2}},\"type\":\"barpolar\"}],\"pie\":[{\"automargin\":true,\"type\":\"pie\"}]},\"layout\":{\"autotypenumbers\":\"strict\",\"colorway\":[\"#636efa\",\"#EF553B\",\"#00cc96\",\"#ab63fa\",\"#FFA15A\",\"#19d3f3\",\"#FF6692\",\"#B6E880\",\"#FF97FF\",\"#FECB52\"],\"font\":{\"color\":\"#2a3f5f\"},\"hovermode\":\"closest\",\"hoverlabel\":{\"align\":\"left\"},\"paper_bgcolor\":\"white\",\"plot_bgcolor\":\"#E5ECF6\",\"polar\":{\"bgcolor\":\"#E5ECF6\",\"angularaxis\":{\"gridcolor\":\"white\",\"linecolor\":\"white\",\"ticks\":\"\"},\"radialaxis\":{\"gridcolor\":\"white\",\"linecolor\":\"white\",\"ticks\":\"\"}},\"ternary\":{\"bgcolor\":\"#E5ECF6\",\"aaxis\":{\"gridcolor\":\"white\",\"linecolor\":\"white\",\"ticks\":\"\"},\"baxis\":{\"gridcolor\":\"white\",\"linecolor\":\"white\",\"ticks\":\"\"},\"caxis\":{\"gridcolor\":\"white\",\"linecolor\":\"white\",\"ticks\":\"\"}},\"coloraxis\":{\"colorbar\":{\"outlinewidth\":0,\"ticks\":\"\"}},\"colorscale\":{\"sequential\":[[0.0,\"#0d0887\"],[0.1111111111111111,\"#46039f\"],[0.2222222222222222,\"#7201a8\"],[0.3333333333333333,\"#9c179e\"],[0.4444444444444444,\"#bd3786\"],[0.5555555555555556,\"#d8576b\"],[0.6666666666666666,\"#ed7953\"],[0.7777777777777778,\"#fb9f3a\"],[0.8888888888888888,\"#fdca26\"],[1.0,\"#f0f921\"]],\"sequentialminus\":[[0.0,\"#0d0887\"],[0.1111111111111111,\"#46039f\"],[0.2222222222222222,\"#7201a8\"],[0.3333333333333333,\"#9c179e\"],[0.4444444444444444,\"#bd3786\"],[0.5555555555555556,\"#d8576b\"],[0.6666666666666666,\"#ed7953\"],[0.7777777777777778,\"#fb9f3a\"],[0.8888888888888888,\"#fdca26\"],[1.0,\"#f0f921\"]],\"diverging\":[[0,\"#8e0152\"],[0.1,\"#c51b7d\"],[0.2,\"#de77ae\"],[0.3,\"#f1b6da\"],[0.4,\"#fde0ef\"],[0.5,\"#f7f7f7\"],[0.6,\"#e6f5d0\"],[0.7,\"#b8e186\"],[0.8,\"#7fbc41\"],[0.9,\"#4d9221\"],[1,\"#276419\"]]},\"xaxis\":{\"gridcolor\":\"white\",\"linecolor\":\"white\",\"ticks\":\"\",\"title\":{\"standoff\":15},\"zerolinecolor\":\"white\",\"automargin\":true,\"zerolinewidth\":2},\"yaxis\":{\"gridcolor\":\"white\",\"linecolor\":\"white\",\"ticks\":\"\",\"title\":{\"standoff\":15},\"zerolinecolor\":\"white\",\"automargin\":true,\"zerolinewidth\":2},\"scene\":{\"xaxis\":{\"backgroundcolor\":\"#E5ECF6\",\"gridcolor\":\"white\",\"linecolor\":\"white\",\"showbackground\":true,\"ticks\":\"\",\"zerolinecolor\":\"white\",\"gridwidth\":2},\"yaxis\":{\"backgroundcolor\":\"#E5ECF6\",\"gridcolor\":\"white\",\"linecolor\":\"white\",\"showbackground\":true,\"ticks\":\"\",\"zerolinecolor\":\"white\",\"gridwidth\":2},\"zaxis\":{\"backgroundcolor\":\"#E5ECF6\",\"gridcolor\":\"white\",\"linecolor\":\"white\",\"showbackground\":true,\"ticks\":\"\",\"zerolinecolor\":\"white\",\"gridwidth\":2}},\"shapedefaults\":{\"line\":{\"color\":\"#2a3f5f\"}},\"annotationdefaults\":{\"arrowcolor\":\"#2a3f5f\",\"arrowhead\":0,\"arrowwidth\":1},\"geo\":{\"bgcolor\":\"white\",\"landcolor\":\"#E5ECF6\",\"subunitcolor\":\"white\",\"showland\":true,\"showlakes\":true,\"lakecolor\":\"white\"},\"title\":{\"x\":0.05},\"mapbox\":{\"style\":\"light\"}}},\"coloraxis\":{\"colorbar\":{\"title\":{\"text\":\"color\"}},\"colorscale\":[[0.0,\"#0d0887\"],[0.1111111111111111,\"#46039f\"],[0.2222222222222222,\"#7201a8\"],[0.3333333333333333,\"#9c179e\"],[0.4444444444444444,\"#bd3786\"],[0.5555555555555556,\"#d8576b\"],[0.6666666666666666,\"#ed7953\"],[0.7777777777777778,\"#fb9f3a\"],[0.8888888888888888,\"#fdca26\"],[1.0,\"#f0f921\"]]},\"legend\":{\"tracegroupgap\":0},\"margin\":{\"t\":60}},                        {\"responsive\": true}                    ).then(function(){\n",
              "                            \n",
              "var gd = document.getElementById('4aad1ee5-d744-4ab4-b5a1-2583ccb89507');\n",
              "var x = new MutationObserver(function (mutations, observer) {{\n",
              "        var display = window.getComputedStyle(gd).display;\n",
              "        if (!display || display === 'none') {{\n",
              "            console.log([gd, 'removed!']);\n",
              "            Plotly.purge(gd);\n",
              "            observer.disconnect();\n",
              "        }}\n",
              "}});\n",
              "\n",
              "// Listen for the removal of the full notebook cells\n",
              "var notebookContainer = gd.closest('#notebook-container');\n",
              "if (notebookContainer) {{\n",
              "    x.observe(notebookContainer, {childList: true});\n",
              "}}\n",
              "\n",
              "// Listen for the clearing of the current output cell\n",
              "var outputEl = gd.closest('.output');\n",
              "if (outputEl) {{\n",
              "    x.observe(outputEl, {childList: true});\n",
              "}}\n",
              "\n",
              "                        })                };                            </script>        </div>\n",
              "</body>\n",
              "</html>"
            ]
          },
          "metadata": {}
        }
      ]
    },
    {
      "cell_type": "markdown",
      "source": [
        "I'm seeing some clustering with 1 but not much...Will more signals help?"
      ],
      "metadata": {
        "id": "teSCMmFqapS1"
      }
    },
    {
      "cell_type": "code",
      "source": [
        "ica = FastICA(n_components=5)\n",
        "S_ = ica.fit_transform(X)"
      ],
      "metadata": {
        "id": "xsxAUu9Vatat",
        "colab": {
          "base_uri": "https://localhost:8080/",
          "height": 0
        },
        "outputId": "9f7bdddb-e17a-4b66-ca1f-0e504a6ed0f0"
      },
      "execution_count": 233,
      "outputs": [
        {
          "output_type": "stream",
          "name": "stderr",
          "text": [
            "/usr/local/lib/python3.10/dist-packages/sklearn/decomposition/_fastica.py:128: ConvergenceWarning:\n",
            "\n",
            "FastICA did not converge. Consider increasing tolerance or the maximum number of iterations.\n",
            "\n"
          ]
        }
      ]
    },
    {
      "cell_type": "code",
      "source": [
        "import plotly.express as px\n",
        "fig = px.parallel_coordinates(S_)\n",
        "fig.show()"
      ],
      "metadata": {
        "colab": {
          "base_uri": "https://localhost:8080/",
          "height": 542
        },
        "id": "cb-zdndDawJ_",
        "outputId": "a38dec52-dd83-44e7-d0f4-f646276a476c"
      },
      "execution_count": 235,
      "outputs": [
        {
          "output_type": "display_data",
          "data": {
            "text/html": [
              "<html>\n",
              "<head><meta charset=\"utf-8\" /></head>\n",
              "<body>\n",
              "    <div>            <script src=\"https://cdnjs.cloudflare.com/ajax/libs/mathjax/2.7.5/MathJax.js?config=TeX-AMS-MML_SVG\"></script><script type=\"text/javascript\">if (window.MathJax && window.MathJax.Hub && window.MathJax.Hub.Config) {window.MathJax.Hub.Config({SVG: {font: \"STIX-Web\"}});}</script>                <script type=\"text/javascript\">window.PlotlyConfig = {MathJaxConfig: 'local'};</script>\n",
              "        <script charset=\"utf-8\" src=\"https://cdn.plot.ly/plotly-2.35.2.min.js\"></script>                <div id=\"e23c9b02-b14b-4037-b975-bc20a03ea1e9\" class=\"plotly-graph-div\" style=\"height:525px; width:100%;\"></div>            <script type=\"text/javascript\">                                    window.PLOTLYENV=window.PLOTLYENV || {};                                    if (document.getElementById(\"e23c9b02-b14b-4037-b975-bc20a03ea1e9\")) {                    Plotly.newPlot(                        \"e23c9b02-b14b-4037-b975-bc20a03ea1e9\",                        [{\"dimensions\":[{\"label\":\"0\",\"values\":[-0.9063669,0.19669089,-0.37182966,-0.6837184,1.3392043,-0.37028718,-1.3503361,1.3820932,-0.4555253,-0.15358022,0.10254376,-0.5909668,-0.49467713,1.2148318,-0.26976994,-1.913447,-0.91814595,0.20507972,-0.7651099,-0.9966167,-0.25341055,-0.04722543,-1.5597895,-1.514919,-0.15795895,-0.998304,1.4952741,-0.64411527,-0.10508789,-1.4394333,-2.2019694,-0.5318241,-0.85546464,-0.04280043,1.4421432,-1.0486659,-1.2700171,-2.092707,-0.23304494,1.9480522,1.185052,-1.4332675,-0.60822827,1.1451653,0.14197971,-1.6208134,-0.053018935,1.1033561,0.5601369,-1.5442339,-0.98669654,-0.18929039,0.9134663,-0.85778743,0.10832198,-0.031082349,-0.8621798,-0.3287091,0.46070614,1.9307138,1.3134755,-0.76582706,0.54463387,0.57998806,0.6027522,-0.3199404,0.41897407,0.32741806,0.49770302,-0.91066056,-1.3644806,-0.749523,0.2216584,0.99340796,0.67284083,0.21677327,-0.27636755,-0.38846955,-0.79242593,-1.7253546,-0.01193998,0.66708237,-0.45711198,-1.2052207,-1.2403387,-1.6235212,-1.038222,-1.9947524,1.0088764,0.6389812,-1.4926258,-1.0114102,0.36291373,-0.67360556,1.0627133,-0.8763799,-0.52174175,-1.2026101,-1.1360976,-0.29780066,-0.30733338,-1.4916602,-1.8557061,0.24854885,-0.8971833,1.5471464,-0.16287278,-1.3298242,-0.012775818,0.29790634,0.42099947,1.8751289,-0.76510984,-0.3715412,-0.16701026,0.8755127,0.22138518,1.2719985,0.17136963,0.62907016,1.2113237,-0.50562304,0.62675774,1.0024259,-1.0756805,1.2572035,-2.8065648,1.0318793,1.0858666,-0.27983066,-0.55163103,-0.5315385,-1.4347161,-0.11122674,-0.17682013,-0.36962003,0.3234061,0.15423216,-0.83405155,-0.1935846,0.30119336,1.185588,-0.4351793,1.1709621,1.5307506,-1.839489,0.059413854,0.114157215,0.08398742,-1.1714969,-1.3989594,0.7802109,-1.7207912,-0.69317734,-0.2362684,-0.099617146,-0.017489104,-0.24416968,-0.6934355,-0.34799868,1.1872312,0.79439545,-0.6985217,1.202121,1.5138403,-0.124566965,-0.23545931,-0.17983258,0.7697391,-0.5444848,-1.2666667,0.30177945,-0.50291014,1.5163169,0.14424339,-0.28433836,0.34609148,-0.39125052,-1.159073,0.35337603,-0.0705558,-0.91109085,0.3347528,0.8796034,-0.59647876,2.0625823,-0.19973381,1.2403883,0.95725334,1.4983814,-0.49798638,0.66439986,-0.1651152,1.1072772,2.1364086,0.04758147,1.1748961,2.7405667,-0.73266155,0.5797177,0.44559956,0.03413321,0.2075253,-0.78623515,0.41013962,0.79594857,0.09772278,-0.19494396,0.92974025,1.4295094,1.1643546,-0.3802618,-1.6156856,-1.2214016,0.11382758,1.5975354,0.608915,0.19121476,-0.26690933,0.12522298,-0.93013275,0.46879327,1.3912024,-0.70988965,-0.3200147,1.2665572,0.009368135,-1.356843,-0.40153244,-0.17933746,0.9700356,0.5552304,0.46013945,-0.07470154,-0.3029673,1.6635181,-0.34823412,1.2025713,1.3879664,-0.21873073,-0.8493471,-1.5115645,0.33110654,-0.15683204,-1.005136,-1.1089077,1.9239757,-2.26997,0.99222875,-1.4567802,2.2121916,1.6255484,-0.040736385,-1.4137177,1.7402668,1.0327482,0.1660064,1.1193973,2.5054576,0.98405695,1.2692503,-1.5509887,-0.8723305,0.35569265,-0.2561802,0.21462399,0.10553692,-0.36511326,-0.60047877,1.482316,1.3904283,-0.08759942,0.78620356,1.4594222,-1.8763459,-1.6920748,0.90658045,1.5040001,1.2712862,1.6926363,-1.3337082,-0.30345052,2.096354,0.4238749,0.23780811,-0.0931563,0.05607303,-0.9305343,-1.4618701,-0.9605191,1.7764151,-0.42221296,-1.4121826,-0.043698404,0.02856003,0.82262474,1.2220241,-0.35554248,-0.093281336,0.20686588,-0.09620829,1.2440082,-0.8347301,0.9036637,0.07865236,0.06792143,-0.26674262,-0.32300365,0.5947436,-1.655893,1.0312719,0.4316381,0.7877363,-2.1214237,0.16112527,-0.084296145,0.6904921,-0.21554546,0.82895416,0.8455786,-0.22102475]},{\"label\":\"1\",\"values\":[2.0969193,0.8061614,1.6674801,-0.017642988,-1.0452759,-0.43282348,0.86425763,2.0884995,-0.5583631,-0.0921078,-0.5339739,-1.0599908,0.96950525,1.368753,-1.1512239,1.1923407,-0.28188157,1.2768463,-1.0564613,-0.3138541,-0.17525293,-0.100335784,-0.5442163,-0.2523048,-0.5747482,0.37601966,-2.4128013,-0.278656,0.054174528,0.9826116,0.37334055,0.16539676,-0.61890054,-0.35434455,1.5605386,0.23211876,-1.7631906,0.042147774,-1.1517602,0.089440316,0.8521226,0.30588475,0.1801064,-1.2543831,-0.5512805,-0.10621101,0.076495826,-0.51192707,-0.5994168,1.2554432,-1.1131,-2.002911,1.6715857,0.10513944,-0.40289322,0.25338182,-0.98405886,-0.22952275,0.7258985,-0.90661615,1.0634731,-0.21515156,-0.40638825,0.5440023,2.241644,1.2070297,1.2656852,1.3793726,0.30646765,0.7392357,-1.1226912,-0.029326035,0.37248072,0.8545486,0.41671532,0.38569552,-1.8174834,-0.9171089,-1.2620102,0.034584634,-0.72424537,0.2436289,-1.1159424,-0.34434614,-1.0004127,-0.17462204,1.3719493,-1.0135934,-0.12461508,-0.28366244,0.77398497,-0.6811293,-0.22130653,0.3550983,-0.47423685,-0.5476485,1.5249532,0.20253502,2.0389967,0.23674862,-0.5077189,0.9467476,-1.4340531,-0.954056,-0.13299017,-0.07612994,1.622313,-0.32350823,1.7480391,0.28187403,0.61205167,2.1559968,-0.4475292,0.14587288,-0.3379988,0.47203982,0.4528702,-0.7951027,1.0354016,-0.2279452,-0.89912844,-0.77850527,-0.13719559,1.9987398,-0.45222843,1.6093342,0.06983705,1.1367484,0.2638389,0.8769492,0.3040763,1.4453795,-0.70146817,-0.025740357,0.54829216,-1.2367375,-0.026540186,-1.6692135,-1.2523725,1.2320943,1.2326937,0.89548,0.78840154,1.4725554,0.39158532,1.2703904,1.1377777,1.6387836,-0.025977874,-0.757733,0.49474463,-1.4507282,-0.52936083,-1.0106801,0.024222983,-0.19306423,-1.1055915,-0.37430385,0.5655301,-0.8861808,-1.9437914,0.94671416,-1.22298,-1.3329465,-1.6523993,-0.6128227,1.4138762,-1.2725973,2.1107621,-0.716228,0.9189492,-1.8668815,0.08454593,-1.5353522,-0.14453477,1.6134806,-1.2830883,-0.49284726,0.41687748,-1.1828071,1.1068137,0.22914267,-0.47757214,-0.004780759,-0.53678757,-0.572906,2.469622,1.7793522,-1.7663116,-0.94024086,-0.2055714,-1.4639354,-0.21465045,-0.19461994,0.53299993,0.17451559,-2.0030992,0.014953651,1.230073,0.4548241,0.344459,0.4182579,1.7104248,0.08205028,1.1819274,0.5070021,-0.46409467,0.44339782,1.0839128,-0.2596652,-0.61804223,-0.16722557,1.1056336,-0.23390312,1.6870872,-1.3632765,0.5728892,0.2187767,-0.61551905,-0.8340478,0.92216307,-0.7665931,0.27704665,0.099096835,1.5972854,-0.9978777,-0.60817987,0.25453624,-0.82921654,0.84334296,-1.8711361,-0.94624656,-0.7214492,-0.95432425,1.0240507,1.077462,0.16217476,1.65603,-1.5978318,-1.0620159,-1.0439754,-0.51796037,-1.6263126,-0.40172797,0.29727623,1.1530159,-1.2376208,-0.33843935,-1.853248,0.2864567,1.3842245,-0.19314629,-0.63908273,0.45297125,0.33894873,-0.76428217,0.8952693,0.6252546,0.46986246,-1.025383,0.7589143,-1.4084821,1.871934,0.97047174,0.74091107,0.52609056,-0.26199242,-0.5223658,0.7366642,-1.0878543,-0.1278365,-0.26673695,1.6677797,-1.3983319,0.3135271,1.1430908,-1.0671452,-0.7498144,1.3538707,-0.5198424,0.04725232,1.2868038,1.1632268,-0.4836976,-1.3034196,1.986765,0.6056446,-0.100441076,0.7512222,-0.8454926,1.7365052,-0.929009,-0.8699269,-0.7084543,0.15748191,-0.15686895,1.0166136,1.215502,0.512998,-1.2796184,-0.3576108,1.2288316,-1.8012391,-0.4352546,-1.5477481,2.0600486,0.6688305,-0.49298194,-0.54558265,-0.23221721,0.14893489,-0.7444667,-1.2093983,-1.4636495,-1.1661624,-0.17431916,-1.2670573,-1.0611503,-1.5510807,-1.4231255,1.0082892]},{\"label\":\"2\",\"values\":[-2.519069,-1.4918544,-0.6412865,-0.29488233,-0.1770492,-0.72955686,-2.212479,0.15177898,-0.3257333,0.21807784,0.18994188,-0.08557381,0.53843117,-0.6592415,-0.61192304,0.5498674,1.0372614,-1.2857461,-0.39686736,1.0022731,-1.3514825,-1.1724086,0.12400353,-0.35497096,-0.113446705,-0.3302753,0.103358135,0.43369362,-0.0046315514,-1.4780121,0.14596008,0.006489429,-0.92056316,0.7220798,-1.1801404,-0.15179183,-0.3409369,-0.23212563,0.24362053,0.7458739,-1.0157747,1.9612515,-0.774627,-0.7755887,0.3263826,0.42363346,1.9252442,-0.7074097,-0.07682409,-0.16241616,0.26404878,-0.226695,-0.02380279,0.5115655,-1.1367235,-0.7022648,-0.43289194,-0.5342493,-0.47358587,-0.23115268,0.09698446,0.9114721,-0.923965,-0.9238535,0.33985764,1.1503015,-1.5923027,-1.6638142,-0.81913495,2.8934944,0.07010189,-0.46741757,-0.59130174,-0.39964408,-1.1305919,0.9345783,0.35393217,0.8005043,-0.66512805,-1.5747585,2.1051362,-0.5403107,0.16387755,0.47780782,-0.86187834,-0.55787265,-0.39601946,-0.40302846,0.16989651,-1.0595222,-0.74240965,-0.23755457,0.18413857,-0.85142714,-0.57023567,-0.5502471,1.0112065,0.69186497,-0.44158554,1.2663827,-0.62439674,0.8080056,0.16077101,-0.27167642,-0.46990517,-1.149243,-0.74244165,-0.7901726,-0.08174009,-1.4586068,-0.498634,0.21949047,-0.30553955,-1.356949,-0.8001316,-2.0808659,-0.97947645,0.49477276,-0.45958883,-0.87384605,-0.59000915,0.13387355,-1.0555513,-0.09532881,-0.24557914,-0.019453524,-1.0520796,-0.38270167,0.38546664,-0.8845837,-0.024658829,-1.070644,-1.1211427,-0.28338692,-0.7088456,-0.62000316,1.8777224,-0.60369515,0.44880432,-0.92861277,0.07328476,-1.0885919,-0.4092462,-0.27137783,0.41355008,1.0646203,-0.44932014,-0.73388,-0.24021722,0.8905634,1.6098143,1.6879848,-0.051152658,-0.14724645,-0.88824886,2.7874458,0.3567487,-1.2399875,-0.7352826,-0.41436493,-0.95489174,-0.6541172,-0.609571,-0.35383236,0.29393426,-0.60163105,1.0314801,-0.3196135,-0.9457784,-0.6954998,2.3311489,-0.26286215,1.641248,1.6901261,2.106972,-0.8820565,-0.3135254,-0.5502952,-0.81757206,0.30819196,4.091203,-1.0452008,2.599819,-1.3447878,-0.6289149,0.21897796,0.68740183,0.03078165,1.9038805,1.964068,0.32324156,0.26544055,-0.499065,-0.0342429,-0.7901124,-0.9309377,1.1011437,-0.7433352,-0.92910117,0.76845545,-0.76541036,0.78597814,1.0858164,0.83064723,1.291097,-0.22578631,-1.5190656,-1.23251,-0.82757765,0.62033963,-0.17283128,1.145554,1.3539487,2.4134562,-1.1024956,1.0852789,2.044145,0.10802101,-0.46231455,1.3434972,1.43393,-0.33363065,0.64732945,0.010571665,0.28661832,-0.6463276,1.6116859,0.42444503,-1.1738425,1.9203552,-0.97780377,-0.52905846,0.022403326,1.0722251,-0.18404189,-0.16307662,-0.7765505,1.7567912,0.15162134,-0.5965186,-0.59746546,-0.629288,-0.35100636,-0.7838985,-0.12106593,0.12180888,-0.044344686,0.15847105,-0.22054644,0.03933865,0.5240203,0.41096953,0.3119436,1.6558863,-0.85119164,0.51407593,2.1459591,2.5426216,0.118643,-0.49246368,-0.37006125,-0.066134386,-0.46922007,-0.30163947,3.0500336,-0.7411116,0.3455339,0.23526612,-0.58353174,0.59964025,1.643428,0.31844753,-0.23722841,0.20599513,0.37404487,2.2615778,-0.31937227,-0.0892156,0.025397064,1.2647059,0.48485383,0.7947989,-0.7860032,0.6158569,0.6969068,-0.40313497,0.6049266,-0.19255787,-0.8297273,-1.1435819,-0.941915,-0.0639618,-1.1841578,1.8188388,2.8245182,-0.5121128,-0.48822922,0.010444658,2.0653496,-0.6269368,-1.0918536,1.4632412,0.32239398,-0.17890924,-0.6469412,1.1985002,-0.37464142,0.025509775,-0.45272255,-1.4739687,-0.81602544,-1.1661078,-0.30993003,-0.1758302,0.6451847,-0.8851804,0.24009144,-0.08067355,-0.38387704,1.3596177,3.1706142]},{\"label\":\"3\",\"values\":[-0.16985466,0.58382523,-1.9525135,-0.051850323,0.6604475,0.56165004,-1.4665234,-2.605627,0.65382355,0.666237,-0.1163729,-0.83050793,0.5440173,-1.7237587,1.3234278,-1.2075464,0.8424391,-1.0124893,-0.68300325,1.0309225,1.3191302,0.7238102,1.0209719,-0.24814096,1.249279,0.29323363,0.32867962,-0.12375635,-0.014770963,-1.6254214,0.11438566,-0.5859379,0.11464096,0.8243125,0.39913598,1.0291159,-0.98169947,-0.866064,-0.4231821,-0.1777389,0.6874396,-1.04962,0.41974914,1.7582984,2.306582,0.019247323,0.9923465,0.9158754,1.1332159,0.8156875,0.23178934,0.54863346,1.2134203,0.10618032,1.1934797,-1.2543055,0.54716116,0.105051816,-0.4987903,-0.7360743,1.0890036,0.7961601,1.6840569,0.9952223,-1.8072169,1.3008571,-1.3160577,1.0758063,0.20423833,0.4857796,-0.59678394,0.8640258,-0.075393565,-0.25725728,1.2668092,0.6564528,0.18761772,0.70580095,0.334385,0.10438948,-0.08409748,2.1035037,-0.9137327,-0.81249994,-0.5122319,-0.84994507,1.3217885,-0.5207922,0.7914873,0.7082162,-0.20440163,1.4740732,-0.18805215,-0.31248933,1.1703539,0.6995159,0.76106393,-0.7420018,0.3718304,0.5794331,1.4831436,1.0925007,-2.201854,1.1616993,0.7420378,-0.9368452,0.7763179,0.03646351,-0.2599168,0.7299523,0.14185274,-0.57258314,1.1516659,1.4066875,0.12343864,-1.4868102,0.044916973,0.6738312,-1.4194951,-0.63211507,-0.71972436,0.5133471,-1.6415492,0.79839164,-1.8772079,-0.09379291,-2.0875251,-1.3842041,1.1372925,-1.1062772,1.3566145,1.0066043,0.26408774,0.8750329,-0.5428986,0.18674815,-0.61870944,1.0113739,0.3995533,1.4455609,1.4884981,-0.11575727,1.5299846,-1.2491405,-0.62579066,0.20495681,-1.6483668,0.9528298,-0.6653029,-0.4581848,-0.4832883,-0.23295017,-0.71789753,1.2049276,0.12663695,0.048722547,1.6765366,-0.65655434,-0.48415583,0.9124939,-0.7552249,1.1982139,-0.32572383,-0.5850455,0.7411618,-0.39376995,0.799601,-1.6701945,-0.051712666,-0.5154552,0.2645092,1.3912878,1.1025821,-0.15121184,-0.6824594,0.881713,-0.17625338,0.14187571,1.2576051,0.63427275,0.024367373,0.37912494,-0.56779855,0.6790773,1.7816198,-1.1037014,1.6503285,0.117362,-0.7613947,-1.3126346,1.3115793,-1.8585278,1.6200614,1.2214315,-0.18450367,0.34054452,0.03597585,-0.93590087,0.1162302,1.237176,-0.28323072,2.1786323,-2.5306902,-0.68302214,0.99636704,-0.4387053,-2.077452,-0.032683957,-2.2526581,0.6707495,1.1457808,-0.42612144,-0.23789296,0.2135221,0.35011107,-1.801151,0.5741406,0.10770513,-0.23472004,0.9195318,-1.2370527,-0.6531874,1.2099307,0.26388773,0.346165,-1.1099337,-0.2559222,0.6189281,0.75208783,-0.03621181,-1.6614406,0.22648993,-0.17526338,-0.7458123,1.301245,0.6711109,0.7606859,-0.73621386,-0.95354664,-1.8494723,-1.2845349,-2.200523,-0.43473372,0.2320433,0.33306694,0.11986324,-0.50329584,-0.9326304,-1.095907,1.0330282,-1.1025276,-0.12552506,0.3647262,-0.1475686,0.80544287,1.264088,-0.9184899,-0.9393906,-2.4299343,1.5084144,0.76186365,-0.63248366,0.38251495,-1.281724,0.0014734719,-1.1524822,-1.8824606,-1.1320033,0.60954654,-0.14045437,0.78702426,-1.3912457,-0.6481352,0.9090702,-0.38346657,0.15641636,1.002562,-0.3551634,-0.57222056,-0.21747139,-0.253098,0.1937099,0.7731694,-0.2945648,0.8859387,-0.9947887,0.12836207,0.7124151,-1.3485554,0.25232795,-0.2637337,1.4658877,-0.3550557,0.9825074,-1.9525671,-1.4337635,1.2071209,-0.64466804,-0.47064763,0.7595659,-1.0875329,0.8439295,-0.77027756,-0.40113717,1.3367395,0.7596024,-0.78987867,-0.5630979,0.14161795,0.02759758,-1.3228624,-1.7363925,-1.8686558,-2.0180566,0.77550673,-2.4607937,1.0348363,0.027964896,1.5346237,-1.5477003,-0.62006736]},{\"label\":\"4\",\"values\":[0.001162193,0.615549,1.3226304,1.4337857,0.69863766,0.5587269,-1.3193098,0.40649322,1.9370868,0.7309315,1.6044999,0.66265756,0.8350571,0.5065428,-0.20175868,0.4742726,-0.08374218,0.9731159,0.44317982,-0.3273103,-1.0826137,1.2396071,-0.6441435,-0.7215157,-1.3482192,-1.1100268,-0.43727067,-0.13480818,1.5176308,-0.13597088,-1.8263053,-0.83283997,0.7549923,0.09810181,1.1412846,-1.1599407,-1.1729896,1.4885516,1.3764749,0.25187308,0.62588394,1.6322426,0.72562885,0.100642525,0.9124843,-0.44832447,1.3850147,0.99320287,0.1441291,-2.3150291,-0.95751256,0.028793497,-0.46401444,0.43803003,-1.3607208,1.5994418,-1.8474987,-1.7286371,0.17134945,-1.8543751,0.9626432,0.5639807,0.95741975,-0.1251537,-0.03959836,0.59632427,0.37556008,-0.21918966,1.8431437,-0.2859641,1.4001707,-0.03780673,1.5125346,0.9821093,0.7377313,0.24451414,-1.5597885,-0.17004679,-1.1230714,-0.62198013,0.09370667,0.41778982,1.3233498,1.2412106,-0.27993327,1.4843223,-1.3824707,-1.2069087,0.40808234,-0.5322319,-1.3913349,0.18211944,1.0459564,0.4667911,0.46072274,1.6552827,-0.627511,1.5727952,-1.065814,-0.8784562,1.2482471,-1.2370752,1.7643309,1.3744043,0.4713138,-0.22541745,0.79211247,-1.7991842,1.3141826,-1.3551161,0.20767199,-0.12072399,-0.6643965,0.7008909,-0.837439,-0.9645808,0.0021187346,-0.49680024,1.7410431,-0.05863791,-0.588847,-0.24514481,0.6375802,1.1278294,1.0251005,0.930865,0.84196734,-0.38044077,1.3425866,0.35280415,0.09281942,-0.16316149,-1.1024388,-1.1732312,0.2655331,1.6286873,0.6317661,-0.12831211,0.5021903,-0.7265305,0.1326166,0.40391162,-0.090314396,0.4801733,0.81215715,-0.35896173,0.98549193,0.64763314,0.89065355,1.622141,-0.1537387,-1.4474667,1.3888903,0.31315422,-0.23064816,0.79086393,1.099509,1.198963,-1.2712789,-0.0074844565,0.27051422,-1.4793383,1.7622105,-1.2823169,-1.5698094,-0.9324659,0.39934826,-0.7645565,0.8375289,0.8903616,-0.85485494,0.17680368,0.68128806,0.22085159,0.1296135,-1.7117181,1.1851547,-0.75992525,-1.6329914,-0.4477757,-0.2676116,-1.8591589,0.6171547,0.83688974,-1.4463134,-0.8740191,-2.2294843,0.36481082,-0.31734645,-1.7223505,0.4403975,-1.9661487,-0.23631966,0.44173005,0.6683734,-0.87090456,-0.44417906,-1.3169498,-2.1731582,0.6851459,0.25013155,1.0601255,-1.611413,1.8250949,0.52529067,-0.44140095,-1.929899,-0.964604,-0.25435057,1.0693538,1.0318427,-0.70027053,-2.2047286,-0.9787384,-1.461242,-0.44528955,-0.30166572,-1.0777049,-0.13687597,0.35151115,-0.31213346,1.5569593,-0.6750616,-0.87307334,0.30186597,0.42311424,0.55323774,-1.1421216,-0.7475119,-0.3176263,-1.6353161,0.92757744,0.35365376,-2.3763878,-1.6526659,-0.01732046,1.1928287,0.1236116,-0.2706026,-1.4043795,-0.045742113,1.4345376,-1.7307096,-0.18940313,0.4402285,-1.287931,-0.33738294,0.009421478,-0.9401996,1.3708739,-0.3075134,0.23012018,1.3054606,-0.53853524,0.7999132,0.5627172,-0.019331262,0.07319655,-0.9960085,-0.20920712,-0.5114133,0.6012512,-0.24998997,1.5417304,0.15450068,-0.6633328,-0.33581394,-0.21317129,-0.7004349,-1.1805747,0.33882144,-0.60144615,-0.456858,-1.0158011,1.4531783,-1.8923013,0.06239363,-0.39706624,0.14153521,-0.47888875,1.580817,1.5174373,0.5002923,-0.5511078,-0.7648044,-0.9313006,1.5031471,-0.46332696,0.9819967,-2.284498,-1.8777423,0.92782104,0.8321344,0.3803443,-0.64991426,-0.00041143928,1.0734593,0.45219424,0.9104589,-0.6045509,-0.017553354,0.3366722,0.57452786,0.4719582,0.15102014,-1.2954258,-0.34461167,1.254389,-1.350345,0.39866272,0.21391912,1.5036013,-2.0138164,0.24925587,1.6417944,0.74139327,0.24576324,0.65282595,0.78975075,-1.506276,-0.7436899]}],\"domain\":{\"x\":[0.0,1.0],\"y\":[0.0,1.0]},\"name\":\"\",\"type\":\"parcoords\"}],                        {\"template\":{\"data\":{\"histogram2dcontour\":[{\"type\":\"histogram2dcontour\",\"colorbar\":{\"outlinewidth\":0,\"ticks\":\"\"},\"colorscale\":[[0.0,\"#0d0887\"],[0.1111111111111111,\"#46039f\"],[0.2222222222222222,\"#7201a8\"],[0.3333333333333333,\"#9c179e\"],[0.4444444444444444,\"#bd3786\"],[0.5555555555555556,\"#d8576b\"],[0.6666666666666666,\"#ed7953\"],[0.7777777777777778,\"#fb9f3a\"],[0.8888888888888888,\"#fdca26\"],[1.0,\"#f0f921\"]]}],\"choropleth\":[{\"type\":\"choropleth\",\"colorbar\":{\"outlinewidth\":0,\"ticks\":\"\"}}],\"histogram2d\":[{\"type\":\"histogram2d\",\"colorbar\":{\"outlinewidth\":0,\"ticks\":\"\"},\"colorscale\":[[0.0,\"#0d0887\"],[0.1111111111111111,\"#46039f\"],[0.2222222222222222,\"#7201a8\"],[0.3333333333333333,\"#9c179e\"],[0.4444444444444444,\"#bd3786\"],[0.5555555555555556,\"#d8576b\"],[0.6666666666666666,\"#ed7953\"],[0.7777777777777778,\"#fb9f3a\"],[0.8888888888888888,\"#fdca26\"],[1.0,\"#f0f921\"]]}],\"heatmap\":[{\"type\":\"heatmap\",\"colorbar\":{\"outlinewidth\":0,\"ticks\":\"\"},\"colorscale\":[[0.0,\"#0d0887\"],[0.1111111111111111,\"#46039f\"],[0.2222222222222222,\"#7201a8\"],[0.3333333333333333,\"#9c179e\"],[0.4444444444444444,\"#bd3786\"],[0.5555555555555556,\"#d8576b\"],[0.6666666666666666,\"#ed7953\"],[0.7777777777777778,\"#fb9f3a\"],[0.8888888888888888,\"#fdca26\"],[1.0,\"#f0f921\"]]}],\"heatmapgl\":[{\"type\":\"heatmapgl\",\"colorbar\":{\"outlinewidth\":0,\"ticks\":\"\"},\"colorscale\":[[0.0,\"#0d0887\"],[0.1111111111111111,\"#46039f\"],[0.2222222222222222,\"#7201a8\"],[0.3333333333333333,\"#9c179e\"],[0.4444444444444444,\"#bd3786\"],[0.5555555555555556,\"#d8576b\"],[0.6666666666666666,\"#ed7953\"],[0.7777777777777778,\"#fb9f3a\"],[0.8888888888888888,\"#fdca26\"],[1.0,\"#f0f921\"]]}],\"contourcarpet\":[{\"type\":\"contourcarpet\",\"colorbar\":{\"outlinewidth\":0,\"ticks\":\"\"}}],\"contour\":[{\"type\":\"contour\",\"colorbar\":{\"outlinewidth\":0,\"ticks\":\"\"},\"colorscale\":[[0.0,\"#0d0887\"],[0.1111111111111111,\"#46039f\"],[0.2222222222222222,\"#7201a8\"],[0.3333333333333333,\"#9c179e\"],[0.4444444444444444,\"#bd3786\"],[0.5555555555555556,\"#d8576b\"],[0.6666666666666666,\"#ed7953\"],[0.7777777777777778,\"#fb9f3a\"],[0.8888888888888888,\"#fdca26\"],[1.0,\"#f0f921\"]]}],\"surface\":[{\"type\":\"surface\",\"colorbar\":{\"outlinewidth\":0,\"ticks\":\"\"},\"colorscale\":[[0.0,\"#0d0887\"],[0.1111111111111111,\"#46039f\"],[0.2222222222222222,\"#7201a8\"],[0.3333333333333333,\"#9c179e\"],[0.4444444444444444,\"#bd3786\"],[0.5555555555555556,\"#d8576b\"],[0.6666666666666666,\"#ed7953\"],[0.7777777777777778,\"#fb9f3a\"],[0.8888888888888888,\"#fdca26\"],[1.0,\"#f0f921\"]]}],\"mesh3d\":[{\"type\":\"mesh3d\",\"colorbar\":{\"outlinewidth\":0,\"ticks\":\"\"}}],\"scatter\":[{\"fillpattern\":{\"fillmode\":\"overlay\",\"size\":10,\"solidity\":0.2},\"type\":\"scatter\"}],\"parcoords\":[{\"type\":\"parcoords\",\"line\":{\"colorbar\":{\"outlinewidth\":0,\"ticks\":\"\"}}}],\"scatterpolargl\":[{\"type\":\"scatterpolargl\",\"marker\":{\"colorbar\":{\"outlinewidth\":0,\"ticks\":\"\"}}}],\"bar\":[{\"error_x\":{\"color\":\"#2a3f5f\"},\"error_y\":{\"color\":\"#2a3f5f\"},\"marker\":{\"line\":{\"color\":\"#E5ECF6\",\"width\":0.5},\"pattern\":{\"fillmode\":\"overlay\",\"size\":10,\"solidity\":0.2}},\"type\":\"bar\"}],\"scattergeo\":[{\"type\":\"scattergeo\",\"marker\":{\"colorbar\":{\"outlinewidth\":0,\"ticks\":\"\"}}}],\"scatterpolar\":[{\"type\":\"scatterpolar\",\"marker\":{\"colorbar\":{\"outlinewidth\":0,\"ticks\":\"\"}}}],\"histogram\":[{\"marker\":{\"pattern\":{\"fillmode\":\"overlay\",\"size\":10,\"solidity\":0.2}},\"type\":\"histogram\"}],\"scattergl\":[{\"type\":\"scattergl\",\"marker\":{\"colorbar\":{\"outlinewidth\":0,\"ticks\":\"\"}}}],\"scatter3d\":[{\"type\":\"scatter3d\",\"line\":{\"colorbar\":{\"outlinewidth\":0,\"ticks\":\"\"}},\"marker\":{\"colorbar\":{\"outlinewidth\":0,\"ticks\":\"\"}}}],\"scattermapbox\":[{\"type\":\"scattermapbox\",\"marker\":{\"colorbar\":{\"outlinewidth\":0,\"ticks\":\"\"}}}],\"scatterternary\":[{\"type\":\"scatterternary\",\"marker\":{\"colorbar\":{\"outlinewidth\":0,\"ticks\":\"\"}}}],\"scattercarpet\":[{\"type\":\"scattercarpet\",\"marker\":{\"colorbar\":{\"outlinewidth\":0,\"ticks\":\"\"}}}],\"carpet\":[{\"aaxis\":{\"endlinecolor\":\"#2a3f5f\",\"gridcolor\":\"white\",\"linecolor\":\"white\",\"minorgridcolor\":\"white\",\"startlinecolor\":\"#2a3f5f\"},\"baxis\":{\"endlinecolor\":\"#2a3f5f\",\"gridcolor\":\"white\",\"linecolor\":\"white\",\"minorgridcolor\":\"white\",\"startlinecolor\":\"#2a3f5f\"},\"type\":\"carpet\"}],\"table\":[{\"cells\":{\"fill\":{\"color\":\"#EBF0F8\"},\"line\":{\"color\":\"white\"}},\"header\":{\"fill\":{\"color\":\"#C8D4E3\"},\"line\":{\"color\":\"white\"}},\"type\":\"table\"}],\"barpolar\":[{\"marker\":{\"line\":{\"color\":\"#E5ECF6\",\"width\":0.5},\"pattern\":{\"fillmode\":\"overlay\",\"size\":10,\"solidity\":0.2}},\"type\":\"barpolar\"}],\"pie\":[{\"automargin\":true,\"type\":\"pie\"}]},\"layout\":{\"autotypenumbers\":\"strict\",\"colorway\":[\"#636efa\",\"#EF553B\",\"#00cc96\",\"#ab63fa\",\"#FFA15A\",\"#19d3f3\",\"#FF6692\",\"#B6E880\",\"#FF97FF\",\"#FECB52\"],\"font\":{\"color\":\"#2a3f5f\"},\"hovermode\":\"closest\",\"hoverlabel\":{\"align\":\"left\"},\"paper_bgcolor\":\"white\",\"plot_bgcolor\":\"#E5ECF6\",\"polar\":{\"bgcolor\":\"#E5ECF6\",\"angularaxis\":{\"gridcolor\":\"white\",\"linecolor\":\"white\",\"ticks\":\"\"},\"radialaxis\":{\"gridcolor\":\"white\",\"linecolor\":\"white\",\"ticks\":\"\"}},\"ternary\":{\"bgcolor\":\"#E5ECF6\",\"aaxis\":{\"gridcolor\":\"white\",\"linecolor\":\"white\",\"ticks\":\"\"},\"baxis\":{\"gridcolor\":\"white\",\"linecolor\":\"white\",\"ticks\":\"\"},\"caxis\":{\"gridcolor\":\"white\",\"linecolor\":\"white\",\"ticks\":\"\"}},\"coloraxis\":{\"colorbar\":{\"outlinewidth\":0,\"ticks\":\"\"}},\"colorscale\":{\"sequential\":[[0.0,\"#0d0887\"],[0.1111111111111111,\"#46039f\"],[0.2222222222222222,\"#7201a8\"],[0.3333333333333333,\"#9c179e\"],[0.4444444444444444,\"#bd3786\"],[0.5555555555555556,\"#d8576b\"],[0.6666666666666666,\"#ed7953\"],[0.7777777777777778,\"#fb9f3a\"],[0.8888888888888888,\"#fdca26\"],[1.0,\"#f0f921\"]],\"sequentialminus\":[[0.0,\"#0d0887\"],[0.1111111111111111,\"#46039f\"],[0.2222222222222222,\"#7201a8\"],[0.3333333333333333,\"#9c179e\"],[0.4444444444444444,\"#bd3786\"],[0.5555555555555556,\"#d8576b\"],[0.6666666666666666,\"#ed7953\"],[0.7777777777777778,\"#fb9f3a\"],[0.8888888888888888,\"#fdca26\"],[1.0,\"#f0f921\"]],\"diverging\":[[0,\"#8e0152\"],[0.1,\"#c51b7d\"],[0.2,\"#de77ae\"],[0.3,\"#f1b6da\"],[0.4,\"#fde0ef\"],[0.5,\"#f7f7f7\"],[0.6,\"#e6f5d0\"],[0.7,\"#b8e186\"],[0.8,\"#7fbc41\"],[0.9,\"#4d9221\"],[1,\"#276419\"]]},\"xaxis\":{\"gridcolor\":\"white\",\"linecolor\":\"white\",\"ticks\":\"\",\"title\":{\"standoff\":15},\"zerolinecolor\":\"white\",\"automargin\":true,\"zerolinewidth\":2},\"yaxis\":{\"gridcolor\":\"white\",\"linecolor\":\"white\",\"ticks\":\"\",\"title\":{\"standoff\":15},\"zerolinecolor\":\"white\",\"automargin\":true,\"zerolinewidth\":2},\"scene\":{\"xaxis\":{\"backgroundcolor\":\"#E5ECF6\",\"gridcolor\":\"white\",\"linecolor\":\"white\",\"showbackground\":true,\"ticks\":\"\",\"zerolinecolor\":\"white\",\"gridwidth\":2},\"yaxis\":{\"backgroundcolor\":\"#E5ECF6\",\"gridcolor\":\"white\",\"linecolor\":\"white\",\"showbackground\":true,\"ticks\":\"\",\"zerolinecolor\":\"white\",\"gridwidth\":2},\"zaxis\":{\"backgroundcolor\":\"#E5ECF6\",\"gridcolor\":\"white\",\"linecolor\":\"white\",\"showbackground\":true,\"ticks\":\"\",\"zerolinecolor\":\"white\",\"gridwidth\":2}},\"shapedefaults\":{\"line\":{\"color\":\"#2a3f5f\"}},\"annotationdefaults\":{\"arrowcolor\":\"#2a3f5f\",\"arrowhead\":0,\"arrowwidth\":1},\"geo\":{\"bgcolor\":\"white\",\"landcolor\":\"#E5ECF6\",\"subunitcolor\":\"white\",\"showland\":true,\"showlakes\":true,\"lakecolor\":\"white\"},\"title\":{\"x\":0.05},\"mapbox\":{\"style\":\"light\"}}},\"legend\":{\"tracegroupgap\":0},\"margin\":{\"t\":60}},                        {\"responsive\": true}                    ).then(function(){\n",
              "                            \n",
              "var gd = document.getElementById('e23c9b02-b14b-4037-b975-bc20a03ea1e9');\n",
              "var x = new MutationObserver(function (mutations, observer) {{\n",
              "        var display = window.getComputedStyle(gd).display;\n",
              "        if (!display || display === 'none') {{\n",
              "            console.log([gd, 'removed!']);\n",
              "            Plotly.purge(gd);\n",
              "            observer.disconnect();\n",
              "        }}\n",
              "}});\n",
              "\n",
              "// Listen for the removal of the full notebook cells\n",
              "var notebookContainer = gd.closest('#notebook-container');\n",
              "if (notebookContainer) {{\n",
              "    x.observe(notebookContainer, {childList: true});\n",
              "}}\n",
              "\n",
              "// Listen for the clearing of the current output cell\n",
              "var outputEl = gd.closest('.output');\n",
              "if (outputEl) {{\n",
              "    x.observe(outputEl, {childList: true});\n",
              "}}\n",
              "\n",
              "                        })                };                            </script>        </div>\n",
              "</body>\n",
              "</html>"
            ]
          },
          "metadata": {}
        }
      ]
    },
    {
      "cell_type": "markdown",
      "source": [
        "I see some clumping not a ton of clustering.."
      ],
      "metadata": {
        "id": "rf24KuZwldud"
      }
    },
    {
      "cell_type": "markdown",
      "source": [
        "And with color..."
      ],
      "metadata": {
        "id": "FI49wQAvlCdn"
      }
    },
    {
      "cell_type": "code",
      "source": [
        "import plotly.express as px\n",
        "fig = px.parallel_coordinates(S_,color=result[\"b_cluster\"])\n",
        "fig.show()"
      ],
      "metadata": {
        "colab": {
          "base_uri": "https://localhost:8080/",
          "height": 542
        },
        "id": "eQFKreWGlCJ8",
        "outputId": "56006a8f-b6a2-4eda-9a27-14eadd74f171"
      },
      "execution_count": 236,
      "outputs": [
        {
          "output_type": "display_data",
          "data": {
            "text/html": [
              "<html>\n",
              "<head><meta charset=\"utf-8\" /></head>\n",
              "<body>\n",
              "    <div>            <script src=\"https://cdnjs.cloudflare.com/ajax/libs/mathjax/2.7.5/MathJax.js?config=TeX-AMS-MML_SVG\"></script><script type=\"text/javascript\">if (window.MathJax && window.MathJax.Hub && window.MathJax.Hub.Config) {window.MathJax.Hub.Config({SVG: {font: \"STIX-Web\"}});}</script>                <script type=\"text/javascript\">window.PlotlyConfig = {MathJaxConfig: 'local'};</script>\n",
              "        <script charset=\"utf-8\" src=\"https://cdn.plot.ly/plotly-2.35.2.min.js\"></script>                <div id=\"e1e40d6f-cf71-4fdc-868d-7d981f14ae5b\" class=\"plotly-graph-div\" style=\"height:525px; width:100%;\"></div>            <script type=\"text/javascript\">                                    window.PLOTLYENV=window.PLOTLYENV || {};                                    if (document.getElementById(\"e1e40d6f-cf71-4fdc-868d-7d981f14ae5b\")) {                    Plotly.newPlot(                        \"e1e40d6f-cf71-4fdc-868d-7d981f14ae5b\",                        [{\"dimensions\":[{\"label\":\"0\",\"values\":[-0.9063669,0.19669089,-0.37182966,-0.6837184,1.3392043,-0.37028718,-1.3503361,1.3820932,-0.4555253,-0.15358022,0.10254376,-0.5909668,-0.49467713,1.2148318,-0.26976994,-1.913447,-0.91814595,0.20507972,-0.7651099,-0.9966167,-0.25341055,-0.04722543,-1.5597895,-1.514919,-0.15795895,-0.998304,1.4952741,-0.64411527,-0.10508789,-1.4394333,-2.2019694,-0.5318241,-0.85546464,-0.04280043,1.4421432,-1.0486659,-1.2700171,-2.092707,-0.23304494,1.9480522,1.185052,-1.4332675,-0.60822827,1.1451653,0.14197971,-1.6208134,-0.053018935,1.1033561,0.5601369,-1.5442339,-0.98669654,-0.18929039,0.9134663,-0.85778743,0.10832198,-0.031082349,-0.8621798,-0.3287091,0.46070614,1.9307138,1.3134755,-0.76582706,0.54463387,0.57998806,0.6027522,-0.3199404,0.41897407,0.32741806,0.49770302,-0.91066056,-1.3644806,-0.749523,0.2216584,0.99340796,0.67284083,0.21677327,-0.27636755,-0.38846955,-0.79242593,-1.7253546,-0.01193998,0.66708237,-0.45711198,-1.2052207,-1.2403387,-1.6235212,-1.038222,-1.9947524,1.0088764,0.6389812,-1.4926258,-1.0114102,0.36291373,-0.67360556,1.0627133,-0.8763799,-0.52174175,-1.2026101,-1.1360976,-0.29780066,-0.30733338,-1.4916602,-1.8557061,0.24854885,-0.8971833,1.5471464,-0.16287278,-1.3298242,-0.012775818,0.29790634,0.42099947,1.8751289,-0.76510984,-0.3715412,-0.16701026,0.8755127,0.22138518,1.2719985,0.17136963,0.62907016,1.2113237,-0.50562304,0.62675774,1.0024259,-1.0756805,1.2572035,-2.8065648,1.0318793,1.0858666,-0.27983066,-0.55163103,-0.5315385,-1.4347161,-0.11122674,-0.17682013,-0.36962003,0.3234061,0.15423216,-0.83405155,-0.1935846,0.30119336,1.185588,-0.4351793,1.1709621,1.5307506,-1.839489,0.059413854,0.114157215,0.08398742,-1.1714969,-1.3989594,0.7802109,-1.7207912,-0.69317734,-0.2362684,-0.099617146,-0.017489104,-0.24416968,-0.6934355,-0.34799868,1.1872312,0.79439545,-0.6985217,1.202121,1.5138403,-0.124566965,-0.23545931,-0.17983258,0.7697391,-0.5444848,-1.2666667,0.30177945,-0.50291014,1.5163169,0.14424339,-0.28433836,0.34609148,-0.39125052,-1.159073,0.35337603,-0.0705558,-0.91109085,0.3347528,0.8796034,-0.59647876,2.0625823,-0.19973381,1.2403883,0.95725334,1.4983814,-0.49798638,0.66439986,-0.1651152,1.1072772,2.1364086,0.04758147,1.1748961,2.7405667,-0.73266155,0.5797177,0.44559956,0.03413321,0.2075253,-0.78623515,0.41013962,0.79594857,0.09772278,-0.19494396,0.92974025,1.4295094,1.1643546,-0.3802618,-1.6156856,-1.2214016,0.11382758,1.5975354,0.608915,0.19121476,-0.26690933,0.12522298,-0.93013275,0.46879327,1.3912024,-0.70988965,-0.3200147,1.2665572,0.009368135,-1.356843,-0.40153244,-0.17933746,0.9700356,0.5552304,0.46013945,-0.07470154,-0.3029673,1.6635181,-0.34823412,1.2025713,1.3879664,-0.21873073,-0.8493471,-1.5115645,0.33110654,-0.15683204,-1.005136,-1.1089077,1.9239757,-2.26997,0.99222875,-1.4567802,2.2121916,1.6255484,-0.040736385,-1.4137177,1.7402668,1.0327482,0.1660064,1.1193973,2.5054576,0.98405695,1.2692503,-1.5509887,-0.8723305,0.35569265,-0.2561802,0.21462399,0.10553692,-0.36511326,-0.60047877,1.482316,1.3904283,-0.08759942,0.78620356,1.4594222,-1.8763459,-1.6920748,0.90658045,1.5040001,1.2712862,1.6926363,-1.3337082,-0.30345052,2.096354,0.4238749,0.23780811,-0.0931563,0.05607303,-0.9305343,-1.4618701,-0.9605191,1.7764151,-0.42221296,-1.4121826,-0.043698404,0.02856003,0.82262474,1.2220241,-0.35554248,-0.093281336,0.20686588,-0.09620829,1.2440082,-0.8347301,0.9036637,0.07865236,0.06792143,-0.26674262,-0.32300365,0.5947436,-1.655893,1.0312719,0.4316381,0.7877363,-2.1214237,0.16112527,-0.084296145,0.6904921,-0.21554546,0.82895416,0.8455786,-0.22102475]},{\"label\":\"1\",\"values\":[2.0969193,0.8061614,1.6674801,-0.017642988,-1.0452759,-0.43282348,0.86425763,2.0884995,-0.5583631,-0.0921078,-0.5339739,-1.0599908,0.96950525,1.368753,-1.1512239,1.1923407,-0.28188157,1.2768463,-1.0564613,-0.3138541,-0.17525293,-0.100335784,-0.5442163,-0.2523048,-0.5747482,0.37601966,-2.4128013,-0.278656,0.054174528,0.9826116,0.37334055,0.16539676,-0.61890054,-0.35434455,1.5605386,0.23211876,-1.7631906,0.042147774,-1.1517602,0.089440316,0.8521226,0.30588475,0.1801064,-1.2543831,-0.5512805,-0.10621101,0.076495826,-0.51192707,-0.5994168,1.2554432,-1.1131,-2.002911,1.6715857,0.10513944,-0.40289322,0.25338182,-0.98405886,-0.22952275,0.7258985,-0.90661615,1.0634731,-0.21515156,-0.40638825,0.5440023,2.241644,1.2070297,1.2656852,1.3793726,0.30646765,0.7392357,-1.1226912,-0.029326035,0.37248072,0.8545486,0.41671532,0.38569552,-1.8174834,-0.9171089,-1.2620102,0.034584634,-0.72424537,0.2436289,-1.1159424,-0.34434614,-1.0004127,-0.17462204,1.3719493,-1.0135934,-0.12461508,-0.28366244,0.77398497,-0.6811293,-0.22130653,0.3550983,-0.47423685,-0.5476485,1.5249532,0.20253502,2.0389967,0.23674862,-0.5077189,0.9467476,-1.4340531,-0.954056,-0.13299017,-0.07612994,1.622313,-0.32350823,1.7480391,0.28187403,0.61205167,2.1559968,-0.4475292,0.14587288,-0.3379988,0.47203982,0.4528702,-0.7951027,1.0354016,-0.2279452,-0.89912844,-0.77850527,-0.13719559,1.9987398,-0.45222843,1.6093342,0.06983705,1.1367484,0.2638389,0.8769492,0.3040763,1.4453795,-0.70146817,-0.025740357,0.54829216,-1.2367375,-0.026540186,-1.6692135,-1.2523725,1.2320943,1.2326937,0.89548,0.78840154,1.4725554,0.39158532,1.2703904,1.1377777,1.6387836,-0.025977874,-0.757733,0.49474463,-1.4507282,-0.52936083,-1.0106801,0.024222983,-0.19306423,-1.1055915,-0.37430385,0.5655301,-0.8861808,-1.9437914,0.94671416,-1.22298,-1.3329465,-1.6523993,-0.6128227,1.4138762,-1.2725973,2.1107621,-0.716228,0.9189492,-1.8668815,0.08454593,-1.5353522,-0.14453477,1.6134806,-1.2830883,-0.49284726,0.41687748,-1.1828071,1.1068137,0.22914267,-0.47757214,-0.004780759,-0.53678757,-0.572906,2.469622,1.7793522,-1.7663116,-0.94024086,-0.2055714,-1.4639354,-0.21465045,-0.19461994,0.53299993,0.17451559,-2.0030992,0.014953651,1.230073,0.4548241,0.344459,0.4182579,1.7104248,0.08205028,1.1819274,0.5070021,-0.46409467,0.44339782,1.0839128,-0.2596652,-0.61804223,-0.16722557,1.1056336,-0.23390312,1.6870872,-1.3632765,0.5728892,0.2187767,-0.61551905,-0.8340478,0.92216307,-0.7665931,0.27704665,0.099096835,1.5972854,-0.9978777,-0.60817987,0.25453624,-0.82921654,0.84334296,-1.8711361,-0.94624656,-0.7214492,-0.95432425,1.0240507,1.077462,0.16217476,1.65603,-1.5978318,-1.0620159,-1.0439754,-0.51796037,-1.6263126,-0.40172797,0.29727623,1.1530159,-1.2376208,-0.33843935,-1.853248,0.2864567,1.3842245,-0.19314629,-0.63908273,0.45297125,0.33894873,-0.76428217,0.8952693,0.6252546,0.46986246,-1.025383,0.7589143,-1.4084821,1.871934,0.97047174,0.74091107,0.52609056,-0.26199242,-0.5223658,0.7366642,-1.0878543,-0.1278365,-0.26673695,1.6677797,-1.3983319,0.3135271,1.1430908,-1.0671452,-0.7498144,1.3538707,-0.5198424,0.04725232,1.2868038,1.1632268,-0.4836976,-1.3034196,1.986765,0.6056446,-0.100441076,0.7512222,-0.8454926,1.7365052,-0.929009,-0.8699269,-0.7084543,0.15748191,-0.15686895,1.0166136,1.215502,0.512998,-1.2796184,-0.3576108,1.2288316,-1.8012391,-0.4352546,-1.5477481,2.0600486,0.6688305,-0.49298194,-0.54558265,-0.23221721,0.14893489,-0.7444667,-1.2093983,-1.4636495,-1.1661624,-0.17431916,-1.2670573,-1.0611503,-1.5510807,-1.4231255,1.0082892]},{\"label\":\"2\",\"values\":[-2.519069,-1.4918544,-0.6412865,-0.29488233,-0.1770492,-0.72955686,-2.212479,0.15177898,-0.3257333,0.21807784,0.18994188,-0.08557381,0.53843117,-0.6592415,-0.61192304,0.5498674,1.0372614,-1.2857461,-0.39686736,1.0022731,-1.3514825,-1.1724086,0.12400353,-0.35497096,-0.113446705,-0.3302753,0.103358135,0.43369362,-0.0046315514,-1.4780121,0.14596008,0.006489429,-0.92056316,0.7220798,-1.1801404,-0.15179183,-0.3409369,-0.23212563,0.24362053,0.7458739,-1.0157747,1.9612515,-0.774627,-0.7755887,0.3263826,0.42363346,1.9252442,-0.7074097,-0.07682409,-0.16241616,0.26404878,-0.226695,-0.02380279,0.5115655,-1.1367235,-0.7022648,-0.43289194,-0.5342493,-0.47358587,-0.23115268,0.09698446,0.9114721,-0.923965,-0.9238535,0.33985764,1.1503015,-1.5923027,-1.6638142,-0.81913495,2.8934944,0.07010189,-0.46741757,-0.59130174,-0.39964408,-1.1305919,0.9345783,0.35393217,0.8005043,-0.66512805,-1.5747585,2.1051362,-0.5403107,0.16387755,0.47780782,-0.86187834,-0.55787265,-0.39601946,-0.40302846,0.16989651,-1.0595222,-0.74240965,-0.23755457,0.18413857,-0.85142714,-0.57023567,-0.5502471,1.0112065,0.69186497,-0.44158554,1.2663827,-0.62439674,0.8080056,0.16077101,-0.27167642,-0.46990517,-1.149243,-0.74244165,-0.7901726,-0.08174009,-1.4586068,-0.498634,0.21949047,-0.30553955,-1.356949,-0.8001316,-2.0808659,-0.97947645,0.49477276,-0.45958883,-0.87384605,-0.59000915,0.13387355,-1.0555513,-0.09532881,-0.24557914,-0.019453524,-1.0520796,-0.38270167,0.38546664,-0.8845837,-0.024658829,-1.070644,-1.1211427,-0.28338692,-0.7088456,-0.62000316,1.8777224,-0.60369515,0.44880432,-0.92861277,0.07328476,-1.0885919,-0.4092462,-0.27137783,0.41355008,1.0646203,-0.44932014,-0.73388,-0.24021722,0.8905634,1.6098143,1.6879848,-0.051152658,-0.14724645,-0.88824886,2.7874458,0.3567487,-1.2399875,-0.7352826,-0.41436493,-0.95489174,-0.6541172,-0.609571,-0.35383236,0.29393426,-0.60163105,1.0314801,-0.3196135,-0.9457784,-0.6954998,2.3311489,-0.26286215,1.641248,1.6901261,2.106972,-0.8820565,-0.3135254,-0.5502952,-0.81757206,0.30819196,4.091203,-1.0452008,2.599819,-1.3447878,-0.6289149,0.21897796,0.68740183,0.03078165,1.9038805,1.964068,0.32324156,0.26544055,-0.499065,-0.0342429,-0.7901124,-0.9309377,1.1011437,-0.7433352,-0.92910117,0.76845545,-0.76541036,0.78597814,1.0858164,0.83064723,1.291097,-0.22578631,-1.5190656,-1.23251,-0.82757765,0.62033963,-0.17283128,1.145554,1.3539487,2.4134562,-1.1024956,1.0852789,2.044145,0.10802101,-0.46231455,1.3434972,1.43393,-0.33363065,0.64732945,0.010571665,0.28661832,-0.6463276,1.6116859,0.42444503,-1.1738425,1.9203552,-0.97780377,-0.52905846,0.022403326,1.0722251,-0.18404189,-0.16307662,-0.7765505,1.7567912,0.15162134,-0.5965186,-0.59746546,-0.629288,-0.35100636,-0.7838985,-0.12106593,0.12180888,-0.044344686,0.15847105,-0.22054644,0.03933865,0.5240203,0.41096953,0.3119436,1.6558863,-0.85119164,0.51407593,2.1459591,2.5426216,0.118643,-0.49246368,-0.37006125,-0.066134386,-0.46922007,-0.30163947,3.0500336,-0.7411116,0.3455339,0.23526612,-0.58353174,0.59964025,1.643428,0.31844753,-0.23722841,0.20599513,0.37404487,2.2615778,-0.31937227,-0.0892156,0.025397064,1.2647059,0.48485383,0.7947989,-0.7860032,0.6158569,0.6969068,-0.40313497,0.6049266,-0.19255787,-0.8297273,-1.1435819,-0.941915,-0.0639618,-1.1841578,1.8188388,2.8245182,-0.5121128,-0.48822922,0.010444658,2.0653496,-0.6269368,-1.0918536,1.4632412,0.32239398,-0.17890924,-0.6469412,1.1985002,-0.37464142,0.025509775,-0.45272255,-1.4739687,-0.81602544,-1.1661078,-0.30993003,-0.1758302,0.6451847,-0.8851804,0.24009144,-0.08067355,-0.38387704,1.3596177,3.1706142]},{\"label\":\"3\",\"values\":[-0.16985466,0.58382523,-1.9525135,-0.051850323,0.6604475,0.56165004,-1.4665234,-2.605627,0.65382355,0.666237,-0.1163729,-0.83050793,0.5440173,-1.7237587,1.3234278,-1.2075464,0.8424391,-1.0124893,-0.68300325,1.0309225,1.3191302,0.7238102,1.0209719,-0.24814096,1.249279,0.29323363,0.32867962,-0.12375635,-0.014770963,-1.6254214,0.11438566,-0.5859379,0.11464096,0.8243125,0.39913598,1.0291159,-0.98169947,-0.866064,-0.4231821,-0.1777389,0.6874396,-1.04962,0.41974914,1.7582984,2.306582,0.019247323,0.9923465,0.9158754,1.1332159,0.8156875,0.23178934,0.54863346,1.2134203,0.10618032,1.1934797,-1.2543055,0.54716116,0.105051816,-0.4987903,-0.7360743,1.0890036,0.7961601,1.6840569,0.9952223,-1.8072169,1.3008571,-1.3160577,1.0758063,0.20423833,0.4857796,-0.59678394,0.8640258,-0.075393565,-0.25725728,1.2668092,0.6564528,0.18761772,0.70580095,0.334385,0.10438948,-0.08409748,2.1035037,-0.9137327,-0.81249994,-0.5122319,-0.84994507,1.3217885,-0.5207922,0.7914873,0.7082162,-0.20440163,1.4740732,-0.18805215,-0.31248933,1.1703539,0.6995159,0.76106393,-0.7420018,0.3718304,0.5794331,1.4831436,1.0925007,-2.201854,1.1616993,0.7420378,-0.9368452,0.7763179,0.03646351,-0.2599168,0.7299523,0.14185274,-0.57258314,1.1516659,1.4066875,0.12343864,-1.4868102,0.044916973,0.6738312,-1.4194951,-0.63211507,-0.71972436,0.5133471,-1.6415492,0.79839164,-1.8772079,-0.09379291,-2.0875251,-1.3842041,1.1372925,-1.1062772,1.3566145,1.0066043,0.26408774,0.8750329,-0.5428986,0.18674815,-0.61870944,1.0113739,0.3995533,1.4455609,1.4884981,-0.11575727,1.5299846,-1.2491405,-0.62579066,0.20495681,-1.6483668,0.9528298,-0.6653029,-0.4581848,-0.4832883,-0.23295017,-0.71789753,1.2049276,0.12663695,0.048722547,1.6765366,-0.65655434,-0.48415583,0.9124939,-0.7552249,1.1982139,-0.32572383,-0.5850455,0.7411618,-0.39376995,0.799601,-1.6701945,-0.051712666,-0.5154552,0.2645092,1.3912878,1.1025821,-0.15121184,-0.6824594,0.881713,-0.17625338,0.14187571,1.2576051,0.63427275,0.024367373,0.37912494,-0.56779855,0.6790773,1.7816198,-1.1037014,1.6503285,0.117362,-0.7613947,-1.3126346,1.3115793,-1.8585278,1.6200614,1.2214315,-0.18450367,0.34054452,0.03597585,-0.93590087,0.1162302,1.237176,-0.28323072,2.1786323,-2.5306902,-0.68302214,0.99636704,-0.4387053,-2.077452,-0.032683957,-2.2526581,0.6707495,1.1457808,-0.42612144,-0.23789296,0.2135221,0.35011107,-1.801151,0.5741406,0.10770513,-0.23472004,0.9195318,-1.2370527,-0.6531874,1.2099307,0.26388773,0.346165,-1.1099337,-0.2559222,0.6189281,0.75208783,-0.03621181,-1.6614406,0.22648993,-0.17526338,-0.7458123,1.301245,0.6711109,0.7606859,-0.73621386,-0.95354664,-1.8494723,-1.2845349,-2.200523,-0.43473372,0.2320433,0.33306694,0.11986324,-0.50329584,-0.9326304,-1.095907,1.0330282,-1.1025276,-0.12552506,0.3647262,-0.1475686,0.80544287,1.264088,-0.9184899,-0.9393906,-2.4299343,1.5084144,0.76186365,-0.63248366,0.38251495,-1.281724,0.0014734719,-1.1524822,-1.8824606,-1.1320033,0.60954654,-0.14045437,0.78702426,-1.3912457,-0.6481352,0.9090702,-0.38346657,0.15641636,1.002562,-0.3551634,-0.57222056,-0.21747139,-0.253098,0.1937099,0.7731694,-0.2945648,0.8859387,-0.9947887,0.12836207,0.7124151,-1.3485554,0.25232795,-0.2637337,1.4658877,-0.3550557,0.9825074,-1.9525671,-1.4337635,1.2071209,-0.64466804,-0.47064763,0.7595659,-1.0875329,0.8439295,-0.77027756,-0.40113717,1.3367395,0.7596024,-0.78987867,-0.5630979,0.14161795,0.02759758,-1.3228624,-1.7363925,-1.8686558,-2.0180566,0.77550673,-2.4607937,1.0348363,0.027964896,1.5346237,-1.5477003,-0.62006736]},{\"label\":\"4\",\"values\":[0.001162193,0.615549,1.3226304,1.4337857,0.69863766,0.5587269,-1.3193098,0.40649322,1.9370868,0.7309315,1.6044999,0.66265756,0.8350571,0.5065428,-0.20175868,0.4742726,-0.08374218,0.9731159,0.44317982,-0.3273103,-1.0826137,1.2396071,-0.6441435,-0.7215157,-1.3482192,-1.1100268,-0.43727067,-0.13480818,1.5176308,-0.13597088,-1.8263053,-0.83283997,0.7549923,0.09810181,1.1412846,-1.1599407,-1.1729896,1.4885516,1.3764749,0.25187308,0.62588394,1.6322426,0.72562885,0.100642525,0.9124843,-0.44832447,1.3850147,0.99320287,0.1441291,-2.3150291,-0.95751256,0.028793497,-0.46401444,0.43803003,-1.3607208,1.5994418,-1.8474987,-1.7286371,0.17134945,-1.8543751,0.9626432,0.5639807,0.95741975,-0.1251537,-0.03959836,0.59632427,0.37556008,-0.21918966,1.8431437,-0.2859641,1.4001707,-0.03780673,1.5125346,0.9821093,0.7377313,0.24451414,-1.5597885,-0.17004679,-1.1230714,-0.62198013,0.09370667,0.41778982,1.3233498,1.2412106,-0.27993327,1.4843223,-1.3824707,-1.2069087,0.40808234,-0.5322319,-1.3913349,0.18211944,1.0459564,0.4667911,0.46072274,1.6552827,-0.627511,1.5727952,-1.065814,-0.8784562,1.2482471,-1.2370752,1.7643309,1.3744043,0.4713138,-0.22541745,0.79211247,-1.7991842,1.3141826,-1.3551161,0.20767199,-0.12072399,-0.6643965,0.7008909,-0.837439,-0.9645808,0.0021187346,-0.49680024,1.7410431,-0.05863791,-0.588847,-0.24514481,0.6375802,1.1278294,1.0251005,0.930865,0.84196734,-0.38044077,1.3425866,0.35280415,0.09281942,-0.16316149,-1.1024388,-1.1732312,0.2655331,1.6286873,0.6317661,-0.12831211,0.5021903,-0.7265305,0.1326166,0.40391162,-0.090314396,0.4801733,0.81215715,-0.35896173,0.98549193,0.64763314,0.89065355,1.622141,-0.1537387,-1.4474667,1.3888903,0.31315422,-0.23064816,0.79086393,1.099509,1.198963,-1.2712789,-0.0074844565,0.27051422,-1.4793383,1.7622105,-1.2823169,-1.5698094,-0.9324659,0.39934826,-0.7645565,0.8375289,0.8903616,-0.85485494,0.17680368,0.68128806,0.22085159,0.1296135,-1.7117181,1.1851547,-0.75992525,-1.6329914,-0.4477757,-0.2676116,-1.8591589,0.6171547,0.83688974,-1.4463134,-0.8740191,-2.2294843,0.36481082,-0.31734645,-1.7223505,0.4403975,-1.9661487,-0.23631966,0.44173005,0.6683734,-0.87090456,-0.44417906,-1.3169498,-2.1731582,0.6851459,0.25013155,1.0601255,-1.611413,1.8250949,0.52529067,-0.44140095,-1.929899,-0.964604,-0.25435057,1.0693538,1.0318427,-0.70027053,-2.2047286,-0.9787384,-1.461242,-0.44528955,-0.30166572,-1.0777049,-0.13687597,0.35151115,-0.31213346,1.5569593,-0.6750616,-0.87307334,0.30186597,0.42311424,0.55323774,-1.1421216,-0.7475119,-0.3176263,-1.6353161,0.92757744,0.35365376,-2.3763878,-1.6526659,-0.01732046,1.1928287,0.1236116,-0.2706026,-1.4043795,-0.045742113,1.4345376,-1.7307096,-0.18940313,0.4402285,-1.287931,-0.33738294,0.009421478,-0.9401996,1.3708739,-0.3075134,0.23012018,1.3054606,-0.53853524,0.7999132,0.5627172,-0.019331262,0.07319655,-0.9960085,-0.20920712,-0.5114133,0.6012512,-0.24998997,1.5417304,0.15450068,-0.6633328,-0.33581394,-0.21317129,-0.7004349,-1.1805747,0.33882144,-0.60144615,-0.456858,-1.0158011,1.4531783,-1.8923013,0.06239363,-0.39706624,0.14153521,-0.47888875,1.580817,1.5174373,0.5002923,-0.5511078,-0.7648044,-0.9313006,1.5031471,-0.46332696,0.9819967,-2.284498,-1.8777423,0.92782104,0.8321344,0.3803443,-0.64991426,-0.00041143928,1.0734593,0.45219424,0.9104589,-0.6045509,-0.017553354,0.3366722,0.57452786,0.4719582,0.15102014,-1.2954258,-0.34461167,1.254389,-1.350345,0.39866272,0.21391912,1.5036013,-2.0138164,0.24925587,1.6417944,0.74139327,0.24576324,0.65282595,0.78975075,-1.506276,-0.7436899]},{\"label\":\"color\",\"values\":[2,1,3,1,1,2,2,3,1,1,1,1,3,3,1,3,1,3,1,2,2,3,2,2,1,2,3,2,1,3,2,2,1,1,3,2,2,1,1,3,3,1,1,1,1,2,1,1,1,2,2,1,2,2,2,3,2,2,3,3,3,1,1,3,3,1,3,3,3,2,1,2,1,3,1,3,2,1,2,2,3,1,1,2,1,1,2,2,3,2,2,1,2,2,3,1,3,1,2,3,1,2,1,1,2,3,3,2,3,2,3,3,2,1,2,3,2,3,1,3,3,2,3,3,1,3,1,3,1,3,1,3,2,2,3,1,3,1,1,2,2,3,2,3,3,2,3,3,3,1,2,3,1,1,2,2,1,3,2,1,3,2,1,3,3,2,3,3,3,1,2,1,1,3,2,2,1,2,2,1,2,2,3,3,1,3,3,3,3,3,1,3,2,1,3,2,3,3,2,3,3,1,2,1,3,3,3,3,3,1,1,2,2,2,2,3,2,2,3,1,2,3,2,2,3,3,3,2,1,2,3,2,2,3,2,3,1,3,3,3,2,1,3,2,1,2,3,1,3,1,3,3,1,2,1,1,3,3,3,1,3,1,3,3,2,3,3,3,3,3,2,3,3,3,1,2,1,3,3,3,1,1,3,2,2,2,1,2,3,2,2,1,1,2,2,3,3,3,1,1,3,3,2,2,1,2,2,1,3,1,3,3,3,1,1,3,1,1,1,3,2]}],\"domain\":{\"x\":[0.0,1.0],\"y\":[0.0,1.0]},\"line\":{\"color\":[2,1,3,1,1,2,2,3,1,1,1,1,3,3,1,3,1,3,1,2,2,3,2,2,1,2,3,2,1,3,2,2,1,1,3,2,2,1,1,3,3,1,1,1,1,2,1,1,1,2,2,1,2,2,2,3,2,2,3,3,3,1,1,3,3,1,3,3,3,2,1,2,1,3,1,3,2,1,2,2,3,1,1,2,1,1,2,2,3,2,2,1,2,2,3,1,3,1,2,3,1,2,1,1,2,3,3,2,3,2,3,3,2,1,2,3,2,3,1,3,3,2,3,3,1,3,1,3,1,3,1,3,2,2,3,1,3,1,1,2,2,3,2,3,3,2,3,3,3,1,2,3,1,1,2,2,1,3,2,1,3,2,1,3,3,2,3,3,3,1,2,1,1,3,2,2,1,2,2,1,2,2,3,3,1,3,3,3,3,3,1,3,2,1,3,2,3,3,2,3,3,1,2,1,3,3,3,3,3,1,1,2,2,2,2,3,2,2,3,1,2,3,2,2,3,3,3,2,1,2,3,2,2,3,2,3,1,3,3,3,2,1,3,2,1,2,3,1,3,1,3,3,1,2,1,1,3,3,3,1,3,1,3,3,2,3,3,3,3,3,2,3,3,3,1,2,1,3,3,3,1,1,3,2,2,2,1,2,3,2,2,1,1,2,2,3,3,3,1,1,3,3,2,2,1,2,2,1,3,1,3,3,3,1,1,3,1,1,1,3,2],\"coloraxis\":\"coloraxis\"},\"name\":\"\",\"type\":\"parcoords\"}],                        {\"template\":{\"data\":{\"histogram2dcontour\":[{\"type\":\"histogram2dcontour\",\"colorbar\":{\"outlinewidth\":0,\"ticks\":\"\"},\"colorscale\":[[0.0,\"#0d0887\"],[0.1111111111111111,\"#46039f\"],[0.2222222222222222,\"#7201a8\"],[0.3333333333333333,\"#9c179e\"],[0.4444444444444444,\"#bd3786\"],[0.5555555555555556,\"#d8576b\"],[0.6666666666666666,\"#ed7953\"],[0.7777777777777778,\"#fb9f3a\"],[0.8888888888888888,\"#fdca26\"],[1.0,\"#f0f921\"]]}],\"choropleth\":[{\"type\":\"choropleth\",\"colorbar\":{\"outlinewidth\":0,\"ticks\":\"\"}}],\"histogram2d\":[{\"type\":\"histogram2d\",\"colorbar\":{\"outlinewidth\":0,\"ticks\":\"\"},\"colorscale\":[[0.0,\"#0d0887\"],[0.1111111111111111,\"#46039f\"],[0.2222222222222222,\"#7201a8\"],[0.3333333333333333,\"#9c179e\"],[0.4444444444444444,\"#bd3786\"],[0.5555555555555556,\"#d8576b\"],[0.6666666666666666,\"#ed7953\"],[0.7777777777777778,\"#fb9f3a\"],[0.8888888888888888,\"#fdca26\"],[1.0,\"#f0f921\"]]}],\"heatmap\":[{\"type\":\"heatmap\",\"colorbar\":{\"outlinewidth\":0,\"ticks\":\"\"},\"colorscale\":[[0.0,\"#0d0887\"],[0.1111111111111111,\"#46039f\"],[0.2222222222222222,\"#7201a8\"],[0.3333333333333333,\"#9c179e\"],[0.4444444444444444,\"#bd3786\"],[0.5555555555555556,\"#d8576b\"],[0.6666666666666666,\"#ed7953\"],[0.7777777777777778,\"#fb9f3a\"],[0.8888888888888888,\"#fdca26\"],[1.0,\"#f0f921\"]]}],\"heatmapgl\":[{\"type\":\"heatmapgl\",\"colorbar\":{\"outlinewidth\":0,\"ticks\":\"\"},\"colorscale\":[[0.0,\"#0d0887\"],[0.1111111111111111,\"#46039f\"],[0.2222222222222222,\"#7201a8\"],[0.3333333333333333,\"#9c179e\"],[0.4444444444444444,\"#bd3786\"],[0.5555555555555556,\"#d8576b\"],[0.6666666666666666,\"#ed7953\"],[0.7777777777777778,\"#fb9f3a\"],[0.8888888888888888,\"#fdca26\"],[1.0,\"#f0f921\"]]}],\"contourcarpet\":[{\"type\":\"contourcarpet\",\"colorbar\":{\"outlinewidth\":0,\"ticks\":\"\"}}],\"contour\":[{\"type\":\"contour\",\"colorbar\":{\"outlinewidth\":0,\"ticks\":\"\"},\"colorscale\":[[0.0,\"#0d0887\"],[0.1111111111111111,\"#46039f\"],[0.2222222222222222,\"#7201a8\"],[0.3333333333333333,\"#9c179e\"],[0.4444444444444444,\"#bd3786\"],[0.5555555555555556,\"#d8576b\"],[0.6666666666666666,\"#ed7953\"],[0.7777777777777778,\"#fb9f3a\"],[0.8888888888888888,\"#fdca26\"],[1.0,\"#f0f921\"]]}],\"surface\":[{\"type\":\"surface\",\"colorbar\":{\"outlinewidth\":0,\"ticks\":\"\"},\"colorscale\":[[0.0,\"#0d0887\"],[0.1111111111111111,\"#46039f\"],[0.2222222222222222,\"#7201a8\"],[0.3333333333333333,\"#9c179e\"],[0.4444444444444444,\"#bd3786\"],[0.5555555555555556,\"#d8576b\"],[0.6666666666666666,\"#ed7953\"],[0.7777777777777778,\"#fb9f3a\"],[0.8888888888888888,\"#fdca26\"],[1.0,\"#f0f921\"]]}],\"mesh3d\":[{\"type\":\"mesh3d\",\"colorbar\":{\"outlinewidth\":0,\"ticks\":\"\"}}],\"scatter\":[{\"fillpattern\":{\"fillmode\":\"overlay\",\"size\":10,\"solidity\":0.2},\"type\":\"scatter\"}],\"parcoords\":[{\"type\":\"parcoords\",\"line\":{\"colorbar\":{\"outlinewidth\":0,\"ticks\":\"\"}}}],\"scatterpolargl\":[{\"type\":\"scatterpolargl\",\"marker\":{\"colorbar\":{\"outlinewidth\":0,\"ticks\":\"\"}}}],\"bar\":[{\"error_x\":{\"color\":\"#2a3f5f\"},\"error_y\":{\"color\":\"#2a3f5f\"},\"marker\":{\"line\":{\"color\":\"#E5ECF6\",\"width\":0.5},\"pattern\":{\"fillmode\":\"overlay\",\"size\":10,\"solidity\":0.2}},\"type\":\"bar\"}],\"scattergeo\":[{\"type\":\"scattergeo\",\"marker\":{\"colorbar\":{\"outlinewidth\":0,\"ticks\":\"\"}}}],\"scatterpolar\":[{\"type\":\"scatterpolar\",\"marker\":{\"colorbar\":{\"outlinewidth\":0,\"ticks\":\"\"}}}],\"histogram\":[{\"marker\":{\"pattern\":{\"fillmode\":\"overlay\",\"size\":10,\"solidity\":0.2}},\"type\":\"histogram\"}],\"scattergl\":[{\"type\":\"scattergl\",\"marker\":{\"colorbar\":{\"outlinewidth\":0,\"ticks\":\"\"}}}],\"scatter3d\":[{\"type\":\"scatter3d\",\"line\":{\"colorbar\":{\"outlinewidth\":0,\"ticks\":\"\"}},\"marker\":{\"colorbar\":{\"outlinewidth\":0,\"ticks\":\"\"}}}],\"scattermapbox\":[{\"type\":\"scattermapbox\",\"marker\":{\"colorbar\":{\"outlinewidth\":0,\"ticks\":\"\"}}}],\"scatterternary\":[{\"type\":\"scatterternary\",\"marker\":{\"colorbar\":{\"outlinewidth\":0,\"ticks\":\"\"}}}],\"scattercarpet\":[{\"type\":\"scattercarpet\",\"marker\":{\"colorbar\":{\"outlinewidth\":0,\"ticks\":\"\"}}}],\"carpet\":[{\"aaxis\":{\"endlinecolor\":\"#2a3f5f\",\"gridcolor\":\"white\",\"linecolor\":\"white\",\"minorgridcolor\":\"white\",\"startlinecolor\":\"#2a3f5f\"},\"baxis\":{\"endlinecolor\":\"#2a3f5f\",\"gridcolor\":\"white\",\"linecolor\":\"white\",\"minorgridcolor\":\"white\",\"startlinecolor\":\"#2a3f5f\"},\"type\":\"carpet\"}],\"table\":[{\"cells\":{\"fill\":{\"color\":\"#EBF0F8\"},\"line\":{\"color\":\"white\"}},\"header\":{\"fill\":{\"color\":\"#C8D4E3\"},\"line\":{\"color\":\"white\"}},\"type\":\"table\"}],\"barpolar\":[{\"marker\":{\"line\":{\"color\":\"#E5ECF6\",\"width\":0.5},\"pattern\":{\"fillmode\":\"overlay\",\"size\":10,\"solidity\":0.2}},\"type\":\"barpolar\"}],\"pie\":[{\"automargin\":true,\"type\":\"pie\"}]},\"layout\":{\"autotypenumbers\":\"strict\",\"colorway\":[\"#636efa\",\"#EF553B\",\"#00cc96\",\"#ab63fa\",\"#FFA15A\",\"#19d3f3\",\"#FF6692\",\"#B6E880\",\"#FF97FF\",\"#FECB52\"],\"font\":{\"color\":\"#2a3f5f\"},\"hovermode\":\"closest\",\"hoverlabel\":{\"align\":\"left\"},\"paper_bgcolor\":\"white\",\"plot_bgcolor\":\"#E5ECF6\",\"polar\":{\"bgcolor\":\"#E5ECF6\",\"angularaxis\":{\"gridcolor\":\"white\",\"linecolor\":\"white\",\"ticks\":\"\"},\"radialaxis\":{\"gridcolor\":\"white\",\"linecolor\":\"white\",\"ticks\":\"\"}},\"ternary\":{\"bgcolor\":\"#E5ECF6\",\"aaxis\":{\"gridcolor\":\"white\",\"linecolor\":\"white\",\"ticks\":\"\"},\"baxis\":{\"gridcolor\":\"white\",\"linecolor\":\"white\",\"ticks\":\"\"},\"caxis\":{\"gridcolor\":\"white\",\"linecolor\":\"white\",\"ticks\":\"\"}},\"coloraxis\":{\"colorbar\":{\"outlinewidth\":0,\"ticks\":\"\"}},\"colorscale\":{\"sequential\":[[0.0,\"#0d0887\"],[0.1111111111111111,\"#46039f\"],[0.2222222222222222,\"#7201a8\"],[0.3333333333333333,\"#9c179e\"],[0.4444444444444444,\"#bd3786\"],[0.5555555555555556,\"#d8576b\"],[0.6666666666666666,\"#ed7953\"],[0.7777777777777778,\"#fb9f3a\"],[0.8888888888888888,\"#fdca26\"],[1.0,\"#f0f921\"]],\"sequentialminus\":[[0.0,\"#0d0887\"],[0.1111111111111111,\"#46039f\"],[0.2222222222222222,\"#7201a8\"],[0.3333333333333333,\"#9c179e\"],[0.4444444444444444,\"#bd3786\"],[0.5555555555555556,\"#d8576b\"],[0.6666666666666666,\"#ed7953\"],[0.7777777777777778,\"#fb9f3a\"],[0.8888888888888888,\"#fdca26\"],[1.0,\"#f0f921\"]],\"diverging\":[[0,\"#8e0152\"],[0.1,\"#c51b7d\"],[0.2,\"#de77ae\"],[0.3,\"#f1b6da\"],[0.4,\"#fde0ef\"],[0.5,\"#f7f7f7\"],[0.6,\"#e6f5d0\"],[0.7,\"#b8e186\"],[0.8,\"#7fbc41\"],[0.9,\"#4d9221\"],[1,\"#276419\"]]},\"xaxis\":{\"gridcolor\":\"white\",\"linecolor\":\"white\",\"ticks\":\"\",\"title\":{\"standoff\":15},\"zerolinecolor\":\"white\",\"automargin\":true,\"zerolinewidth\":2},\"yaxis\":{\"gridcolor\":\"white\",\"linecolor\":\"white\",\"ticks\":\"\",\"title\":{\"standoff\":15},\"zerolinecolor\":\"white\",\"automargin\":true,\"zerolinewidth\":2},\"scene\":{\"xaxis\":{\"backgroundcolor\":\"#E5ECF6\",\"gridcolor\":\"white\",\"linecolor\":\"white\",\"showbackground\":true,\"ticks\":\"\",\"zerolinecolor\":\"white\",\"gridwidth\":2},\"yaxis\":{\"backgroundcolor\":\"#E5ECF6\",\"gridcolor\":\"white\",\"linecolor\":\"white\",\"showbackground\":true,\"ticks\":\"\",\"zerolinecolor\":\"white\",\"gridwidth\":2},\"zaxis\":{\"backgroundcolor\":\"#E5ECF6\",\"gridcolor\":\"white\",\"linecolor\":\"white\",\"showbackground\":true,\"ticks\":\"\",\"zerolinecolor\":\"white\",\"gridwidth\":2}},\"shapedefaults\":{\"line\":{\"color\":\"#2a3f5f\"}},\"annotationdefaults\":{\"arrowcolor\":\"#2a3f5f\",\"arrowhead\":0,\"arrowwidth\":1},\"geo\":{\"bgcolor\":\"white\",\"landcolor\":\"#E5ECF6\",\"subunitcolor\":\"white\",\"showland\":true,\"showlakes\":true,\"lakecolor\":\"white\"},\"title\":{\"x\":0.05},\"mapbox\":{\"style\":\"light\"}}},\"coloraxis\":{\"colorbar\":{\"title\":{\"text\":\"color\"}},\"colorscale\":[[0.0,\"#0d0887\"],[0.1111111111111111,\"#46039f\"],[0.2222222222222222,\"#7201a8\"],[0.3333333333333333,\"#9c179e\"],[0.4444444444444444,\"#bd3786\"],[0.5555555555555556,\"#d8576b\"],[0.6666666666666666,\"#ed7953\"],[0.7777777777777778,\"#fb9f3a\"],[0.8888888888888888,\"#fdca26\"],[1.0,\"#f0f921\"]]},\"legend\":{\"tracegroupgap\":0},\"margin\":{\"t\":60}},                        {\"responsive\": true}                    ).then(function(){\n",
              "                            \n",
              "var gd = document.getElementById('e1e40d6f-cf71-4fdc-868d-7d981f14ae5b');\n",
              "var x = new MutationObserver(function (mutations, observer) {{\n",
              "        var display = window.getComputedStyle(gd).display;\n",
              "        if (!display || display === 'none') {{\n",
              "            console.log([gd, 'removed!']);\n",
              "            Plotly.purge(gd);\n",
              "            observer.disconnect();\n",
              "        }}\n",
              "}});\n",
              "\n",
              "// Listen for the removal of the full notebook cells\n",
              "var notebookContainer = gd.closest('#notebook-container');\n",
              "if (notebookContainer) {{\n",
              "    x.observe(notebookContainer, {childList: true});\n",
              "}}\n",
              "\n",
              "// Listen for the clearing of the current output cell\n",
              "var outputEl = gd.closest('.output');\n",
              "if (outputEl) {{\n",
              "    x.observe(outputEl, {childList: true});\n",
              "}}\n",
              "\n",
              "                        })                };                            </script>        </div>\n",
              "</body>\n",
              "</html>"
            ]
          },
          "metadata": {}
        }
      ]
    },
    {
      "cell_type": "markdown",
      "source": [
        "Three seems well clustered, but two seems to really go with it. Yet that would make sense, 3 was charity and grandoisity. Interesting."
      ],
      "metadata": {
        "id": "Y2BnX9EUa2_v"
      }
    },
    {
      "cell_type": "markdown",
      "source": [
        "In hindsight doc 2 vec did look better, maybe two opposite waves. Let's check out LDA"
      ],
      "metadata": {
        "id": "2HVERKbMbIPg"
      }
    },
    {
      "cell_type": "markdown",
      "source": [
        "*LDA parallel lines*"
      ],
      "metadata": {
        "id": "p9w2ozUGbNPy"
      }
    },
    {
      "cell_type": "code",
      "source": [
        "X = np.array(df[[\"lda_e1\",\"lda_e2\",\"lda_e3\"]].values.tolist())"
      ],
      "metadata": {
        "id": "LllXigfpa8yq"
      },
      "execution_count": 237,
      "outputs": []
    },
    {
      "cell_type": "code",
      "source": [
        "X_cs = (X - X.mean(axis=0)) / X.std(axis=0)"
      ],
      "metadata": {
        "id": "BoJmU6xlbgAc"
      },
      "execution_count": 238,
      "outputs": []
    },
    {
      "cell_type": "code",
      "source": [
        "import plotly.express as px\n",
        "fig = px.parallel_coordinates(X_cs)\n",
        "fig.show()"
      ],
      "metadata": {
        "colab": {
          "base_uri": "https://localhost:8080/",
          "height": 542
        },
        "id": "MvCnv3kWbbFf",
        "outputId": "caf3652a-9446-47d9-8359-8f4dfeb0864a"
      },
      "execution_count": 239,
      "outputs": [
        {
          "output_type": "display_data",
          "data": {
            "text/html": [
              "<html>\n",
              "<head><meta charset=\"utf-8\" /></head>\n",
              "<body>\n",
              "    <div>            <script src=\"https://cdnjs.cloudflare.com/ajax/libs/mathjax/2.7.5/MathJax.js?config=TeX-AMS-MML_SVG\"></script><script type=\"text/javascript\">if (window.MathJax && window.MathJax.Hub && window.MathJax.Hub.Config) {window.MathJax.Hub.Config({SVG: {font: \"STIX-Web\"}});}</script>                <script type=\"text/javascript\">window.PlotlyConfig = {MathJaxConfig: 'local'};</script>\n",
              "        <script charset=\"utf-8\" src=\"https://cdn.plot.ly/plotly-2.35.2.min.js\"></script>                <div id=\"11a48709-decc-4b83-a0a5-9560b7c641f4\" class=\"plotly-graph-div\" style=\"height:525px; width:100%;\"></div>            <script type=\"text/javascript\">                                    window.PLOTLYENV=window.PLOTLYENV || {};                                    if (document.getElementById(\"11a48709-decc-4b83-a0a5-9560b7c641f4\")) {                    Plotly.newPlot(                        \"11a48709-decc-4b83-a0a5-9560b7c641f4\",                        [{\"dimensions\":[{\"label\":\"0\",\"values\":[0.24025995113267293,0.18667335361328585,-1.079521233889022,0.23042634810770382,-0.4310946871065353,0.23052568136674256,-0.6671872116418753,-1.6088677146004713,1.3610087918244382,0.10116537791478229,-0.03818482444706668,-0.8146334986552825,0.0567560207232826,-0.969923128269417,0.50959435247228,3.104031344259257,0.3061223781388531,-1.1673273637475312,0.03742684163725996,0.1588480120230707,0.6332369965672605,0.4701752007161906,1.257843544518197,-0.3854287310742545,0.6469081229306245,5.643109616234207,-1.1622172909348865,0.02462401895159474,-0.917958355050462,0.0896872420472957,1.0487120957917162,-0.4156519454364354,1.0423504609613514,0.8716991953930319,-0.5190955639376936,0.3934922399689996,0.007315576320176624,1.4432503961481709,0.6798588893987152,-0.2875314258797566,-1.4946742742924195,1.0831255233869412,-0.19764330605406957,0.4018333574916766,0.8578586700043147,-0.5631368884990576,0.60435225375756,0.0378858901197091,0.911733180499238,1.2159645742282592,0.6760935139463418,0.29478448359457227,0.16078518189659824,1.408092393524992,0.3105682661993936,-1.5287562216617798,0.9434462272850719,-0.8464688213248306,1.1855743466131357,-0.7681732892258893,1.7639583743177243,0.3000680468876407,-0.08722278071874562,-0.5784698444873825,-1.814590013926934,1.4548191914717266,-1.0138281933126272,0.04016729326903963,-1.1675243638030501,1.2826223720075318,0.7199758816806908,-0.0009787326834486958,-0.704673435464041,2.8075194476645606,-1.1143095894714083,0.627386170520353,0.8173165443337258,1.2756516237076503,-0.35742326941370023,-0.19149463679541184,0.23425561444276297,0.20013656486122852,0.2578310799353988,0.11181079844537901,0.9675844181107885,-0.19954542280976523,0.31818671702676343,-0.29358518917392823,-0.6117077233146896,0.34975312982214973,0.7932457739386105,0.9696518567641578,0.27151819597491883,0.4141644228491449,0.28231221929076855,0.6251787239328114,-0.1766024531979481,1.5371668255501854,-0.04386511849450194,0.04604027858034012,-0.11590252163407985,1.4855219956759667,1.612429344507702,-0.05934264873391332,0.2717523741364244,-0.9370710189806117,-0.23490227674852834,1.2028643927691476,-1.137418489708521,-0.11508737069144755,-0.9741704126732595,-1.2778504719940351,0.6434065376907486,-0.8534180932105271,0.307304120610142,-1.5369824557865428,-0.3224972263149151,-0.38437468279177056,-0.8521152910671068,-1.0479217272073167,0.43959054041223694,0.11558634580577606,0.1910325304199814,-1.0917593768341485,-0.9688702576447116,-1.528328343313221,1.0904062801219372,-1.2979708678442372,-0.37108785768567154,-0.1600852922888659,2.030336291289525,0.4012858752377697,1.1007235674463438,0.25406227546888593,-0.7226504245170868,-0.973474480840596,0.0876844928684805,-0.0457367751907702,1.7320888320109513,0.39208381368915174,1.8460103927747342,0.06856094623922672,0.5051069732133171,-1.2482400219366894,-1.0086399454478598,0.4663620768119825,-0.36932730850803663,-0.33590627048055166,0.020328290754359435,0.9617116513974403,0.306861425374563,0.6142644528900755,0.5468525179592034,1.8379988106917953,-0.4506208463146248,-1.103307755758756,0.0798051018562329,-0.61843019462647,-0.7119001898620264,0.47905031472680837,-0.605167621401545,-1.1141010565285503,0.31286248105754266,-1.0046371051526848,0.03905569124291818,-1.2775128919426488,1.0646634095204441,0.4014715653926867,-1.3806126029900303,-1.202510097256849,-0.7598626203918789,0.7993417224715925,2.255499034163861,-0.7289893920848548,-0.6889247152862733,0.24420212720115203,1.5525653545657851,-0.06601448199531457,0.5340916523318772,-0.3558713366528259,-0.9623606558393445,1.408940620947745,-0.08850878066142566,-1.3360573238789268,0.7382992090379986,-0.7238380320707477,0.270346171320601,-0.8312137292133011,0.1817954134134158,-1.4628692826434146,1.303324809667731,-0.415447360633388,0.9019549775989887,0.4817100221558742,-1.8194359416910206,-0.21486006149925546,-0.22810014225976918,-0.7356271447262492,-1.4303742846192369,0.9552358916274316,-0.7178306847992764,1.1950596731089977,-2.458984266620945,-0.25459547954704576,0.009575714927507195,-0.5299962792481157,-1.090300198924156,-0.6181101731093954,-1.7608505390741322,0.5656266534662037,-0.7812529921517108,-0.43040650933235636,-0.7836484694239503,-0.8967714186798056,-1.2257627095975177,-0.1078633035895987,-1.0849770315231133,0.25287995793801277,-0.6345984506017558,-0.14619152173004415,-0.2793122411859633,-0.4323400078294103,-1.1258980972830521,0.5816357905465575,1.2154540335126682,-0.008627867628076708,0.487394276569404,1.1720838168018777,-0.02285464123652448,5.9475212133884305,-0.4037144393969525,-0.2841342470889681,-0.5474812080690165,-0.5182772919876251,1.7792795282351752,-1.203171045299065,-1.0374039928231613,-0.11799791385826539,-0.8908357568538218,-0.5280097048736266,-0.3715614497096443,-0.3487276023113545,-0.4403837036778018,-0.012068147303192759,1.2661342886545839,-0.4088532280681987,-1.2692996303193484,-0.5435027665641738,-0.8426972656243648,0.89107969203152,-0.11080508898843519,-1.8916471513529414,2.618538881242353,-0.013471809097740532,-1.0302136087937426,-0.4746571409214281,0.15898860706544338,-1.652025489911058,-1.107941929610186,-0.6192162015671826,-0.38907827168810855,1.0780234257250307,0.8774639284384567,-0.07083683538546484,0.15543033775718892,-0.4768743265593667,-1.0434313680654903,0.5826724635061925,0.8190079920930821,-0.9164974973869349,-1.267077308336456,-1.1205217414052175,-0.18196215792075068,0.18274728537971638,1.810663122389567,-0.024319734845442878,-0.5271118066174124,0.17142546397464076,-1.0080347305328532,0.5258953712955861,0.05036951973954334,-0.48115143805952937,-1.016615448225389,-0.49584707838733716,0.3284974967255176,-0.6943746620368898,-0.3909721134241986,0.8500163641679739,-0.46214084676954326,-0.16084046596688067,-1.3813947971737228,0.24746437576690603,0.2626274606870986,0.1821815244821213,-0.9095384552820784,-0.3739368674782858,-0.09855726360421896,0.025123003616939844,1.4298323986510175,-0.8733825943813005,1.2163660445901419,-1.3527130504583653,0.13483390334372378,0.2943258213960375,-0.053607609713859236,0.3792236717211003,-0.8916396387388703,0.7033875741593539,-0.15215187510584977,1.0993547074615522,-1.2451287398626585,-0.5662480981343618,0.4870672350752908,1.051689139087801,1.1450154238124224,-0.9839509508623953,0.02736367029226552,0.6738463488881059,0.40958411891854035,-0.37359379156691214,-0.6643191542791911]},{\"label\":\"1\",\"values\":[0.01937059570371834,0.1373036896979494,-1.1817088484341276,0.12659489108372274,-0.29966353535413054,-0.006765022514992425,-0.9965059669010035,-1.1521247140408661,1.0080624216494831,-0.10055351151293686,-0.14447969809779265,-0.7614779340597215,0.16166735253659642,-0.7728236953824665,0.36310100509295606,2.8308694938632235,0.5024203097780853,-0.9844241167241089,0.07579394626726846,0.15246469381332334,0.7684652088024558,0.35713605867984094,1.2533244081134878,-0.3623385051657773,1.0616614846861543,6.903481134225623,-1.0794613880005564,0.40258982892487116,-0.5158973484218285,-0.22154107264336023,0.8618142326383059,-0.17663404318589956,0.5881558848338387,1.107778547034783,-0.5492410911819497,0.2104870767941574,-0.19431937867476134,1.2655804168620017,0.9420874767117678,-0.3712246837899851,-1.0318959421873777,0.876710407703846,-0.36436127063277157,0.7366026102226407,1.063521771641108,-0.7506654696123349,0.18135418406082585,0.1059761286328385,1.061821152187284,1.4275538641618306,0.781205070080778,0.14161175221880587,-0.36364433551483905,1.3217901532040748,0.8364353806248704,-1.4853765367626355,1.286309373435011,-0.9735419492031782,1.1797566652946476,-0.742035943960058,1.7629290587736093,0.201923492982364,-0.3496121631690184,-0.6642414039780657,-1.8005813485094198,1.237274542066324,-1.2204648909480247,0.741702141827268,-1.1107031974308939,1.0275390816777057,0.6686308011306744,-0.054117234517877165,-0.5760229183375397,2.6734242803885238,-1.0646454531548286,0.662910705747661,0.5899224098665651,1.4021738188739281,-0.21370288717764893,-0.24608542350314505,-0.02039716521683682,0.39258475378459146,0.4551441374309484,0.14895750584589193,0.557610874534282,-0.26650768746334264,0.8173018706247651,-0.295786889685501,-0.35649827392893174,0.6403139411859748,1.1155206293917086,1.030764919421174,0.5273050678884468,0.1190347700810087,0.4452845086884321,0.3334473599733279,-0.27454371451536175,1.4815921610280331,0.5786236888401758,0.32735125803734266,-0.22933290033867232,1.2917872608714762,1.317122030861665,0.03228407576970422,0.6788117140813607,-0.604826720378414,-0.34505070378815617,1.1145950430622031,-1.1079139930023654,-0.008726136184606166,-0.013677151644639986,-0.9797165948540472,0.38892932196167385,-0.4229104952963431,0.46825507561827046,-1.5298780014685145,-0.20257324035505436,0.034837918471951584,-1.1882180485267253,-0.5677654999245395,0.23796564502728837,0.35342242467909274,0.1667659815176921,0.2206108804241368,-1.0716685812558333,-1.246269673079871,0.46170874988140503,-1.3163978774881475,-0.36557311225472405,-0.043033598534354754,1.9042384285944771,0.8763317663554954,0.8020450924557518,0.455711291982836,-0.11236816713640789,-0.7139431533353849,0.1394684973360149,0.39137645409726457,1.8806499500790888,0.5091021087087314,2.0589722449058616,0.17685298159406448,0.9700914089547283,-1.320462762158972,-0.46764067868442205,0.3915270466025726,-0.6504577119487462,-0.24556148161019517,-0.21818912375132601,0.9095617848676416,-0.1893076788571572,0.6789608467319055,0.754373476893325,2.0918488609148596,-0.49557939842071513,-0.9346730005688592,0.10631749126955278,-0.7375507570942513,-0.7572175047485765,0.6341708991574969,-0.7658610890484487,-0.42924269921356306,-0.2524919268897758,-0.9989519889274613,0.11418075056327388,-1.3256485403633316,1.119264512956248,0.023760154323533397,-1.3597577623542698,-1.090388734571358,-0.8906953204247794,1.057934774290781,2.171387621943462,-0.23810796976892162,-0.3943087484002527,0.024340729541038286,1.789687825976317,-0.1926391884911226,0.4936838252323569,-0.32712220048617885,-1.1178112871528036,1.6753080198072823,-0.22427503057473608,-0.9787971798721568,0.7475102704456097,-0.9187124828587815,0.11147267156699968,-1.0624547174648016,0.26491948243745456,-1.3523414599106567,0.9804146326725901,-0.7489575321075318,1.7523813258479202,0.2002641237759415,-1.8049531742726246,-0.22367513992766538,-0.3889281897228021,-0.9070617175237751,-1.4720518201596173,0.9779111221828938,-0.8551549146876483,1.01105674939143,-2.6361538240666027,-0.5449346774089697,-0.2117735682065407,-0.23240825185786157,-1.3385941694685053,-0.3898085049451075,-1.9019678966721039,1.4171627408840117,-0.48568127851733406,-0.5957541232959835,-0.6662893906990361,-1.1114849734686352,-0.9935937144891526,-0.1165921617889831,-1.0142217850787933,0.6133245157951709,-0.7042041940516178,-0.22134012922202362,-0.7399323903462831,-0.41227253889120224,-1.1007189320510196,0.44798883635956216,0.9351855190204221,-0.019091584997364304,0.6761413737438186,0.7337929332437126,-0.30438567383486737,5.345721751730578,-0.5928975135980604,-0.3351464357661339,-0.4455472320379942,-0.9662155473938819,1.9130795400890677,-0.4307776824032534,-0.8120388943943937,0.11011344355844953,-0.6578022204375642,-0.7358190972156421,-0.7033556101415538,-0.6660387527351785,-0.9928487312475486,0.0367661925855305,0.9928391151962321,-0.6857865911192281,-0.9993032887544204,-0.7220026568696695,-0.9861039424277915,0.9858763779796329,0.05992631455100302,-1.7455371606695307,2.592221690947207,-0.09227154629982313,-1.0031958842199762,-0.5698959992245023,-0.13003662427088442,-1.5695392454092765,-1.2909427850192263,-0.34252653839909597,0.13052313882225175,0.6675424442454083,0.8201449647644637,-0.18043208573287808,-0.3980498292614463,-0.39988590819527203,-1.0764994061936184,-0.0235619850717606,1.0065849903104953,-0.785128622035691,-1.2700556136726164,-1.2079954710231287,-0.45368509771791593,0.5658971140282882,1.123848409386267,-0.24684914231221974,-0.388519216530797,0.26149149233204416,-1.1305955686329425,0.09704099431922118,-0.19535064964614499,-0.42832493849353703,0.05051533074256038,-0.3592294863004268,0.0008581086777619979,-0.8158190022515628,-0.4966022721520477,0.8147992317364902,-0.5707658337503227,-0.36368098561434453,-1.4185646436008337,-0.047489018798369434,0.13099856028704723,-0.006065005355719329,-0.8962622626793789,-0.6964490715793682,-0.10751537054764444,-0.0951657990166927,1.2443935825778285,-0.880513880203912,0.8070795027909248,-1.383413317297036,-0.18032588913358258,0.1142727798968911,0.13923856111718547,-0.056610213605802366,-1.091767645790313,0.6825718290549511,-0.5424267805212638,0.9724353104534412,-1.1260551210395442,-0.5031293449261778,0.06387790605678169,0.9596175547256195,0.5931762064131448,-1.052025777272951,0.1685443265302318,0.433973818156402,0.36742932696432073,-0.7324227474510927,-0.8037396659298995]},{\"label\":\"2\",\"values\":[0.022885017955532497,0.7223138330008214,-0.9235952384372752,0.225464283373371,-0.01765254623189829,0.07350522343391377,-0.6423259055207494,-1.6896033518301912,0.8715224866273219,-0.2002278017834818,-0.11661858509921258,-0.47819743914492113,0.9228952705232899,-0.8817672397338385,-0.3373530528890413,2.197265086784677,0.46564782030000684,-0.7187308219514033,0.12774276703161533,0.2552724807876435,0.92802657074542,0.40319697734012144,0.9668554125958948,-0.6539062269137047,0.6052878057224715,8.11484408192148,-0.27168212834804656,-0.06131390245958186,-0.6293687692195572,0.2893432412201881,0.8991668121171374,1.1512520401967494,1.1295644106060274,0.39810047219188965,-0.01743923289969117,0.29890574061081054,-0.28729371132023285,0.9032428462178732,0.8899425435409889,0.11168459920912154,-1.2623799716590536,0.5638685270266596,-0.17133544911280024,1.0237050299844952,0.65565166637759,-0.5417587306576155,-0.37281993318852014,0.47391894270965074,0.8146649356630561,1.2242471866744893,0.7079942407504956,0.4617316285168573,-0.20548760134683863,2.2419922248609883,0.47281228966356126,-1.2584254365248486,0.7799931434292982,-1.0797776785695452,0.6816307370856192,0.4894247507705741,1.8425495758820967,-0.19772638440657933,0.1519624911585459,-0.5379267063907736,-1.907953577201572,1.0385124775374093,-1.0598314745232793,0.8130530839780722,-0.9745568332174108,1.2071723071611575,0.41964993768204906,0.49881853348528543,-0.7477268850345797,2.220543686661059,-1.103542871355204,0.059774995684129244,0.5903706048767914,1.1976615366703045,-0.5501757252154256,-0.007576828983676835,0.04485696499239169,-0.06985039981540586,0.42808692505204304,0.03876920867910026,1.0732485853599183,0.18832986133457744,0.4675442752677956,-0.3439231645768268,-0.3482560056122977,1.0519783930824285,1.0618320964087267,0.9221474777916707,0.35470520921456394,0.30098338046342327,0.09906767132321535,0.7161878916489285,-0.25247833112506934,1.1196891693194386,0.08483905796837858,0.3221042476689486,0.04305088429590764,1.009276308374095,0.997911535656913,0.5546617258332774,-0.20136394454974446,-0.653120651492245,-0.08459348176820329,0.812458737453325,-1.1683417963892704,0.6207054808447335,-0.8459994556234064,-1.3370948333949517,0.515398265997596,-0.7079843215110267,0.4128850978762704,-1.524483985799108,-0.23063852816056551,-0.4426320449716537,-0.6737028650787866,-1.0667808590737804,0.7141974810772297,0.46387538699974107,0.5529377047161935,-0.42843737304175283,-1.243159207746641,-1.4201768636081868,0.9139536924702732,-1.3662980787814998,-0.3176124913218525,0.13059117161957637,1.5178429168728629,0.5625142141868484,1.1026816203885526,0.6740244872681075,-0.553082845924273,-0.9736693164804745,0.19165261164102326,0.2675556992354513,1.4544771964140575,0.3934751932398136,2.143516073448547,0.01764694615876342,0.5419918330997243,-1.1929354255665958,-0.8735419948932307,-0.24982023944938003,-0.6044114699940585,-0.11104861589590177,0.13882159334787117,0.7648371738407598,-0.5596107408626775,0.7244524330882197,0.5629180541134635,1.7474632961682706,-0.3354163991285102,-0.8036895966303663,-0.29553006475382976,-0.9241798141849861,-0.6807272124950777,0.7520320201028348,-0.4103490642183816,-0.8603053529208625,-0.4277849780182679,-0.7187945059252284,-0.19913124639183682,-0.5949678504970952,0.9235328300008794,0.3135620506692908,-1.4690808222244216,-0.7538643069164224,-1.0692324485434994,0.9151291428292915,1.646265850617486,-0.7824860779884021,-0.6560136206494148,0.012256793706228012,1.7844735889029184,0.3052745474411654,-0.02676652190358091,-0.15444177604210155,-1.2028038684679867,1.1511090963757244,-0.31891710499663073,-1.5450817192860846,0.8881648403725588,-1.0117581100875734,0.08468426325816604,-0.5031690177754707,0.4598284719379606,-0.5626740392139629,1.0772397253043382,-0.348476038549246,1.1713992688417902,0.34946923034427607,-2.0211792163271554,-0.13186712869571768,-0.3799392358428025,-0.8780084045759737,-1.2947403250540752,0.745041991313091,-0.8933018338413813,0.6746701338946999,-3.102753455475183,-0.5736355095248187,-0.32990765483729767,-0.3972480698437014,-0.9856007347678236,-0.2685203635343062,-2.041710489576148,0.9672949440739377,-0.3819219139386346,-0.9517630830805297,-0.6458284999557158,-1.3371229670086275,-1.0242677050433842,0.04577822492804897,-0.7179393943412435,0.4197422902918305,-0.5123012972161585,-0.39837067252903213,-0.5790770527384083,-0.2977970609077955,-0.9733114006893198,0.5986169060989442,0.6059346361723429,0.3198757859814276,0.6954892318379945,0.5831057486062591,-0.2866044219850442,5.578793869953028,0.3722753820989629,0.041831024181100386,-0.5153868719482533,-0.7701451377427576,1.8017210604454694,-0.9692941362313261,-0.9958447165693582,-0.09404685829498832,-0.2513738779931863,-0.7443457603215062,-0.6379151525317033,-0.39322740898517083,-0.3435180666445871,0.13192438041298926,0.7528820276866499,-0.62164744073124,-1.3362209624869072,-0.507901962845047,-1.0406026182000454,0.4041003105786452,0.7938742736212496,-1.1789608798725209,2.5600914135828616,-0.23800017859032976,-0.887104715061172,-0.4032482576397883,0.0020016569798650525,-1.299286089386828,-1.2604555635884558,-0.09251015839881795,-0.4220945677954063,0.8888612031498356,-0.02662461933385562,-0.4532264666100422,-0.12099775218575956,-0.29654439737825417,-0.8935871773916457,-0.29450918488742023,0.9710096575093562,-1.006568754002738,-1.2615511799044894,-1.223414751195388,-0.25040428255471847,0.7121520339796265,1.386194669550352,0.19101650593591304,-0.5104691951889925,0.33222479562222273,-1.081554713588215,-0.04502382889662595,0.008876775110781035,-0.4895503676556017,-1.039846977424866,-0.5122690888711091,0.283700537557187,-0.6812864561988919,-0.5432628602724974,0.6142569195753617,-0.5233611121500407,-0.39943584122789016,-1.1968896221555418,0.0260083089821439,0.5348293968422193,0.20126272314022906,-1.0650059614464389,-0.5628949508818032,0.3832476488942837,-0.3407469326086966,0.6594017758319298,-0.8270280075433815,0.49469169962899684,-0.9873157993241889,-0.5437594333974337,0.10535618227092895,0.11196750525176744,0.03397903986108257,-1.026639295735714,0.609465836617486,-0.5504413864824844,1.2929971516297507,-1.322041004661307,-0.6414418509969422,0.4404079136703511,1.0343163283444048,0.899569591186562,-0.8471465505631682,0.08619337633376523,0.741241697873534,0.09986721558627401,-0.47839766705139675,-0.6424854185818525]}],\"domain\":{\"x\":[0.0,1.0],\"y\":[0.0,1.0]},\"name\":\"\",\"type\":\"parcoords\"}],                        {\"template\":{\"data\":{\"histogram2dcontour\":[{\"type\":\"histogram2dcontour\",\"colorbar\":{\"outlinewidth\":0,\"ticks\":\"\"},\"colorscale\":[[0.0,\"#0d0887\"],[0.1111111111111111,\"#46039f\"],[0.2222222222222222,\"#7201a8\"],[0.3333333333333333,\"#9c179e\"],[0.4444444444444444,\"#bd3786\"],[0.5555555555555556,\"#d8576b\"],[0.6666666666666666,\"#ed7953\"],[0.7777777777777778,\"#fb9f3a\"],[0.8888888888888888,\"#fdca26\"],[1.0,\"#f0f921\"]]}],\"choropleth\":[{\"type\":\"choropleth\",\"colorbar\":{\"outlinewidth\":0,\"ticks\":\"\"}}],\"histogram2d\":[{\"type\":\"histogram2d\",\"colorbar\":{\"outlinewidth\":0,\"ticks\":\"\"},\"colorscale\":[[0.0,\"#0d0887\"],[0.1111111111111111,\"#46039f\"],[0.2222222222222222,\"#7201a8\"],[0.3333333333333333,\"#9c179e\"],[0.4444444444444444,\"#bd3786\"],[0.5555555555555556,\"#d8576b\"],[0.6666666666666666,\"#ed7953\"],[0.7777777777777778,\"#fb9f3a\"],[0.8888888888888888,\"#fdca26\"],[1.0,\"#f0f921\"]]}],\"heatmap\":[{\"type\":\"heatmap\",\"colorbar\":{\"outlinewidth\":0,\"ticks\":\"\"},\"colorscale\":[[0.0,\"#0d0887\"],[0.1111111111111111,\"#46039f\"],[0.2222222222222222,\"#7201a8\"],[0.3333333333333333,\"#9c179e\"],[0.4444444444444444,\"#bd3786\"],[0.5555555555555556,\"#d8576b\"],[0.6666666666666666,\"#ed7953\"],[0.7777777777777778,\"#fb9f3a\"],[0.8888888888888888,\"#fdca26\"],[1.0,\"#f0f921\"]]}],\"heatmapgl\":[{\"type\":\"heatmapgl\",\"colorbar\":{\"outlinewidth\":0,\"ticks\":\"\"},\"colorscale\":[[0.0,\"#0d0887\"],[0.1111111111111111,\"#46039f\"],[0.2222222222222222,\"#7201a8\"],[0.3333333333333333,\"#9c179e\"],[0.4444444444444444,\"#bd3786\"],[0.5555555555555556,\"#d8576b\"],[0.6666666666666666,\"#ed7953\"],[0.7777777777777778,\"#fb9f3a\"],[0.8888888888888888,\"#fdca26\"],[1.0,\"#f0f921\"]]}],\"contourcarpet\":[{\"type\":\"contourcarpet\",\"colorbar\":{\"outlinewidth\":0,\"ticks\":\"\"}}],\"contour\":[{\"type\":\"contour\",\"colorbar\":{\"outlinewidth\":0,\"ticks\":\"\"},\"colorscale\":[[0.0,\"#0d0887\"],[0.1111111111111111,\"#46039f\"],[0.2222222222222222,\"#7201a8\"],[0.3333333333333333,\"#9c179e\"],[0.4444444444444444,\"#bd3786\"],[0.5555555555555556,\"#d8576b\"],[0.6666666666666666,\"#ed7953\"],[0.7777777777777778,\"#fb9f3a\"],[0.8888888888888888,\"#fdca26\"],[1.0,\"#f0f921\"]]}],\"surface\":[{\"type\":\"surface\",\"colorbar\":{\"outlinewidth\":0,\"ticks\":\"\"},\"colorscale\":[[0.0,\"#0d0887\"],[0.1111111111111111,\"#46039f\"],[0.2222222222222222,\"#7201a8\"],[0.3333333333333333,\"#9c179e\"],[0.4444444444444444,\"#bd3786\"],[0.5555555555555556,\"#d8576b\"],[0.6666666666666666,\"#ed7953\"],[0.7777777777777778,\"#fb9f3a\"],[0.8888888888888888,\"#fdca26\"],[1.0,\"#f0f921\"]]}],\"mesh3d\":[{\"type\":\"mesh3d\",\"colorbar\":{\"outlinewidth\":0,\"ticks\":\"\"}}],\"scatter\":[{\"fillpattern\":{\"fillmode\":\"overlay\",\"size\":10,\"solidity\":0.2},\"type\":\"scatter\"}],\"parcoords\":[{\"type\":\"parcoords\",\"line\":{\"colorbar\":{\"outlinewidth\":0,\"ticks\":\"\"}}}],\"scatterpolargl\":[{\"type\":\"scatterpolargl\",\"marker\":{\"colorbar\":{\"outlinewidth\":0,\"ticks\":\"\"}}}],\"bar\":[{\"error_x\":{\"color\":\"#2a3f5f\"},\"error_y\":{\"color\":\"#2a3f5f\"},\"marker\":{\"line\":{\"color\":\"#E5ECF6\",\"width\":0.5},\"pattern\":{\"fillmode\":\"overlay\",\"size\":10,\"solidity\":0.2}},\"type\":\"bar\"}],\"scattergeo\":[{\"type\":\"scattergeo\",\"marker\":{\"colorbar\":{\"outlinewidth\":0,\"ticks\":\"\"}}}],\"scatterpolar\":[{\"type\":\"scatterpolar\",\"marker\":{\"colorbar\":{\"outlinewidth\":0,\"ticks\":\"\"}}}],\"histogram\":[{\"marker\":{\"pattern\":{\"fillmode\":\"overlay\",\"size\":10,\"solidity\":0.2}},\"type\":\"histogram\"}],\"scattergl\":[{\"type\":\"scattergl\",\"marker\":{\"colorbar\":{\"outlinewidth\":0,\"ticks\":\"\"}}}],\"scatter3d\":[{\"type\":\"scatter3d\",\"line\":{\"colorbar\":{\"outlinewidth\":0,\"ticks\":\"\"}},\"marker\":{\"colorbar\":{\"outlinewidth\":0,\"ticks\":\"\"}}}],\"scattermapbox\":[{\"type\":\"scattermapbox\",\"marker\":{\"colorbar\":{\"outlinewidth\":0,\"ticks\":\"\"}}}],\"scatterternary\":[{\"type\":\"scatterternary\",\"marker\":{\"colorbar\":{\"outlinewidth\":0,\"ticks\":\"\"}}}],\"scattercarpet\":[{\"type\":\"scattercarpet\",\"marker\":{\"colorbar\":{\"outlinewidth\":0,\"ticks\":\"\"}}}],\"carpet\":[{\"aaxis\":{\"endlinecolor\":\"#2a3f5f\",\"gridcolor\":\"white\",\"linecolor\":\"white\",\"minorgridcolor\":\"white\",\"startlinecolor\":\"#2a3f5f\"},\"baxis\":{\"endlinecolor\":\"#2a3f5f\",\"gridcolor\":\"white\",\"linecolor\":\"white\",\"minorgridcolor\":\"white\",\"startlinecolor\":\"#2a3f5f\"},\"type\":\"carpet\"}],\"table\":[{\"cells\":{\"fill\":{\"color\":\"#EBF0F8\"},\"line\":{\"color\":\"white\"}},\"header\":{\"fill\":{\"color\":\"#C8D4E3\"},\"line\":{\"color\":\"white\"}},\"type\":\"table\"}],\"barpolar\":[{\"marker\":{\"line\":{\"color\":\"#E5ECF6\",\"width\":0.5},\"pattern\":{\"fillmode\":\"overlay\",\"size\":10,\"solidity\":0.2}},\"type\":\"barpolar\"}],\"pie\":[{\"automargin\":true,\"type\":\"pie\"}]},\"layout\":{\"autotypenumbers\":\"strict\",\"colorway\":[\"#636efa\",\"#EF553B\",\"#00cc96\",\"#ab63fa\",\"#FFA15A\",\"#19d3f3\",\"#FF6692\",\"#B6E880\",\"#FF97FF\",\"#FECB52\"],\"font\":{\"color\":\"#2a3f5f\"},\"hovermode\":\"closest\",\"hoverlabel\":{\"align\":\"left\"},\"paper_bgcolor\":\"white\",\"plot_bgcolor\":\"#E5ECF6\",\"polar\":{\"bgcolor\":\"#E5ECF6\",\"angularaxis\":{\"gridcolor\":\"white\",\"linecolor\":\"white\",\"ticks\":\"\"},\"radialaxis\":{\"gridcolor\":\"white\",\"linecolor\":\"white\",\"ticks\":\"\"}},\"ternary\":{\"bgcolor\":\"#E5ECF6\",\"aaxis\":{\"gridcolor\":\"white\",\"linecolor\":\"white\",\"ticks\":\"\"},\"baxis\":{\"gridcolor\":\"white\",\"linecolor\":\"white\",\"ticks\":\"\"},\"caxis\":{\"gridcolor\":\"white\",\"linecolor\":\"white\",\"ticks\":\"\"}},\"coloraxis\":{\"colorbar\":{\"outlinewidth\":0,\"ticks\":\"\"}},\"colorscale\":{\"sequential\":[[0.0,\"#0d0887\"],[0.1111111111111111,\"#46039f\"],[0.2222222222222222,\"#7201a8\"],[0.3333333333333333,\"#9c179e\"],[0.4444444444444444,\"#bd3786\"],[0.5555555555555556,\"#d8576b\"],[0.6666666666666666,\"#ed7953\"],[0.7777777777777778,\"#fb9f3a\"],[0.8888888888888888,\"#fdca26\"],[1.0,\"#f0f921\"]],\"sequentialminus\":[[0.0,\"#0d0887\"],[0.1111111111111111,\"#46039f\"],[0.2222222222222222,\"#7201a8\"],[0.3333333333333333,\"#9c179e\"],[0.4444444444444444,\"#bd3786\"],[0.5555555555555556,\"#d8576b\"],[0.6666666666666666,\"#ed7953\"],[0.7777777777777778,\"#fb9f3a\"],[0.8888888888888888,\"#fdca26\"],[1.0,\"#f0f921\"]],\"diverging\":[[0,\"#8e0152\"],[0.1,\"#c51b7d\"],[0.2,\"#de77ae\"],[0.3,\"#f1b6da\"],[0.4,\"#fde0ef\"],[0.5,\"#f7f7f7\"],[0.6,\"#e6f5d0\"],[0.7,\"#b8e186\"],[0.8,\"#7fbc41\"],[0.9,\"#4d9221\"],[1,\"#276419\"]]},\"xaxis\":{\"gridcolor\":\"white\",\"linecolor\":\"white\",\"ticks\":\"\",\"title\":{\"standoff\":15},\"zerolinecolor\":\"white\",\"automargin\":true,\"zerolinewidth\":2},\"yaxis\":{\"gridcolor\":\"white\",\"linecolor\":\"white\",\"ticks\":\"\",\"title\":{\"standoff\":15},\"zerolinecolor\":\"white\",\"automargin\":true,\"zerolinewidth\":2},\"scene\":{\"xaxis\":{\"backgroundcolor\":\"#E5ECF6\",\"gridcolor\":\"white\",\"linecolor\":\"white\",\"showbackground\":true,\"ticks\":\"\",\"zerolinecolor\":\"white\",\"gridwidth\":2},\"yaxis\":{\"backgroundcolor\":\"#E5ECF6\",\"gridcolor\":\"white\",\"linecolor\":\"white\",\"showbackground\":true,\"ticks\":\"\",\"zerolinecolor\":\"white\",\"gridwidth\":2},\"zaxis\":{\"backgroundcolor\":\"#E5ECF6\",\"gridcolor\":\"white\",\"linecolor\":\"white\",\"showbackground\":true,\"ticks\":\"\",\"zerolinecolor\":\"white\",\"gridwidth\":2}},\"shapedefaults\":{\"line\":{\"color\":\"#2a3f5f\"}},\"annotationdefaults\":{\"arrowcolor\":\"#2a3f5f\",\"arrowhead\":0,\"arrowwidth\":1},\"geo\":{\"bgcolor\":\"white\",\"landcolor\":\"#E5ECF6\",\"subunitcolor\":\"white\",\"showland\":true,\"showlakes\":true,\"lakecolor\":\"white\"},\"title\":{\"x\":0.05},\"mapbox\":{\"style\":\"light\"}}},\"legend\":{\"tracegroupgap\":0},\"margin\":{\"t\":60}},                        {\"responsive\": true}                    ).then(function(){\n",
              "                            \n",
              "var gd = document.getElementById('11a48709-decc-4b83-a0a5-9560b7c641f4');\n",
              "var x = new MutationObserver(function (mutations, observer) {{\n",
              "        var display = window.getComputedStyle(gd).display;\n",
              "        if (!display || display === 'none') {{\n",
              "            console.log([gd, 'removed!']);\n",
              "            Plotly.purge(gd);\n",
              "            observer.disconnect();\n",
              "        }}\n",
              "}});\n",
              "\n",
              "// Listen for the removal of the full notebook cells\n",
              "var notebookContainer = gd.closest('#notebook-container');\n",
              "if (notebookContainer) {{\n",
              "    x.observe(notebookContainer, {childList: true});\n",
              "}}\n",
              "\n",
              "// Listen for the clearing of the current output cell\n",
              "var outputEl = gd.closest('.output');\n",
              "if (outputEl) {{\n",
              "    x.observe(outputEl, {childList: true});\n",
              "}}\n",
              "\n",
              "                        })                };                            </script>        </div>\n",
              "</body>\n",
              "</html>"
            ]
          },
          "metadata": {}
        }
      ]
    },
    {
      "cell_type": "markdown",
      "source": [
        "At first glance. There is really not a lot of clustering.  But adding on the LDA clusters could reveal something interesting."
      ],
      "metadata": {
        "id": "vqmaWANcllHb"
      }
    },
    {
      "cell_type": "code",
      "source": [
        "import plotly.express as px\n",
        "fig = px.parallel_coordinates(X_cs,color = result[\"lda_cluster\"])\n",
        "fig.show()"
      ],
      "metadata": {
        "colab": {
          "base_uri": "https://localhost:8080/",
          "height": 542
        },
        "id": "qh19KW3Wls_J",
        "outputId": "db92ffe3-dde3-4c54-bb46-b4973c463373"
      },
      "execution_count": 241,
      "outputs": [
        {
          "output_type": "display_data",
          "data": {
            "text/html": [
              "<html>\n",
              "<head><meta charset=\"utf-8\" /></head>\n",
              "<body>\n",
              "    <div>            <script src=\"https://cdnjs.cloudflare.com/ajax/libs/mathjax/2.7.5/MathJax.js?config=TeX-AMS-MML_SVG\"></script><script type=\"text/javascript\">if (window.MathJax && window.MathJax.Hub && window.MathJax.Hub.Config) {window.MathJax.Hub.Config({SVG: {font: \"STIX-Web\"}});}</script>                <script type=\"text/javascript\">window.PlotlyConfig = {MathJaxConfig: 'local'};</script>\n",
              "        <script charset=\"utf-8\" src=\"https://cdn.plot.ly/plotly-2.35.2.min.js\"></script>                <div id=\"b38bf393-ba89-444a-a822-ec8d2718d75a\" class=\"plotly-graph-div\" style=\"height:525px; width:100%;\"></div>            <script type=\"text/javascript\">                                    window.PLOTLYENV=window.PLOTLYENV || {};                                    if (document.getElementById(\"b38bf393-ba89-444a-a822-ec8d2718d75a\")) {                    Plotly.newPlot(                        \"b38bf393-ba89-444a-a822-ec8d2718d75a\",                        [{\"dimensions\":[{\"label\":\"0\",\"values\":[0.24025995113267293,0.18667335361328585,-1.079521233889022,0.23042634810770382,-0.4310946871065353,0.23052568136674256,-0.6671872116418753,-1.6088677146004713,1.3610087918244382,0.10116537791478229,-0.03818482444706668,-0.8146334986552825,0.0567560207232826,-0.969923128269417,0.50959435247228,3.104031344259257,0.3061223781388531,-1.1673273637475312,0.03742684163725996,0.1588480120230707,0.6332369965672605,0.4701752007161906,1.257843544518197,-0.3854287310742545,0.6469081229306245,5.643109616234207,-1.1622172909348865,0.02462401895159474,-0.917958355050462,0.0896872420472957,1.0487120957917162,-0.4156519454364354,1.0423504609613514,0.8716991953930319,-0.5190955639376936,0.3934922399689996,0.007315576320176624,1.4432503961481709,0.6798588893987152,-0.2875314258797566,-1.4946742742924195,1.0831255233869412,-0.19764330605406957,0.4018333574916766,0.8578586700043147,-0.5631368884990576,0.60435225375756,0.0378858901197091,0.911733180499238,1.2159645742282592,0.6760935139463418,0.29478448359457227,0.16078518189659824,1.408092393524992,0.3105682661993936,-1.5287562216617798,0.9434462272850719,-0.8464688213248306,1.1855743466131357,-0.7681732892258893,1.7639583743177243,0.3000680468876407,-0.08722278071874562,-0.5784698444873825,-1.814590013926934,1.4548191914717266,-1.0138281933126272,0.04016729326903963,-1.1675243638030501,1.2826223720075318,0.7199758816806908,-0.0009787326834486958,-0.704673435464041,2.8075194476645606,-1.1143095894714083,0.627386170520353,0.8173165443337258,1.2756516237076503,-0.35742326941370023,-0.19149463679541184,0.23425561444276297,0.20013656486122852,0.2578310799353988,0.11181079844537901,0.9675844181107885,-0.19954542280976523,0.31818671702676343,-0.29358518917392823,-0.6117077233146896,0.34975312982214973,0.7932457739386105,0.9696518567641578,0.27151819597491883,0.4141644228491449,0.28231221929076855,0.6251787239328114,-0.1766024531979481,1.5371668255501854,-0.04386511849450194,0.04604027858034012,-0.11590252163407985,1.4855219956759667,1.612429344507702,-0.05934264873391332,0.2717523741364244,-0.9370710189806117,-0.23490227674852834,1.2028643927691476,-1.137418489708521,-0.11508737069144755,-0.9741704126732595,-1.2778504719940351,0.6434065376907486,-0.8534180932105271,0.307304120610142,-1.5369824557865428,-0.3224972263149151,-0.38437468279177056,-0.8521152910671068,-1.0479217272073167,0.43959054041223694,0.11558634580577606,0.1910325304199814,-1.0917593768341485,-0.9688702576447116,-1.528328343313221,1.0904062801219372,-1.2979708678442372,-0.37108785768567154,-0.1600852922888659,2.030336291289525,0.4012858752377697,1.1007235674463438,0.25406227546888593,-0.7226504245170868,-0.973474480840596,0.0876844928684805,-0.0457367751907702,1.7320888320109513,0.39208381368915174,1.8460103927747342,0.06856094623922672,0.5051069732133171,-1.2482400219366894,-1.0086399454478598,0.4663620768119825,-0.36932730850803663,-0.33590627048055166,0.020328290754359435,0.9617116513974403,0.306861425374563,0.6142644528900755,0.5468525179592034,1.8379988106917953,-0.4506208463146248,-1.103307755758756,0.0798051018562329,-0.61843019462647,-0.7119001898620264,0.47905031472680837,-0.605167621401545,-1.1141010565285503,0.31286248105754266,-1.0046371051526848,0.03905569124291818,-1.2775128919426488,1.0646634095204441,0.4014715653926867,-1.3806126029900303,-1.202510097256849,-0.7598626203918789,0.7993417224715925,2.255499034163861,-0.7289893920848548,-0.6889247152862733,0.24420212720115203,1.5525653545657851,-0.06601448199531457,0.5340916523318772,-0.3558713366528259,-0.9623606558393445,1.408940620947745,-0.08850878066142566,-1.3360573238789268,0.7382992090379986,-0.7238380320707477,0.270346171320601,-0.8312137292133011,0.1817954134134158,-1.4628692826434146,1.303324809667731,-0.415447360633388,0.9019549775989887,0.4817100221558742,-1.8194359416910206,-0.21486006149925546,-0.22810014225976918,-0.7356271447262492,-1.4303742846192369,0.9552358916274316,-0.7178306847992764,1.1950596731089977,-2.458984266620945,-0.25459547954704576,0.009575714927507195,-0.5299962792481157,-1.090300198924156,-0.6181101731093954,-1.7608505390741322,0.5656266534662037,-0.7812529921517108,-0.43040650933235636,-0.7836484694239503,-0.8967714186798056,-1.2257627095975177,-0.1078633035895987,-1.0849770315231133,0.25287995793801277,-0.6345984506017558,-0.14619152173004415,-0.2793122411859633,-0.4323400078294103,-1.1258980972830521,0.5816357905465575,1.2154540335126682,-0.008627867628076708,0.487394276569404,1.1720838168018777,-0.02285464123652448,5.9475212133884305,-0.4037144393969525,-0.2841342470889681,-0.5474812080690165,-0.5182772919876251,1.7792795282351752,-1.203171045299065,-1.0374039928231613,-0.11799791385826539,-0.8908357568538218,-0.5280097048736266,-0.3715614497096443,-0.3487276023113545,-0.4403837036778018,-0.012068147303192759,1.2661342886545839,-0.4088532280681987,-1.2692996303193484,-0.5435027665641738,-0.8426972656243648,0.89107969203152,-0.11080508898843519,-1.8916471513529414,2.618538881242353,-0.013471809097740532,-1.0302136087937426,-0.4746571409214281,0.15898860706544338,-1.652025489911058,-1.107941929610186,-0.6192162015671826,-0.38907827168810855,1.0780234257250307,0.8774639284384567,-0.07083683538546484,0.15543033775718892,-0.4768743265593667,-1.0434313680654903,0.5826724635061925,0.8190079920930821,-0.9164974973869349,-1.267077308336456,-1.1205217414052175,-0.18196215792075068,0.18274728537971638,1.810663122389567,-0.024319734845442878,-0.5271118066174124,0.17142546397464076,-1.0080347305328532,0.5258953712955861,0.05036951973954334,-0.48115143805952937,-1.016615448225389,-0.49584707838733716,0.3284974967255176,-0.6943746620368898,-0.3909721134241986,0.8500163641679739,-0.46214084676954326,-0.16084046596688067,-1.3813947971737228,0.24746437576690603,0.2626274606870986,0.1821815244821213,-0.9095384552820784,-0.3739368674782858,-0.09855726360421896,0.025123003616939844,1.4298323986510175,-0.8733825943813005,1.2163660445901419,-1.3527130504583653,0.13483390334372378,0.2943258213960375,-0.053607609713859236,0.3792236717211003,-0.8916396387388703,0.7033875741593539,-0.15215187510584977,1.0993547074615522,-1.2451287398626585,-0.5662480981343618,0.4870672350752908,1.051689139087801,1.1450154238124224,-0.9839509508623953,0.02736367029226552,0.6738463488881059,0.40958411891854035,-0.37359379156691214,-0.6643191542791911]},{\"label\":\"1\",\"values\":[0.01937059570371834,0.1373036896979494,-1.1817088484341276,0.12659489108372274,-0.29966353535413054,-0.006765022514992425,-0.9965059669010035,-1.1521247140408661,1.0080624216494831,-0.10055351151293686,-0.14447969809779265,-0.7614779340597215,0.16166735253659642,-0.7728236953824665,0.36310100509295606,2.8308694938632235,0.5024203097780853,-0.9844241167241089,0.07579394626726846,0.15246469381332334,0.7684652088024558,0.35713605867984094,1.2533244081134878,-0.3623385051657773,1.0616614846861543,6.903481134225623,-1.0794613880005564,0.40258982892487116,-0.5158973484218285,-0.22154107264336023,0.8618142326383059,-0.17663404318589956,0.5881558848338387,1.107778547034783,-0.5492410911819497,0.2104870767941574,-0.19431937867476134,1.2655804168620017,0.9420874767117678,-0.3712246837899851,-1.0318959421873777,0.876710407703846,-0.36436127063277157,0.7366026102226407,1.063521771641108,-0.7506654696123349,0.18135418406082585,0.1059761286328385,1.061821152187284,1.4275538641618306,0.781205070080778,0.14161175221880587,-0.36364433551483905,1.3217901532040748,0.8364353806248704,-1.4853765367626355,1.286309373435011,-0.9735419492031782,1.1797566652946476,-0.742035943960058,1.7629290587736093,0.201923492982364,-0.3496121631690184,-0.6642414039780657,-1.8005813485094198,1.237274542066324,-1.2204648909480247,0.741702141827268,-1.1107031974308939,1.0275390816777057,0.6686308011306744,-0.054117234517877165,-0.5760229183375397,2.6734242803885238,-1.0646454531548286,0.662910705747661,0.5899224098665651,1.4021738188739281,-0.21370288717764893,-0.24608542350314505,-0.02039716521683682,0.39258475378459146,0.4551441374309484,0.14895750584589193,0.557610874534282,-0.26650768746334264,0.8173018706247651,-0.295786889685501,-0.35649827392893174,0.6403139411859748,1.1155206293917086,1.030764919421174,0.5273050678884468,0.1190347700810087,0.4452845086884321,0.3334473599733279,-0.27454371451536175,1.4815921610280331,0.5786236888401758,0.32735125803734266,-0.22933290033867232,1.2917872608714762,1.317122030861665,0.03228407576970422,0.6788117140813607,-0.604826720378414,-0.34505070378815617,1.1145950430622031,-1.1079139930023654,-0.008726136184606166,-0.013677151644639986,-0.9797165948540472,0.38892932196167385,-0.4229104952963431,0.46825507561827046,-1.5298780014685145,-0.20257324035505436,0.034837918471951584,-1.1882180485267253,-0.5677654999245395,0.23796564502728837,0.35342242467909274,0.1667659815176921,0.2206108804241368,-1.0716685812558333,-1.246269673079871,0.46170874988140503,-1.3163978774881475,-0.36557311225472405,-0.043033598534354754,1.9042384285944771,0.8763317663554954,0.8020450924557518,0.455711291982836,-0.11236816713640789,-0.7139431533353849,0.1394684973360149,0.39137645409726457,1.8806499500790888,0.5091021087087314,2.0589722449058616,0.17685298159406448,0.9700914089547283,-1.320462762158972,-0.46764067868442205,0.3915270466025726,-0.6504577119487462,-0.24556148161019517,-0.21818912375132601,0.9095617848676416,-0.1893076788571572,0.6789608467319055,0.754373476893325,2.0918488609148596,-0.49557939842071513,-0.9346730005688592,0.10631749126955278,-0.7375507570942513,-0.7572175047485765,0.6341708991574969,-0.7658610890484487,-0.42924269921356306,-0.2524919268897758,-0.9989519889274613,0.11418075056327388,-1.3256485403633316,1.119264512956248,0.023760154323533397,-1.3597577623542698,-1.090388734571358,-0.8906953204247794,1.057934774290781,2.171387621943462,-0.23810796976892162,-0.3943087484002527,0.024340729541038286,1.789687825976317,-0.1926391884911226,0.4936838252323569,-0.32712220048617885,-1.1178112871528036,1.6753080198072823,-0.22427503057473608,-0.9787971798721568,0.7475102704456097,-0.9187124828587815,0.11147267156699968,-1.0624547174648016,0.26491948243745456,-1.3523414599106567,0.9804146326725901,-0.7489575321075318,1.7523813258479202,0.2002641237759415,-1.8049531742726246,-0.22367513992766538,-0.3889281897228021,-0.9070617175237751,-1.4720518201596173,0.9779111221828938,-0.8551549146876483,1.01105674939143,-2.6361538240666027,-0.5449346774089697,-0.2117735682065407,-0.23240825185786157,-1.3385941694685053,-0.3898085049451075,-1.9019678966721039,1.4171627408840117,-0.48568127851733406,-0.5957541232959835,-0.6662893906990361,-1.1114849734686352,-0.9935937144891526,-0.1165921617889831,-1.0142217850787933,0.6133245157951709,-0.7042041940516178,-0.22134012922202362,-0.7399323903462831,-0.41227253889120224,-1.1007189320510196,0.44798883635956216,0.9351855190204221,-0.019091584997364304,0.6761413737438186,0.7337929332437126,-0.30438567383486737,5.345721751730578,-0.5928975135980604,-0.3351464357661339,-0.4455472320379942,-0.9662155473938819,1.9130795400890677,-0.4307776824032534,-0.8120388943943937,0.11011344355844953,-0.6578022204375642,-0.7358190972156421,-0.7033556101415538,-0.6660387527351785,-0.9928487312475486,0.0367661925855305,0.9928391151962321,-0.6857865911192281,-0.9993032887544204,-0.7220026568696695,-0.9861039424277915,0.9858763779796329,0.05992631455100302,-1.7455371606695307,2.592221690947207,-0.09227154629982313,-1.0031958842199762,-0.5698959992245023,-0.13003662427088442,-1.5695392454092765,-1.2909427850192263,-0.34252653839909597,0.13052313882225175,0.6675424442454083,0.8201449647644637,-0.18043208573287808,-0.3980498292614463,-0.39988590819527203,-1.0764994061936184,-0.0235619850717606,1.0065849903104953,-0.785128622035691,-1.2700556136726164,-1.2079954710231287,-0.45368509771791593,0.5658971140282882,1.123848409386267,-0.24684914231221974,-0.388519216530797,0.26149149233204416,-1.1305955686329425,0.09704099431922118,-0.19535064964614499,-0.42832493849353703,0.05051533074256038,-0.3592294863004268,0.0008581086777619979,-0.8158190022515628,-0.4966022721520477,0.8147992317364902,-0.5707658337503227,-0.36368098561434453,-1.4185646436008337,-0.047489018798369434,0.13099856028704723,-0.006065005355719329,-0.8962622626793789,-0.6964490715793682,-0.10751537054764444,-0.0951657990166927,1.2443935825778285,-0.880513880203912,0.8070795027909248,-1.383413317297036,-0.18032588913358258,0.1142727798968911,0.13923856111718547,-0.056610213605802366,-1.091767645790313,0.6825718290549511,-0.5424267805212638,0.9724353104534412,-1.1260551210395442,-0.5031293449261778,0.06387790605678169,0.9596175547256195,0.5931762064131448,-1.052025777272951,0.1685443265302318,0.433973818156402,0.36742932696432073,-0.7324227474510927,-0.8037396659298995]},{\"label\":\"2\",\"values\":[0.022885017955532497,0.7223138330008214,-0.9235952384372752,0.225464283373371,-0.01765254623189829,0.07350522343391377,-0.6423259055207494,-1.6896033518301912,0.8715224866273219,-0.2002278017834818,-0.11661858509921258,-0.47819743914492113,0.9228952705232899,-0.8817672397338385,-0.3373530528890413,2.197265086784677,0.46564782030000684,-0.7187308219514033,0.12774276703161533,0.2552724807876435,0.92802657074542,0.40319697734012144,0.9668554125958948,-0.6539062269137047,0.6052878057224715,8.11484408192148,-0.27168212834804656,-0.06131390245958186,-0.6293687692195572,0.2893432412201881,0.8991668121171374,1.1512520401967494,1.1295644106060274,0.39810047219188965,-0.01743923289969117,0.29890574061081054,-0.28729371132023285,0.9032428462178732,0.8899425435409889,0.11168459920912154,-1.2623799716590536,0.5638685270266596,-0.17133544911280024,1.0237050299844952,0.65565166637759,-0.5417587306576155,-0.37281993318852014,0.47391894270965074,0.8146649356630561,1.2242471866744893,0.7079942407504956,0.4617316285168573,-0.20548760134683863,2.2419922248609883,0.47281228966356126,-1.2584254365248486,0.7799931434292982,-1.0797776785695452,0.6816307370856192,0.4894247507705741,1.8425495758820967,-0.19772638440657933,0.1519624911585459,-0.5379267063907736,-1.907953577201572,1.0385124775374093,-1.0598314745232793,0.8130530839780722,-0.9745568332174108,1.2071723071611575,0.41964993768204906,0.49881853348528543,-0.7477268850345797,2.220543686661059,-1.103542871355204,0.059774995684129244,0.5903706048767914,1.1976615366703045,-0.5501757252154256,-0.007576828983676835,0.04485696499239169,-0.06985039981540586,0.42808692505204304,0.03876920867910026,1.0732485853599183,0.18832986133457744,0.4675442752677956,-0.3439231645768268,-0.3482560056122977,1.0519783930824285,1.0618320964087267,0.9221474777916707,0.35470520921456394,0.30098338046342327,0.09906767132321535,0.7161878916489285,-0.25247833112506934,1.1196891693194386,0.08483905796837858,0.3221042476689486,0.04305088429590764,1.009276308374095,0.997911535656913,0.5546617258332774,-0.20136394454974446,-0.653120651492245,-0.08459348176820329,0.812458737453325,-1.1683417963892704,0.6207054808447335,-0.8459994556234064,-1.3370948333949517,0.515398265997596,-0.7079843215110267,0.4128850978762704,-1.524483985799108,-0.23063852816056551,-0.4426320449716537,-0.6737028650787866,-1.0667808590737804,0.7141974810772297,0.46387538699974107,0.5529377047161935,-0.42843737304175283,-1.243159207746641,-1.4201768636081868,0.9139536924702732,-1.3662980787814998,-0.3176124913218525,0.13059117161957637,1.5178429168728629,0.5625142141868484,1.1026816203885526,0.6740244872681075,-0.553082845924273,-0.9736693164804745,0.19165261164102326,0.2675556992354513,1.4544771964140575,0.3934751932398136,2.143516073448547,0.01764694615876342,0.5419918330997243,-1.1929354255665958,-0.8735419948932307,-0.24982023944938003,-0.6044114699940585,-0.11104861589590177,0.13882159334787117,0.7648371738407598,-0.5596107408626775,0.7244524330882197,0.5629180541134635,1.7474632961682706,-0.3354163991285102,-0.8036895966303663,-0.29553006475382976,-0.9241798141849861,-0.6807272124950777,0.7520320201028348,-0.4103490642183816,-0.8603053529208625,-0.4277849780182679,-0.7187945059252284,-0.19913124639183682,-0.5949678504970952,0.9235328300008794,0.3135620506692908,-1.4690808222244216,-0.7538643069164224,-1.0692324485434994,0.9151291428292915,1.646265850617486,-0.7824860779884021,-0.6560136206494148,0.012256793706228012,1.7844735889029184,0.3052745474411654,-0.02676652190358091,-0.15444177604210155,-1.2028038684679867,1.1511090963757244,-0.31891710499663073,-1.5450817192860846,0.8881648403725588,-1.0117581100875734,0.08468426325816604,-0.5031690177754707,0.4598284719379606,-0.5626740392139629,1.0772397253043382,-0.348476038549246,1.1713992688417902,0.34946923034427607,-2.0211792163271554,-0.13186712869571768,-0.3799392358428025,-0.8780084045759737,-1.2947403250540752,0.745041991313091,-0.8933018338413813,0.6746701338946999,-3.102753455475183,-0.5736355095248187,-0.32990765483729767,-0.3972480698437014,-0.9856007347678236,-0.2685203635343062,-2.041710489576148,0.9672949440739377,-0.3819219139386346,-0.9517630830805297,-0.6458284999557158,-1.3371229670086275,-1.0242677050433842,0.04577822492804897,-0.7179393943412435,0.4197422902918305,-0.5123012972161585,-0.39837067252903213,-0.5790770527384083,-0.2977970609077955,-0.9733114006893198,0.5986169060989442,0.6059346361723429,0.3198757859814276,0.6954892318379945,0.5831057486062591,-0.2866044219850442,5.578793869953028,0.3722753820989629,0.041831024181100386,-0.5153868719482533,-0.7701451377427576,1.8017210604454694,-0.9692941362313261,-0.9958447165693582,-0.09404685829498832,-0.2513738779931863,-0.7443457603215062,-0.6379151525317033,-0.39322740898517083,-0.3435180666445871,0.13192438041298926,0.7528820276866499,-0.62164744073124,-1.3362209624869072,-0.507901962845047,-1.0406026182000454,0.4041003105786452,0.7938742736212496,-1.1789608798725209,2.5600914135828616,-0.23800017859032976,-0.887104715061172,-0.4032482576397883,0.0020016569798650525,-1.299286089386828,-1.2604555635884558,-0.09251015839881795,-0.4220945677954063,0.8888612031498356,-0.02662461933385562,-0.4532264666100422,-0.12099775218575956,-0.29654439737825417,-0.8935871773916457,-0.29450918488742023,0.9710096575093562,-1.006568754002738,-1.2615511799044894,-1.223414751195388,-0.25040428255471847,0.7121520339796265,1.386194669550352,0.19101650593591304,-0.5104691951889925,0.33222479562222273,-1.081554713588215,-0.04502382889662595,0.008876775110781035,-0.4895503676556017,-1.039846977424866,-0.5122690888711091,0.283700537557187,-0.6812864561988919,-0.5432628602724974,0.6142569195753617,-0.5233611121500407,-0.39943584122789016,-1.1968896221555418,0.0260083089821439,0.5348293968422193,0.20126272314022906,-1.0650059614464389,-0.5628949508818032,0.3832476488942837,-0.3407469326086966,0.6594017758319298,-0.8270280075433815,0.49469169962899684,-0.9873157993241889,-0.5437594333974337,0.10535618227092895,0.11196750525176744,0.03397903986108257,-1.026639295735714,0.609465836617486,-0.5504413864824844,1.2929971516297507,-1.322041004661307,-0.6414418509969422,0.4404079136703511,1.0343163283444048,0.899569591186562,-0.8471465505631682,0.08619337633376523,0.741241697873534,0.09986721558627401,-0.47839766705139675,-0.6424854185818525]},{\"label\":\"color\",\"values\":[1,1,1,1,1,1,1,1,3,1,1,1,1,1,1,3,1,1,1,1,3,1,3,1,3,2,1,1,1,1,3,1,3,3,1,1,1,3,3,1,1,3,1,3,3,1,1,1,3,3,3,1,1,3,3,1,3,1,3,1,3,1,1,1,1,3,1,1,1,3,3,1,1,3,1,1,3,3,1,1,1,1,1,1,3,1,3,1,1,3,3,3,1,1,1,1,1,3,1,1,1,3,3,1,1,1,1,3,1,1,1,1,1,1,1,1,1,1,1,1,1,1,1,1,1,1,3,1,1,1,3,3,3,1,1,1,1,1,3,1,3,1,3,1,1,1,1,1,1,3,1,3,3,3,1,1,1,1,1,3,1,1,1,1,1,1,3,1,1,1,1,3,3,1,1,1,3,1,1,1,1,3,1,1,3,1,1,1,1,1,3,1,3,1,1,1,1,1,1,3,1,3,1,1,1,1,1,1,1,3,1,1,1,1,1,1,1,1,1,1,1,1,1,1,3,1,3,3,1,2,1,1,1,1,3,1,1,1,1,1,1,1,1,1,3,1,1,1,1,3,1,1,3,1,1,1,1,1,1,1,1,3,3,1,1,1,1,1,3,1,1,1,1,1,3,1,1,1,1,1,1,1,1,1,1,1,1,3,1,1,1,1,1,1,1,1,1,1,3,1,3,1,1,1,1,1,1,3,1,3,1,1,1,3,3,1,1,1,1,1,1]}],\"domain\":{\"x\":[0.0,1.0],\"y\":[0.0,1.0]},\"line\":{\"color\":[1,1,1,1,1,1,1,1,3,1,1,1,1,1,1,3,1,1,1,1,3,1,3,1,3,2,1,1,1,1,3,1,3,3,1,1,1,3,3,1,1,3,1,3,3,1,1,1,3,3,3,1,1,3,3,1,3,1,3,1,3,1,1,1,1,3,1,1,1,3,3,1,1,3,1,1,3,3,1,1,1,1,1,1,3,1,3,1,1,3,3,3,1,1,1,1,1,3,1,1,1,3,3,1,1,1,1,3,1,1,1,1,1,1,1,1,1,1,1,1,1,1,1,1,1,1,3,1,1,1,3,3,3,1,1,1,1,1,3,1,3,1,3,1,1,1,1,1,1,3,1,3,3,3,1,1,1,1,1,3,1,1,1,1,1,1,3,1,1,1,1,3,3,1,1,1,3,1,1,1,1,3,1,1,3,1,1,1,1,1,3,1,3,1,1,1,1,1,1,3,1,3,1,1,1,1,1,1,1,3,1,1,1,1,1,1,1,1,1,1,1,1,1,1,3,1,3,3,1,2,1,1,1,1,3,1,1,1,1,1,1,1,1,1,3,1,1,1,1,3,1,1,3,1,1,1,1,1,1,1,1,3,3,1,1,1,1,1,3,1,1,1,1,1,3,1,1,1,1,1,1,1,1,1,1,1,1,3,1,1,1,1,1,1,1,1,1,1,3,1,3,1,1,1,1,1,1,3,1,3,1,1,1,3,3,1,1,1,1,1,1],\"coloraxis\":\"coloraxis\"},\"name\":\"\",\"type\":\"parcoords\"}],                        {\"template\":{\"data\":{\"histogram2dcontour\":[{\"type\":\"histogram2dcontour\",\"colorbar\":{\"outlinewidth\":0,\"ticks\":\"\"},\"colorscale\":[[0.0,\"#0d0887\"],[0.1111111111111111,\"#46039f\"],[0.2222222222222222,\"#7201a8\"],[0.3333333333333333,\"#9c179e\"],[0.4444444444444444,\"#bd3786\"],[0.5555555555555556,\"#d8576b\"],[0.6666666666666666,\"#ed7953\"],[0.7777777777777778,\"#fb9f3a\"],[0.8888888888888888,\"#fdca26\"],[1.0,\"#f0f921\"]]}],\"choropleth\":[{\"type\":\"choropleth\",\"colorbar\":{\"outlinewidth\":0,\"ticks\":\"\"}}],\"histogram2d\":[{\"type\":\"histogram2d\",\"colorbar\":{\"outlinewidth\":0,\"ticks\":\"\"},\"colorscale\":[[0.0,\"#0d0887\"],[0.1111111111111111,\"#46039f\"],[0.2222222222222222,\"#7201a8\"],[0.3333333333333333,\"#9c179e\"],[0.4444444444444444,\"#bd3786\"],[0.5555555555555556,\"#d8576b\"],[0.6666666666666666,\"#ed7953\"],[0.7777777777777778,\"#fb9f3a\"],[0.8888888888888888,\"#fdca26\"],[1.0,\"#f0f921\"]]}],\"heatmap\":[{\"type\":\"heatmap\",\"colorbar\":{\"outlinewidth\":0,\"ticks\":\"\"},\"colorscale\":[[0.0,\"#0d0887\"],[0.1111111111111111,\"#46039f\"],[0.2222222222222222,\"#7201a8\"],[0.3333333333333333,\"#9c179e\"],[0.4444444444444444,\"#bd3786\"],[0.5555555555555556,\"#d8576b\"],[0.6666666666666666,\"#ed7953\"],[0.7777777777777778,\"#fb9f3a\"],[0.8888888888888888,\"#fdca26\"],[1.0,\"#f0f921\"]]}],\"heatmapgl\":[{\"type\":\"heatmapgl\",\"colorbar\":{\"outlinewidth\":0,\"ticks\":\"\"},\"colorscale\":[[0.0,\"#0d0887\"],[0.1111111111111111,\"#46039f\"],[0.2222222222222222,\"#7201a8\"],[0.3333333333333333,\"#9c179e\"],[0.4444444444444444,\"#bd3786\"],[0.5555555555555556,\"#d8576b\"],[0.6666666666666666,\"#ed7953\"],[0.7777777777777778,\"#fb9f3a\"],[0.8888888888888888,\"#fdca26\"],[1.0,\"#f0f921\"]]}],\"contourcarpet\":[{\"type\":\"contourcarpet\",\"colorbar\":{\"outlinewidth\":0,\"ticks\":\"\"}}],\"contour\":[{\"type\":\"contour\",\"colorbar\":{\"outlinewidth\":0,\"ticks\":\"\"},\"colorscale\":[[0.0,\"#0d0887\"],[0.1111111111111111,\"#46039f\"],[0.2222222222222222,\"#7201a8\"],[0.3333333333333333,\"#9c179e\"],[0.4444444444444444,\"#bd3786\"],[0.5555555555555556,\"#d8576b\"],[0.6666666666666666,\"#ed7953\"],[0.7777777777777778,\"#fb9f3a\"],[0.8888888888888888,\"#fdca26\"],[1.0,\"#f0f921\"]]}],\"surface\":[{\"type\":\"surface\",\"colorbar\":{\"outlinewidth\":0,\"ticks\":\"\"},\"colorscale\":[[0.0,\"#0d0887\"],[0.1111111111111111,\"#46039f\"],[0.2222222222222222,\"#7201a8\"],[0.3333333333333333,\"#9c179e\"],[0.4444444444444444,\"#bd3786\"],[0.5555555555555556,\"#d8576b\"],[0.6666666666666666,\"#ed7953\"],[0.7777777777777778,\"#fb9f3a\"],[0.8888888888888888,\"#fdca26\"],[1.0,\"#f0f921\"]]}],\"mesh3d\":[{\"type\":\"mesh3d\",\"colorbar\":{\"outlinewidth\":0,\"ticks\":\"\"}}],\"scatter\":[{\"fillpattern\":{\"fillmode\":\"overlay\",\"size\":10,\"solidity\":0.2},\"type\":\"scatter\"}],\"parcoords\":[{\"type\":\"parcoords\",\"line\":{\"colorbar\":{\"outlinewidth\":0,\"ticks\":\"\"}}}],\"scatterpolargl\":[{\"type\":\"scatterpolargl\",\"marker\":{\"colorbar\":{\"outlinewidth\":0,\"ticks\":\"\"}}}],\"bar\":[{\"error_x\":{\"color\":\"#2a3f5f\"},\"error_y\":{\"color\":\"#2a3f5f\"},\"marker\":{\"line\":{\"color\":\"#E5ECF6\",\"width\":0.5},\"pattern\":{\"fillmode\":\"overlay\",\"size\":10,\"solidity\":0.2}},\"type\":\"bar\"}],\"scattergeo\":[{\"type\":\"scattergeo\",\"marker\":{\"colorbar\":{\"outlinewidth\":0,\"ticks\":\"\"}}}],\"scatterpolar\":[{\"type\":\"scatterpolar\",\"marker\":{\"colorbar\":{\"outlinewidth\":0,\"ticks\":\"\"}}}],\"histogram\":[{\"marker\":{\"pattern\":{\"fillmode\":\"overlay\",\"size\":10,\"solidity\":0.2}},\"type\":\"histogram\"}],\"scattergl\":[{\"type\":\"scattergl\",\"marker\":{\"colorbar\":{\"outlinewidth\":0,\"ticks\":\"\"}}}],\"scatter3d\":[{\"type\":\"scatter3d\",\"line\":{\"colorbar\":{\"outlinewidth\":0,\"ticks\":\"\"}},\"marker\":{\"colorbar\":{\"outlinewidth\":0,\"ticks\":\"\"}}}],\"scattermapbox\":[{\"type\":\"scattermapbox\",\"marker\":{\"colorbar\":{\"outlinewidth\":0,\"ticks\":\"\"}}}],\"scatterternary\":[{\"type\":\"scatterternary\",\"marker\":{\"colorbar\":{\"outlinewidth\":0,\"ticks\":\"\"}}}],\"scattercarpet\":[{\"type\":\"scattercarpet\",\"marker\":{\"colorbar\":{\"outlinewidth\":0,\"ticks\":\"\"}}}],\"carpet\":[{\"aaxis\":{\"endlinecolor\":\"#2a3f5f\",\"gridcolor\":\"white\",\"linecolor\":\"white\",\"minorgridcolor\":\"white\",\"startlinecolor\":\"#2a3f5f\"},\"baxis\":{\"endlinecolor\":\"#2a3f5f\",\"gridcolor\":\"white\",\"linecolor\":\"white\",\"minorgridcolor\":\"white\",\"startlinecolor\":\"#2a3f5f\"},\"type\":\"carpet\"}],\"table\":[{\"cells\":{\"fill\":{\"color\":\"#EBF0F8\"},\"line\":{\"color\":\"white\"}},\"header\":{\"fill\":{\"color\":\"#C8D4E3\"},\"line\":{\"color\":\"white\"}},\"type\":\"table\"}],\"barpolar\":[{\"marker\":{\"line\":{\"color\":\"#E5ECF6\",\"width\":0.5},\"pattern\":{\"fillmode\":\"overlay\",\"size\":10,\"solidity\":0.2}},\"type\":\"barpolar\"}],\"pie\":[{\"automargin\":true,\"type\":\"pie\"}]},\"layout\":{\"autotypenumbers\":\"strict\",\"colorway\":[\"#636efa\",\"#EF553B\",\"#00cc96\",\"#ab63fa\",\"#FFA15A\",\"#19d3f3\",\"#FF6692\",\"#B6E880\",\"#FF97FF\",\"#FECB52\"],\"font\":{\"color\":\"#2a3f5f\"},\"hovermode\":\"closest\",\"hoverlabel\":{\"align\":\"left\"},\"paper_bgcolor\":\"white\",\"plot_bgcolor\":\"#E5ECF6\",\"polar\":{\"bgcolor\":\"#E5ECF6\",\"angularaxis\":{\"gridcolor\":\"white\",\"linecolor\":\"white\",\"ticks\":\"\"},\"radialaxis\":{\"gridcolor\":\"white\",\"linecolor\":\"white\",\"ticks\":\"\"}},\"ternary\":{\"bgcolor\":\"#E5ECF6\",\"aaxis\":{\"gridcolor\":\"white\",\"linecolor\":\"white\",\"ticks\":\"\"},\"baxis\":{\"gridcolor\":\"white\",\"linecolor\":\"white\",\"ticks\":\"\"},\"caxis\":{\"gridcolor\":\"white\",\"linecolor\":\"white\",\"ticks\":\"\"}},\"coloraxis\":{\"colorbar\":{\"outlinewidth\":0,\"ticks\":\"\"}},\"colorscale\":{\"sequential\":[[0.0,\"#0d0887\"],[0.1111111111111111,\"#46039f\"],[0.2222222222222222,\"#7201a8\"],[0.3333333333333333,\"#9c179e\"],[0.4444444444444444,\"#bd3786\"],[0.5555555555555556,\"#d8576b\"],[0.6666666666666666,\"#ed7953\"],[0.7777777777777778,\"#fb9f3a\"],[0.8888888888888888,\"#fdca26\"],[1.0,\"#f0f921\"]],\"sequentialminus\":[[0.0,\"#0d0887\"],[0.1111111111111111,\"#46039f\"],[0.2222222222222222,\"#7201a8\"],[0.3333333333333333,\"#9c179e\"],[0.4444444444444444,\"#bd3786\"],[0.5555555555555556,\"#d8576b\"],[0.6666666666666666,\"#ed7953\"],[0.7777777777777778,\"#fb9f3a\"],[0.8888888888888888,\"#fdca26\"],[1.0,\"#f0f921\"]],\"diverging\":[[0,\"#8e0152\"],[0.1,\"#c51b7d\"],[0.2,\"#de77ae\"],[0.3,\"#f1b6da\"],[0.4,\"#fde0ef\"],[0.5,\"#f7f7f7\"],[0.6,\"#e6f5d0\"],[0.7,\"#b8e186\"],[0.8,\"#7fbc41\"],[0.9,\"#4d9221\"],[1,\"#276419\"]]},\"xaxis\":{\"gridcolor\":\"white\",\"linecolor\":\"white\",\"ticks\":\"\",\"title\":{\"standoff\":15},\"zerolinecolor\":\"white\",\"automargin\":true,\"zerolinewidth\":2},\"yaxis\":{\"gridcolor\":\"white\",\"linecolor\":\"white\",\"ticks\":\"\",\"title\":{\"standoff\":15},\"zerolinecolor\":\"white\",\"automargin\":true,\"zerolinewidth\":2},\"scene\":{\"xaxis\":{\"backgroundcolor\":\"#E5ECF6\",\"gridcolor\":\"white\",\"linecolor\":\"white\",\"showbackground\":true,\"ticks\":\"\",\"zerolinecolor\":\"white\",\"gridwidth\":2},\"yaxis\":{\"backgroundcolor\":\"#E5ECF6\",\"gridcolor\":\"white\",\"linecolor\":\"white\",\"showbackground\":true,\"ticks\":\"\",\"zerolinecolor\":\"white\",\"gridwidth\":2},\"zaxis\":{\"backgroundcolor\":\"#E5ECF6\",\"gridcolor\":\"white\",\"linecolor\":\"white\",\"showbackground\":true,\"ticks\":\"\",\"zerolinecolor\":\"white\",\"gridwidth\":2}},\"shapedefaults\":{\"line\":{\"color\":\"#2a3f5f\"}},\"annotationdefaults\":{\"arrowcolor\":\"#2a3f5f\",\"arrowhead\":0,\"arrowwidth\":1},\"geo\":{\"bgcolor\":\"white\",\"landcolor\":\"#E5ECF6\",\"subunitcolor\":\"white\",\"showland\":true,\"showlakes\":true,\"lakecolor\":\"white\"},\"title\":{\"x\":0.05},\"mapbox\":{\"style\":\"light\"}}},\"coloraxis\":{\"colorbar\":{\"title\":{\"text\":\"color\"}},\"colorscale\":[[0.0,\"#0d0887\"],[0.1111111111111111,\"#46039f\"],[0.2222222222222222,\"#7201a8\"],[0.3333333333333333,\"#9c179e\"],[0.4444444444444444,\"#bd3786\"],[0.5555555555555556,\"#d8576b\"],[0.6666666666666666,\"#ed7953\"],[0.7777777777777778,\"#fb9f3a\"],[0.8888888888888888,\"#fdca26\"],[1.0,\"#f0f921\"]]},\"legend\":{\"tracegroupgap\":0},\"margin\":{\"t\":60}},                        {\"responsive\": true}                    ).then(function(){\n",
              "                            \n",
              "var gd = document.getElementById('b38bf393-ba89-444a-a822-ec8d2718d75a');\n",
              "var x = new MutationObserver(function (mutations, observer) {{\n",
              "        var display = window.getComputedStyle(gd).display;\n",
              "        if (!display || display === 'none') {{\n",
              "            console.log([gd, 'removed!']);\n",
              "            Plotly.purge(gd);\n",
              "            observer.disconnect();\n",
              "        }}\n",
              "}});\n",
              "\n",
              "// Listen for the removal of the full notebook cells\n",
              "var notebookContainer = gd.closest('#notebook-container');\n",
              "if (notebookContainer) {{\n",
              "    x.observe(notebookContainer, {childList: true});\n",
              "}}\n",
              "\n",
              "// Listen for the clearing of the current output cell\n",
              "var outputEl = gd.closest('.output');\n",
              "if (outputEl) {{\n",
              "    x.observe(outputEl, {childList: true});\n",
              "}}\n",
              "\n",
              "                        })                };                            </script>        </div>\n",
              "</body>\n",
              "</html>"
            ]
          },
          "metadata": {}
        }
      ]
    },
    {
      "cell_type": "markdown",
      "source": [
        "Neat--well the tree based approach was able to separate these LDA factors really well. Again, we saw some accuracy between LDA and other categories, particularly between an idea of leadership as connection, and maybe leaderhsip in a more authoritative or forward/outward manner. That's really cool."
      ],
      "metadata": {
        "id": "xEmjL751cmcG"
      }
    },
    {
      "cell_type": "markdown",
      "source": [
        "# What can we learn about the data from Kmeans?"
      ],
      "metadata": {
        "id": "rnqBamoVmR3_"
      }
    },
    {
      "cell_type": "markdown",
      "source": [
        "*Kmeans with Doc2Vec*"
      ],
      "metadata": {
        "id": "ZVCOf7FrdOcE"
      }
    },
    {
      "cell_type": "code",
      "source": [
        "from sklearn.cluster import KMeans"
      ],
      "metadata": {
        "id": "tW5t9auvcy7T"
      },
      "execution_count": 242,
      "outputs": []
    },
    {
      "cell_type": "code",
      "source": [
        "import numpy as np"
      ],
      "metadata": {
        "id": "j7XREUplfSYH"
      },
      "execution_count": 243,
      "outputs": []
    },
    {
      "cell_type": "code",
      "source": [
        "X = np.array(df[\"doc2vec_embeddings\"].values.tolist())[:,0,:]"
      ],
      "metadata": {
        "id": "P1iz9RJ8d7LN"
      },
      "execution_count": 244,
      "outputs": []
    },
    {
      "cell_type": "code",
      "source": [
        "kmeans = KMeans(n_clusters=3)\n",
        "kmeans.fit(X)\n",
        "labelsK = kmeans.labels_\n",
        "df['km'] = labelsK"
      ],
      "metadata": {
        "id": "B3jupM6Bdtnw"
      },
      "execution_count": 245,
      "outputs": []
    },
    {
      "cell_type": "markdown",
      "source": [
        "Let's plot it up using umap"
      ],
      "metadata": {
        "id": "qs76inMUeUhw"
      }
    },
    {
      "cell_type": "code",
      "source": [
        "pip install umap-learn[plot]"
      ],
      "metadata": {
        "colab": {
          "base_uri": "https://localhost:8080/",
          "height": 0
        },
        "id": "97ENRvC1ekmF",
        "outputId": "4b1b583c-6dff-420a-cd20-e06483b1a39c"
      },
      "execution_count": 246,
      "outputs": [
        {
          "output_type": "stream",
          "name": "stdout",
          "text": [
            "Collecting umap-learn[plot]\n",
            "  Downloading umap_learn-0.5.7-py3-none-any.whl.metadata (21 kB)\n",
            "Requirement already satisfied: numpy>=1.17 in /usr/local/lib/python3.10/dist-packages (from umap-learn[plot]) (1.26.4)\n",
            "Requirement already satisfied: scipy>=1.3.1 in /usr/local/lib/python3.10/dist-packages (from umap-learn[plot]) (1.13.1)\n",
            "Requirement already satisfied: scikit-learn>=0.22 in /usr/local/lib/python3.10/dist-packages (from umap-learn[plot]) (1.5.2)\n",
            "Requirement already satisfied: numba>=0.51.2 in /usr/local/lib/python3.10/dist-packages (from umap-learn[plot]) (0.60.0)\n",
            "Collecting pynndescent>=0.5 (from umap-learn[plot])\n",
            "  Downloading pynndescent-0.5.13-py3-none-any.whl.metadata (6.8 kB)\n",
            "Requirement already satisfied: tqdm in /usr/local/lib/python3.10/dist-packages (from umap-learn[plot]) (4.66.6)\n",
            "Requirement already satisfied: pandas in /usr/local/lib/python3.10/dist-packages (from umap-learn[plot]) (2.2.2)\n",
            "Requirement already satisfied: matplotlib in /usr/local/lib/python3.10/dist-packages (from umap-learn[plot]) (3.8.0)\n",
            "Collecting datashader (from umap-learn[plot])\n",
            "  Downloading datashader-0.16.3-py2.py3-none-any.whl.metadata (12 kB)\n",
            "Requirement already satisfied: bokeh in /usr/local/lib/python3.10/dist-packages (from umap-learn[plot]) (3.6.1)\n",
            "Requirement already satisfied: holoviews in /usr/local/lib/python3.10/dist-packages (from umap-learn[plot]) (1.20.0)\n",
            "Requirement already satisfied: colorcet in /usr/local/lib/python3.10/dist-packages (from umap-learn[plot]) (3.1.0)\n",
            "Requirement already satisfied: seaborn in /usr/local/lib/python3.10/dist-packages (from umap-learn[plot]) (0.13.2)\n",
            "Requirement already satisfied: scikit-image in /usr/local/lib/python3.10/dist-packages (from umap-learn[plot]) (0.24.0)\n",
            "Requirement already satisfied: llvmlite<0.44,>=0.43.0dev0 in /usr/local/lib/python3.10/dist-packages (from numba>=0.51.2->umap-learn[plot]) (0.43.0)\n",
            "Requirement already satisfied: joblib>=0.11 in /usr/local/lib/python3.10/dist-packages (from pynndescent>=0.5->umap-learn[plot]) (1.4.2)\n",
            "Requirement already satisfied: threadpoolctl>=3.1.0 in /usr/local/lib/python3.10/dist-packages (from scikit-learn>=0.22->umap-learn[plot]) (3.5.0)\n",
            "Requirement already satisfied: Jinja2>=2.9 in /usr/local/lib/python3.10/dist-packages (from bokeh->umap-learn[plot]) (3.1.4)\n",
            "Requirement already satisfied: contourpy>=1.2 in /usr/local/lib/python3.10/dist-packages (from bokeh->umap-learn[plot]) (1.3.1)\n",
            "Requirement already satisfied: packaging>=16.8 in /usr/local/lib/python3.10/dist-packages (from bokeh->umap-learn[plot]) (24.2)\n",
            "Requirement already satisfied: pillow>=7.1.0 in /usr/local/lib/python3.10/dist-packages (from bokeh->umap-learn[plot]) (11.0.0)\n",
            "Requirement already satisfied: PyYAML>=3.10 in /usr/local/lib/python3.10/dist-packages (from bokeh->umap-learn[plot]) (6.0.2)\n",
            "Requirement already satisfied: tornado>=6.2 in /usr/local/lib/python3.10/dist-packages (from bokeh->umap-learn[plot]) (6.3.3)\n",
            "Requirement already satisfied: xyzservices>=2021.09.1 in /usr/local/lib/python3.10/dist-packages (from bokeh->umap-learn[plot]) (2024.9.0)\n",
            "Requirement already satisfied: python-dateutil>=2.8.2 in /usr/local/lib/python3.10/dist-packages (from pandas->umap-learn[plot]) (2.8.2)\n",
            "Requirement already satisfied: pytz>=2020.1 in /usr/local/lib/python3.10/dist-packages (from pandas->umap-learn[plot]) (2024.2)\n",
            "Requirement already satisfied: tzdata>=2022.7 in /usr/local/lib/python3.10/dist-packages (from pandas->umap-learn[plot]) (2024.2)\n",
            "Requirement already satisfied: dask in /usr/local/lib/python3.10/dist-packages (from datashader->umap-learn[plot]) (2024.10.0)\n",
            "Requirement already satisfied: multipledispatch in /usr/local/lib/python3.10/dist-packages (from datashader->umap-learn[plot]) (1.0.0)\n",
            "Requirement already satisfied: param in /usr/local/lib/python3.10/dist-packages (from datashader->umap-learn[plot]) (2.1.1)\n",
            "Collecting pyct (from datashader->umap-learn[plot])\n",
            "  Downloading pyct-0.5.0-py2.py3-none-any.whl.metadata (7.4 kB)\n",
            "Requirement already satisfied: requests in /usr/local/lib/python3.10/dist-packages (from datashader->umap-learn[plot]) (2.32.3)\n",
            "Requirement already satisfied: toolz in /usr/local/lib/python3.10/dist-packages (from datashader->umap-learn[plot]) (0.12.1)\n",
            "Requirement already satisfied: xarray in /usr/local/lib/python3.10/dist-packages (from datashader->umap-learn[plot]) (2024.10.0)\n",
            "Requirement already satisfied: panel>=1.0 in /usr/local/lib/python3.10/dist-packages (from holoviews->umap-learn[plot]) (1.5.4)\n",
            "Requirement already satisfied: pyviz-comms>=2.1 in /usr/local/lib/python3.10/dist-packages (from holoviews->umap-learn[plot]) (3.0.3)\n",
            "Requirement already satisfied: cycler>=0.10 in /usr/local/lib/python3.10/dist-packages (from matplotlib->umap-learn[plot]) (0.12.1)\n",
            "Requirement already satisfied: fonttools>=4.22.0 in /usr/local/lib/python3.10/dist-packages (from matplotlib->umap-learn[plot]) (4.55.0)\n",
            "Requirement already satisfied: kiwisolver>=1.0.1 in /usr/local/lib/python3.10/dist-packages (from matplotlib->umap-learn[plot]) (1.4.7)\n",
            "Requirement already satisfied: pyparsing>=2.3.1 in /usr/local/lib/python3.10/dist-packages (from matplotlib->umap-learn[plot]) (3.2.0)\n",
            "Requirement already satisfied: networkx>=2.8 in /usr/local/lib/python3.10/dist-packages (from scikit-image->umap-learn[plot]) (3.4.2)\n",
            "Requirement already satisfied: imageio>=2.33 in /usr/local/lib/python3.10/dist-packages (from scikit-image->umap-learn[plot]) (2.36.0)\n",
            "Requirement already satisfied: tifffile>=2022.8.12 in /usr/local/lib/python3.10/dist-packages (from scikit-image->umap-learn[plot]) (2024.9.20)\n",
            "Requirement already satisfied: lazy-loader>=0.4 in /usr/local/lib/python3.10/dist-packages (from scikit-image->umap-learn[plot]) (0.4)\n",
            "Requirement already satisfied: MarkupSafe>=2.0 in /usr/local/lib/python3.10/dist-packages (from Jinja2>=2.9->bokeh->umap-learn[plot]) (3.0.2)\n",
            "Requirement already satisfied: bleach in /usr/local/lib/python3.10/dist-packages (from panel>=1.0->holoviews->umap-learn[plot]) (6.2.0)\n",
            "Requirement already satisfied: linkify-it-py in /usr/local/lib/python3.10/dist-packages (from panel>=1.0->holoviews->umap-learn[plot]) (2.0.3)\n",
            "Requirement already satisfied: markdown in /usr/local/lib/python3.10/dist-packages (from panel>=1.0->holoviews->umap-learn[plot]) (3.7)\n",
            "Requirement already satisfied: markdown-it-py in /usr/local/lib/python3.10/dist-packages (from panel>=1.0->holoviews->umap-learn[plot]) (3.0.0)\n",
            "Requirement already satisfied: mdit-py-plugins in /usr/local/lib/python3.10/dist-packages (from panel>=1.0->holoviews->umap-learn[plot]) (0.4.2)\n",
            "Requirement already satisfied: typing-extensions in /usr/local/lib/python3.10/dist-packages (from panel>=1.0->holoviews->umap-learn[plot]) (4.12.2)\n",
            "Requirement already satisfied: six>=1.5 in /usr/local/lib/python3.10/dist-packages (from python-dateutil>=2.8.2->pandas->umap-learn[plot]) (1.16.0)\n",
            "Requirement already satisfied: click>=8.1 in /usr/local/lib/python3.10/dist-packages (from dask->datashader->umap-learn[plot]) (8.1.7)\n",
            "Requirement already satisfied: cloudpickle>=3.0.0 in /usr/local/lib/python3.10/dist-packages (from dask->datashader->umap-learn[plot]) (3.1.0)\n",
            "Requirement already satisfied: fsspec>=2021.09.0 in /usr/local/lib/python3.10/dist-packages (from dask->datashader->umap-learn[plot]) (2024.10.0)\n",
            "Requirement already satisfied: partd>=1.4.0 in /usr/local/lib/python3.10/dist-packages (from dask->datashader->umap-learn[plot]) (1.4.2)\n",
            "Requirement already satisfied: importlib-metadata>=4.13.0 in /usr/local/lib/python3.10/dist-packages (from dask->datashader->umap-learn[plot]) (8.5.0)\n",
            "Requirement already satisfied: charset-normalizer<4,>=2 in /usr/local/lib/python3.10/dist-packages (from requests->datashader->umap-learn[plot]) (3.4.0)\n",
            "Requirement already satisfied: idna<4,>=2.5 in /usr/local/lib/python3.10/dist-packages (from requests->datashader->umap-learn[plot]) (3.10)\n",
            "Requirement already satisfied: urllib3<3,>=1.21.1 in /usr/local/lib/python3.10/dist-packages (from requests->datashader->umap-learn[plot]) (2.2.3)\n",
            "Requirement already satisfied: certifi>=2017.4.17 in /usr/local/lib/python3.10/dist-packages (from requests->datashader->umap-learn[plot]) (2024.8.30)\n",
            "Requirement already satisfied: zipp>=3.20 in /usr/local/lib/python3.10/dist-packages (from importlib-metadata>=4.13.0->dask->datashader->umap-learn[plot]) (3.21.0)\n",
            "Requirement already satisfied: locket in /usr/local/lib/python3.10/dist-packages (from partd>=1.4.0->dask->datashader->umap-learn[plot]) (1.0.0)\n",
            "Requirement already satisfied: webencodings in /usr/local/lib/python3.10/dist-packages (from bleach->panel>=1.0->holoviews->umap-learn[plot]) (0.5.1)\n",
            "Requirement already satisfied: uc-micro-py in /usr/local/lib/python3.10/dist-packages (from linkify-it-py->panel>=1.0->holoviews->umap-learn[plot]) (1.0.3)\n",
            "Requirement already satisfied: mdurl~=0.1 in /usr/local/lib/python3.10/dist-packages (from markdown-it-py->panel>=1.0->holoviews->umap-learn[plot]) (0.1.2)\n",
            "Downloading pynndescent-0.5.13-py3-none-any.whl (56 kB)\n",
            "\u001b[2K   \u001b[90m━━━━━━━━━━━━━━━━━━━━━━━━━━━━━━━━━━━━━━━━\u001b[0m \u001b[32m56.9/56.9 kB\u001b[0m \u001b[31m4.3 MB/s\u001b[0m eta \u001b[36m0:00:00\u001b[0m\n",
            "\u001b[?25hDownloading datashader-0.16.3-py2.py3-none-any.whl (18.3 MB)\n",
            "\u001b[2K   \u001b[90m━━━━━━━━━━━━━━━━━━━━━━━━━━━━━━━━━━━━━━━━\u001b[0m \u001b[32m18.3/18.3 MB\u001b[0m \u001b[31m59.1 MB/s\u001b[0m eta \u001b[36m0:00:00\u001b[0m\n",
            "\u001b[?25hDownloading umap_learn-0.5.7-py3-none-any.whl (88 kB)\n",
            "\u001b[2K   \u001b[90m━━━━━━━━━━━━━━━━━━━━━━━━━━━━━━━━━━━━━━━━\u001b[0m \u001b[32m88.8/88.8 kB\u001b[0m \u001b[31m7.9 MB/s\u001b[0m eta \u001b[36m0:00:00\u001b[0m\n",
            "\u001b[?25hDownloading pyct-0.5.0-py2.py3-none-any.whl (15 kB)\n",
            "Installing collected packages: pyct, pynndescent, umap-learn, datashader\n",
            "Successfully installed datashader-0.16.3 pyct-0.5.0 pynndescent-0.5.13 umap-learn-0.5.7\n"
          ]
        }
      ]
    },
    {
      "cell_type": "code",
      "source": [
        "import umap.umap_ as umap\n",
        "import umap.plot"
      ],
      "metadata": {
        "id": "hmTym7yWeUCR",
        "colab": {
          "base_uri": "https://localhost:8080/",
          "height": 0
        },
        "outputId": "eedc8dbc-e360-45ec-9d2c-0885b215bca5"
      },
      "execution_count": 247,
      "outputs": [
        {
          "output_type": "stream",
          "name": "stderr",
          "text": [
            "/usr/local/lib/python3.10/dist-packages/dask/dataframe/__init__.py:42: FutureWarning:\n",
            "\n",
            "\n",
            "Dask dataframe query planning is disabled because dask-expr is not installed.\n",
            "\n",
            "You can install it with `pip install dask[dataframe]` or `conda install dask`.\n",
            "This will raise in a future version.\n",
            "\n",
            "\n",
            "/usr/local/lib/python3.10/dist-packages/numba/np/ufunc/dufunc.py:343: NumbaWarning:\n",
            "\n",
            "Compilation requested for previously compiled argument types ((uint32,)). This has no effect and perhaps indicates a bug in the calling code (compiling a ufunc more than once for the same signature\n",
            "\n",
            "/usr/local/lib/python3.10/dist-packages/numba/np/ufunc/dufunc.py:343: NumbaWarning:\n",
            "\n",
            "Compilation requested for previously compiled argument types ((uint32,)). This has no effect and perhaps indicates a bug in the calling code (compiling a ufunc more than once for the same signature\n",
            "\n",
            "/usr/local/lib/python3.10/dist-packages/numba/np/ufunc/dufunc.py:343: NumbaWarning:\n",
            "\n",
            "Compilation requested for previously compiled argument types ((uint32,)). This has no effect and perhaps indicates a bug in the calling code (compiling a ufunc more than once for the same signature\n",
            "\n"
          ]
        }
      ]
    },
    {
      "cell_type": "code",
      "source": [
        "mapper = umap.UMAP(random_state=42).fit(X)"
      ],
      "metadata": {
        "id": "dM0NSldWehbw",
        "colab": {
          "base_uri": "https://localhost:8080/",
          "height": 0
        },
        "outputId": "41376cd8-2f2b-4dde-a6f1-5809d718da53"
      },
      "execution_count": 248,
      "outputs": [
        {
          "output_type": "stream",
          "name": "stderr",
          "text": [
            "/usr/local/lib/python3.10/dist-packages/umap/umap_.py:1952: UserWarning:\n",
            "\n",
            "n_jobs value 1 overridden to 1 by setting random_state. Use no seed for parallelism.\n",
            "\n"
          ]
        }
      ]
    },
    {
      "cell_type": "code",
      "source": [
        "umap.plot.points(mapper, labels=df[\"km\"], theme=\"viridis\")"
      ],
      "metadata": {
        "colab": {
          "base_uri": "https://localhost:8080/",
          "height": 670
        },
        "id": "yxso0sWAeEnA",
        "outputId": "d0497589-8697-4f31-c428-622b2e6e5e99"
      },
      "execution_count": 249,
      "outputs": [
        {
          "output_type": "execute_result",
          "data": {
            "text/plain": [
              "<Axes: >"
            ]
          },
          "metadata": {},
          "execution_count": 249
        },
        {
          "output_type": "display_data",
          "data": {
            "text/plain": [
              "<Figure size 800x800 with 1 Axes>"
            ],
            "image/png": "[encoded data removed]"
          },
          "metadata": {}
        }
      ]
    },
    {
      "cell_type": "markdown",
      "source": [
        "That's not bad--I want to try to find some structure\n",
        "\n",
        "\n"
      ],
      "metadata": {
        "id": "Bi4kCrdckLur"
      }
    },
    {
      "cell_type": "code",
      "source": [
        "mapper = umap.UMAP(n_neighbors=15, min_dist = .80, random_state=1).fit(X)\n",
        "umap.plot.points(mapper, labels=df[\"km\"], theme=\"viridis\")"
      ],
      "metadata": {
        "colab": {
          "base_uri": "https://localhost:8080/",
          "height": 740
        },
        "id": "_4uqQm7ekO_s",
        "outputId": "20c7c0c6-bedf-4736-9fb0-5e77c977c24f"
      },
      "execution_count": 295,
      "outputs": [
        {
          "output_type": "stream",
          "name": "stderr",
          "text": [
            "/usr/local/lib/python3.10/dist-packages/umap/umap_.py:1952: UserWarning:\n",
            "\n",
            "n_jobs value 1 overridden to 1 by setting random_state. Use no seed for parallelism.\n",
            "\n"
          ]
        },
        {
          "output_type": "execute_result",
          "data": {
            "text/plain": [
              "<Axes: >"
            ]
          },
          "metadata": {},
          "execution_count": 295
        },
        {
          "output_type": "display_data",
          "data": {
            "text/plain": [
              "<Figure size 800x800 with 1 Axes>"
            ],
            "image/png": "[encoded data removed]"
          },
          "metadata": {}
        }
      ]
    },
    {
      "cell_type": "markdown",
      "source": [
        "After many iterations of neighbors and distances this is a consistant pattern I see: one of the classes is wrapped around by the other two, and also penetrates one of those wrapping layers. Now to interpret this a little bit we should ask how KM compares to our other labels..."
      ],
      "metadata": {
        "id": "8vI1U-dxmNGy"
      }
    },
    {
      "cell_type": "code",
      "source": [
        "pd.crosstab(df[\"km\"],result[\"d2v_cluster\"])"
      ],
      "metadata": {
        "colab": {
          "base_uri": "https://localhost:8080/",
          "height": 174
        },
        "id": "KPJCdTm4oxxW",
        "outputId": "c15d7f4b-a233-45d8-9dc1-a014361e96ae"
      },
      "execution_count": 297,
      "outputs": [
        {
          "output_type": "execute_result",
          "data": {
            "text/plain": [
              "d2v_cluster   1   2    3\n",
              "km                      \n",
              "0            28  69    8\n",
              "1            62   4   41\n",
              "2             2   4  103"
            ],
            "text/html": [
              "\n",
              "  <div id=\"df-32c0e3a2-200d-47f3-888e-7376098a9405\" class=\"colab-df-container\">\n",
              "    <div>\n",
              "<style scoped>\n",
              "    .dataframe tbody tr th:only-of-type {\n",
              "        vertical-align: middle;\n",
              "    }\n",
              "\n",
              "    .dataframe tbody tr th {\n",
              "        vertical-align: top;\n",
              "    }\n",
              "\n",
              "    .dataframe thead th {\n",
              "        text-align: right;\n",
              "    }\n",
              "</style>\n",
              "<table border=\"1\" class=\"dataframe\">\n",
              "  <thead>\n",
              "    <tr style=\"text-align: right;\">\n",
              "      <th>d2v_cluster</th>\n",
              "      <th>1</th>\n",
              "      <th>2</th>\n",
              "      <th>3</th>\n",
              "    </tr>\n",
              "    <tr>\n",
              "      <th>km</th>\n",
              "      <th></th>\n",
              "      <th></th>\n",
              "      <th></th>\n",
              "    </tr>\n",
              "  </thead>\n",
              "  <tbody>\n",
              "    <tr>\n",
              "      <th>0</th>\n",
              "      <td>28</td>\n",
              "      <td>69</td>\n",
              "      <td>8</td>\n",
              "    </tr>\n",
              "    <tr>\n",
              "      <th>1</th>\n",
              "      <td>62</td>\n",
              "      <td>4</td>\n",
              "      <td>41</td>\n",
              "    </tr>\n",
              "    <tr>\n",
              "      <th>2</th>\n",
              "      <td>2</td>\n",
              "      <td>4</td>\n",
              "      <td>103</td>\n",
              "    </tr>\n",
              "  </tbody>\n",
              "</table>\n",
              "</div>\n",
              "    <div class=\"colab-df-buttons\">\n",
              "\n",
              "  <div class=\"colab-df-container\">\n",
              "    <button class=\"colab-df-convert\" onclick=\"convertToInteractive('df-32c0e3a2-200d-47f3-888e-7376098a9405')\"\n",
              "            title=\"Convert this dataframe to an interactive table.\"\n",
              "            style=\"display:none;\">\n",
              "\n",
              "  <svg xmlns=\"http://www.w3.org/2000/svg\" height=\"24px\" viewBox=\"0 -960 960 960\">\n",
              "    <path d=\"M120-120v-720h720v720H120Zm60-500h600v-160H180v160Zm220 220h160v-160H400v160Zm0 220h160v-160H400v160ZM180-400h160v-160H180v160Zm440 0h160v-160H620v160ZM180-180h160v-160H180v160Zm440 0h160v-160H620v160Z\"/>\n",
              "  </svg>\n",
              "    </button>\n",
              "\n",
              "  <style>\n",
              "    .colab-df-container {\n",
              "      display:flex;\n",
              "      gap: 12px;\n",
              "    }\n",
              "\n",
              "    .colab-df-convert {\n",
              "      background-color: #E8F0FE;\n",
              "      border: none;\n",
              "      border-radius: 50%;\n",
              "      cursor: pointer;\n",
              "      display: none;\n",
              "      fill: #1967D2;\n",
              "      height: 32px;\n",
              "      padding: 0 0 0 0;\n",
              "      width: 32px;\n",
              "    }\n",
              "\n",
              "    .colab-df-convert:hover {\n",
              "      background-color: #E2EBFA;\n",
              "      box-shadow: 0px 1px 2px rgba(60, 64, 67, 0.3), 0px 1px 3px 1px rgba(60, 64, 67, 0.15);\n",
              "      fill: #174EA6;\n",
              "    }\n",
              "\n",
              "    .colab-df-buttons div {\n",
              "      margin-bottom: 4px;\n",
              "    }\n",
              "\n",
              "    [theme=dark] .colab-df-convert {\n",
              "      background-color: #3B4455;\n",
              "      fill: #D2E3FC;\n",
              "    }\n",
              "\n",
              "    [theme=dark] .colab-df-convert:hover {\n",
              "      background-color: #434B5C;\n",
              "      box-shadow: 0px 1px 3px 1px rgba(0, 0, 0, 0.15);\n",
              "      filter: drop-shadow(0px 1px 2px rgba(0, 0, 0, 0.3));\n",
              "      fill: #FFFFFF;\n",
              "    }\n",
              "  </style>\n",
              "\n",
              "    <script>\n",
              "      const buttonEl =\n",
              "        document.querySelector('#df-32c0e3a2-200d-47f3-888e-7376098a9405 button.colab-df-convert');\n",
              "      buttonEl.style.display =\n",
              "        google.colab.kernel.accessAllowed ? 'block' : 'none';\n",
              "\n",
              "      async function convertToInteractive(key) {\n",
              "        const element = document.querySelector('#df-32c0e3a2-200d-47f3-888e-7376098a9405');\n",
              "        const dataTable =\n",
              "          await google.colab.kernel.invokeFunction('convertToInteractive',\n",
              "                                                    [key], {});\n",
              "        if (!dataTable) return;\n",
              "\n",
              "        const docLinkHtml = 'Like what you see? Visit the ' +\n",
              "          '<a target=\"_blank\" href=https://colab.research.google.com/notebooks/data_table.ipynb>data table notebook</a>'\n",
              "          + ' to learn more about interactive tables.';\n",
              "        element.innerHTML = '';\n",
              "        dataTable['output_type'] = 'display_data';\n",
              "        await google.colab.output.renderOutput(dataTable, element);\n",
              "        const docLink = document.createElement('div');\n",
              "        docLink.innerHTML = docLinkHtml;\n",
              "        element.appendChild(docLink);\n",
              "      }\n",
              "    </script>\n",
              "  </div>\n",
              "\n",
              "\n",
              "<div id=\"df-17f2616b-226d-44b3-9f81-c37afdb9fa90\">\n",
              "  <button class=\"colab-df-quickchart\" onclick=\"quickchart('df-17f2616b-226d-44b3-9f81-c37afdb9fa90')\"\n",
              "            title=\"Suggest charts\"\n",
              "            style=\"display:none;\">\n",
              "\n",
              "<svg xmlns=\"http://www.w3.org/2000/svg\" height=\"24px\"viewBox=\"0 0 24 24\"\n",
              "     width=\"24px\">\n",
              "    <g>\n",
              "        <path d=\"M19 3H5c-1.1 0-2 .9-2 2v14c0 1.1.9 2 2 2h14c1.1 0 2-.9 2-2V5c0-1.1-.9-2-2-2zM9 17H7v-7h2v7zm4 0h-2V7h2v10zm4 0h-2v-4h2v4z\"/>\n",
              "    </g>\n",
              "</svg>\n",
              "  </button>\n",
              "\n",
              "<style>\n",
              "  .colab-df-quickchart {\n",
              "      --bg-color: #E8F0FE;\n",
              "      --fill-color: #1967D2;\n",
              "      --hover-bg-color: #E2EBFA;\n",
              "      --hover-fill-color: #174EA6;\n",
              "      --disabled-fill-color: #AAA;\n",
              "      --disabled-bg-color: #DDD;\n",
              "  }\n",
              "\n",
              "  [theme=dark] .colab-df-quickchart {\n",
              "      --bg-color: #3B4455;\n",
              "      --fill-color: #D2E3FC;\n",
              "      --hover-bg-color: #434B5C;\n",
              "      --hover-fill-color: #FFFFFF;\n",
              "      --disabled-bg-color: #3B4455;\n",
              "      --disabled-fill-color: #666;\n",
              "  }\n",
              "\n",
              "  .colab-df-quickchart {\n",
              "    background-color: var(--bg-color);\n",
              "    border: none;\n",
              "    border-radius: 50%;\n",
              "    cursor: pointer;\n",
              "    display: none;\n",
              "    fill: var(--fill-color);\n",
              "    height: 32px;\n",
              "    padding: 0;\n",
              "    width: 32px;\n",
              "  }\n",
              "\n",
              "  .colab-df-quickchart:hover {\n",
              "    background-color: var(--hover-bg-color);\n",
              "    box-shadow: 0 1px 2px rgba(60, 64, 67, 0.3), 0 1px 3px 1px rgba(60, 64, 67, 0.15);\n",
              "    fill: var(--button-hover-fill-color);\n",
              "  }\n",
              "\n",
              "  .colab-df-quickchart-complete:disabled,\n",
              "  .colab-df-quickchart-complete:disabled:hover {\n",
              "    background-color: var(--disabled-bg-color);\n",
              "    fill: var(--disabled-fill-color);\n",
              "    box-shadow: none;\n",
              "  }\n",
              "\n",
              "  .colab-df-spinner {\n",
              "    border: 2px solid var(--fill-color);\n",
              "    border-color: transparent;\n",
              "    border-bottom-color: var(--fill-color);\n",
              "    animation:\n",
              "      spin 1s steps(1) infinite;\n",
              "  }\n",
              "\n",
              "  @keyframes spin {\n",
              "    0% {\n",
              "      border-color: transparent;\n",
              "      border-bottom-color: var(--fill-color);\n",
              "      border-left-color: var(--fill-color);\n",
              "    }\n",
              "    20% {\n",
              "      border-color: transparent;\n",
              "      border-left-color: var(--fill-color);\n",
              "      border-top-color: var(--fill-color);\n",
              "    }\n",
              "    30% {\n",
              "      border-color: transparent;\n",
              "      border-left-color: var(--fill-color);\n",
              "      border-top-color: var(--fill-color);\n",
              "      border-right-color: var(--fill-color);\n",
              "    }\n",
              "    40% {\n",
              "      border-color: transparent;\n",
              "      border-right-color: var(--fill-color);\n",
              "      border-top-color: var(--fill-color);\n",
              "    }\n",
              "    60% {\n",
              "      border-color: transparent;\n",
              "      border-right-color: var(--fill-color);\n",
              "    }\n",
              "    80% {\n",
              "      border-color: transparent;\n",
              "      border-right-color: var(--fill-color);\n",
              "      border-bottom-color: var(--fill-color);\n",
              "    }\n",
              "    90% {\n",
              "      border-color: transparent;\n",
              "      border-bottom-color: var(--fill-color);\n",
              "    }\n",
              "  }\n",
              "</style>\n",
              "\n",
              "  <script>\n",
              "    async function quickchart(key) {\n",
              "      const quickchartButtonEl =\n",
              "        document.querySelector('#' + key + ' button');\n",
              "      quickchartButtonEl.disabled = true;  // To prevent multiple clicks.\n",
              "      quickchartButtonEl.classList.add('colab-df-spinner');\n",
              "      try {\n",
              "        const charts = await google.colab.kernel.invokeFunction(\n",
              "            'suggestCharts', [key], {});\n",
              "      } catch (error) {\n",
              "        console.error('Error during call to suggestCharts:', error);\n",
              "      }\n",
              "      quickchartButtonEl.classList.remove('colab-df-spinner');\n",
              "      quickchartButtonEl.classList.add('colab-df-quickchart-complete');\n",
              "    }\n",
              "    (() => {\n",
              "      let quickchartButtonEl =\n",
              "        document.querySelector('#df-17f2616b-226d-44b3-9f81-c37afdb9fa90 button');\n",
              "      quickchartButtonEl.style.display =\n",
              "        google.colab.kernel.accessAllowed ? 'block' : 'none';\n",
              "    })();\n",
              "  </script>\n",
              "</div>\n",
              "\n",
              "    </div>\n",
              "  </div>\n"
            ],
            "application/vnd.google.colaboratory.intrinsic+json": {
              "type": "dataframe",
              "summary": "{\n  \"name\": \"pd\",\n  \"rows\": 3,\n  \"fields\": [\n    {\n      \"column\": \"km\",\n      \"properties\": {\n        \"dtype\": \"int32\",\n        \"num_unique_values\": 3,\n        \"samples\": [\n          0,\n          1,\n          2\n        ],\n        \"semantic_type\": \"\",\n        \"description\": \"\"\n      }\n    },\n    {\n      \"column\": 1,\n      \"properties\": {\n        \"dtype\": \"number\",\n        \"std\": 30,\n        \"min\": 2,\n        \"max\": 62,\n        \"num_unique_values\": 3,\n        \"samples\": [\n          28,\n          62,\n          2\n        ],\n        \"semantic_type\": \"\",\n        \"description\": \"\"\n      }\n    },\n    {\n      \"column\": 2,\n      \"properties\": {\n        \"dtype\": \"number\",\n        \"std\": 37,\n        \"min\": 4,\n        \"max\": 69,\n        \"num_unique_values\": 2,\n        \"samples\": [\n          4,\n          69\n        ],\n        \"semantic_type\": \"\",\n        \"description\": \"\"\n      }\n    },\n    {\n      \"column\": 3,\n      \"properties\": {\n        \"dtype\": \"number\",\n        \"std\": 48,\n        \"min\": 8,\n        \"max\": 103,\n        \"num_unique_values\": 3,\n        \"samples\": [\n          8,\n          41\n        ],\n        \"semantic_type\": \"\",\n        \"description\": \"\"\n      }\n    }\n  ]\n}"
            }
          },
          "metadata": {},
          "execution_count": 297
        }
      ]
    },
    {
      "cell_type": "markdown",
      "source": [
        "There we go--so when we see KM 2 > D2V 3, KM 0 > D2V 2, and KM 1 > D2V > 1.\n",
        "\n",
        "So Communalism (KM 1), Directing (KM 0), Vision and Guide (KM 2). Huh. We see 1 (communalism) pretty broken up by 0 (directing). I wouldn't have thought that. I thought directing would interfere more with vision and guide... Maybe some folks write both, or the essays about one or the other (being about the effects on people?) are connected in a bow approach... although again this doc2vec has some \"attention\" like mechanisms."
      ],
      "metadata": {
        "id": "WOlIry-kodwr"
      }
    },
    {
      "cell_type": "markdown",
      "source": [
        "**How Did GMM compare?**"
      ],
      "metadata": {
        "id": "v8O-yKlXuzDF"
      }
    },
    {
      "cell_type": "code",
      "source": [
        "df[\"gmm_bert\"] = keep\n",
        "df[\"gmm_lda\"] = keep2"
      ],
      "metadata": {
        "id": "NW7rhlvyuyaQ"
      },
      "execution_count": 352,
      "outputs": []
    },
    {
      "cell_type": "code",
      "source": [
        "pd.crosstab(df[\"gmm_bert\"],result[\"b_cluster\"])"
      ],
      "metadata": {
        "colab": {
          "base_uri": "https://localhost:8080/",
          "height": 174
        },
        "id": "zs6D1zhZvXEF",
        "outputId": "79349dae-eb09-4e6c-9015-1c96cca62341"
      },
      "execution_count": 356,
      "outputs": [
        {
          "output_type": "execute_result",
          "data": {
            "text/plain": [
              "b_cluster   1   2   3\n",
              "gmm_bert             \n",
              "0          78  14   6\n",
              "1           8  71  43\n",
              "2          11  14  76"
            ],
            "text/html": [
              "\n",
              "  <div id=\"df-e1f04fba-c6ca-43d0-8bfa-1c6e4aaa20f7\" class=\"colab-df-container\">\n",
              "    <div>\n",
              "<style scoped>\n",
              "    .dataframe tbody tr th:only-of-type {\n",
              "        vertical-align: middle;\n",
              "    }\n",
              "\n",
              "    .dataframe tbody tr th {\n",
              "        vertical-align: top;\n",
              "    }\n",
              "\n",
              "    .dataframe thead th {\n",
              "        text-align: right;\n",
              "    }\n",
              "</style>\n",
              "<table border=\"1\" class=\"dataframe\">\n",
              "  <thead>\n",
              "    <tr style=\"text-align: right;\">\n",
              "      <th>b_cluster</th>\n",
              "      <th>1</th>\n",
              "      <th>2</th>\n",
              "      <th>3</th>\n",
              "    </tr>\n",
              "    <tr>\n",
              "      <th>gmm_bert</th>\n",
              "      <th></th>\n",
              "      <th></th>\n",
              "      <th></th>\n",
              "    </tr>\n",
              "  </thead>\n",
              "  <tbody>\n",
              "    <tr>\n",
              "      <th>0</th>\n",
              "      <td>78</td>\n",
              "      <td>14</td>\n",
              "      <td>6</td>\n",
              "    </tr>\n",
              "    <tr>\n",
              "      <th>1</th>\n",
              "      <td>8</td>\n",
              "      <td>71</td>\n",
              "      <td>43</td>\n",
              "    </tr>\n",
              "    <tr>\n",
              "      <th>2</th>\n",
              "      <td>11</td>\n",
              "      <td>14</td>\n",
              "      <td>76</td>\n",
              "    </tr>\n",
              "  </tbody>\n",
              "</table>\n",
              "</div>\n",
              "    <div class=\"colab-df-buttons\">\n",
              "\n",
              "  <div class=\"colab-df-container\">\n",
              "    <button class=\"colab-df-convert\" onclick=\"convertToInteractive('df-e1f04fba-c6ca-43d0-8bfa-1c6e4aaa20f7')\"\n",
              "            title=\"Convert this dataframe to an interactive table.\"\n",
              "            style=\"display:none;\">\n",
              "\n",
              "  <svg xmlns=\"http://www.w3.org/2000/svg\" height=\"24px\" viewBox=\"0 -960 960 960\">\n",
              "    <path d=\"M120-120v-720h720v720H120Zm60-500h600v-160H180v160Zm220 220h160v-160H400v160Zm0 220h160v-160H400v160ZM180-400h160v-160H180v160Zm440 0h160v-160H620v160ZM180-180h160v-160H180v160Zm440 0h160v-160H620v160Z\"/>\n",
              "  </svg>\n",
              "    </button>\n",
              "\n",
              "  <style>\n",
              "    .colab-df-container {\n",
              "      display:flex;\n",
              "      gap: 12px;\n",
              "    }\n",
              "\n",
              "    .colab-df-convert {\n",
              "      background-color: #E8F0FE;\n",
              "      border: none;\n",
              "      border-radius: 50%;\n",
              "      cursor: pointer;\n",
              "      display: none;\n",
              "      fill: #1967D2;\n",
              "      height: 32px;\n",
              "      padding: 0 0 0 0;\n",
              "      width: 32px;\n",
              "    }\n",
              "\n",
              "    .colab-df-convert:hover {\n",
              "      background-color: #E2EBFA;\n",
              "      box-shadow: 0px 1px 2px rgba(60, 64, 67, 0.3), 0px 1px 3px 1px rgba(60, 64, 67, 0.15);\n",
              "      fill: #174EA6;\n",
              "    }\n",
              "\n",
              "    .colab-df-buttons div {\n",
              "      margin-bottom: 4px;\n",
              "    }\n",
              "\n",
              "    [theme=dark] .colab-df-convert {\n",
              "      background-color: #3B4455;\n",
              "      fill: #D2E3FC;\n",
              "    }\n",
              "\n",
              "    [theme=dark] .colab-df-convert:hover {\n",
              "      background-color: #434B5C;\n",
              "      box-shadow: 0px 1px 3px 1px rgba(0, 0, 0, 0.15);\n",
              "      filter: drop-shadow(0px 1px 2px rgba(0, 0, 0, 0.3));\n",
              "      fill: #FFFFFF;\n",
              "    }\n",
              "  </style>\n",
              "\n",
              "    <script>\n",
              "      const buttonEl =\n",
              "        document.querySelector('#df-e1f04fba-c6ca-43d0-8bfa-1c6e4aaa20f7 button.colab-df-convert');\n",
              "      buttonEl.style.display =\n",
              "        google.colab.kernel.accessAllowed ? 'block' : 'none';\n",
              "\n",
              "      async function convertToInteractive(key) {\n",
              "        const element = document.querySelector('#df-e1f04fba-c6ca-43d0-8bfa-1c6e4aaa20f7');\n",
              "        const dataTable =\n",
              "          await google.colab.kernel.invokeFunction('convertToInteractive',\n",
              "                                                    [key], {});\n",
              "        if (!dataTable) return;\n",
              "\n",
              "        const docLinkHtml = 'Like what you see? Visit the ' +\n",
              "          '<a target=\"_blank\" href=https://colab.research.google.com/notebooks/data_table.ipynb>data table notebook</a>'\n",
              "          + ' to learn more about interactive tables.';\n",
              "        element.innerHTML = '';\n",
              "        dataTable['output_type'] = 'display_data';\n",
              "        await google.colab.output.renderOutput(dataTable, element);\n",
              "        const docLink = document.createElement('div');\n",
              "        docLink.innerHTML = docLinkHtml;\n",
              "        element.appendChild(docLink);\n",
              "      }\n",
              "    </script>\n",
              "  </div>\n",
              "\n",
              "\n",
              "<div id=\"df-dd021020-0a79-47d7-8f2e-1e2dcf8f3641\">\n",
              "  <button class=\"colab-df-quickchart\" onclick=\"quickchart('df-dd021020-0a79-47d7-8f2e-1e2dcf8f3641')\"\n",
              "            title=\"Suggest charts\"\n",
              "            style=\"display:none;\">\n",
              "\n",
              "<svg xmlns=\"http://www.w3.org/2000/svg\" height=\"24px\"viewBox=\"0 0 24 24\"\n",
              "     width=\"24px\">\n",
              "    <g>\n",
              "        <path d=\"M19 3H5c-1.1 0-2 .9-2 2v14c0 1.1.9 2 2 2h14c1.1 0 2-.9 2-2V5c0-1.1-.9-2-2-2zM9 17H7v-7h2v7zm4 0h-2V7h2v10zm4 0h-2v-4h2v4z\"/>\n",
              "    </g>\n",
              "</svg>\n",
              "  </button>\n",
              "\n",
              "<style>\n",
              "  .colab-df-quickchart {\n",
              "      --bg-color: #E8F0FE;\n",
              "      --fill-color: #1967D2;\n",
              "      --hover-bg-color: #E2EBFA;\n",
              "      --hover-fill-color: #174EA6;\n",
              "      --disabled-fill-color: #AAA;\n",
              "      --disabled-bg-color: #DDD;\n",
              "  }\n",
              "\n",
              "  [theme=dark] .colab-df-quickchart {\n",
              "      --bg-color: #3B4455;\n",
              "      --fill-color: #D2E3FC;\n",
              "      --hover-bg-color: #434B5C;\n",
              "      --hover-fill-color: #FFFFFF;\n",
              "      --disabled-bg-color: #3B4455;\n",
              "      --disabled-fill-color: #666;\n",
              "  }\n",
              "\n",
              "  .colab-df-quickchart {\n",
              "    background-color: var(--bg-color);\n",
              "    border: none;\n",
              "    border-radius: 50%;\n",
              "    cursor: pointer;\n",
              "    display: none;\n",
              "    fill: var(--fill-color);\n",
              "    height: 32px;\n",
              "    padding: 0;\n",
              "    width: 32px;\n",
              "  }\n",
              "\n",
              "  .colab-df-quickchart:hover {\n",
              "    background-color: var(--hover-bg-color);\n",
              "    box-shadow: 0 1px 2px rgba(60, 64, 67, 0.3), 0 1px 3px 1px rgba(60, 64, 67, 0.15);\n",
              "    fill: var(--button-hover-fill-color);\n",
              "  }\n",
              "\n",
              "  .colab-df-quickchart-complete:disabled,\n",
              "  .colab-df-quickchart-complete:disabled:hover {\n",
              "    background-color: var(--disabled-bg-color);\n",
              "    fill: var(--disabled-fill-color);\n",
              "    box-shadow: none;\n",
              "  }\n",
              "\n",
              "  .colab-df-spinner {\n",
              "    border: 2px solid var(--fill-color);\n",
              "    border-color: transparent;\n",
              "    border-bottom-color: var(--fill-color);\n",
              "    animation:\n",
              "      spin 1s steps(1) infinite;\n",
              "  }\n",
              "\n",
              "  @keyframes spin {\n",
              "    0% {\n",
              "      border-color: transparent;\n",
              "      border-bottom-color: var(--fill-color);\n",
              "      border-left-color: var(--fill-color);\n",
              "    }\n",
              "    20% {\n",
              "      border-color: transparent;\n",
              "      border-left-color: var(--fill-color);\n",
              "      border-top-color: var(--fill-color);\n",
              "    }\n",
              "    30% {\n",
              "      border-color: transparent;\n",
              "      border-left-color: var(--fill-color);\n",
              "      border-top-color: var(--fill-color);\n",
              "      border-right-color: var(--fill-color);\n",
              "    }\n",
              "    40% {\n",
              "      border-color: transparent;\n",
              "      border-right-color: var(--fill-color);\n",
              "      border-top-color: var(--fill-color);\n",
              "    }\n",
              "    60% {\n",
              "      border-color: transparent;\n",
              "      border-right-color: var(--fill-color);\n",
              "    }\n",
              "    80% {\n",
              "      border-color: transparent;\n",
              "      border-right-color: var(--fill-color);\n",
              "      border-bottom-color: var(--fill-color);\n",
              "    }\n",
              "    90% {\n",
              "      border-color: transparent;\n",
              "      border-bottom-color: var(--fill-color);\n",
              "    }\n",
              "  }\n",
              "</style>\n",
              "\n",
              "  <script>\n",
              "    async function quickchart(key) {\n",
              "      const quickchartButtonEl =\n",
              "        document.querySelector('#' + key + ' button');\n",
              "      quickchartButtonEl.disabled = true;  // To prevent multiple clicks.\n",
              "      quickchartButtonEl.classList.add('colab-df-spinner');\n",
              "      try {\n",
              "        const charts = await google.colab.kernel.invokeFunction(\n",
              "            'suggestCharts', [key], {});\n",
              "      } catch (error) {\n",
              "        console.error('Error during call to suggestCharts:', error);\n",
              "      }\n",
              "      quickchartButtonEl.classList.remove('colab-df-spinner');\n",
              "      quickchartButtonEl.classList.add('colab-df-quickchart-complete');\n",
              "    }\n",
              "    (() => {\n",
              "      let quickchartButtonEl =\n",
              "        document.querySelector('#df-dd021020-0a79-47d7-8f2e-1e2dcf8f3641 button');\n",
              "      quickchartButtonEl.style.display =\n",
              "        google.colab.kernel.accessAllowed ? 'block' : 'none';\n",
              "    })();\n",
              "  </script>\n",
              "</div>\n",
              "\n",
              "    </div>\n",
              "  </div>\n"
            ],
            "application/vnd.google.colaboratory.intrinsic+json": {
              "type": "dataframe",
              "summary": "{\n  \"name\": \"pd\",\n  \"rows\": 3,\n  \"fields\": [\n    {\n      \"column\": \"gmm_bert\",\n      \"properties\": {\n        \"dtype\": \"number\",\n        \"std\": 1,\n        \"min\": 0,\n        \"max\": 2,\n        \"num_unique_values\": 3,\n        \"samples\": [\n          0,\n          1,\n          2\n        ],\n        \"semantic_type\": \"\",\n        \"description\": \"\"\n      }\n    },\n    {\n      \"column\": 1,\n      \"properties\": {\n        \"dtype\": \"number\",\n        \"std\": 39,\n        \"min\": 8,\n        \"max\": 78,\n        \"num_unique_values\": 3,\n        \"samples\": [\n          78,\n          8,\n          11\n        ],\n        \"semantic_type\": \"\",\n        \"description\": \"\"\n      }\n    },\n    {\n      \"column\": 2,\n      \"properties\": {\n        \"dtype\": \"number\",\n        \"std\": 32,\n        \"min\": 14,\n        \"max\": 71,\n        \"num_unique_values\": 2,\n        \"samples\": [\n          71,\n          14\n        ],\n        \"semantic_type\": \"\",\n        \"description\": \"\"\n      }\n    },\n    {\n      \"column\": 3,\n      \"properties\": {\n        \"dtype\": \"number\",\n        \"std\": 35,\n        \"min\": 6,\n        \"max\": 76,\n        \"num_unique_values\": 3,\n        \"samples\": [\n          6,\n          43\n        ],\n        \"semantic_type\": \"\",\n        \"description\": \"\"\n      }\n    }\n  ]\n}"
            }
          },
          "metadata": {},
          "execution_count": 356
        }
      ]
    },
    {
      "cell_type": "markdown",
      "source": [
        "We see a lot of similarity, about 71% between GMM bert encodings and tree based bert encodings. But the 29% discrepancy would be good to investigate in the future. We honestly just ran out of time."
      ],
      "metadata": {
        "id": "7glljU7LvJAr"
      }
    },
    {
      "cell_type": "code",
      "source": [
        "pd.crosstab(df[\"gmm_lda\"],result[\"lda_cluster\"])"
      ],
      "metadata": {
        "colab": {
          "base_uri": "https://localhost:8080/",
          "height": 174
        },
        "id": "ssWVWUjCvzQs",
        "outputId": "806a0895-33cb-4ea7-c2a5-3549b74456a2"
      },
      "execution_count": 357,
      "outputs": [
        {
          "output_type": "execute_result",
          "data": {
            "text/plain": [
              "lda_cluster    1  2   3\n",
              "gmm_lda                \n",
              "0              4  2   3\n",
              "1            117  0   0\n",
              "2            121  0  74"
            ],
            "text/html": [
              "\n",
              "  <div id=\"df-e199ace1-f7ad-4934-80d0-059394c623e7\" class=\"colab-df-container\">\n",
              "    <div>\n",
              "<style scoped>\n",
              "    .dataframe tbody tr th:only-of-type {\n",
              "        vertical-align: middle;\n",
              "    }\n",
              "\n",
              "    .dataframe tbody tr th {\n",
              "        vertical-align: top;\n",
              "    }\n",
              "\n",
              "    .dataframe thead th {\n",
              "        text-align: right;\n",
              "    }\n",
              "</style>\n",
              "<table border=\"1\" class=\"dataframe\">\n",
              "  <thead>\n",
              "    <tr style=\"text-align: right;\">\n",
              "      <th>lda_cluster</th>\n",
              "      <th>1</th>\n",
              "      <th>2</th>\n",
              "      <th>3</th>\n",
              "    </tr>\n",
              "    <tr>\n",
              "      <th>gmm_lda</th>\n",
              "      <th></th>\n",
              "      <th></th>\n",
              "      <th></th>\n",
              "    </tr>\n",
              "  </thead>\n",
              "  <tbody>\n",
              "    <tr>\n",
              "      <th>0</th>\n",
              "      <td>4</td>\n",
              "      <td>2</td>\n",
              "      <td>3</td>\n",
              "    </tr>\n",
              "    <tr>\n",
              "      <th>1</th>\n",
              "      <td>117</td>\n",
              "      <td>0</td>\n",
              "      <td>0</td>\n",
              "    </tr>\n",
              "    <tr>\n",
              "      <th>2</th>\n",
              "      <td>121</td>\n",
              "      <td>0</td>\n",
              "      <td>74</td>\n",
              "    </tr>\n",
              "  </tbody>\n",
              "</table>\n",
              "</div>\n",
              "    <div class=\"colab-df-buttons\">\n",
              "\n",
              "  <div class=\"colab-df-container\">\n",
              "    <button class=\"colab-df-convert\" onclick=\"convertToInteractive('df-e199ace1-f7ad-4934-80d0-059394c623e7')\"\n",
              "            title=\"Convert this dataframe to an interactive table.\"\n",
              "            style=\"display:none;\">\n",
              "\n",
              "  <svg xmlns=\"http://www.w3.org/2000/svg\" height=\"24px\" viewBox=\"0 -960 960 960\">\n",
              "    <path d=\"M120-120v-720h720v720H120Zm60-500h600v-160H180v160Zm220 220h160v-160H400v160Zm0 220h160v-160H400v160ZM180-400h160v-160H180v160Zm440 0h160v-160H620v160ZM180-180h160v-160H180v160Zm440 0h160v-160H620v160Z\"/>\n",
              "  </svg>\n",
              "    </button>\n",
              "\n",
              "  <style>\n",
              "    .colab-df-container {\n",
              "      display:flex;\n",
              "      gap: 12px;\n",
              "    }\n",
              "\n",
              "    .colab-df-convert {\n",
              "      background-color: #E8F0FE;\n",
              "      border: none;\n",
              "      border-radius: 50%;\n",
              "      cursor: pointer;\n",
              "      display: none;\n",
              "      fill: #1967D2;\n",
              "      height: 32px;\n",
              "      padding: 0 0 0 0;\n",
              "      width: 32px;\n",
              "    }\n",
              "\n",
              "    .colab-df-convert:hover {\n",
              "      background-color: #E2EBFA;\n",
              "      box-shadow: 0px 1px 2px rgba(60, 64, 67, 0.3), 0px 1px 3px 1px rgba(60, 64, 67, 0.15);\n",
              "      fill: #174EA6;\n",
              "    }\n",
              "\n",
              "    .colab-df-buttons div {\n",
              "      margin-bottom: 4px;\n",
              "    }\n",
              "\n",
              "    [theme=dark] .colab-df-convert {\n",
              "      background-color: #3B4455;\n",
              "      fill: #D2E3FC;\n",
              "    }\n",
              "\n",
              "    [theme=dark] .colab-df-convert:hover {\n",
              "      background-color: #434B5C;\n",
              "      box-shadow: 0px 1px 3px 1px rgba(0, 0, 0, 0.15);\n",
              "      filter: drop-shadow(0px 1px 2px rgba(0, 0, 0, 0.3));\n",
              "      fill: #FFFFFF;\n",
              "    }\n",
              "  </style>\n",
              "\n",
              "    <script>\n",
              "      const buttonEl =\n",
              "        document.querySelector('#df-e199ace1-f7ad-4934-80d0-059394c623e7 button.colab-df-convert');\n",
              "      buttonEl.style.display =\n",
              "        google.colab.kernel.accessAllowed ? 'block' : 'none';\n",
              "\n",
              "      async function convertToInteractive(key) {\n",
              "        const element = document.querySelector('#df-e199ace1-f7ad-4934-80d0-059394c623e7');\n",
              "        const dataTable =\n",
              "          await google.colab.kernel.invokeFunction('convertToInteractive',\n",
              "                                                    [key], {});\n",
              "        if (!dataTable) return;\n",
              "\n",
              "        const docLinkHtml = 'Like what you see? Visit the ' +\n",
              "          '<a target=\"_blank\" href=https://colab.research.google.com/notebooks/data_table.ipynb>data table notebook</a>'\n",
              "          + ' to learn more about interactive tables.';\n",
              "        element.innerHTML = '';\n",
              "        dataTable['output_type'] = 'display_data';\n",
              "        await google.colab.output.renderOutput(dataTable, element);\n",
              "        const docLink = document.createElement('div');\n",
              "        docLink.innerHTML = docLinkHtml;\n",
              "        element.appendChild(docLink);\n",
              "      }\n",
              "    </script>\n",
              "  </div>\n",
              "\n",
              "\n",
              "<div id=\"df-7518f943-c1be-4cb4-9005-1ac50516f711\">\n",
              "  <button class=\"colab-df-quickchart\" onclick=\"quickchart('df-7518f943-c1be-4cb4-9005-1ac50516f711')\"\n",
              "            title=\"Suggest charts\"\n",
              "            style=\"display:none;\">\n",
              "\n",
              "<svg xmlns=\"http://www.w3.org/2000/svg\" height=\"24px\"viewBox=\"0 0 24 24\"\n",
              "     width=\"24px\">\n",
              "    <g>\n",
              "        <path d=\"M19 3H5c-1.1 0-2 .9-2 2v14c0 1.1.9 2 2 2h14c1.1 0 2-.9 2-2V5c0-1.1-.9-2-2-2zM9 17H7v-7h2v7zm4 0h-2V7h2v10zm4 0h-2v-4h2v4z\"/>\n",
              "    </g>\n",
              "</svg>\n",
              "  </button>\n",
              "\n",
              "<style>\n",
              "  .colab-df-quickchart {\n",
              "      --bg-color: #E8F0FE;\n",
              "      --fill-color: #1967D2;\n",
              "      --hover-bg-color: #E2EBFA;\n",
              "      --hover-fill-color: #174EA6;\n",
              "      --disabled-fill-color: #AAA;\n",
              "      --disabled-bg-color: #DDD;\n",
              "  }\n",
              "\n",
              "  [theme=dark] .colab-df-quickchart {\n",
              "      --bg-color: #3B4455;\n",
              "      --fill-color: #D2E3FC;\n",
              "      --hover-bg-color: #434B5C;\n",
              "      --hover-fill-color: #FFFFFF;\n",
              "      --disabled-bg-color: #3B4455;\n",
              "      --disabled-fill-color: #666;\n",
              "  }\n",
              "\n",
              "  .colab-df-quickchart {\n",
              "    background-color: var(--bg-color);\n",
              "    border: none;\n",
              "    border-radius: 50%;\n",
              "    cursor: pointer;\n",
              "    display: none;\n",
              "    fill: var(--fill-color);\n",
              "    height: 32px;\n",
              "    padding: 0;\n",
              "    width: 32px;\n",
              "  }\n",
              "\n",
              "  .colab-df-quickchart:hover {\n",
              "    background-color: var(--hover-bg-color);\n",
              "    box-shadow: 0 1px 2px rgba(60, 64, 67, 0.3), 0 1px 3px 1px rgba(60, 64, 67, 0.15);\n",
              "    fill: var(--button-hover-fill-color);\n",
              "  }\n",
              "\n",
              "  .colab-df-quickchart-complete:disabled,\n",
              "  .colab-df-quickchart-complete:disabled:hover {\n",
              "    background-color: var(--disabled-bg-color);\n",
              "    fill: var(--disabled-fill-color);\n",
              "    box-shadow: none;\n",
              "  }\n",
              "\n",
              "  .colab-df-spinner {\n",
              "    border: 2px solid var(--fill-color);\n",
              "    border-color: transparent;\n",
              "    border-bottom-color: var(--fill-color);\n",
              "    animation:\n",
              "      spin 1s steps(1) infinite;\n",
              "  }\n",
              "\n",
              "  @keyframes spin {\n",
              "    0% {\n",
              "      border-color: transparent;\n",
              "      border-bottom-color: var(--fill-color);\n",
              "      border-left-color: var(--fill-color);\n",
              "    }\n",
              "    20% {\n",
              "      border-color: transparent;\n",
              "      border-left-color: var(--fill-color);\n",
              "      border-top-color: var(--fill-color);\n",
              "    }\n",
              "    30% {\n",
              "      border-color: transparent;\n",
              "      border-left-color: var(--fill-color);\n",
              "      border-top-color: var(--fill-color);\n",
              "      border-right-color: var(--fill-color);\n",
              "    }\n",
              "    40% {\n",
              "      border-color: transparent;\n",
              "      border-right-color: var(--fill-color);\n",
              "      border-top-color: var(--fill-color);\n",
              "    }\n",
              "    60% {\n",
              "      border-color: transparent;\n",
              "      border-right-color: var(--fill-color);\n",
              "    }\n",
              "    80% {\n",
              "      border-color: transparent;\n",
              "      border-right-color: var(--fill-color);\n",
              "      border-bottom-color: var(--fill-color);\n",
              "    }\n",
              "    90% {\n",
              "      border-color: transparent;\n",
              "      border-bottom-color: var(--fill-color);\n",
              "    }\n",
              "  }\n",
              "</style>\n",
              "\n",
              "  <script>\n",
              "    async function quickchart(key) {\n",
              "      const quickchartButtonEl =\n",
              "        document.querySelector('#' + key + ' button');\n",
              "      quickchartButtonEl.disabled = true;  // To prevent multiple clicks.\n",
              "      quickchartButtonEl.classList.add('colab-df-spinner');\n",
              "      try {\n",
              "        const charts = await google.colab.kernel.invokeFunction(\n",
              "            'suggestCharts', [key], {});\n",
              "      } catch (error) {\n",
              "        console.error('Error during call to suggestCharts:', error);\n",
              "      }\n",
              "      quickchartButtonEl.classList.remove('colab-df-spinner');\n",
              "      quickchartButtonEl.classList.add('colab-df-quickchart-complete');\n",
              "    }\n",
              "    (() => {\n",
              "      let quickchartButtonEl =\n",
              "        document.querySelector('#df-7518f943-c1be-4cb4-9005-1ac50516f711 button');\n",
              "      quickchartButtonEl.style.display =\n",
              "        google.colab.kernel.accessAllowed ? 'block' : 'none';\n",
              "    })();\n",
              "  </script>\n",
              "</div>\n",
              "\n",
              "    </div>\n",
              "  </div>\n"
            ],
            "application/vnd.google.colaboratory.intrinsic+json": {
              "type": "dataframe",
              "summary": "{\n  \"name\": \"pd\",\n  \"rows\": 3,\n  \"fields\": [\n    {\n      \"column\": \"gmm_lda\",\n      \"properties\": {\n        \"dtype\": \"number\",\n        \"std\": 1,\n        \"min\": 0,\n        \"max\": 2,\n        \"num_unique_values\": 3,\n        \"samples\": [\n          0,\n          1,\n          2\n        ],\n        \"semantic_type\": \"\",\n        \"description\": \"\"\n      }\n    },\n    {\n      \"column\": 1,\n      \"properties\": {\n        \"dtype\": \"number\",\n        \"std\": 66,\n        \"min\": 4,\n        \"max\": 121,\n        \"num_unique_values\": 3,\n        \"samples\": [\n          4,\n          117,\n          121\n        ],\n        \"semantic_type\": \"\",\n        \"description\": \"\"\n      }\n    },\n    {\n      \"column\": 2,\n      \"properties\": {\n        \"dtype\": \"number\",\n        \"std\": 1,\n        \"min\": 0,\n        \"max\": 2,\n        \"num_unique_values\": 2,\n        \"samples\": [\n          0,\n          2\n        ],\n        \"semantic_type\": \"\",\n        \"description\": \"\"\n      }\n    },\n    {\n      \"column\": 3,\n      \"properties\": {\n        \"dtype\": \"number\",\n        \"std\": 41,\n        \"min\": 0,\n        \"max\": 74,\n        \"num_unique_values\": 3,\n        \"samples\": [\n          3,\n          0\n        ],\n        \"semantic_type\": \"\",\n        \"description\": \"\"\n      }\n    }\n  ]\n}"
            }
          },
          "metadata": {},
          "execution_count": 357
        }
      ]
    },
    {
      "cell_type": "markdown",
      "source": [
        "And here we see less agreement, about 60%, that's interesting because the AIC was lower for these LDA gmm models than for the bert GMM model. This would also be worth future investigating."
      ],
      "metadata": {
        "id": "RyILK6LZv7l1"
      }
    },
    {
      "cell_type": "markdown",
      "source": [
        "# Conclusions"
      ],
      "metadata": {
        "id": "C4fu_XWNuu-C"
      }
    },
    {
      "cell_type": "markdown",
      "source": [
        "While the investigation we've done is unsupervised, it helped us explore the data in a structured way. Namely, we saw across differnet encoding strategies and clustering methods that there were differences in writing about the same image--whether MLK or something more generic."
      ],
      "metadata": {
        "id": "I6huNPbFwDwd"
      }
    },
    {
      "cell_type": "markdown",
      "source": [
        "Our explorations also helped us understand our data better. We think we've found some legitimate semantic conecpts (leadership as connection, leadership as direction) as well as some interesting insights into what BERT can pick up (scale of leadership). LDA impressed us with its ability to make discrete topics, and UMAP seemed helpful in describing the relationship between the topics in the data. We see promise in using GMM in the future to push models further, perhaps aided with more hand-labeled data."
      ],
      "metadata": {
        "id": "Wurj3PtXwRCT"
      }
    },
    {
      "cell_type": "markdown",
      "source": [
        "We both worked about 15-20 hours on this."
      ],
      "metadata": {
        "id": "JuzZDrCI1gHh"
      }
    },
    {
      "cell_type": "code",
      "source": [],
      "metadata": {
        "id": "JxkYBYGw1f0m"
      },
      "execution_count": null,
      "outputs": []
    }
  ]
}